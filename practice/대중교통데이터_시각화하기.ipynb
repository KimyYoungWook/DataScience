{
  "nbformat": 4,
  "nbformat_minor": 0,
  "metadata": {
    "colab": {
      "name": "대중교통데이터_시각화하기.ipynb",
      "provenance": [],
      "collapsed_sections": [],
      "authorship_tag": "ABX9TyO61CwaBx4I3XITyl2hHXOi",
      "include_colab_link": true
    },
    "kernelspec": {
      "name": "python3",
      "display_name": "Python 3"
    },
    "language_info": {
      "name": "python"
    }
  },
  "cells": [
    {
      "cell_type": "markdown",
      "metadata": {
        "id": "view-in-github",
        "colab_type": "text"
      },
      "source": [
        "<a href=\"https://colab.research.google.com/github/KimyYoungWook/DataScience/blob/main/%EB%8C%80%EC%A4%91%EA%B5%90%ED%86%B5%EB%8D%B0%EC%9D%B4%ED%84%B0_%EC%8B%9C%EA%B0%81%ED%99%94%ED%95%98%EA%B8%B0.ipynb\" target=\"_parent\"><img src=\"https://colab.research.google.com/assets/colab-badge.svg\" alt=\"Open In Colab\"/></a>"
      ]
    },
    {
      "cell_type": "markdown",
      "metadata": {
        "id": "Vo7yxwSe1pxs"
      },
      "source": [
        "지하철 유무임별 이용현황 데이터 정제하기"
      ]
    },
    {
      "cell_type": "markdown",
      "metadata": {
        "id": "Mk5ZlsyU1xPH"
      },
      "source": [
        "데이터출력하기"
      ]
    },
    {
      "cell_type": "code",
      "metadata": {
        "id": "pZUlkFTR1jQC"
      },
      "source": [
        "import csv\n",
        "f=open('subwayfee.csv')\n",
        "data=csv.reader(f)\n",
        "\n",
        "for row in data:\n",
        "  print(row)"
      ],
      "execution_count": null,
      "outputs": []
    },
    {
      "cell_type": "code",
      "metadata": {
        "id": "h8h-JvUv2C5I"
      },
      "source": [
        "import csv\n",
        "f=open('subwayfee.csv')\n",
        "data=csv.reader(f)\n",
        "next(data)\n",
        "for row in data:\n",
        "  for i in range(4,8): # 4,5,6,7 인덱스 데이터 정수로 변경\n",
        "    row[i] = int(row[i])\n"
      ],
      "execution_count": null,
      "outputs": []
    },
    {
      "cell_type": "markdown",
      "metadata": {
        "id": "IgZ-qTA6-T1J"
      },
      "source": [
        "유임승차 비율이 제일높은 역은 어디 일까"
      ]
    },
    {
      "cell_type": "code",
      "metadata": {
        "colab": {
          "base_uri": "https://localhost:8080/"
        },
        "id": "5RHwJpgT71UO",
        "outputId": "662bc9aa-ad9c-4bed-dcbd-ab1271def082"
      },
      "source": [
        "import csv\n",
        "f=open('subwayfee.csv')\n",
        "data=csv.reader(f)\n",
        "next(data)\n",
        "max=0# 최대 유임승차 비율\n",
        "rate = 0 # 유임승차 비율\n",
        "for row in data:\n",
        "  for i in range(4,8): # 4,5,6,7 인덱스 데이터 정수로 변경\n",
        "    row[i] = int(row[i])\n",
        "  if row[6] != 0 :\n",
        "    rate = row[4] /row[6] # 유임승차 / 무임승차\n",
        "  if rate >max :\n",
        "    max= rate \n",
        "print(max)"
      ],
      "execution_count": null,
      "outputs": [
        {
          "output_type": "stream",
          "text": [
            "27.5 1.96\n"
          ],
          "name": "stdout"
        }
      ]
    },
    {
      "cell_type": "markdown",
      "metadata": {
        "id": "XLiVK3s6AXYu"
      },
      "source": [
        "유임승차 / 무임승차 비율의 최댓값 찾기 -> 기존 0 데이터가있음\n",
        "rate = 유임승차 인원 / 무임 승차 인원\n"
      ]
    },
    {
      "cell_type": "markdown",
      "metadata": {
        "id": "v6BRyph_BLoH"
      },
      "source": [
        "비율 계산 방식 변경 rate = 유임승차 인원 / 전체(유임+무임) 인원\n"
      ]
    },
    {
      "cell_type": "code",
      "metadata": {
        "colab": {
          "base_uri": "https://localhost:8080/"
        },
        "id": "Bq9pmbB__JAc",
        "outputId": "670fd9f9-ef70-4d15-a771-8abf052c4a5e"
      },
      "source": [
        "import csv\n",
        "f=open('subwayfee.csv')\n",
        "data=csv.reader(f)\n",
        "next(data)\n",
        "max=0# 최대 유임승차 비율\n",
        "rate = 0 # 유임승차 비율\n",
        "for row in data:\n",
        "  for i in range(4,8): # 4,5,6,7 인덱스 데이터 정수로 변경\n",
        "    row[i] = int(row[i])\n",
        "  if row[6] != 0 and row[4] != 0:\n",
        "    rate = row[4] /(row[4]+ row[6]) # 유임승차 / 무임승차\n",
        "  if rate >max :\n",
        "    max= rate \n",
        "    max_station = row[3] + '' +row[1] #지하철역 + 호선정보 ex) 서울역 1호선\n",
        "    print(max_station,round(max*100,2))"
      ],
      "execution_count": null,
      "outputs": [
        {
          "output_type": "stream",
          "text": [
            "서울역1호선 87.27\n",
            "종각1호선 88.43\n",
            "시청2호선 92.04\n",
            "을지로입구2호선 92.16\n",
            "한양대2호선 93.83\n",
            "강남2호선 94.42\n",
            "홍대입구2호선 95.34\n",
            "충무로3호선 96.49\n"
          ],
          "name": "stdout"
        }
      ]
    },
    {
      "cell_type": "code",
      "metadata": {
        "colab": {
          "base_uri": "https://localhost:8080/"
        },
        "id": "-4zTqnp2BcBP",
        "outputId": "19f0ba79-be04-4a3f-d3e6-ee2d2b0416ee"
      },
      "source": [
        "import csv\n",
        "f=open('subwayfee.csv')\n",
        "data=csv.reader(f)\n",
        "next(data)\n",
        "max=0# 최대 유임승차 비율\n",
        "rate = 0 # 유임승차 비율\n",
        "for row in data:\n",
        "  for i in range(4,8): # 4,5,6,7 인덱스 데이터 정수로 변경\n",
        "    row[i] = int(row[i])\n",
        "  if row[6] != 0 and row[4] != 0 and row[4] + row[6] > 1000000 :#유무임 승차 인원 합해서 100,000명 이상인 경우만\n",
        "    rate = row[4] /(row[4]+ row[6]) # 유임승차 / 무임승차\n",
        "  if rate >max :\n",
        "    max= rate \n",
        "    max_station = row[3] + '' +row[1] #지하철역 + 호선정보 ex) 서울역 1호선\n",
        "print(max_station,round(max*100,2))"
      ],
      "execution_count": null,
      "outputs": [
        {
          "output_type": "stream",
          "text": [
            "홍대입구2호선 95.34\n"
          ],
          "name": "stdout"
        }
      ]
    },
    {
      "cell_type": "markdown",
      "metadata": {
        "id": "VfBq2NQYaRNc"
      },
      "source": [
        "유무임 승하차 인원이 가장 많은 역 찾기"
      ]
    },
    {
      "cell_type": "code",
      "metadata": {
        "colab": {
          "base_uri": "https://localhost:8080/"
        },
        "id": "4X37CSf5DgLl",
        "outputId": "dc48df98-3214-4298-a218-2f0cd52e1829"
      },
      "source": [
        "import csv\n",
        "f=open('subwayfee.csv')\n",
        "data=csv.reader(f)\n",
        "next(data)\n",
        "max=[0]*4# 최대 유임승차,유임하자,무임승차,무임하차 인원수\n",
        "max_station=['']*4# 최대 유임승차,유임하자,무임승차,무임하차 역 정보\n",
        "for row in data:\n",
        "  for i in range(4,8): # 4,5,6,7 인덱스 데이터 정수로 변경\n",
        "    row[i] = int(row[i])\n",
        "    if row[i] > max[i-4]:\n",
        "      max[i-4] =row[i]\n",
        "      max_station[i-4]=row[3] + '' +row[1] #지하철역 + 호선정보 ex) 서울역 1호선\n",
        "for i in range(4):\n",
        "  print(max_station[i],max[i])"
      ],
      "execution_count": null,
      "outputs": [
        {
          "output_type": "stream",
          "text": [
            "강남2호선 3153418\n",
            "강남2호선 3210437\n",
            "종로3가1호선 387062\n",
            "제기동1호선 400607\n"
          ],
          "name": "stdout"
        }
      ]
    },
    {
      "cell_type": "markdown",
      "metadata": {
        "id": "E1VQFnstdhcj"
      },
      "source": [
        "유뮤임 승하차 인원이 가장 적은 역찾기"
      ]
    },
    {
      "cell_type": "code",
      "metadata": {
        "colab": {
          "base_uri": "https://localhost:8080/",
          "height": 231
        },
        "id": "E57eUXjVdlj_",
        "outputId": "b37619b1-028c-450e-fb38-3606af882d93"
      },
      "source": [
        ""
      ],
      "execution_count": null,
      "outputs": [
        {
          "output_type": "error",
          "ename": "TypeError",
          "evalue": "ignored",
          "traceback": [
            "\u001b[0;31m---------------------------------------------------------------------------\u001b[0m",
            "\u001b[0;31mTypeError\u001b[0m                                 Traceback (most recent call last)",
            "\u001b[0;32m<ipython-input-48-bf8e4f96a81e>\u001b[0m in \u001b[0;36m<module>\u001b[0;34m()\u001b[0m\n\u001b[1;32m     12\u001b[0m     \u001b[0mi\u001b[0m\u001b[0;34m[\u001b[0m\u001b[0mj\u001b[0m\u001b[0;34m]\u001b[0m \u001b[0;34m=\u001b[0m \u001b[0mint\u001b[0m\u001b[0;34m(\u001b[0m\u001b[0mi\u001b[0m\u001b[0;34m[\u001b[0m\u001b[0mj\u001b[0m\u001b[0;34m]\u001b[0m\u001b[0;34m)\u001b[0m\u001b[0;34m\u001b[0m\u001b[0;34m\u001b[0m\u001b[0m\n\u001b[1;32m     13\u001b[0m     \u001b[0mrow_datamax\u001b[0m\u001b[0;34m.\u001b[0m\u001b[0mappend\u001b[0m\u001b[0;34m(\u001b[0m\u001b[0mi\u001b[0m\u001b[0;34m[\u001b[0m\u001b[0mj\u001b[0m\u001b[0;34m]\u001b[0m\u001b[0;34m)\u001b[0m\u001b[0;34m\u001b[0m\u001b[0;34m\u001b[0m\u001b[0m\n\u001b[0;32m---> 14\u001b[0;31m     \u001b[0;32mif\u001b[0m \u001b[0mi\u001b[0m\u001b[0;34m[\u001b[0m\u001b[0mj\u001b[0m\u001b[0;34m]\u001b[0m \u001b[0;34m<=\u001b[0m \u001b[0mmax\u001b[0m\u001b[0;34m(\u001b[0m\u001b[0mrow_datamax\u001b[0m\u001b[0;34m)\u001b[0m \u001b[0;34m:\u001b[0m\u001b[0;34m\u001b[0m\u001b[0;34m\u001b[0m\u001b[0m\n\u001b[0m\u001b[1;32m     15\u001b[0m       \u001b[0mmin\u001b[0m\u001b[0;34m[\u001b[0m\u001b[0mj\u001b[0m\u001b[0;34m-\u001b[0m\u001b[0;36m4\u001b[0m\u001b[0;34m]\u001b[0m \u001b[0;34m=\u001b[0m\u001b[0mi\u001b[0m\u001b[0;34m[\u001b[0m\u001b[0mj\u001b[0m\u001b[0;34m]\u001b[0m\u001b[0;34m\u001b[0m\u001b[0;34m\u001b[0m\u001b[0m\n\u001b[1;32m     16\u001b[0m       \u001b[0mmin_station\u001b[0m\u001b[0;34m[\u001b[0m\u001b[0mj\u001b[0m\u001b[0;34m-\u001b[0m\u001b[0;36m4\u001b[0m\u001b[0;34m]\u001b[0m\u001b[0;34m=\u001b[0m\u001b[0mi\u001b[0m\u001b[0;34m[\u001b[0m\u001b[0;36m3\u001b[0m\u001b[0;34m]\u001b[0m \u001b[0;34m+\u001b[0m \u001b[0;34m''\u001b[0m \u001b[0;34m+\u001b[0m\u001b[0mi\u001b[0m\u001b[0;34m[\u001b[0m\u001b[0;36m1\u001b[0m\u001b[0;34m]\u001b[0m \u001b[0;31m#지하철역 + 호선정보 ex) 서울역 1호선\u001b[0m\u001b[0;34m\u001b[0m\u001b[0;34m\u001b[0m\u001b[0m\n",
            "\u001b[0;31mTypeError\u001b[0m: 'list' object is not callable"
          ]
        }
      ]
    },
    {
      "cell_type": "markdown",
      "metadata": {
        "id": "3NvPRkptehSV"
      },
      "source": [
        "모든약의 유무임 승하차 비율은 파이차트로 보여주기"
      ]
    },
    {
      "cell_type": "code",
      "metadata": {
        "colab": {
          "base_uri": "https://localhost:8080/"
        },
        "id": "_TLXFkZ_sC3B",
        "outputId": "2937cd9d-460e-49cf-9924-6ddee9c35511"
      },
      "source": [
        "import matplotlib as mpl\n",
        "import matplotlib.pyplot as plt\n",
        " \n",
        "%config InlineBackend.figure_format = 'retina'\n",
        " \n",
        "!apt -qq -y install fonts-nanum\n",
        " \n",
        "import matplotlib.font_manager as fm\n",
        "\n",
        "fontpath = '/usr/share/fonts/truetype/nanum/NanumBarunGothic.ttf'\n",
        "font = fm.FontProperties(fname=fontpath, size=9)\n",
        "plt.rc('font', family='NanumBarunGothic') \n",
        "mpl.font_manager._rebuild()\n"
      ],
      "execution_count": null,
      "outputs": [
        {
          "output_type": "stream",
          "text": [
            "fonts-nanum is already the newest version (20170925-1).\n",
            "0 upgraded, 0 newly installed, 0 to remove and 39 not upgraded.\n"
          ],
          "name": "stdout"
        }
      ]
    },
    {
      "cell_type": "code",
      "metadata": {
        "id": "6hypQ92bdNyG"
      },
      "source": [
        "import csv\n",
        "import matplotlib.pyplot as plt\n",
        "f=open('subwayfee.csv')\n",
        "data=csv.reader(f)\n",
        "next(data)\n",
        "label=['유임승차','유임하차','무임승차','무임하차']\n",
        "size=[]\n",
        "name_num = input('호선의 이름을 입력하세요(ex)경부선):')\n",
        "name_station=input('역의 이름을 입력하세요:')\n",
        "for row in data:\n",
        "  for i in range(4,8): # 4,5,6,7 인덱스 데이터 정수로 변경\n",
        "    row[i] = int(row[i])\n",
        "    if row[3] == name_station and row[1] == name_num :\n",
        "      size.append(row[i])\n",
        "plt.figure(dpi=200)\n",
        "plt.axis('equal')\n",
        "plt.pie(size,labels=label,autopct='%.1f') #승차종류의 비율 임의로 작성\n",
        "plt.legend()\n"
      ],
      "execution_count": null,
      "outputs": []
    },
    {
      "cell_type": "code",
      "metadata": {
        "colab": {
          "base_uri": "https://localhost:8080/"
        },
        "id": "gezc50NGnABi",
        "outputId": "cb1aa44a-e416-431e-cc06-947e22d46dbc"
      },
      "source": [
        "2"
      ],
      "execution_count": null,
      "outputs": [
        {
          "output_type": "execute_result",
          "data": {
            "text/plain": [
              "2"
            ]
          },
          "metadata": {
            "tags": []
          },
          "execution_count": 5
        }
      ]
    },
    {
      "cell_type": "code",
      "metadata": {
        "id": "8mZYwskmx-rl"
      },
      "source": [
        ""
      ],
      "execution_count": null,
      "outputs": []
    }
  ]
}
