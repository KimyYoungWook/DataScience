{
  "nbformat": 4,
  "nbformat_minor": 0,
  "metadata": {
    "colab": {
      "name": "프로젝트06_11.ipynb",
      "provenance": [],
      "collapsed_sections": [],
      "authorship_tag": "ABX9TyNX2wiOEB0IeF15tBAEAiAX",
      "include_colab_link": true
    },
    "kernelspec": {
      "name": "python3",
      "display_name": "Python 3"
    },
    "language_info": {
      "name": "python"
    }
  },
  "cells": [
    {
      "cell_type": "markdown",
      "metadata": {
        "id": "view-in-github",
        "colab_type": "text"
      },
      "source": [
        "<a href=\"https://colab.research.google.com/github/KimyYoungWook/DataScience/blob/main/%ED%94%84%EB%A1%9C%EC%A0%9D%ED%8A%B806_11.ipynb\" target=\"_parent\"><img src=\"https://colab.research.google.com/assets/colab-badge.svg\" alt=\"Open In Colab\"/></a>"
      ]
    },
    {
      "cell_type": "code",
      "metadata": {
        "id": "AgRw_nV1J7sJ"
      },
      "source": [
        "import csv\n",
        "import matplotlib.pyplot as plt\n",
        "import datetime\n",
        "f = open(\"/content/Wonju.csv\",'r',encoding='cp949')\n",
        "data=csv.reader(f)\n",
        "header = next(data)\n",
        "data_list= list(data)\n",
        "max_temp=-999\n",
        "min_temp=999\n",
        "min_date=''\n",
        "max_daate=''\n",
        "result_date=[]\n",
        "result_tempmax=[]\n",
        "result_tempmin=[]\n",
        "for i in data_list:\n",
        "  result_date.append(datetime.datetime.strptime(i[0],'%Y-%m-%d'))\n",
        "  result_tempmax.append(float(i[-1]))\n",
        "  result_tempmin.append(float(i[-2]))\n",
        "  if float(i[-1]) > max_temp:\n",
        "    max_temp=float(i[-1])\n",
        "    max_date=i[2]\n",
        "  if float(i[-2]) < min_temp:\n",
        "    min_date=i[2]\n",
        "    min_temp = float(i[-2])\n",
        "print(\"군생활중 원주의 최고 기온이 가장 높았던 날은 {}로 {}도 였습니다.\".format(max_date,max_temp))\n",
        "print(\"군생활중 원주의 최저 기온이 가장 낮았던 날은 {}로 {}도 였습니다.\".format(min_date,min_temp))    \n",
        "f.close()\n",
        "plt.figure(dpi=200)\n",
        "plt.plot(result_date,result_tempmin,'b',label='Min_temp')\n",
        "plt.plot(result_date,result_tempmax,'r',label='Max_temp')\n",
        "plt.legend(loc=9)\n",
        "plt.show"
      ],
      "execution_count": null,
      "outputs": []
    },
    {
      "cell_type": "markdown",
      "metadata": {
        "id": "D6Gc-8eDb1u0"
      },
      "source": [
        ""
      ]
    }
  ]
}