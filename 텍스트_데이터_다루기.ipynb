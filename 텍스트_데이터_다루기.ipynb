{
  "nbformat": 4,
  "nbformat_minor": 0,
  "metadata": {
    "colab": {
      "name": "텍스트_데이터_다루기.ipynb",
      "provenance": [],
      "collapsed_sections": [],
      "authorship_tag": "ABX9TyPXvfd/0PI2k3xbFVsJf228",
      "include_colab_link": true
    },
    "kernelspec": {
      "name": "python3",
      "display_name": "Python 3"
    },
    "language_info": {
      "name": "python"
    }
  },
  "cells": [
    {
      "cell_type": "markdown",
      "metadata": {
        "id": "view-in-github",
        "colab_type": "text"
      },
      "source": [
        "<a href=\"https://colab.research.google.com/github/KimyYoungWook/DataScience/blob/main/%ED%85%8D%EC%8A%A4%ED%8A%B8_%EB%8D%B0%EC%9D%B4%ED%84%B0_%EB%8B%A4%EB%A3%A8%EA%B8%B0.ipynb\" target=\"_parent\"><img src=\"https://colab.research.google.com/assets/colab-badge.svg\" alt=\"Open In Colab\"/></a>"
      ]
    },
    {
      "cell_type": "markdown",
      "metadata": {
        "id": "ScE5YCwri3-1"
      },
      "source": [
        "statistics 모듈을 사용해서 나이 변수의 평균과 표준편차 구하기"
      ]
    },
    {
      "cell_type": "markdown",
      "metadata": {
        "id": "fB4TgAtEjDFs"
      },
      "source": [
        "데이터 가져오기"
      ]
    },
    {
      "cell_type": "code",
      "metadata": {
        "id": "-1vqMaaPi45Q"
      },
      "source": [
        "import csv\n",
        "\n",
        "with open(\"/content/Demographic_Statistics_By_Zip_Code.csv\") as infile:\n",
        "  data =list(csv.reader(infile))"
      ],
      "execution_count": null,
      "outputs": []
    },
    {
      "cell_type": "code",
      "metadata": {
        "id": "ziwE-dLej0p6"
      },
      "source": [
        "# 첫번째 레코드에 COUNT PARTICIPANTS 데이터 인덱스 값 추출 data[0] 컬럼의 값\n",
        "countParticipantsindex=data[0].index(\"COUNT PARTICIPANTS\")"
      ],
      "execution_count": null,
      "outputs": []
    },
    {
      "cell_type": "code",
      "metadata": {
        "id": "7nCS8gMfj4Zf"
      },
      "source": [
        "#COUNT PARTICIPANTS의 데이터 추출\n",
        "countParticipants=[int(row[countParticipantsindex]) for row in data[1:]] #리스트 내포"
      ],
      "execution_count": null,
      "outputs": []
    },
    {
      "cell_type": "markdown",
      "metadata": {
        "id": "6tjCotcUmkmr"
      },
      "source": [
        "나이의 평균과 표준편차"
      ]
    },
    {
      "cell_type": "code",
      "metadata": {
        "colab": {
          "base_uri": "https://localhost:8080/"
        },
        "id": "1Jczpp-ylqkk",
        "outputId": "f6581c49-6777-4231-f999-55cf4c2b1c18"
      },
      "source": [
        "import statistics\n",
        "print(statistics.mean(countParticipants),statistics.stdev(countParticipants))"
      ],
      "execution_count": null,
      "outputs": [
        {
          "output_type": "stream",
          "text": [
            "17.661016949152543 43.27973735299687\n"
          ],
          "name": "stdout"
        }
      ]
    },
    {
      "cell_type": "code",
      "metadata": {
        "id": "LsCW0zFhm_84"
      },
      "source": [
        ""
      ],
      "execution_count": null,
      "outputs": []
    },
    {
      "cell_type": "markdown",
      "metadata": {
        "id": "YCs9rcXUvUEh"
      },
      "source": [
        "자연어 처리하기"
      ]
    },
    {
      "cell_type": "code",
      "metadata": {
        "colab": {
          "base_uri": "https://localhost:8080/"
        },
        "id": "Dax8dyM2vVg5",
        "outputId": "f3b5649c-dbaa-497b-ec98-46cdd5fef592"
      },
      "source": [
        "pip install nltk"
      ],
      "execution_count": null,
      "outputs": [
        {
          "output_type": "stream",
          "text": [
            "Requirement already satisfied: nltk in /usr/local/lib/python3.7/dist-packages (3.2.5)\n",
            "Requirement already satisfied: six in /usr/local/lib/python3.7/dist-packages (from nltk) (1.15.0)\n"
          ],
          "name": "stdout"
        }
      ]
    },
    {
      "cell_type": "code",
      "metadata": {
        "colab": {
          "base_uri": "https://localhost:8080/",
          "height": 35
        },
        "id": "Ha2IFrBZvZwH",
        "outputId": "580eeaed-d80e-4d4e-8284-638da8a85206"
      },
      "source": [
        "import nltk\n",
        "nltk.__version__"
      ],
      "execution_count": null,
      "outputs": [
        {
          "output_type": "execute_result",
          "data": {
            "application/vnd.google.colaboratory.intrinsic+json": {
              "type": "string"
            },
            "text/plain": [
              "'3.2.5'"
            ]
          },
          "metadata": {
            "tags": []
          },
          "execution_count": 13
        }
      ]
    },
    {
      "cell_type": "code",
      "metadata": {
        "colab": {
          "base_uri": "https://localhost:8080/"
        },
        "id": "Luf3lkiLvj7w",
        "outputId": "f7fa7a18-19aa-4fa9-aa85-744421123d77"
      },
      "source": [
        "#https://frhyme.github.io/python-lib/nltk-wordnet/\n",
        "nltk.download('wordnet')"
      ],
      "execution_count": null,
      "outputs": [
        {
          "output_type": "stream",
          "text": [
            "[nltk_data] Downloading package wordnet to /root/nltk_data...\n",
            "[nltk_data]   Unzipping corpora/wordnet.zip.\n"
          ],
          "name": "stdout"
        },
        {
          "output_type": "execute_result",
          "data": {
            "text/plain": [
              "True"
            ]
          },
          "metadata": {
            "tags": []
          },
          "execution_count": 14
        }
      ]
    },
    {
      "cell_type": "code",
      "metadata": {
        "colab": {
          "base_uri": "https://localhost:8080/"
        },
        "id": "cvo5XMv5xKFC",
        "outputId": "0a72097a-0abf-4abe-a7c7-75dc47076be1"
      },
      "source": [
        "wn = nltk.corpus.wordnet # 코퍼스 리더(reader)\n",
        "\n",
        "#synset : 유의어 묶음으로 단어-품사- 순번 으로 구성\n",
        "wn.synsets(\"cat\")"
      ],
      "execution_count": null,
      "outputs": [
        {
          "output_type": "execute_result",
          "data": {
            "text/plain": [
              "[Synset('cat.n.01'),\n",
              " Synset('guy.n.01'),\n",
              " Synset('cat.n.03'),\n",
              " Synset('kat.n.01'),\n",
              " Synset('cat-o'-nine-tails.n.01'),\n",
              " Synset('caterpillar.n.02'),\n",
              " Synset('big_cat.n.01'),\n",
              " Synset('computerized_tomography.n.01'),\n",
              " Synset('cat.v.01'),\n",
              " Synset('vomit.v.01')]"
            ]
          },
          "metadata": {
            "tags": []
          },
          "execution_count": 16
        }
      ]
    },
    {
      "cell_type": "code",
      "metadata": {
        "colab": {
          "base_uri": "https://localhost:8080/"
        },
        "id": "v3_-kQKExcuK",
        "outputId": "035b5691-53be-43ee-c15b-f2bdbd2be75d"
      },
      "source": [
        "wn.synset('cat.n.01').hypernyms() # hyperntms() 상위어\n",
        "wn.synset('cat.n.01').hyponyms() #hyponyms 하위어"
      ],
      "execution_count": null,
      "outputs": [
        {
          "output_type": "execute_result",
          "data": {
            "text/plain": [
              "[Synset('domestic_cat.n.01'), Synset('wildcat.n.03')]"
            ]
          },
          "metadata": {
            "tags": []
          },
          "execution_count": 18
        }
      ]
    },
    {
      "cell_type": "markdown",
      "metadata": {
        "id": "eAKZrB3zy4US"
      },
      "source": [
        "WordNet 사용해서 synset 간 의미론적 유사도 계산하기 (0-1사이 실수)<br>\n",
        "0이면 두단어 서로 관계없음 <br>\n",
        "1이면 완전한 유의어"
      ]
    },
    {
      "cell_type": "code",
      "metadata": {
        "colab": {
          "base_uri": "https://localhost:8080/"
        },
        "id": "YQ9B6kWSyO2D",
        "outputId": "ef63565b-b5dd-468a-a581-d6fe9f40b675"
      },
      "source": [
        "#고양이,링스 ; 시라소니 유사도 계산\n",
        "x = wn.synset('cat.n.01') #고양이\n",
        "y = wn.synset('dog.n.01')\n",
        "\n",
        "# x,y 유사도 계산\n",
        "x.path_similarity(y)"
      ],
      "execution_count": null,
      "outputs": [
        {
          "output_type": "execute_result",
          "data": {
            "text/plain": [
              "0.2"
            ]
          },
          "metadata": {
            "tags": []
          },
          "execution_count": 20
        }
      ]
    },
    {
      "cell_type": "code",
      "metadata": {
        "colab": {
          "base_uri": "https://localhost:8080/"
        },
        "id": "hjM5J6eOzkZg",
        "outputId": "ef3e95ac-6e58-4637-e98b-e199d8fa7f79"
      },
      "source": [
        "# 1. 토큰화 (텍스트 -> 단어로 쪼갠다.)\n",
        "from nltk.tokenize import WordPunctTokenizer\n",
        "word_punct = WordPunctTokenizer()\n",
        "\n",
        "text = \"}Help! :))) :[ ..... :D{\"\n",
        "\n",
        "# 2. Tokenizer는 모든 구두점(punctuation : 문장부호)을 기준으로 분리 \n",
        "# -> 이모티콘을 이용한 감성분석등 문장구조 깊이 분석 할 때 사용\n",
        "\n",
        "word_punct.tokenize(text)\n"
      ],
      "execution_count": null,
      "outputs": [
        {
          "output_type": "execute_result",
          "data": {
            "text/plain": [
              "['}', 'Help', '!', ':)))', ':[', '.....', ':', 'D', '{']"
            ]
          },
          "metadata": {
            "tags": []
          },
          "execution_count": 21
        }
      ]
    },
    {
      "cell_type": "code",
      "metadata": {
        "colab": {
          "base_uri": "https://localhost:8080/"
        },
        "id": "vEvpSfsL5gGO",
        "outputId": "59e1edde-bc27-4b32-fd6a-9385ce5a20f0"
      },
      "source": [
        "# 단어 토크나이저\n",
        "nltk.download('punkt')\n",
        "nltk.word_tokenize(text)"
      ],
      "execution_count": null,
      "outputs": [
        {
          "output_type": "stream",
          "text": [
            "[nltk_data] Downloading package punkt to /root/nltk_data...\n",
            "[nltk_data]   Unzipping tokenizers/punkt.zip.\n"
          ],
          "name": "stdout"
        },
        {
          "output_type": "execute_result",
          "data": {
            "text/plain": [
              "['}', 'Help', '!', ':', ')', ')', ')', ':', '[', '...', '..', ':', 'D', '{']"
            ]
          },
          "metadata": {
            "tags": []
          },
          "execution_count": 25
        }
      ]
    },
    {
      "cell_type": "code",
      "metadata": {
        "colab": {
          "base_uri": "https://localhost:8080/",
          "height": 35
        },
        "id": "3kYIyfOO6fcJ",
        "outputId": "9f2c5636-0d02-4c5c-d241-1b60b37a6f04"
      },
      "source": [
        "# 2. 단어의 대소문자를 통일한다 (전부 다 대문자 or 소문자)\n",
        "# 3. 불용어 제거(stoprwords 리스트 참조 The 같은 것들 제거)\n",
        "# 4. 형태소 분석(stemming) 단어를 형태소로 변환\n",
        "\n",
        "# 포터 형태소 분석기 (보수적)\n",
        "pstemmer = nltk.PorterStemmer()\n",
        "pstemmer.stem(\"wonderful\")"
      ],
      "execution_count": null,
      "outputs": [
        {
          "output_type": "execute_result",
          "data": {
            "application/vnd.google.colaboratory.intrinsic+json": {
              "type": "string"
            },
            "text/plain": [
              "'wonder'"
            ]
          },
          "metadata": {
            "tags": []
          },
          "execution_count": 27
        }
      ]
    },
    {
      "cell_type": "code",
      "metadata": {
        "colab": {
          "base_uri": "https://localhost:8080/",
          "height": 35
        },
        "id": "kcTXRV3v7OGv",
        "outputId": "e1ab0c55-729e-43da-badc-de46813fed2d"
      },
      "source": [
        "# 랭커스터 형태소 분석기 (적극적) - 더많은 동음이의어 형태소 생산\n",
        "lstemmer = nltk.LancasterStemmer()\n",
        "lstemmer.stem(\"wonderful\")"
      ],
      "execution_count": null,
      "outputs": [
        {
          "output_type": "execute_result",
          "data": {
            "application/vnd.google.colaboratory.intrinsic+json": {
              "type": "string"
            },
            "text/plain": [
              "'wond'"
            ]
          },
          "metadata": {
            "tags": []
          },
          "execution_count": 28
        }
      ]
    },
    {
      "cell_type": "code",
      "metadata": {
        "colab": {
          "base_uri": "https://localhost:8080/",
          "height": 35
        },
        "id": "DlYm5tfw7zc5",
        "outputId": "50e25a05-dcee-440c-93eb-3bf9dafb1a9e"
      },
      "source": [
        "# 5. 원형 추출\n",
        "lemmatizer = nltk.WordNetLemmatizer()\n",
        "lemmatizer.lemmatize(\"wonder\")"
      ],
      "execution_count": null,
      "outputs": [
        {
          "output_type": "execute_result",
          "data": {
            "application/vnd.google.colaboratory.intrinsic+json": {
              "type": "string"
            },
            "text/plain": [
              "'wonder'"
            ]
          },
          "metadata": {
            "tags": []
          },
          "execution_count": 33
        }
      ]
    },
    {
      "cell_type": "code",
      "metadata": {
        "colab": {
          "base_uri": "https://localhost:8080/"
        },
        "id": "Awc4wkBu8EJn",
        "outputId": "af59ed5c-9186-4edc-f2e8-12c1919a33d4"
      },
      "source": [
        "# 그외 품사 태깅\n",
        "nltk.download('averaged_perceptron_tagger')"
      ],
      "execution_count": null,
      "outputs": [
        {
          "output_type": "stream",
          "text": [
            "[nltk_data] Downloading package averaged_perceptron_tagger to\n",
            "[nltk_data]     /root/nltk_data...\n",
            "[nltk_data]   Unzipping taggers/averaged_perceptron_tagger.zip.\n"
          ],
          "name": "stdout"
        },
        {
          "output_type": "execute_result",
          "data": {
            "text/plain": [
              "True"
            ]
          },
          "metadata": {
            "tags": []
          },
          "execution_count": 34
        }
      ]
    },
    {
      "cell_type": "code",
      "metadata": {
        "colab": {
          "base_uri": "https://localhost:8080/"
        },
        "id": "XiSugeT78Y82",
        "outputId": "b5097fbf-f51c-42e0-b33d-e7431e73bbfc"
      },
      "source": [
        "nltk.pos_tag([\"beautiful\", \"world\"]) # JJ\tadjective(형용사), NN\tnoun(명사)\n",
        "# https://happygrammer.github.io/nlp/postag-set/ 참조"
      ],
      "execution_count": null,
      "outputs": [
        {
          "output_type": "execute_result",
          "data": {
            "text/plain": [
              "[('beautiful', 'JJ'), ('world', 'NN')]"
            ]
          },
          "metadata": {
            "tags": []
          },
          "execution_count": 35
        }
      ]
    },
    {
      "cell_type": "markdown",
      "metadata": {
        "id": "Qr5_4pCj82_q"
      },
      "source": [
        "index.html 파일에서(불용어 제외) 가장많이 등장한 단어 원형 찾아보기"
      ]
    },
    {
      "cell_type": "code",
      "metadata": {
        "id": "omNDsZTx8aQ7"
      },
      "source": [
        "# www.networksciencelab.com 사이트에서 하이퍼 링크 정보 모두 가져오기\n",
        "from bs4 import BeautifulSoup\n",
        "from urllib.request import urlopen\n",
        "# 사이트에서 하이퍼 링크 정보 모두 가져오기\n",
        "with urlopen(\"http://www.networksciencelab.com/\") as doc:\n",
        "  soup = BeautifulSoup(doc)\n",
        "#하이퍼 링크 추출\n",
        "links =[(link.string,link[\"href\"]) for link in soup.find_all('a') if link.has_attr(\"href\")]\n",
        "links"
      ],
      "execution_count": null,
      "outputs": []
    },
    {
      "cell_type": "code",
      "metadata": {
        "id": "S83Ehzm-9ZQc"
      },
      "source": [
        "\n",
        "# 책 제목만 추출\n",
        "html_text01 = [i[0] for i in links]\n",
        "html_text01\n",
        "#None 데이터 제거\n",
        "html_text02 = \" \".join(html_text01[2:])\n",
        "html_text02\n",
        "# 위에 과정 합치는것\n",
        "html_text03 = [i[0] for i in links if i[0] != None]"
      ],
      "execution_count": null,
      "outputs": []
    },
    {
      "cell_type": "code",
      "metadata": {
        "id": "N-BGQRKRBPqo"
      },
      "source": [
        "#index.html 파일로 저장\n",
        "html_file = open(\"index.html\", 'w')\n",
        "html_file.write(str(html_text02))\n",
        "html_file.close()"
      ],
      "execution_count": null,
      "outputs": []
    },
    {
      "cell_type": "code",
      "metadata": {
        "id": "0IhSFB-59-uW"
      },
      "source": [
        "#index.html 파일로 저장\n",
        "html_file = open(\"index2.html\", 'w')\n",
        "html_file.write(str(html_text03))\n",
        "html_file.close()"
      ],
      "execution_count": null,
      "outputs": []
    },
    {
      "cell_type": "markdown",
      "metadata": {
        "id": "pJGRH-FvWwfo"
      },
      "source": [
        "index.html 파일에서(불용어 제외) 가장 많이 등장한 단어 원형 찾아보기"
      ]
    },
    {
      "cell_type": "code",
      "metadata": {
        "id": "8dWC81Vf-tE6"
      },
      "source": [
        "from bs4 import BeautifulSoup\n",
        "from collections import Counter\n",
        "from nltk.corpus import stopwords\n",
        "from nltk import LancasterStemmer\n",
        "\n",
        "# 형태소 분류기를 생성한다..\n",
        "Is =nltk.LancasterStemmer()\n",
        "\n",
        "# 파일을 읽고 soup를 만든다.\n",
        "with open(\"/content/index.html\") as infile:\n",
        "  soup = BeautifulSoup(infile)\n",
        "  soup.text"
      ],
      "execution_count": null,
      "outputs": []
    },
    {
      "cell_type": "code",
      "metadata": {
        "id": "96FCO-uJYiQp"
      },
      "source": [
        "# 1.텍스트 추출 -> 토큰화\n",
        "words = nltk.word_tokenize(soup.text)\n",
        "words"
      ],
      "execution_count": null,
      "outputs": []
    },
    {
      "cell_type": "code",
      "metadata": {
        "id": "zsQNtMCFYnTv"
      },
      "source": [
        "# 2. 단어를 소문자로 변환\n",
        "words =[w.lower() for w in words]\n",
        "words"
      ],
      "execution_count": null,
      "outputs": []
    },
    {
      "cell_type": "code",
      "metadata": {
        "id": "uQarkEmObvlU"
      },
      "source": [
        "# 3. 불용어 제거하고 단어의 형태소를 추출\n",
        "# 3-1 불영어 제거 stopwords.words(\"english\") -> nltk에서 정한 영어 불용어(i the my) 제거\n",
        "# 3-2 특수기호 제거 isalnum() :문자열이 알파벳([a-zA-Z])과 숫자([0-9])로만 구성\n",
        "nltk.download('stopwords') # nltk.LancasterStemmer().steam() == Is.stem(w)\n",
        "words =[Is.stem(w) for w in words if w not in stopwords.words(\"english\") and w.isalnum()] \n",
        "words     # nltk.LancasterStemmer.steam(   ) : 형태소(어간 추출)"
      ],
      "execution_count": null,
      "outputs": []
    },
    {
      "cell_type": "code",
      "metadata": {
        "id": "Bp7gHpRfcAyN"
      },
      "source": [
        "# 4. 가장 빈번하게 등장하는 단어 10개 추출\n",
        "freqs = Counter(words)\n",
        "print(freqs.most_common(5))"
      ],
      "execution_count": null,
      "outputs": []
    },
    {
      "cell_type": "code",
      "metadata": {
        "id": "mJXq-gA0eAcd"
      },
      "source": [
        ""
      ],
      "execution_count": null,
      "outputs": []
    }
  ]
}