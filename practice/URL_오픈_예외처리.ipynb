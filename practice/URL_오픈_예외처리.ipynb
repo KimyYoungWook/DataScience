{
  "nbformat": 4,
  "nbformat_minor": 0,
  "metadata": {
    "colab": {
      "name": "URL 오픈 예외처리.ipynb",
      "provenance": [],
      "collapsed_sections": [],
      "authorship_tag": "ABX9TyO+FEFjJ8Zum5ysx8xesFwJ",
      "include_colab_link": true
    },
    "kernelspec": {
      "name": "python3",
      "display_name": "Python 3"
    },
    "language_info": {
      "name": "python"
    }
  },
  "cells": [
    {
      "cell_type": "markdown",
      "metadata": {
        "id": "view-in-github",
        "colab_type": "text"
      },
      "source": [
        "<a href=\"https://colab.research.google.com/github/KimyYoungWook/DataScience/blob/main/URL_%EC%98%A4%ED%94%88_%EC%98%88%EC%99%B8%EC%B2%98%EB%A6%AC.ipynb\" target=\"_parent\"><img src=\"https://colab.research.google.com/assets/colab-badge.svg\" alt=\"Open In Colab\"/></a>"
      ]
    },
    {
      "cell_type": "code",
      "metadata": {
        "colab": {
          "base_uri": "https://localhost:8080/"
        },
        "id": "eIucczW9N9-B",
        "outputId": "345fdb49-f2d2-461a-c375-41fb5ce4ffc1"
      },
      "source": [
        "myList = \"This string\\n\\r has many\\t\\tspaces\\tThis string\\n\\r has many\\t\\tspaces\".split()\n",
        "myList"
      ],
      "execution_count": null,
      "outputs": [
        {
          "output_type": "execute_result",
          "data": {
            "text/plain": [
              "['This',\n",
              " 'string',\n",
              " 'has',\n",
              " 'many',\n",
              " 'spaces',\n",
              " 'This',\n",
              " 'string',\n",
              " 'has',\n",
              " 'many',\n",
              " 'spaces']"
            ]
          },
          "metadata": {
            "tags": []
          },
          "execution_count": 1
        }
      ]
    },
    {
      "cell_type": "code",
      "metadata": {
        "colab": {
          "base_uri": "https://localhost:8080/"
        },
        "id": "SLTquFX7OhjW",
        "outputId": "46c7fade-577f-46df-b387-ce350626eda0"
      },
      "source": [
        "set(myList)"
      ],
      "execution_count": null,
      "outputs": [
        {
          "output_type": "execute_result",
          "data": {
            "text/plain": [
              "{'This', 'has', 'many', 'spaces', 'string'}"
            ]
          },
          "metadata": {
            "tags": []
          },
          "execution_count": 2
        }
      ]
    },
    {
      "cell_type": "code",
      "metadata": {
        "colab": {
          "base_uri": "https://localhost:8080/"
        },
        "id": "vcT6nrroOodE",
        "outputId": "67f7b759-d901-40ac-f9cb-b58e1e4827ae"
      },
      "source": [
        "list(set(myList))"
      ],
      "execution_count": null,
      "outputs": [
        {
          "output_type": "execute_result",
          "data": {
            "text/plain": [
              "['string', 'has', 'This', 'spaces', 'many']"
            ]
          },
          "metadata": {
            "tags": []
          },
          "execution_count": 4
        }
      ]
    },
    {
      "cell_type": "code",
      "metadata": {
        "colab": {
          "base_uri": "https://localhost:8080/"
        },
        "id": "gFzOdf0lPJHy",
        "outputId": "5721588c-a98d-461a-f693-fbd90f7a9291"
      },
      "source": [
        "bigList =[str(i) for i in range(10000000)]\n",
        "\"abc\" in bigList"
      ],
      "execution_count": null,
      "outputs": [
        {
          "output_type": "execute_result",
          "data": {
            "text/plain": [
              "False"
            ]
          },
          "metadata": {
            "tags": []
          },
          "execution_count": 7
        }
      ]
    },
    {
      "cell_type": "code",
      "metadata": {
        "colab": {
          "base_uri": "https://localhost:8080/"
        },
        "id": "lQFODN2pQb9E",
        "outputId": "4cb9ac05-80b9-4ac3-9f4f-9b959e089d20"
      },
      "source": [
        "bigList=set(bigList)\n",
        "\"abc\" in bigList"
      ],
      "execution_count": null,
      "outputs": [
        {
          "output_type": "execute_result",
          "data": {
            "text/plain": [
              "False"
            ]
          },
          "metadata": {
            "tags": []
          },
          "execution_count": 8
        }
      ]
    },
    {
      "cell_type": "code",
      "metadata": {
        "colab": {
          "base_uri": "https://localhost:8080/"
        },
        "id": "S7VRkQoWQjA_",
        "outputId": "9a9bc71e-852c-4783-cfb0-a789fb532b7e"
      },
      "source": [
        "from collections import Counter\n",
        "phrase = \"a man a plan a canal panama\"\n",
        "cntr = Counter(phrase.split())\n",
        "cntr.most_common()"
      ],
      "execution_count": null,
      "outputs": [
        {
          "output_type": "execute_result",
          "data": {
            "text/plain": [
              "[('a', 3), ('man', 1), ('plan', 1), ('canal', 1), ('panama', 1)]"
            ]
          },
          "metadata": {
            "tags": []
          },
          "execution_count": 12
        }
      ]
    },
    {
      "cell_type": "code",
      "metadata": {
        "colab": {
          "base_uri": "https://localhost:8080/"
        },
        "id": "YxL008i-aq2i",
        "outputId": "b3485547-d5d8-4609-ef28-612b72e25d7b"
      },
      "source": [
        "cntr"
      ],
      "execution_count": null,
      "outputs": [
        {
          "output_type": "execute_result",
          "data": {
            "text/plain": [
              "Counter({'a': 3, 'canal': 1, 'man': 1, 'panama': 1, 'plan': 1})"
            ]
          },
          "metadata": {
            "tags": []
          },
          "execution_count": 13
        }
      ]
    },
    {
      "cell_type": "code",
      "metadata": {
        "colab": {
          "base_uri": "https://localhost:8080/"
        },
        "id": "h6orScQra72b",
        "outputId": "a9ff2053-f936-4534-e4c3-32a61c0cb8d2"
      },
      "source": [
        "import urllib.request\n",
        "try:\n",
        "  with urllib.urlopen(\"https://www.naver.com/\") as doc:\n",
        "    html = doc.read()\n",
        "    print(html)\n",
        "except:\n",
        "  print(\"could not open\")    \n",
        "  #URL = \"http://networksciencelab.com/index.html;param?foo=bar#content\" # url 파싱하여 6개의 아이템으로 구성된 튜플로 분리 스키마 네트워크 주소, 파일 시스템 경로, 파라미터, 쿼리, 플래그먼트dsd"
      ],
      "execution_count": null,
      "outputs": [
        {
          "output_type": "stream",
          "text": [
            "could not open\n"
          ],
          "name": "stdout"
        }
      ]
    },
    {
      "cell_type": "code",
      "metadata": {
        "colab": {
          "base_uri": "https://localhost:8080/"
        },
        "id": "BDs3OBUXg9MT",
        "outputId": "00ae94c1-549d-464b-d953-86b2f17ae063"
      },
      "source": [
        "a = 'abcdef\\\\nn'\n",
        "print(a)\n",
        "b=r'abcdef\\n' #r 은 있는 그대로\n",
        "print(b)\n",
        "print(a)"
      ],
      "execution_count": null,
      "outputs": [
        {
          "output_type": "stream",
          "text": [
            "abcdef\\nn\n",
            "abcdef\\n\n",
            "abcdef\\nn\n"
          ],
          "name": "stdout"
        }
      ]
    },
    {
      "cell_type": "code",
      "metadata": {
        "colab": {
          "base_uri": "https://localhost:8080/"
        },
        "id": "slPbcw8lot3h",
        "outputId": "ab42c53b-666f-46f1-c629-ec1602d20877"
      },
      "source": [
        "import re\n",
        "re.split(r'\\W',\"hello, world!\")"
      ],
      "execution_count": null,
      "outputs": [
        {
          "output_type": "execute_result",
          "data": {
            "text/plain": [
              "['hello', '', 'world', '']"
            ]
          },
          "metadata": {
            "tags": []
          },
          "execution_count": 20
        }
      ]
    },
    {
      "cell_type": "code",
      "metadata": {
        "id": "k2OQAk70rw2C"
      },
      "source": [
        "#인근에 있는 비문자(non-letter) (,) 을 합친다."
      ],
      "execution_count": null,
      "outputs": []
    },
    {
      "cell_type": "code",
      "metadata": {
        "colab": {
          "base_uri": "https://localhost:8080/"
        },
        "id": "i5T3_cNaqqXp",
        "outputId": "124f45a5-1a7f-4dff-93af-116481744518"
      },
      "source": [
        "re.split(r\"\\W+\",\"hellow,, World!\")"
      ],
      "execution_count": null,
      "outputs": [
        {
          "output_type": "execute_result",
          "data": {
            "text/plain": [
              "['hellow', '', '', 'World', '']"
            ]
          },
          "metadata": {
            "tags": []
          },
          "execution_count": 25
        }
      ]
    },
    {
      "cell_type": "code",
      "metadata": {
        "colab": {
          "base_uri": "https://localhost:8080/"
        },
        "id": "OIkwvEujsL70",
        "outputId": "bee25550-a875-4efb-9f25-2f7e37d94e8e"
      },
      "source": [
        "mo = re.match(r\"\\d+\",\"067 starts with a number\")\n",
        "mo"
      ],
      "execution_count": null,
      "outputs": [
        {
          "output_type": "execute_result",
          "data": {
            "text/plain": [
              "<re.Match object; span=(0, 3), match='067'>"
            ]
          },
          "metadata": {
            "tags": []
          },
          "execution_count": 34
        }
      ]
    },
    {
      "cell_type": "code",
      "metadata": {
        "colab": {
          "base_uri": "https://localhost:8080/"
        },
        "id": "XcQlvBNdtkKR",
        "outputId": "858d3972-b0c2-4b46-85f3-d0d9ac21bc2d"
      },
      "source": [
        "print(mo)"
      ],
      "execution_count": null,
      "outputs": [
        {
          "output_type": "stream",
          "text": [
            "<re.Match object; span=(0, 3), match='067'>\n"
          ],
          "name": "stdout"
        }
      ]
    },
    {
      "cell_type": "code",
      "metadata": {
        "colab": {
          "base_uri": "https://localhost:8080/",
          "height": 35
        },
        "id": "59ZSm_6ouJO4",
        "outputId": "55829f2e-72cd-477e-e48b-4f063af8cdcb"
      },
      "source": [
        "mo.group()"
      ],
      "execution_count": null,
      "outputs": [
        {
          "output_type": "execute_result",
          "data": {
            "application/vnd.google.colaboratory.intrinsic+json": {
              "type": "string"
            },
            "text/plain": [
              "'067'"
            ]
          },
          "metadata": {
            "tags": []
          },
          "execution_count": 36
        }
      ]
    },
    {
      "cell_type": "code",
      "metadata": {
        "colab": {
          "base_uri": "https://localhost:8080/",
          "height": 35
        },
        "id": "4Vq4nAljuSNg",
        "outputId": "8db0acb8-31f0-4c8a-e62e-1b5608d36245"
      },
      "source": [
        "# 010-abcd-0100  --> abcd값을 ****으로 치환 re.sub\n",
        "re.sub(r'\\d','*','010-abcd-0100')"
      ],
      "execution_count": null,
      "outputs": [
        {
          "output_type": "execute_result",
          "data": {
            "application/vnd.google.colaboratory.intrinsic+json": {
              "type": "string"
            },
            "text/plain": [
              "'***-abcd-****'"
            ]
          },
          "metadata": {
            "tags": []
          },
          "execution_count": 41
        }
      ]
    },
    {
      "cell_type": "code",
      "metadata": {
        "id": "zHUM2wYi5obq"
      },
      "source": [
        ""
      ],
      "execution_count": null,
      "outputs": []
    }
  ]
}
