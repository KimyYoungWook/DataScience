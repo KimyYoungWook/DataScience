{
  "nbformat": 4,
  "nbformat_minor": 0,
  "metadata": {
    "colab": {
      "name": "서울_기온데이터_분석하기.ipynb",
      "provenance": [],
      "authorship_tag": "ABX9TyOHftFxu5WB2lD4qM/79ebn",
      "include_colab_link": true
    },
    "kernelspec": {
      "name": "python3",
      "display_name": "Python 3"
    },
    "language_info": {
      "name": "python"
    }
  },
  "cells": [
    {
      "cell_type": "markdown",
      "metadata": {
        "id": "view-in-github",
        "colab_type": "text"
      },
      "source": [
        "<a href=\"https://colab.research.google.com/github/KimyYoungWook/DataScience/blob/main/%EC%84%9C%EC%9A%B8_%EA%B8%B0%EC%98%A8%EB%8D%B0%EC%9D%B4%ED%84%B0_%EB%B6%84%EC%84%9D%ED%95%98%EA%B8%B0.ipynb\" target=\"_parent\"><img src=\"https://colab.research.google.com/assets/colab-badge.svg\" alt=\"Open In Colab\"/></a>"
      ]
    },
    {
      "cell_type": "markdown",
      "metadata": {
        "id": "ZM4XRaf_3vnu"
      },
      "source": [
        "csv 파일 가져오기"
      ]
    },
    {
      "cell_type": "code",
      "metadata": {
        "colab": {
          "base_uri": "https://localhost:8080/"
        },
        "id": "q3g0QbYWpPvd",
        "outputId": "45060b92-b7d1-4f5f-ba25-bddd6c72a315"
      },
      "source": [
        "import csv\n",
        "\n",
        "f = open('/content/Seoul.csv','r')\n",
        "data =csv.reader(f,delimiter=',')\n",
        "print(data)\n",
        "f.close()"
      ],
      "execution_count": null,
      "outputs": [
        {
          "output_type": "stream",
          "text": [
            "<_csv.reader object at 0x7febec72aed0>\n"
          ],
          "name": "stdout"
        }
      ]
    },
    {
      "cell_type": "code",
      "metadata": {
        "colab": {
          "base_uri": "https://localhost:8080/"
        },
        "id": "soLglgQ03kO4",
        "outputId": "4413fa18-a0b8-4e97-f713-c650ae751a94"
      },
      "source": [
        "import csv\n",
        "\n",
        "f = open('/content/Seoul.csv','r',encoding='cp949')\n",
        "data =csv.reader(f) # delimiter=',' 생략가능 ,가 디폴트값\n",
        "print(type(data))\n",
        "for row in data :\n",
        "  print(row)\n",
        "f.close()"
      ],
      "execution_count": null,
      "outputs": [
        {
          "output_type": "stream",
          "text": [
            "<class '_csv.reader'>\n"
          ],
          "name": "stdout"
        }
      ]
    },
    {
      "cell_type": "markdown",
      "metadata": {
        "id": "gQcMX7f67eq0"
      },
      "source": [
        "헤더 저장하기"
      ]
    },
    {
      "cell_type": "code",
      "metadata": {
        "colab": {
          "base_uri": "https://localhost:8080/"
        },
        "id": "ubwrlEvm5CQv",
        "outputId": "cc80725f-f288-4113-e0db-4cd1f03df88f"
      },
      "source": [
        "import csv\n",
        "f = open('/content/Seoul.csv','r',encoding='cp949')\n",
        "data =csv.reader(f) # delimiter=',' 생략가능 ,가 디폴트값\n",
        "header = next(data) # 첫번재 행을 읽은 후 다음 행으로 이동 시키는 함수\n",
        "#header1 = next(data) # 두번째 행을 읽은 후 다음 행으로 이동 \n",
        "print(header)"
      ],
      "execution_count": null,
      "outputs": [
        {
          "output_type": "stream",
          "text": [
            "['날짜', '지점', '평균기온(℃)', '최저기온(℃)', '최고기온(℃)']\n"
          ],
          "name": "stdout"
        }
      ]
    },
    {
      "cell_type": "code",
      "metadata": {
        "id": "0jXKw2iy79nq"
      },
      "source": [
        "#헤더를 제외한 데이터 한행씩 출력하기\n",
        "for row in data :\n",
        "  print(row)\n",
        "f.close()"
      ],
      "execution_count": null,
      "outputs": []
    },
    {
      "cell_type": "markdown",
      "metadata": {
        "id": "7grTw1dGIWpA"
      },
      "source": [
        "-> 기상 관측 이래, 서울의 최고 기온이 가장 높았던 날은 언제였고 몇도 였을까?<br>\n",
        "서울 최고기온 가장 높았던날 언제 몇도?"
      ]
    },
    {
      "cell_type": "markdown",
      "metadata": {
        "id": "BSS7EgNsJU93"
      },
      "source": [
        "-> 기상 관측 이래, 서울의 평균 기온이 가장 높았던 날은 언제였고 몇도 였을까?\n",
        "서울 평균기온 가장 높았던날 언제 몇도?"
      ]
    },
    {
      "cell_type": "markdown",
      "metadata": {
        "id": "qcu9FrgDJY1o"
      },
      "source": [
        "-> 기상 관측 이래, 서울의 최저 기온이 가장 높았던 날은 언제였고 몇도 였을까?\n",
        "서울 최저기온 가장 높았던날 언제 몇도?"
      ]
    },
    {
      "cell_type": "markdown",
      "metadata": {
        "id": "AWVSWXWZJb0H"
      },
      "source": [
        "-> 기상 관측 이래, 서울의 평균 기온이 가장 높았던 날은 언제였고 몇도 였을까?\n",
        "서울 평균기온 가장 높았던날 언제 몇도?"
      ]
    },
    {
      "cell_type": "code",
      "metadata": {
        "id": "8PDOrKTH-X7m"
      },
      "source": [
        ""
      ],
      "execution_count": null,
      "outputs": []
    },
    {
      "cell_type": "markdown",
      "metadata": {
        "id": "cQH2DLtpJfoA"
      },
      "source": [
        ""
      ]
    }
  ]
}
