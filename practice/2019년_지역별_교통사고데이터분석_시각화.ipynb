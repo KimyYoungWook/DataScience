{
  "nbformat": 4,
  "nbformat_minor": 0,
  "metadata": {
    "colab": {
      "name": "2019년_지역별_교통사고데이터분석_시각화.ipynb",
      "provenance": [],
      "authorship_tag": "ABX9TyPyAUBRVh5tMSj3bWWiyj1H",
      "include_colab_link": true
    },
    "kernelspec": {
      "name": "python3",
      "display_name": "Python 3"
    },
    "language_info": {
      "name": "python"
    }
  },
  "cells": [
    {
      "cell_type": "markdown",
      "metadata": {
        "id": "view-in-github",
        "colab_type": "text"
      },
      "source": [
        "<a href=\"https://colab.research.google.com/github/KimyYoungWook/DataScience/blob/main/practice/2019%EB%85%84_%EC%A7%80%EC%97%AD%EB%B3%84_%EA%B5%90%ED%86%B5%EC%82%AC%EA%B3%A0%EB%8D%B0%EC%9D%B4%ED%84%B0%EB%B6%84%EC%84%9D_%EC%8B%9C%EA%B0%81%ED%99%94.ipynb\" target=\"_parent\"><img src=\"https://colab.research.google.com/assets/colab-badge.svg\" alt=\"Open In Colab\"/></a>"
      ]
    },
    {
      "cell_type": "markdown",
      "metadata": {
        "id": "87vsWXbXfCqc"
      },
      "source": [
        "라이브러리"
      ]
    },
    {
      "cell_type": "code",
      "metadata": {
        "id": "j8wp4J6oeuME"
      },
      "source": [
        "import plotly.express as px\n",
        "import pandas as pd"
      ],
      "execution_count": 1,
      "outputs": []
    },
    {
      "cell_type": "markdown",
      "metadata": {
        "id": "N4pcuLTbfTLn"
      },
      "source": [
        "데이터 준비하기"
      ]
    },
    {
      "cell_type": "code",
      "metadata": {
        "colab": {
          "base_uri": "https://localhost:8080/",
          "height": 895
        },
        "id": "dXj99IwqfSM5",
        "outputId": "3a7adec0-8c0c-40f2-ecb0-8b437dbc9176"
      },
      "source": [
        "df = pd.read_csv('도로교통공단_교통사고 정보.csv',encoding='euc-kr')\n",
        "df.head()"
      ],
      "execution_count": 2,
      "outputs": [
        {
          "output_type": "execute_result",
          "data": {
            "text/html": [
              "<div>\n",
              "<style scoped>\n",
              "    .dataframe tbody tr th:only-of-type {\n",
              "        vertical-align: middle;\n",
              "    }\n",
              "\n",
              "    .dataframe tbody tr th {\n",
              "        vertical-align: top;\n",
              "    }\n",
              "\n",
              "    .dataframe thead th {\n",
              "        text-align: right;\n",
              "    }\n",
              "</style>\n",
              "<table border=\"1\" class=\"dataframe\">\n",
              "  <thead>\n",
              "    <tr style=\"text-align: right;\">\n",
              "      <th></th>\n",
              "      <th>발생년</th>\n",
              "      <th>발생년월일시</th>\n",
              "      <th>주야</th>\n",
              "      <th>요일</th>\n",
              "      <th>사망자수</th>\n",
              "      <th>부상자수</th>\n",
              "      <th>중상자수</th>\n",
              "      <th>경상자수</th>\n",
              "      <th>부상신고자수</th>\n",
              "      <th>발생지시도</th>\n",
              "      <th>발생지시군구</th>\n",
              "      <th>사고유형_대분류</th>\n",
              "      <th>사고유형_중분류</th>\n",
              "      <th>사고유형</th>\n",
              "      <th>가해자법규위반</th>\n",
              "      <th>도로형태_대분류</th>\n",
              "      <th>도로형태</th>\n",
              "      <th>가해자_당사자종별</th>\n",
              "      <th>피해자_당사자종별</th>\n",
              "      <th>발생위치X_UTMK</th>\n",
              "      <th>발생위치Y_UTMK</th>\n",
              "      <th>경도</th>\n",
              "      <th>위도</th>\n",
              "    </tr>\n",
              "  </thead>\n",
              "  <tbody>\n",
              "    <tr>\n",
              "      <th>0</th>\n",
              "      <td>2019</td>\n",
              "      <td>2019010100</td>\n",
              "      <td>야</td>\n",
              "      <td>화</td>\n",
              "      <td>1</td>\n",
              "      <td>0</td>\n",
              "      <td>0</td>\n",
              "      <td>0</td>\n",
              "      <td>0</td>\n",
              "      <td>부산</td>\n",
              "      <td>해운대구</td>\n",
              "      <td>차대사람</td>\n",
              "      <td>기타</td>\n",
              "      <td>기타</td>\n",
              "      <td>중앙선 침범</td>\n",
              "      <td>교차로</td>\n",
              "      <td>교차로내</td>\n",
              "      <td>승용차</td>\n",
              "      <td>보행자</td>\n",
              "      <td>1150507.0</td>\n",
              "      <td>1685987.0</td>\n",
              "      <td>129.152465</td>\n",
              "      <td>35.157884</td>\n",
              "    </tr>\n",
              "    <tr>\n",
              "      <th>1</th>\n",
              "      <td>2019</td>\n",
              "      <td>2019010103</td>\n",
              "      <td>야</td>\n",
              "      <td>화</td>\n",
              "      <td>1</td>\n",
              "      <td>0</td>\n",
              "      <td>0</td>\n",
              "      <td>0</td>\n",
              "      <td>0</td>\n",
              "      <td>경기</td>\n",
              "      <td>안산시</td>\n",
              "      <td>차대차</td>\n",
              "      <td>정면충돌</td>\n",
              "      <td>정면충돌</td>\n",
              "      <td>중앙선 침범</td>\n",
              "      <td>단일로</td>\n",
              "      <td>기타단일로</td>\n",
              "      <td>승용차</td>\n",
              "      <td>승용차</td>\n",
              "      <td>943018.0</td>\n",
              "      <td>1921233.0</td>\n",
              "      <td>126.857149</td>\n",
              "      <td>37.288292</td>\n",
              "    </tr>\n",
              "    <tr>\n",
              "      <th>2</th>\n",
              "      <td>2019</td>\n",
              "      <td>2019010116</td>\n",
              "      <td>주</td>\n",
              "      <td>화</td>\n",
              "      <td>1</td>\n",
              "      <td>0</td>\n",
              "      <td>0</td>\n",
              "      <td>0</td>\n",
              "      <td>0</td>\n",
              "      <td>경북</td>\n",
              "      <td>청도군</td>\n",
              "      <td>차대차</td>\n",
              "      <td>측면충돌</td>\n",
              "      <td>측면충돌</td>\n",
              "      <td>안전운전 의무 불이행</td>\n",
              "      <td>교차로</td>\n",
              "      <td>교차로부근</td>\n",
              "      <td>승용차</td>\n",
              "      <td>사륜오토바이(ATV)</td>\n",
              "      <td>1100414.0</td>\n",
              "      <td>1739893.0</td>\n",
              "      <td>128.609230</td>\n",
              "      <td>35.650108</td>\n",
              "    </tr>\n",
              "    <tr>\n",
              "      <th>3</th>\n",
              "      <td>2019</td>\n",
              "      <td>2019010119</td>\n",
              "      <td>야</td>\n",
              "      <td>화</td>\n",
              "      <td>1</td>\n",
              "      <td>0</td>\n",
              "      <td>0</td>\n",
              "      <td>0</td>\n",
              "      <td>0</td>\n",
              "      <td>대전</td>\n",
              "      <td>서구</td>\n",
              "      <td>차대사람</td>\n",
              "      <td>횡단중</td>\n",
              "      <td>횡단중</td>\n",
              "      <td>안전운전 의무 불이행</td>\n",
              "      <td>교차로</td>\n",
              "      <td>교차로부근</td>\n",
              "      <td>승용차</td>\n",
              "      <td>보행자</td>\n",
              "      <td>989194.0</td>\n",
              "      <td>1817621.0</td>\n",
              "      <td>127.379560</td>\n",
              "      <td>36.355946</td>\n",
              "    </tr>\n",
              "    <tr>\n",
              "      <th>4</th>\n",
              "      <td>2019</td>\n",
              "      <td>2019010121</td>\n",
              "      <td>야</td>\n",
              "      <td>화</td>\n",
              "      <td>1</td>\n",
              "      <td>0</td>\n",
              "      <td>0</td>\n",
              "      <td>0</td>\n",
              "      <td>0</td>\n",
              "      <td>경북</td>\n",
              "      <td>영천시</td>\n",
              "      <td>차대사람</td>\n",
              "      <td>기타</td>\n",
              "      <td>기타</td>\n",
              "      <td>안전운전 의무 불이행</td>\n",
              "      <td>단일로</td>\n",
              "      <td>기타단일로</td>\n",
              "      <td>승용차</td>\n",
              "      <td>보행자</td>\n",
              "      <td>1127700.0</td>\n",
              "      <td>1767912.0</td>\n",
              "      <td>128.915041</td>\n",
              "      <td>35.899506</td>\n",
              "    </tr>\n",
              "  </tbody>\n",
              "</table>\n",
              "</div>"
            ],
            "text/plain": [
              "    발생년      발생년월일시 주야 요일  ...  발생위치X_UTMK  발생위치Y_UTMK          경도         위도\n",
              "0  2019  2019010100  야  화  ...   1150507.0   1685987.0  129.152465  35.157884\n",
              "1  2019  2019010103  야  화  ...    943018.0   1921233.0  126.857149  37.288292\n",
              "2  2019  2019010116  주  화  ...   1100414.0   1739893.0  128.609230  35.650108\n",
              "3  2019  2019010119  야  화  ...    989194.0   1817621.0  127.379560  36.355946\n",
              "4  2019  2019010121  야  화  ...   1127700.0   1767912.0  128.915041  35.899506\n",
              "\n",
              "[5 rows x 23 columns]"
            ]
          },
          "metadata": {
            "tags": []
          },
          "execution_count": 2
        }
      ]
    },
    {
      "cell_type": "code",
      "metadata": {
        "colab": {
          "base_uri": "https://localhost:8080/"
        },
        "id": "YHbgQa_9flzu",
        "outputId": "24455b27-3ac3-4da5-a2ac-be9a0a2c8ae5"
      },
      "source": [
        "df.info()"
      ],
      "execution_count": 3,
      "outputs": [
        {
          "output_type": "stream",
          "text": [
            "<class 'pandas.core.frame.DataFrame'>\n",
            "RangeIndex: 3233 entries, 0 to 3232\n",
            "Data columns (total 23 columns):\n",
            " #   Column      Non-Null Count  Dtype  \n",
            "---  ------      --------------  -----  \n",
            " 0   발생년         3233 non-null   int64  \n",
            " 1   발생년월일시      3233 non-null   int64  \n",
            " 2   주야          3233 non-null   object \n",
            " 3   요일          3233 non-null   object \n",
            " 4   사망자수        3233 non-null   int64  \n",
            " 5   부상자수        3233 non-null   int64  \n",
            " 6   중상자수        3233 non-null   int64  \n",
            " 7   경상자수        3233 non-null   int64  \n",
            " 8   부상신고자수      3233 non-null   int64  \n",
            " 9   발생지시도       3233 non-null   object \n",
            " 10  발생지시군구      3233 non-null   object \n",
            " 11  사고유형_대분류    3233 non-null   object \n",
            " 12  사고유형_중분류    3233 non-null   object \n",
            " 13  사고유형        3233 non-null   object \n",
            " 14  가해자법규위반     3233 non-null   object \n",
            " 15  도로형태_대분류    3233 non-null   object \n",
            " 16  도로형태        3233 non-null   object \n",
            " 17  가해자_당사자종별   3233 non-null   object \n",
            " 18  피해자_당사자종별   3233 non-null   object \n",
            " 19  발생위치X_UTMK  3233 non-null   float64\n",
            " 20  발생위치Y_UTMK  3233 non-null   float64\n",
            " 21  경도          3233 non-null   float64\n",
            " 22  위도          3233 non-null   float64\n",
            "dtypes: float64(4), int64(7), object(12)\n",
            "memory usage: 581.1+ KB\n"
          ],
          "name": "stdout"
        }
      ]
    },
    {
      "cell_type": "markdown",
      "metadata": {
        "id": "mcRev3RihYEA"
      },
      "source": [
        "교통사고 시간 전처리(int형은 연속적이기때문에 원하는 형태로 자르기가 힘들기때문에 문자형으로 변환)"
      ]
    },
    {
      "cell_type": "code",
      "metadata": {
        "id": "_PT785YOf9FH"
      },
      "source": [
        "df=df.astype({'발생년월일시':'string' })"
      ],
      "execution_count": 4,
      "outputs": []
    },
    {
      "cell_type": "code",
      "metadata": {
        "colab": {
          "base_uri": "https://localhost:8080/",
          "height": 895
        },
        "id": "nNBWycn3hmX_",
        "outputId": "a72846bb-b7ee-412b-a8ed-42d518bc18c1"
      },
      "source": [
        "df.head()"
      ],
      "execution_count": 5,
      "outputs": [
        {
          "output_type": "execute_result",
          "data": {
            "text/html": [
              "<div>\n",
              "<style scoped>\n",
              "    .dataframe tbody tr th:only-of-type {\n",
              "        vertical-align: middle;\n",
              "    }\n",
              "\n",
              "    .dataframe tbody tr th {\n",
              "        vertical-align: top;\n",
              "    }\n",
              "\n",
              "    .dataframe thead th {\n",
              "        text-align: right;\n",
              "    }\n",
              "</style>\n",
              "<table border=\"1\" class=\"dataframe\">\n",
              "  <thead>\n",
              "    <tr style=\"text-align: right;\">\n",
              "      <th></th>\n",
              "      <th>발생년</th>\n",
              "      <th>발생년월일시</th>\n",
              "      <th>주야</th>\n",
              "      <th>요일</th>\n",
              "      <th>사망자수</th>\n",
              "      <th>부상자수</th>\n",
              "      <th>중상자수</th>\n",
              "      <th>경상자수</th>\n",
              "      <th>부상신고자수</th>\n",
              "      <th>발생지시도</th>\n",
              "      <th>발생지시군구</th>\n",
              "      <th>사고유형_대분류</th>\n",
              "      <th>사고유형_중분류</th>\n",
              "      <th>사고유형</th>\n",
              "      <th>가해자법규위반</th>\n",
              "      <th>도로형태_대분류</th>\n",
              "      <th>도로형태</th>\n",
              "      <th>가해자_당사자종별</th>\n",
              "      <th>피해자_당사자종별</th>\n",
              "      <th>발생위치X_UTMK</th>\n",
              "      <th>발생위치Y_UTMK</th>\n",
              "      <th>경도</th>\n",
              "      <th>위도</th>\n",
              "    </tr>\n",
              "  </thead>\n",
              "  <tbody>\n",
              "    <tr>\n",
              "      <th>0</th>\n",
              "      <td>2019</td>\n",
              "      <td>2019010100</td>\n",
              "      <td>야</td>\n",
              "      <td>화</td>\n",
              "      <td>1</td>\n",
              "      <td>0</td>\n",
              "      <td>0</td>\n",
              "      <td>0</td>\n",
              "      <td>0</td>\n",
              "      <td>부산</td>\n",
              "      <td>해운대구</td>\n",
              "      <td>차대사람</td>\n",
              "      <td>기타</td>\n",
              "      <td>기타</td>\n",
              "      <td>중앙선 침범</td>\n",
              "      <td>교차로</td>\n",
              "      <td>교차로내</td>\n",
              "      <td>승용차</td>\n",
              "      <td>보행자</td>\n",
              "      <td>1150507.0</td>\n",
              "      <td>1685987.0</td>\n",
              "      <td>129.152465</td>\n",
              "      <td>35.157884</td>\n",
              "    </tr>\n",
              "    <tr>\n",
              "      <th>1</th>\n",
              "      <td>2019</td>\n",
              "      <td>2019010103</td>\n",
              "      <td>야</td>\n",
              "      <td>화</td>\n",
              "      <td>1</td>\n",
              "      <td>0</td>\n",
              "      <td>0</td>\n",
              "      <td>0</td>\n",
              "      <td>0</td>\n",
              "      <td>경기</td>\n",
              "      <td>안산시</td>\n",
              "      <td>차대차</td>\n",
              "      <td>정면충돌</td>\n",
              "      <td>정면충돌</td>\n",
              "      <td>중앙선 침범</td>\n",
              "      <td>단일로</td>\n",
              "      <td>기타단일로</td>\n",
              "      <td>승용차</td>\n",
              "      <td>승용차</td>\n",
              "      <td>943018.0</td>\n",
              "      <td>1921233.0</td>\n",
              "      <td>126.857149</td>\n",
              "      <td>37.288292</td>\n",
              "    </tr>\n",
              "    <tr>\n",
              "      <th>2</th>\n",
              "      <td>2019</td>\n",
              "      <td>2019010116</td>\n",
              "      <td>주</td>\n",
              "      <td>화</td>\n",
              "      <td>1</td>\n",
              "      <td>0</td>\n",
              "      <td>0</td>\n",
              "      <td>0</td>\n",
              "      <td>0</td>\n",
              "      <td>경북</td>\n",
              "      <td>청도군</td>\n",
              "      <td>차대차</td>\n",
              "      <td>측면충돌</td>\n",
              "      <td>측면충돌</td>\n",
              "      <td>안전운전 의무 불이행</td>\n",
              "      <td>교차로</td>\n",
              "      <td>교차로부근</td>\n",
              "      <td>승용차</td>\n",
              "      <td>사륜오토바이(ATV)</td>\n",
              "      <td>1100414.0</td>\n",
              "      <td>1739893.0</td>\n",
              "      <td>128.609230</td>\n",
              "      <td>35.650108</td>\n",
              "    </tr>\n",
              "    <tr>\n",
              "      <th>3</th>\n",
              "      <td>2019</td>\n",
              "      <td>2019010119</td>\n",
              "      <td>야</td>\n",
              "      <td>화</td>\n",
              "      <td>1</td>\n",
              "      <td>0</td>\n",
              "      <td>0</td>\n",
              "      <td>0</td>\n",
              "      <td>0</td>\n",
              "      <td>대전</td>\n",
              "      <td>서구</td>\n",
              "      <td>차대사람</td>\n",
              "      <td>횡단중</td>\n",
              "      <td>횡단중</td>\n",
              "      <td>안전운전 의무 불이행</td>\n",
              "      <td>교차로</td>\n",
              "      <td>교차로부근</td>\n",
              "      <td>승용차</td>\n",
              "      <td>보행자</td>\n",
              "      <td>989194.0</td>\n",
              "      <td>1817621.0</td>\n",
              "      <td>127.379560</td>\n",
              "      <td>36.355946</td>\n",
              "    </tr>\n",
              "    <tr>\n",
              "      <th>4</th>\n",
              "      <td>2019</td>\n",
              "      <td>2019010121</td>\n",
              "      <td>야</td>\n",
              "      <td>화</td>\n",
              "      <td>1</td>\n",
              "      <td>0</td>\n",
              "      <td>0</td>\n",
              "      <td>0</td>\n",
              "      <td>0</td>\n",
              "      <td>경북</td>\n",
              "      <td>영천시</td>\n",
              "      <td>차대사람</td>\n",
              "      <td>기타</td>\n",
              "      <td>기타</td>\n",
              "      <td>안전운전 의무 불이행</td>\n",
              "      <td>단일로</td>\n",
              "      <td>기타단일로</td>\n",
              "      <td>승용차</td>\n",
              "      <td>보행자</td>\n",
              "      <td>1127700.0</td>\n",
              "      <td>1767912.0</td>\n",
              "      <td>128.915041</td>\n",
              "      <td>35.899506</td>\n",
              "    </tr>\n",
              "  </tbody>\n",
              "</table>\n",
              "</div>"
            ],
            "text/plain": [
              "    발생년      발생년월일시 주야 요일  ...  발생위치X_UTMK  발생위치Y_UTMK          경도         위도\n",
              "0  2019  2019010100  야  화  ...   1150507.0   1685987.0  129.152465  35.157884\n",
              "1  2019  2019010103  야  화  ...    943018.0   1921233.0  126.857149  37.288292\n",
              "2  2019  2019010116  주  화  ...   1100414.0   1739893.0  128.609230  35.650108\n",
              "3  2019  2019010119  야  화  ...    989194.0   1817621.0  127.379560  36.355946\n",
              "4  2019  2019010121  야  화  ...   1127700.0   1767912.0  128.915041  35.899506\n",
              "\n",
              "[5 rows x 23 columns]"
            ]
          },
          "metadata": {
            "tags": []
          },
          "execution_count": 5
        }
      ]
    },
    {
      "cell_type": "code",
      "metadata": {
        "colab": {
          "base_uri": "https://localhost:8080/",
          "height": 895
        },
        "id": "DUcexG9shoV0",
        "outputId": "26d333b2-e376-4f5a-b3fd-29934d231e1a"
      },
      "source": [
        "#2019010100 -> 00 split time\n",
        "df['발생시간']=df.발생년월일시.str[8:]\n",
        "df.head()"
      ],
      "execution_count": 6,
      "outputs": [
        {
          "output_type": "execute_result",
          "data": {
            "text/html": [
              "<div>\n",
              "<style scoped>\n",
              "    .dataframe tbody tr th:only-of-type {\n",
              "        vertical-align: middle;\n",
              "    }\n",
              "\n",
              "    .dataframe tbody tr th {\n",
              "        vertical-align: top;\n",
              "    }\n",
              "\n",
              "    .dataframe thead th {\n",
              "        text-align: right;\n",
              "    }\n",
              "</style>\n",
              "<table border=\"1\" class=\"dataframe\">\n",
              "  <thead>\n",
              "    <tr style=\"text-align: right;\">\n",
              "      <th></th>\n",
              "      <th>발생년</th>\n",
              "      <th>발생년월일시</th>\n",
              "      <th>주야</th>\n",
              "      <th>요일</th>\n",
              "      <th>사망자수</th>\n",
              "      <th>부상자수</th>\n",
              "      <th>중상자수</th>\n",
              "      <th>경상자수</th>\n",
              "      <th>부상신고자수</th>\n",
              "      <th>발생지시도</th>\n",
              "      <th>발생지시군구</th>\n",
              "      <th>사고유형_대분류</th>\n",
              "      <th>사고유형_중분류</th>\n",
              "      <th>사고유형</th>\n",
              "      <th>가해자법규위반</th>\n",
              "      <th>도로형태_대분류</th>\n",
              "      <th>도로형태</th>\n",
              "      <th>가해자_당사자종별</th>\n",
              "      <th>피해자_당사자종별</th>\n",
              "      <th>발생위치X_UTMK</th>\n",
              "      <th>발생위치Y_UTMK</th>\n",
              "      <th>경도</th>\n",
              "      <th>위도</th>\n",
              "      <th>발생시간</th>\n",
              "    </tr>\n",
              "  </thead>\n",
              "  <tbody>\n",
              "    <tr>\n",
              "      <th>0</th>\n",
              "      <td>2019</td>\n",
              "      <td>2019010100</td>\n",
              "      <td>야</td>\n",
              "      <td>화</td>\n",
              "      <td>1</td>\n",
              "      <td>0</td>\n",
              "      <td>0</td>\n",
              "      <td>0</td>\n",
              "      <td>0</td>\n",
              "      <td>부산</td>\n",
              "      <td>해운대구</td>\n",
              "      <td>차대사람</td>\n",
              "      <td>기타</td>\n",
              "      <td>기타</td>\n",
              "      <td>중앙선 침범</td>\n",
              "      <td>교차로</td>\n",
              "      <td>교차로내</td>\n",
              "      <td>승용차</td>\n",
              "      <td>보행자</td>\n",
              "      <td>1150507.0</td>\n",
              "      <td>1685987.0</td>\n",
              "      <td>129.152465</td>\n",
              "      <td>35.157884</td>\n",
              "      <td>00</td>\n",
              "    </tr>\n",
              "    <tr>\n",
              "      <th>1</th>\n",
              "      <td>2019</td>\n",
              "      <td>2019010103</td>\n",
              "      <td>야</td>\n",
              "      <td>화</td>\n",
              "      <td>1</td>\n",
              "      <td>0</td>\n",
              "      <td>0</td>\n",
              "      <td>0</td>\n",
              "      <td>0</td>\n",
              "      <td>경기</td>\n",
              "      <td>안산시</td>\n",
              "      <td>차대차</td>\n",
              "      <td>정면충돌</td>\n",
              "      <td>정면충돌</td>\n",
              "      <td>중앙선 침범</td>\n",
              "      <td>단일로</td>\n",
              "      <td>기타단일로</td>\n",
              "      <td>승용차</td>\n",
              "      <td>승용차</td>\n",
              "      <td>943018.0</td>\n",
              "      <td>1921233.0</td>\n",
              "      <td>126.857149</td>\n",
              "      <td>37.288292</td>\n",
              "      <td>03</td>\n",
              "    </tr>\n",
              "    <tr>\n",
              "      <th>2</th>\n",
              "      <td>2019</td>\n",
              "      <td>2019010116</td>\n",
              "      <td>주</td>\n",
              "      <td>화</td>\n",
              "      <td>1</td>\n",
              "      <td>0</td>\n",
              "      <td>0</td>\n",
              "      <td>0</td>\n",
              "      <td>0</td>\n",
              "      <td>경북</td>\n",
              "      <td>청도군</td>\n",
              "      <td>차대차</td>\n",
              "      <td>측면충돌</td>\n",
              "      <td>측면충돌</td>\n",
              "      <td>안전운전 의무 불이행</td>\n",
              "      <td>교차로</td>\n",
              "      <td>교차로부근</td>\n",
              "      <td>승용차</td>\n",
              "      <td>사륜오토바이(ATV)</td>\n",
              "      <td>1100414.0</td>\n",
              "      <td>1739893.0</td>\n",
              "      <td>128.609230</td>\n",
              "      <td>35.650108</td>\n",
              "      <td>16</td>\n",
              "    </tr>\n",
              "    <tr>\n",
              "      <th>3</th>\n",
              "      <td>2019</td>\n",
              "      <td>2019010119</td>\n",
              "      <td>야</td>\n",
              "      <td>화</td>\n",
              "      <td>1</td>\n",
              "      <td>0</td>\n",
              "      <td>0</td>\n",
              "      <td>0</td>\n",
              "      <td>0</td>\n",
              "      <td>대전</td>\n",
              "      <td>서구</td>\n",
              "      <td>차대사람</td>\n",
              "      <td>횡단중</td>\n",
              "      <td>횡단중</td>\n",
              "      <td>안전운전 의무 불이행</td>\n",
              "      <td>교차로</td>\n",
              "      <td>교차로부근</td>\n",
              "      <td>승용차</td>\n",
              "      <td>보행자</td>\n",
              "      <td>989194.0</td>\n",
              "      <td>1817621.0</td>\n",
              "      <td>127.379560</td>\n",
              "      <td>36.355946</td>\n",
              "      <td>19</td>\n",
              "    </tr>\n",
              "    <tr>\n",
              "      <th>4</th>\n",
              "      <td>2019</td>\n",
              "      <td>2019010121</td>\n",
              "      <td>야</td>\n",
              "      <td>화</td>\n",
              "      <td>1</td>\n",
              "      <td>0</td>\n",
              "      <td>0</td>\n",
              "      <td>0</td>\n",
              "      <td>0</td>\n",
              "      <td>경북</td>\n",
              "      <td>영천시</td>\n",
              "      <td>차대사람</td>\n",
              "      <td>기타</td>\n",
              "      <td>기타</td>\n",
              "      <td>안전운전 의무 불이행</td>\n",
              "      <td>단일로</td>\n",
              "      <td>기타단일로</td>\n",
              "      <td>승용차</td>\n",
              "      <td>보행자</td>\n",
              "      <td>1127700.0</td>\n",
              "      <td>1767912.0</td>\n",
              "      <td>128.915041</td>\n",
              "      <td>35.899506</td>\n",
              "      <td>21</td>\n",
              "    </tr>\n",
              "  </tbody>\n",
              "</table>\n",
              "</div>"
            ],
            "text/plain": [
              "    발생년      발생년월일시 주야 요일  ...  발생위치Y_UTMK          경도         위도  발생시간\n",
              "0  2019  2019010100  야  화  ...   1685987.0  129.152465  35.157884    00\n",
              "1  2019  2019010103  야  화  ...   1921233.0  126.857149  37.288292    03\n",
              "2  2019  2019010116  주  화  ...   1739893.0  128.609230  35.650108    16\n",
              "3  2019  2019010119  야  화  ...   1817621.0  127.379560  36.355946    19\n",
              "4  2019  2019010121  야  화  ...   1767912.0  128.915041  35.899506    21\n",
              "\n",
              "[5 rows x 24 columns]"
            ]
          },
          "metadata": {
            "tags": []
          },
          "execution_count": 6
        }
      ]
    },
    {
      "cell_type": "code",
      "metadata": {
        "colab": {
          "base_uri": "https://localhost:8080/"
        },
        "id": "VoAQPgeyh4tx",
        "outputId": "93cf8330-ad5d-4f92-f3ae-b509934b05b3"
      },
      "source": [
        "#발생시간 숫자 데이터 타입으로 변경\n",
        "df=df.astype({'발생시간':'int64' })\n",
        "df.info()"
      ],
      "execution_count": 7,
      "outputs": [
        {
          "output_type": "stream",
          "text": [
            "<class 'pandas.core.frame.DataFrame'>\n",
            "RangeIndex: 3233 entries, 0 to 3232\n",
            "Data columns (total 24 columns):\n",
            " #   Column      Non-Null Count  Dtype  \n",
            "---  ------      --------------  -----  \n",
            " 0   발생년         3233 non-null   int64  \n",
            " 1   발생년월일시      3233 non-null   string \n",
            " 2   주야          3233 non-null   object \n",
            " 3   요일          3233 non-null   object \n",
            " 4   사망자수        3233 non-null   int64  \n",
            " 5   부상자수        3233 non-null   int64  \n",
            " 6   중상자수        3233 non-null   int64  \n",
            " 7   경상자수        3233 non-null   int64  \n",
            " 8   부상신고자수      3233 non-null   int64  \n",
            " 9   발생지시도       3233 non-null   object \n",
            " 10  발생지시군구      3233 non-null   object \n",
            " 11  사고유형_대분류    3233 non-null   object \n",
            " 12  사고유형_중분류    3233 non-null   object \n",
            " 13  사고유형        3233 non-null   object \n",
            " 14  가해자법규위반     3233 non-null   object \n",
            " 15  도로형태_대분류    3233 non-null   object \n",
            " 16  도로형태        3233 non-null   object \n",
            " 17  가해자_당사자종별   3233 non-null   object \n",
            " 18  피해자_당사자종별   3233 non-null   object \n",
            " 19  발생위치X_UTMK  3233 non-null   float64\n",
            " 20  발생위치Y_UTMK  3233 non-null   float64\n",
            " 21  경도          3233 non-null   float64\n",
            " 22  위도          3233 non-null   float64\n",
            " 23  발생시간        3233 non-null   int64  \n",
            "dtypes: float64(4), int64(7), object(12), string(1)\n",
            "memory usage: 606.3+ KB\n"
          ],
          "name": "stdout"
        }
      ]
    },
    {
      "cell_type": "code",
      "metadata": {
        "id": "sSAoEiVdiPbg"
      },
      "source": [
        "#2019010100 -> 20190101 type : datetime_YYYY-MM-DD\n",
        "df['발생년월일시']=pd.to_datetime(df['발생년월일시'].str[:8],\n",
        "                            format='%Y-%m-%d',errors='raise')"
      ],
      "execution_count": 8,
      "outputs": []
    },
    {
      "cell_type": "code",
      "metadata": {
        "colab": {
          "base_uri": "https://localhost:8080/",
          "height": 895
        },
        "id": "KOC6FJkxjC9Y",
        "outputId": "50ca4f5c-4dea-4930-b730-82335e816e1b"
      },
      "source": [
        "df.head()"
      ],
      "execution_count": 9,
      "outputs": [
        {
          "output_type": "execute_result",
          "data": {
            "text/html": [
              "<div>\n",
              "<style scoped>\n",
              "    .dataframe tbody tr th:only-of-type {\n",
              "        vertical-align: middle;\n",
              "    }\n",
              "\n",
              "    .dataframe tbody tr th {\n",
              "        vertical-align: top;\n",
              "    }\n",
              "\n",
              "    .dataframe thead th {\n",
              "        text-align: right;\n",
              "    }\n",
              "</style>\n",
              "<table border=\"1\" class=\"dataframe\">\n",
              "  <thead>\n",
              "    <tr style=\"text-align: right;\">\n",
              "      <th></th>\n",
              "      <th>발생년</th>\n",
              "      <th>발생년월일시</th>\n",
              "      <th>주야</th>\n",
              "      <th>요일</th>\n",
              "      <th>사망자수</th>\n",
              "      <th>부상자수</th>\n",
              "      <th>중상자수</th>\n",
              "      <th>경상자수</th>\n",
              "      <th>부상신고자수</th>\n",
              "      <th>발생지시도</th>\n",
              "      <th>발생지시군구</th>\n",
              "      <th>사고유형_대분류</th>\n",
              "      <th>사고유형_중분류</th>\n",
              "      <th>사고유형</th>\n",
              "      <th>가해자법규위반</th>\n",
              "      <th>도로형태_대분류</th>\n",
              "      <th>도로형태</th>\n",
              "      <th>가해자_당사자종별</th>\n",
              "      <th>피해자_당사자종별</th>\n",
              "      <th>발생위치X_UTMK</th>\n",
              "      <th>발생위치Y_UTMK</th>\n",
              "      <th>경도</th>\n",
              "      <th>위도</th>\n",
              "      <th>발생시간</th>\n",
              "    </tr>\n",
              "  </thead>\n",
              "  <tbody>\n",
              "    <tr>\n",
              "      <th>0</th>\n",
              "      <td>2019</td>\n",
              "      <td>2019-01-01</td>\n",
              "      <td>야</td>\n",
              "      <td>화</td>\n",
              "      <td>1</td>\n",
              "      <td>0</td>\n",
              "      <td>0</td>\n",
              "      <td>0</td>\n",
              "      <td>0</td>\n",
              "      <td>부산</td>\n",
              "      <td>해운대구</td>\n",
              "      <td>차대사람</td>\n",
              "      <td>기타</td>\n",
              "      <td>기타</td>\n",
              "      <td>중앙선 침범</td>\n",
              "      <td>교차로</td>\n",
              "      <td>교차로내</td>\n",
              "      <td>승용차</td>\n",
              "      <td>보행자</td>\n",
              "      <td>1150507.0</td>\n",
              "      <td>1685987.0</td>\n",
              "      <td>129.152465</td>\n",
              "      <td>35.157884</td>\n",
              "      <td>0</td>\n",
              "    </tr>\n",
              "    <tr>\n",
              "      <th>1</th>\n",
              "      <td>2019</td>\n",
              "      <td>2019-01-01</td>\n",
              "      <td>야</td>\n",
              "      <td>화</td>\n",
              "      <td>1</td>\n",
              "      <td>0</td>\n",
              "      <td>0</td>\n",
              "      <td>0</td>\n",
              "      <td>0</td>\n",
              "      <td>경기</td>\n",
              "      <td>안산시</td>\n",
              "      <td>차대차</td>\n",
              "      <td>정면충돌</td>\n",
              "      <td>정면충돌</td>\n",
              "      <td>중앙선 침범</td>\n",
              "      <td>단일로</td>\n",
              "      <td>기타단일로</td>\n",
              "      <td>승용차</td>\n",
              "      <td>승용차</td>\n",
              "      <td>943018.0</td>\n",
              "      <td>1921233.0</td>\n",
              "      <td>126.857149</td>\n",
              "      <td>37.288292</td>\n",
              "      <td>3</td>\n",
              "    </tr>\n",
              "    <tr>\n",
              "      <th>2</th>\n",
              "      <td>2019</td>\n",
              "      <td>2019-01-01</td>\n",
              "      <td>주</td>\n",
              "      <td>화</td>\n",
              "      <td>1</td>\n",
              "      <td>0</td>\n",
              "      <td>0</td>\n",
              "      <td>0</td>\n",
              "      <td>0</td>\n",
              "      <td>경북</td>\n",
              "      <td>청도군</td>\n",
              "      <td>차대차</td>\n",
              "      <td>측면충돌</td>\n",
              "      <td>측면충돌</td>\n",
              "      <td>안전운전 의무 불이행</td>\n",
              "      <td>교차로</td>\n",
              "      <td>교차로부근</td>\n",
              "      <td>승용차</td>\n",
              "      <td>사륜오토바이(ATV)</td>\n",
              "      <td>1100414.0</td>\n",
              "      <td>1739893.0</td>\n",
              "      <td>128.609230</td>\n",
              "      <td>35.650108</td>\n",
              "      <td>16</td>\n",
              "    </tr>\n",
              "    <tr>\n",
              "      <th>3</th>\n",
              "      <td>2019</td>\n",
              "      <td>2019-01-01</td>\n",
              "      <td>야</td>\n",
              "      <td>화</td>\n",
              "      <td>1</td>\n",
              "      <td>0</td>\n",
              "      <td>0</td>\n",
              "      <td>0</td>\n",
              "      <td>0</td>\n",
              "      <td>대전</td>\n",
              "      <td>서구</td>\n",
              "      <td>차대사람</td>\n",
              "      <td>횡단중</td>\n",
              "      <td>횡단중</td>\n",
              "      <td>안전운전 의무 불이행</td>\n",
              "      <td>교차로</td>\n",
              "      <td>교차로부근</td>\n",
              "      <td>승용차</td>\n",
              "      <td>보행자</td>\n",
              "      <td>989194.0</td>\n",
              "      <td>1817621.0</td>\n",
              "      <td>127.379560</td>\n",
              "      <td>36.355946</td>\n",
              "      <td>19</td>\n",
              "    </tr>\n",
              "    <tr>\n",
              "      <th>4</th>\n",
              "      <td>2019</td>\n",
              "      <td>2019-01-01</td>\n",
              "      <td>야</td>\n",
              "      <td>화</td>\n",
              "      <td>1</td>\n",
              "      <td>0</td>\n",
              "      <td>0</td>\n",
              "      <td>0</td>\n",
              "      <td>0</td>\n",
              "      <td>경북</td>\n",
              "      <td>영천시</td>\n",
              "      <td>차대사람</td>\n",
              "      <td>기타</td>\n",
              "      <td>기타</td>\n",
              "      <td>안전운전 의무 불이행</td>\n",
              "      <td>단일로</td>\n",
              "      <td>기타단일로</td>\n",
              "      <td>승용차</td>\n",
              "      <td>보행자</td>\n",
              "      <td>1127700.0</td>\n",
              "      <td>1767912.0</td>\n",
              "      <td>128.915041</td>\n",
              "      <td>35.899506</td>\n",
              "      <td>21</td>\n",
              "    </tr>\n",
              "  </tbody>\n",
              "</table>\n",
              "</div>"
            ],
            "text/plain": [
              "    발생년     발생년월일시 주야 요일  ...  발생위치Y_UTMK          경도         위도  발생시간\n",
              "0  2019 2019-01-01  야  화  ...   1685987.0  129.152465  35.157884     0\n",
              "1  2019 2019-01-01  야  화  ...   1921233.0  126.857149  37.288292     3\n",
              "2  2019 2019-01-01  주  화  ...   1739893.0  128.609230  35.650108    16\n",
              "3  2019 2019-01-01  야  화  ...   1817621.0  127.379560  36.355946    19\n",
              "4  2019 2019-01-01  야  화  ...   1767912.0  128.915041  35.899506    21\n",
              "\n",
              "[5 rows x 24 columns]"
            ]
          },
          "metadata": {
            "tags": []
          },
          "execution_count": 9
        }
      ]
    },
    {
      "cell_type": "markdown",
      "metadata": {
        "id": "StywYfzenubF"
      },
      "source": [
        "2019년 지역별 교통사고 데이터 시각화"
      ]
    },
    {
      "cell_type": "code",
      "metadata": {
        "colab": {
          "base_uri": "https://localhost:8080/",
          "height": 542
        },
        "id": "FBbmzg1ojTkO",
        "outputId": "8521c600-5ef8-404f-8da3-f65cb0205507"
      },
      "source": [
        "fig=px.scatter(df,x='발생년월일시',y='발생시간',color='발생지시도',size='사망자수',hover_data=['발생시간'])\n",
        "fig.show()"
      ],
      "execution_count": 11,
      "outputs": [
        {
          "output_type": "display_data",
          "data": {
            "text/html": [
              "<html>\n",
              "<head><meta charset=\"utf-8\" /></head>\n",
              "<body>\n",
              "    <div>\n",
              "            <script src=\"https://cdnjs.cloudflare.com/ajax/libs/mathjax/2.7.5/MathJax.js?config=TeX-AMS-MML_SVG\"></script><script type=\"text/javascript\">if (window.MathJax) {MathJax.Hub.Config({SVG: {font: \"STIX-Web\"}});}</script>\n",
              "                <script type=\"text/javascript\">window.PlotlyConfig = {MathJaxConfig: 'local'};</script>\n",
              "        <script src=\"https://cdn.plot.ly/plotly-latest.min.js\"></script>    \n",
              "            <div id=\"340810b6-c446-4668-bec3-ad2eaa2e824c\" class=\"plotly-graph-div\" style=\"height:525px; width:100%;\"></div>\n",
              "            <script type=\"text/javascript\">\n",
              "                \n",
              "                    window.PLOTLYENV=window.PLOTLYENV || {};\n",
              "                    \n",
              "                if (document.getElementById(\"340810b6-c446-4668-bec3-ad2eaa2e824c\")) {\n",
              "                    Plotly.newPlot(\n",
              "                        '340810b6-c446-4668-bec3-ad2eaa2e824c',\n",
              "                        [{\"customdata\": [[0], [4], [14], [4], [5], [5], [7], [14], [8], [7], [9], [3], [20], [1], [1], [0], [8], [1], [14], [2], [5], [21], [10], [10], [4], [13], [19], [22], [8], [23], [21], [3], [17], [11], [7], [6], [4], [8], [5], [13], [16], [8], [12], [20], [21], [23], [7], [17], [0], [4], [3], [13], [7], [10], [15], [20], [9], [3], [12], [13], [2], [5], [22], [12], [2], [2], [20], [13], [14], [19], [20], [11], [4], [12], [10], [21], [6], [17], [2], [5], [4], [2], [6], [13], [21], [6], [13], [19], [6], [7], [19], [5], [16], [15], [17], [16], [1], [8], [23], [11], [11], [9], [4], [10], [22], [18], [18], [15], [21], [22], [22], [2], [18], [12], [20]], \"hoverlabel\": {\"namelength\": 0}, \"hovertemplate\": \"\\ubc1c\\uc0dd\\uc9c0\\uc2dc\\ub3c4=\\ubd80\\uc0b0<br>\\ubc1c\\uc0dd\\ub144\\uc6d4\\uc77c\\uc2dc=%{x}<br>\\ubc1c\\uc0dd\\uc2dc\\uac04=%{customdata[0]}<br>\\uc0ac\\ub9dd\\uc790\\uc218=%{marker.size}\", \"legendgroup\": \"\\ubc1c\\uc0dd\\uc9c0\\uc2dc\\ub3c4=\\ubd80\\uc0b0\", \"marker\": {\"color\": \"#636efa\", \"size\": [1, 1, 1, 1, 1, 1, 1, 1, 1, 1, 1, 1, 1, 1, 1, 1, 1, 1, 1, 1, 1, 1, 1, 1, 1, 1, 1, 1, 1, 1, 1, 1, 1, 1, 1, 1, 1, 1, 1, 1, 1, 1, 1, 1, 1, 1, 1, 1, 1, 1, 1, 1, 1, 1, 1, 1, 1, 1, 1, 1, 1, 1, 1, 1, 1, 1, 1, 1, 1, 1, 1, 1, 1, 1, 1, 1, 1, 1, 1, 1, 1, 1, 1, 1, 1, 1, 1, 1, 1, 1, 1, 1, 1, 1, 1, 1, 1, 1, 1, 1, 1, 1, 1, 2, 1, 1, 1, 1, 1, 1, 1, 1, 1, 1, 1], \"sizemode\": \"area\", \"sizeref\": 0.015, \"symbol\": \"circle\"}, \"mode\": \"markers\", \"name\": \"\\ubc1c\\uc0dd\\uc9c0\\uc2dc\\ub3c4=\\ubd80\\uc0b0\", \"showlegend\": true, \"type\": \"scattergl\", \"x\": [\"2019-01-01T00:00:00\", \"2019-01-05T00:00:00\", \"2019-01-08T00:00:00\", \"2019-01-16T00:00:00\", \"2019-01-18T00:00:00\", \"2019-01-18T00:00:00\", \"2019-01-24T00:00:00\", \"2019-01-24T00:00:00\", \"2019-01-26T00:00:00\", \"2019-01-29T00:00:00\", \"2019-01-29T00:00:00\", \"2019-02-06T00:00:00\", \"2019-02-14T00:00:00\", \"2019-02-17T00:00:00\", \"2019-02-24T00:00:00\", \"2019-02-26T00:00:00\", \"2019-02-28T00:00:00\", \"2019-03-05T00:00:00\", \"2019-03-07T00:00:00\", \"2019-03-16T00:00:00\", \"2019-03-20T00:00:00\", \"2019-03-21T00:00:00\", \"2019-03-29T00:00:00\", \"2019-04-01T00:00:00\", \"2019-04-03T00:00:00\", \"2019-04-08T00:00:00\", \"2019-04-13T00:00:00\", \"2019-04-14T00:00:00\", \"2019-04-17T00:00:00\", \"2019-04-19T00:00:00\", \"2019-04-26T00:00:00\", \"2019-04-28T00:00:00\", \"2019-05-03T00:00:00\", \"2019-05-04T00:00:00\", \"2019-05-09T00:00:00\", \"2019-05-10T00:00:00\", \"2019-05-12T00:00:00\", \"2019-05-12T00:00:00\", \"2019-05-15T00:00:00\", \"2019-05-18T00:00:00\", \"2019-05-20T00:00:00\", \"2019-05-23T00:00:00\", \"2019-05-23T00:00:00\", \"2019-05-24T00:00:00\", \"2019-05-25T00:00:00\", \"2019-05-27T00:00:00\", \"2019-06-05T00:00:00\", \"2019-06-05T00:00:00\", \"2019-06-11T00:00:00\", \"2019-06-17T00:00:00\", \"2019-06-20T00:00:00\", \"2019-06-20T00:00:00\", \"2019-06-23T00:00:00\", \"2019-06-23T00:00:00\", \"2019-06-27T00:00:00\", \"2019-07-03T00:00:00\", \"2019-07-06T00:00:00\", \"2019-07-07T00:00:00\", \"2019-07-09T00:00:00\", \"2019-07-15T00:00:00\", \"2019-07-16T00:00:00\", \"2019-07-19T00:00:00\", \"2019-07-22T00:00:00\", \"2019-07-26T00:00:00\", \"2019-07-28T00:00:00\", \"2019-07-30T00:00:00\", \"2019-07-30T00:00:00\", \"2019-07-31T00:00:00\", \"2019-08-04T00:00:00\", \"2019-08-04T00:00:00\", \"2019-08-05T00:00:00\", \"2019-08-09T00:00:00\", \"2019-08-10T00:00:00\", \"2019-08-12T00:00:00\", \"2019-08-21T00:00:00\", \"2019-08-25T00:00:00\", \"2019-08-31T00:00:00\", \"2019-09-03T00:00:00\", \"2019-09-04T00:00:00\", \"2019-09-05T00:00:00\", \"2019-09-12T00:00:00\", \"2019-09-15T00:00:00\", \"2019-09-16T00:00:00\", \"2019-09-17T00:00:00\", \"2019-09-20T00:00:00\", \"2019-10-10T00:00:00\", \"2019-10-11T00:00:00\", \"2019-10-19T00:00:00\", \"2019-10-22T00:00:00\", \"2019-10-25T00:00:00\", \"2019-10-25T00:00:00\", \"2019-10-26T00:00:00\", \"2019-10-27T00:00:00\", \"2019-11-05T00:00:00\", \"2019-11-06T00:00:00\", \"2019-11-07T00:00:00\", \"2019-11-09T00:00:00\", \"2019-11-10T00:00:00\", \"2019-11-13T00:00:00\", \"2019-11-16T00:00:00\", \"2019-11-20T00:00:00\", \"2019-11-22T00:00:00\", \"2019-11-25T00:00:00\", \"2019-11-25T00:00:00\", \"2019-11-26T00:00:00\", \"2019-11-27T00:00:00\", \"2019-12-01T00:00:00\", \"2019-12-08T00:00:00\", \"2019-12-10T00:00:00\", \"2019-12-16T00:00:00\", \"2019-12-17T00:00:00\", \"2019-12-18T00:00:00\", \"2019-12-18T00:00:00\", \"2019-12-22T00:00:00\", \"2019-12-30T00:00:00\"], \"xaxis\": \"x\", \"y\": [0, 4, 14, 4, 5, 5, 7, 14, 8, 7, 9, 3, 20, 1, 1, 0, 8, 1, 14, 2, 5, 21, 10, 10, 4, 13, 19, 22, 8, 23, 21, 3, 17, 11, 7, 6, 4, 8, 5, 13, 16, 8, 12, 20, 21, 23, 7, 17, 0, 4, 3, 13, 7, 10, 15, 20, 9, 3, 12, 13, 2, 5, 22, 12, 2, 2, 20, 13, 14, 19, 20, 11, 4, 12, 10, 21, 6, 17, 2, 5, 4, 2, 6, 13, 21, 6, 13, 19, 6, 7, 19, 5, 16, 15, 17, 16, 1, 8, 23, 11, 11, 9, 4, 10, 22, 18, 18, 15, 21, 22, 22, 2, 18, 12, 20], \"yaxis\": \"y\"}, {\"customdata\": [[3], [10], [19], [5], [10], [15], [1], [18], [20], [16], [18], [18], [21], [18], [1], [18], [6], [7], [8], [5], [6], [9], [12], [20], [20], [21], [5], [8], [11], [0], [7], [2], [7], [21], [6], [9], [8], [11], [13], [18], [7], [15], [19], [20], [22], [1], [6], [6], [0], [0], [5], [6], [7], [5], [7], [4], [15], [0], [14], [3], [5], [19], [4], [6], [16], [18], [18], [19], [0], [0], [7], [16], [15], [0], [4], [20], [3], [13], [5], [23], [1], [8], [0], [10], [18], [19], [20], [22], [7], [10], [14], [0], [19], [23], [5], [7], [17], [6], [18], [22], [22], [19], [20], [0], [21], [12], [11], [12], [5], [22], [0], [1], [1], [3], [14], [14], [16], [22], [5], [17], [19], [7], [8], [1], [4], [13], [1], [5], [12], [20], [10], [13], [6], [0], [6], [6], [15], [16], [18], [13], [0], [4], [9], [10], [9], [17], [17], [17], [20], [0], [4], [12], [6], [6], [19], [22], [23], [15], [5], [12], [21], [13], [19], [5], [9], [19], [19], [3], [12], [13], [14], [23], [2], [20], [14], [5], [11], [1], [1], [21], [0], [17], [19], [23], [2], [8], [22], [15], [13], [14], [15], [7], [12], [17], [22], [0], [17], [3], [5], [6], [0], [15], [8], [22], [10], [5], [9], [20], [21], [11], [4], [17], [20], [22], [1], [2], [3], [1], [15], [1], [20], [21], [3], [5], [5], [13], [15], [16], [2], [17], [13], [21], [15], [10], [11], [13], [18], [20], [14], [16], [10], [15], [23], [2], [0], [1], [3], [17], [0], [21], [5], [11], [11], [18], [2], [7], [10], [10], [19], [20], [15], [17], [18], [0], [23], [0], [1], [2], [4], [17], [21], [21], [20], [7], [20], [19], [4], [8], [12], [14], [21], [9], [9], [11], [22], [12], [0], [9], [1], [13], [16], [17], [23], [7], [20], [21], [1], [1], [6], [17], [15], [15], [3], [5], [13], [20], [22], [13], [18], [20], [12], [2], [4], [12], [6], [16], [15], [19], [10], [18], [8], [12], [16], [4], [9], [18], [7], [9], [12], [22], [4], [0], [12], [21], [11], [2], [7], [15], [19], [20], [8], [13], [13], [0], [7], [0], [20], [22], [23], [15], [10], [22], [5], [11], [13], [8], [12], [20], [10], [21], [4], [9], [18], [5], [12], [22], [12], [1], [5], [12], [19], [15], [1], [11], [2], [5], [14], [2], [21], [22], [7], [19], [14], [5], [20], [3], [10], [20], [19], [21], [7], [18], [20], [6], [7], [19], [21], [21], [23], [6], [10], [19], [6], [20], [1], [4], [14], [11], [19], [21], [6], [16], [15], [19], [20], [5], [0], [8], [11], [1], [4], [5], [10], [11], [12], [17], [1], [7], [14], [19], [19], [11], [8], [11], [19], [19], [20], [21], [5], [7], [9], [2], [23], [18], [18], [9], [23], [21], [21], [0], [3], [7], [20], [3], [8], [8], [15], [16], [22], [13], [23], [10], [14], [17], [10], [19], [7], [15], [23], [11], [17], [11], [5], [20], [6], [19], [5], [18], [8], [0], [14], [14], [15], [23], [3], [10], [13], [23], [0], [11], [23], [10], [15], [9], [9], [21], [21], [10], [10], [15], [19], [16], [17], [17], [8], [2], [19], [21], [21], [16], [11], [16], [2], [7], [18], [0], [0], [2], [23], [8], [18], [20], [1], [3], [6], [20], [6], [17], [11], [16], [17], [9], [10], [5], [7], [17], [8], [17], [10], [6], [6], [5], [10], [13], [21], [9], [16], [21], [23], [0], [21], [17], [22], [2], [2], [4], [20], [6], [8], [19], [20], [6], [11], [12], [21], [0], [3], [15], [17], [18], [16], [11], [17], [3], [11], [18], [19], [5], [18], [22], [7], [18], [23], [3], [5], [7], [14], [14], [16], [5], [0], [5], [15], [18], [19], [22], [8], [22], [17], [17], [17], [6], [20], [5], [12], [14], [7], [21]], \"hoverlabel\": {\"namelength\": 0}, \"hovertemplate\": \"\\ubc1c\\uc0dd\\uc9c0\\uc2dc\\ub3c4=\\uacbd\\uae30<br>\\ubc1c\\uc0dd\\ub144\\uc6d4\\uc77c\\uc2dc=%{x}<br>\\ubc1c\\uc0dd\\uc2dc\\uac04=%{customdata[0]}<br>\\uc0ac\\ub9dd\\uc790\\uc218=%{marker.size}\", \"legendgroup\": \"\\ubc1c\\uc0dd\\uc9c0\\uc2dc\\ub3c4=\\uacbd\\uae30\", \"marker\": {\"color\": \"#EF553B\", \"size\": [1, 1, 1, 1, 1, 1, 1, 1, 1, 1, 1, 1, 1, 1, 1, 1, 1, 1, 1, 1, 1, 1, 1, 1, 1, 1, 1, 1, 1, 1, 1, 2, 1, 1, 1, 1, 1, 1, 1, 1, 1, 1, 1, 1, 1, 1, 1, 1, 1, 1, 1, 1, 1, 1, 1, 1, 1, 1, 1, 1, 1, 1, 1, 1, 2, 1, 1, 1, 1, 1, 1, 1, 1, 1, 1, 1, 1, 1, 1, 1, 1, 2, 1, 1, 1, 1, 1, 1, 1, 1, 1, 1, 1, 1, 1, 1, 1, 1, 1, 1, 1, 1, 1, 1, 1, 1, 1, 1, 1, 1, 1, 1, 1, 1, 1, 1, 1, 1, 1, 1, 1, 1, 1, 1, 1, 1, 1, 1, 1, 1, 1, 1, 1, 3, 1, 1, 1, 1, 1, 1, 1, 1, 1, 1, 1, 1, 1, 1, 1, 1, 1, 1, 1, 1, 1, 1, 1, 1, 1, 1, 1, 1, 1, 1, 1, 1, 1, 1, 1, 1, 1, 1, 1, 1, 1, 1, 1, 1, 1, 1, 1, 1, 1, 1, 1, 1, 1, 1, 1, 1, 1, 1, 1, 1, 1, 1, 1, 2, 1, 1, 1, 1, 1, 1, 1, 1, 1, 1, 1, 1, 1, 1, 1, 1, 1, 1, 1, 1, 1, 1, 1, 1, 1, 1, 1, 1, 1, 1, 1, 1, 1, 1, 1, 1, 1, 1, 1, 1, 1, 1, 1, 1, 1, 1, 1, 1, 1, 1, 1, 1, 1, 1, 1, 1, 1, 1, 1, 1, 1, 1, 1, 1, 1, 1, 1, 1, 1, 1, 1, 1, 2, 1, 1, 1, 2, 1, 1, 1, 1, 1, 1, 1, 1, 1, 1, 1, 1, 1, 1, 1, 1, 1, 1, 1, 1, 1, 1, 1, 1, 1, 1, 1, 1, 1, 1, 1, 1, 1, 1, 1, 1, 1, 1, 1, 1, 1, 1, 1, 1, 1, 1, 1, 1, 1, 1, 1, 1, 1, 1, 1, 1, 1, 1, 1, 1, 1, 1, 1, 1, 2, 1, 1, 1, 2, 1, 1, 1, 1, 1, 1, 1, 1, 1, 1, 1, 1, 1, 1, 1, 1, 1, 1, 1, 1, 1, 1, 1, 1, 1, 1, 1, 1, 1, 1, 1, 1, 1, 1, 1, 1, 1, 1, 1, 1, 1, 1, 1, 1, 1, 1, 1, 1, 1, 1, 1, 1, 2, 1, 1, 1, 1, 1, 1, 1, 1, 1, 1, 1, 1, 1, 1, 1, 1, 1, 1, 1, 1, 1, 1, 1, 1, 1, 1, 1, 1, 1, 1, 1, 1, 2, 1, 1, 1, 1, 1, 1, 1, 1, 1, 1, 1, 1, 1, 1, 1, 1, 1, 1, 1, 1, 1, 1, 1, 1, 1, 1, 1, 1, 1, 2, 1, 1, 1, 1, 1, 1, 1, 1, 1, 1, 1, 2, 1, 4, 1, 1, 1, 1, 1, 1, 1, 1, 1, 1, 1, 1, 1, 1, 1, 1, 1, 1, 1, 1, 1, 1, 1, 1, 1, 1, 1, 1, 1, 1, 1, 1, 1, 1, 1, 1, 1, 1, 1, 1, 1, 1, 1, 1, 1, 1, 1, 1, 1, 2, 1, 1, 2, 1, 1, 1, 1, 1, 1, 1, 1, 1, 1, 1, 1, 1, 1, 1, 1, 1, 1, 1, 1, 1, 1, 1, 1, 1, 1, 1, 2, 1, 1, 1, 2, 1, 1, 1, 1, 1, 1, 1, 1, 1, 1, 1, 1, 1, 2, 1, 1, 1, 1, 1, 1, 1, 1, 1, 1, 1, 1, 1, 1, 1, 1, 1, 1, 1, 1, 1, 2, 1, 1, 1, 1, 1, 1, 1, 1, 1, 1, 1, 1, 1], \"sizemode\": \"area\", \"sizeref\": 0.015, \"symbol\": \"circle\"}, \"mode\": \"markers\", \"name\": \"\\ubc1c\\uc0dd\\uc9c0\\uc2dc\\ub3c4=\\uacbd\\uae30\", \"showlegend\": true, \"type\": \"scattergl\", \"x\": [\"2019-01-01T00:00:00\", \"2019-01-02T00:00:00\", \"2019-01-02T00:00:00\", \"2019-01-04T00:00:00\", \"2019-01-04T00:00:00\", \"2019-01-04T00:00:00\", \"2019-01-05T00:00:00\", \"2019-01-07T00:00:00\", \"2019-01-07T00:00:00\", \"2019-01-08T00:00:00\", \"2019-01-08T00:00:00\", \"2019-01-08T00:00:00\", \"2019-01-08T00:00:00\", \"2019-01-09T00:00:00\", \"2019-01-10T00:00:00\", \"2019-01-10T00:00:00\", \"2019-01-11T00:00:00\", \"2019-01-11T00:00:00\", \"2019-01-11T00:00:00\", \"2019-01-12T00:00:00\", \"2019-01-12T00:00:00\", \"2019-01-12T00:00:00\", \"2019-01-12T00:00:00\", \"2019-01-12T00:00:00\", \"2019-01-12T00:00:00\", \"2019-01-12T00:00:00\", \"2019-01-13T00:00:00\", \"2019-01-13T00:00:00\", \"2019-01-13T00:00:00\", \"2019-01-14T00:00:00\", \"2019-01-14T00:00:00\", \"2019-01-15T00:00:00\", \"2019-01-15T00:00:00\", \"2019-01-15T00:00:00\", \"2019-01-16T00:00:00\", \"2019-01-16T00:00:00\", \"2019-01-17T00:00:00\", \"2019-01-17T00:00:00\", \"2019-01-17T00:00:00\", \"2019-01-17T00:00:00\", \"2019-01-18T00:00:00\", \"2019-01-18T00:00:00\", \"2019-01-19T00:00:00\", \"2019-01-19T00:00:00\", \"2019-01-19T00:00:00\", \"2019-01-20T00:00:00\", \"2019-01-20T00:00:00\", \"2019-01-21T00:00:00\", \"2019-01-22T00:00:00\", \"2019-01-22T00:00:00\", \"2019-01-22T00:00:00\", \"2019-01-22T00:00:00\", \"2019-01-22T00:00:00\", \"2019-01-23T00:00:00\", \"2019-01-23T00:00:00\", \"2019-01-24T00:00:00\", \"2019-01-25T00:00:00\", \"2019-01-26T00:00:00\", \"2019-01-26T00:00:00\", \"2019-01-27T00:00:00\", \"2019-01-27T00:00:00\", \"2019-01-28T00:00:00\", \"2019-01-31T00:00:00\", \"2019-01-31T00:00:00\", \"2019-01-31T00:00:00\", \"2019-01-31T00:00:00\", \"2019-01-31T00:00:00\", \"2019-01-31T00:00:00\", \"2019-02-02T00:00:00\", \"2019-02-02T00:00:00\", \"2019-02-02T00:00:00\", \"2019-02-03T00:00:00\", \"2019-02-06T00:00:00\", \"2019-02-07T00:00:00\", \"2019-02-07T00:00:00\", \"2019-02-07T00:00:00\", \"2019-02-08T00:00:00\", \"2019-02-09T00:00:00\", \"2019-02-12T00:00:00\", \"2019-02-12T00:00:00\", \"2019-02-13T00:00:00\", \"2019-02-13T00:00:00\", \"2019-02-14T00:00:00\", \"2019-02-14T00:00:00\", \"2019-02-14T00:00:00\", \"2019-02-14T00:00:00\", \"2019-02-14T00:00:00\", \"2019-02-14T00:00:00\", \"2019-02-15T00:00:00\", \"2019-02-15T00:00:00\", \"2019-02-15T00:00:00\", \"2019-02-16T00:00:00\", \"2019-02-17T00:00:00\", \"2019-02-17T00:00:00\", \"2019-02-18T00:00:00\", \"2019-02-18T00:00:00\", \"2019-02-18T00:00:00\", \"2019-02-19T00:00:00\", \"2019-02-20T00:00:00\", \"2019-02-20T00:00:00\", \"2019-02-20T00:00:00\", \"2019-02-21T00:00:00\", \"2019-02-21T00:00:00\", \"2019-02-22T00:00:00\", \"2019-02-22T00:00:00\", \"2019-02-23T00:00:00\", \"2019-02-25T00:00:00\", \"2019-02-25T00:00:00\", \"2019-02-26T00:00:00\", \"2019-02-26T00:00:00\", \"2019-02-27T00:00:00\", \"2019-02-27T00:00:00\", \"2019-02-28T00:00:00\", \"2019-03-01T00:00:00\", \"2019-03-02T00:00:00\", \"2019-03-03T00:00:00\", \"2019-03-04T00:00:00\", \"2019-03-04T00:00:00\", \"2019-03-07T00:00:00\", \"2019-03-07T00:00:00\", \"2019-03-07T00:00:00\", \"2019-03-08T00:00:00\", \"2019-03-08T00:00:00\", \"2019-03-09T00:00:00\", \"2019-03-09T00:00:00\", \"2019-03-09T00:00:00\", \"2019-03-10T00:00:00\", \"2019-03-10T00:00:00\", \"2019-03-10T00:00:00\", \"2019-03-10T00:00:00\", \"2019-03-11T00:00:00\", \"2019-03-12T00:00:00\", \"2019-03-13T00:00:00\", \"2019-03-14T00:00:00\", \"2019-03-15T00:00:00\", \"2019-03-16T00:00:00\", \"2019-03-16T00:00:00\", \"2019-03-16T00:00:00\", \"2019-03-17T00:00:00\", \"2019-03-18T00:00:00\", \"2019-03-19T00:00:00\", \"2019-03-21T00:00:00\", \"2019-03-21T00:00:00\", \"2019-03-21T00:00:00\", \"2019-03-22T00:00:00\", \"2019-03-22T00:00:00\", \"2019-03-23T00:00:00\", \"2019-03-23T00:00:00\", \"2019-03-26T00:00:00\", \"2019-03-28T00:00:00\", \"2019-03-28T00:00:00\", \"2019-03-28T00:00:00\", \"2019-03-29T00:00:00\", \"2019-03-29T00:00:00\", \"2019-03-29T00:00:00\", \"2019-03-29T00:00:00\", \"2019-03-29T00:00:00\", \"2019-03-30T00:00:00\", \"2019-03-31T00:00:00\", \"2019-03-31T00:00:00\", \"2019-03-31T00:00:00\", \"2019-04-01T00:00:00\", \"2019-04-01T00:00:00\", \"2019-04-02T00:00:00\", \"2019-04-04T00:00:00\", \"2019-04-04T00:00:00\", \"2019-04-04T00:00:00\", \"2019-04-05T00:00:00\", \"2019-04-05T00:00:00\", \"2019-04-05T00:00:00\", \"2019-04-05T00:00:00\", \"2019-04-05T00:00:00\", \"2019-04-06T00:00:00\", \"2019-04-06T00:00:00\", \"2019-04-07T00:00:00\", \"2019-04-08T00:00:00\", \"2019-04-08T00:00:00\", \"2019-04-09T00:00:00\", \"2019-04-09T00:00:00\", \"2019-04-09T00:00:00\", \"2019-04-10T00:00:00\", \"2019-04-10T00:00:00\", \"2019-04-11T00:00:00\", \"2019-04-11T00:00:00\", \"2019-04-12T00:00:00\", \"2019-04-12T00:00:00\", \"2019-04-12T00:00:00\", \"2019-04-13T00:00:00\", \"2019-04-14T00:00:00\", \"2019-04-14T00:00:00\", \"2019-04-15T00:00:00\", \"2019-04-16T00:00:00\", \"2019-04-16T00:00:00\", \"2019-04-16T00:00:00\", \"2019-04-16T00:00:00\", \"2019-04-18T00:00:00\", \"2019-04-18T00:00:00\", \"2019-04-19T00:00:00\", \"2019-04-19T00:00:00\", \"2019-04-19T00:00:00\", \"2019-04-20T00:00:00\", \"2019-04-20T00:00:00\", \"2019-04-22T00:00:00\", \"2019-04-22T00:00:00\", \"2019-04-23T00:00:00\", \"2019-04-25T00:00:00\", \"2019-04-26T00:00:00\", \"2019-04-26T00:00:00\", \"2019-04-26T00:00:00\", \"2019-04-29T00:00:00\", \"2019-04-30T00:00:00\", \"2019-04-30T00:00:00\", \"2019-05-01T00:00:00\", \"2019-05-01T00:00:00\", \"2019-05-02T00:00:00\", \"2019-05-03T00:00:00\", \"2019-05-03T00:00:00\", \"2019-05-04T00:00:00\", \"2019-05-04T00:00:00\", \"2019-05-05T00:00:00\", \"2019-05-05T00:00:00\", \"2019-05-05T00:00:00\", \"2019-05-06T00:00:00\", \"2019-05-06T00:00:00\", \"2019-05-07T00:00:00\", \"2019-05-07T00:00:00\", \"2019-05-07T00:00:00\", \"2019-05-07T00:00:00\", \"2019-05-08T00:00:00\", \"2019-05-08T00:00:00\", \"2019-05-09T00:00:00\", \"2019-05-09T00:00:00\", \"2019-05-10T00:00:00\", \"2019-05-13T00:00:00\", \"2019-05-13T00:00:00\", \"2019-05-13T00:00:00\", \"2019-05-13T00:00:00\", \"2019-05-13T00:00:00\", \"2019-05-14T00:00:00\", \"2019-05-14T00:00:00\", \"2019-05-15T00:00:00\", \"2019-05-15T00:00:00\", \"2019-05-15T00:00:00\", \"2019-05-16T00:00:00\", \"2019-05-17T00:00:00\", \"2019-05-18T00:00:00\", \"2019-05-18T00:00:00\", \"2019-05-18T00:00:00\", \"2019-05-19T00:00:00\", \"2019-05-19T00:00:00\", \"2019-05-20T00:00:00\", \"2019-05-20T00:00:00\", \"2019-05-20T00:00:00\", \"2019-05-20T00:00:00\", \"2019-05-21T00:00:00\", \"2019-05-22T00:00:00\", \"2019-05-22T00:00:00\", \"2019-05-23T00:00:00\", \"2019-05-23T00:00:00\", \"2019-05-23T00:00:00\", \"2019-05-24T00:00:00\", \"2019-05-24T00:00:00\", \"2019-05-24T00:00:00\", \"2019-05-25T00:00:00\", \"2019-05-25T00:00:00\", \"2019-05-26T00:00:00\", \"2019-05-26T00:00:00\", \"2019-05-26T00:00:00\", \"2019-05-27T00:00:00\", \"2019-05-28T00:00:00\", \"2019-05-30T00:00:00\", \"2019-06-02T00:00:00\", \"2019-06-04T00:00:00\", \"2019-06-05T00:00:00\", \"2019-06-05T00:00:00\", \"2019-06-06T00:00:00\", \"2019-06-07T00:00:00\", \"2019-06-07T00:00:00\", \"2019-06-07T00:00:00\", \"2019-06-08T00:00:00\", \"2019-06-08T00:00:00\", \"2019-06-09T00:00:00\", \"2019-06-09T00:00:00\", \"2019-06-09T00:00:00\", \"2019-06-10T00:00:00\", \"2019-06-12T00:00:00\", \"2019-06-13T00:00:00\", \"2019-06-13T00:00:00\", \"2019-06-14T00:00:00\", \"2019-06-15T00:00:00\", \"2019-06-15T00:00:00\", \"2019-06-16T00:00:00\", \"2019-06-16T00:00:00\", \"2019-06-17T00:00:00\", \"2019-06-17T00:00:00\", \"2019-06-17T00:00:00\", \"2019-06-18T00:00:00\", \"2019-06-18T00:00:00\", \"2019-06-18T00:00:00\", \"2019-06-19T00:00:00\", \"2019-06-20T00:00:00\", \"2019-06-21T00:00:00\", \"2019-06-22T00:00:00\", \"2019-06-22T00:00:00\", \"2019-06-22T00:00:00\", \"2019-06-22T00:00:00\", \"2019-06-22T00:00:00\", \"2019-06-24T00:00:00\", \"2019-06-26T00:00:00\", \"2019-06-27T00:00:00\", \"2019-06-28T00:00:00\", \"2019-06-29T00:00:00\", \"2019-06-29T00:00:00\", \"2019-06-29T00:00:00\", \"2019-06-30T00:00:00\", \"2019-07-01T00:00:00\", \"2019-07-02T00:00:00\", \"2019-07-02T00:00:00\", \"2019-07-03T00:00:00\", \"2019-07-05T00:00:00\", \"2019-07-06T00:00:00\", \"2019-07-06T00:00:00\", \"2019-07-06T00:00:00\", \"2019-07-07T00:00:00\", \"2019-07-07T00:00:00\", \"2019-07-08T00:00:00\", \"2019-07-10T00:00:00\", \"2019-07-10T00:00:00\", \"2019-07-12T00:00:00\", \"2019-07-12T00:00:00\", \"2019-07-15T00:00:00\", \"2019-07-17T00:00:00\", \"2019-07-17T00:00:00\", \"2019-07-17T00:00:00\", \"2019-07-18T00:00:00\", \"2019-07-21T00:00:00\", \"2019-07-22T00:00:00\", \"2019-07-22T00:00:00\", \"2019-07-22T00:00:00\", \"2019-07-22T00:00:00\", \"2019-07-23T00:00:00\", \"2019-07-24T00:00:00\", \"2019-07-24T00:00:00\", \"2019-07-25T00:00:00\", \"2019-07-25T00:00:00\", \"2019-07-26T00:00:00\", \"2019-07-29T00:00:00\", \"2019-07-29T00:00:00\", \"2019-07-29T00:00:00\", \"2019-07-30T00:00:00\", \"2019-07-31T00:00:00\", \"2019-08-02T00:00:00\", \"2019-08-03T00:00:00\", \"2019-08-03T00:00:00\", \"2019-08-03T00:00:00\", \"2019-08-04T00:00:00\", \"2019-08-05T00:00:00\", \"2019-08-05T00:00:00\", \"2019-08-06T00:00:00\", \"2019-08-09T00:00:00\", \"2019-08-10T00:00:00\", \"2019-08-10T00:00:00\", \"2019-08-10T00:00:00\", \"2019-08-11T00:00:00\", \"2019-08-12T00:00:00\", \"2019-08-12T00:00:00\", \"2019-08-14T00:00:00\", \"2019-08-15T00:00:00\", \"2019-08-15T00:00:00\", \"2019-08-15T00:00:00\", \"2019-08-18T00:00:00\", \"2019-08-19T00:00:00\", \"2019-08-20T00:00:00\", \"2019-08-20T00:00:00\", \"2019-08-21T00:00:00\", \"2019-08-21T00:00:00\", \"2019-08-22T00:00:00\", \"2019-08-23T00:00:00\", \"2019-08-23T00:00:00\", \"2019-08-24T00:00:00\", \"2019-08-26T00:00:00\", \"2019-08-26T00:00:00\", \"2019-08-27T00:00:00\", \"2019-08-29T00:00:00\", \"2019-08-29T00:00:00\", \"2019-08-30T00:00:00\", \"2019-08-30T00:00:00\", \"2019-08-31T00:00:00\", \"2019-09-02T00:00:00\", \"2019-09-02T00:00:00\", \"2019-09-03T00:00:00\", \"2019-09-03T00:00:00\", \"2019-09-04T00:00:00\", \"2019-09-05T00:00:00\", \"2019-09-07T00:00:00\", \"2019-09-07T00:00:00\", \"2019-09-07T00:00:00\", \"2019-09-07T00:00:00\", \"2019-09-08T00:00:00\", \"2019-09-09T00:00:00\", \"2019-09-10T00:00:00\", \"2019-09-10T00:00:00\", \"2019-09-11T00:00:00\", \"2019-09-11T00:00:00\", \"2019-09-13T00:00:00\", \"2019-09-14T00:00:00\", \"2019-09-14T00:00:00\", \"2019-09-15T00:00:00\", \"2019-09-15T00:00:00\", \"2019-09-16T00:00:00\", \"2019-09-18T00:00:00\", \"2019-09-18T00:00:00\", \"2019-09-19T00:00:00\", \"2019-09-19T00:00:00\", \"2019-09-19T00:00:00\", \"2019-09-20T00:00:00\", \"2019-09-21T00:00:00\", \"2019-09-21T00:00:00\", \"2019-09-21T00:00:00\", \"2019-09-22T00:00:00\", \"2019-09-23T00:00:00\", \"2019-09-23T00:00:00\", \"2019-09-23T00:00:00\", \"2019-09-23T00:00:00\", \"2019-09-23T00:00:00\", \"2019-09-24T00:00:00\", \"2019-09-25T00:00:00\", \"2019-09-25T00:00:00\", \"2019-09-25T00:00:00\", \"2019-09-26T00:00:00\", \"2019-09-26T00:00:00\", \"2019-09-27T00:00:00\", \"2019-09-28T00:00:00\", \"2019-09-28T00:00:00\", \"2019-09-29T00:00:00\", \"2019-09-29T00:00:00\", \"2019-09-29T00:00:00\", \"2019-09-29T00:00:00\", \"2019-09-30T00:00:00\", \"2019-09-30T00:00:00\", \"2019-09-30T00:00:00\", \"2019-10-02T00:00:00\", \"2019-10-03T00:00:00\", \"2019-10-04T00:00:00\", \"2019-10-04T00:00:00\", \"2019-10-05T00:00:00\", \"2019-10-05T00:00:00\", \"2019-10-06T00:00:00\", \"2019-10-06T00:00:00\", \"2019-10-09T00:00:00\", \"2019-10-09T00:00:00\", \"2019-10-10T00:00:00\", \"2019-10-10T00:00:00\", \"2019-10-11T00:00:00\", \"2019-10-11T00:00:00\", \"2019-10-11T00:00:00\", \"2019-10-11T00:00:00\", \"2019-10-11T00:00:00\", \"2019-10-11T00:00:00\", \"2019-10-12T00:00:00\", \"2019-10-12T00:00:00\", \"2019-10-14T00:00:00\", \"2019-10-14T00:00:00\", \"2019-10-15T00:00:00\", \"2019-10-16T00:00:00\", \"2019-10-16T00:00:00\", \"2019-10-17T00:00:00\", \"2019-10-17T00:00:00\", \"2019-10-18T00:00:00\", \"2019-10-19T00:00:00\", \"2019-10-19T00:00:00\", \"2019-10-20T00:00:00\", \"2019-10-21T00:00:00\", \"2019-10-21T00:00:00\", \"2019-10-22T00:00:00\", \"2019-10-22T00:00:00\", \"2019-10-23T00:00:00\", \"2019-10-23T00:00:00\", \"2019-10-24T00:00:00\", \"2019-10-25T00:00:00\", \"2019-10-25T00:00:00\", \"2019-10-25T00:00:00\", \"2019-10-25T00:00:00\", \"2019-10-26T00:00:00\", \"2019-10-27T00:00:00\", \"2019-10-27T00:00:00\", \"2019-10-28T00:00:00\", \"2019-10-28T00:00:00\", \"2019-10-29T00:00:00\", \"2019-10-29T00:00:00\", \"2019-10-29T00:00:00\", \"2019-10-30T00:00:00\", \"2019-10-30T00:00:00\", \"2019-10-31T00:00:00\", \"2019-10-31T00:00:00\", \"2019-10-31T00:00:00\", \"2019-10-31T00:00:00\", \"2019-11-01T00:00:00\", \"2019-11-02T00:00:00\", \"2019-11-02T00:00:00\", \"2019-11-02T00:00:00\", \"2019-11-04T00:00:00\", \"2019-11-04T00:00:00\", \"2019-11-04T00:00:00\", \"2019-11-05T00:00:00\", \"2019-11-08T00:00:00\", \"2019-11-08T00:00:00\", \"2019-11-08T00:00:00\", \"2019-11-08T00:00:00\", \"2019-11-09T00:00:00\", \"2019-11-10T00:00:00\", \"2019-11-10T00:00:00\", \"2019-11-11T00:00:00\", \"2019-11-12T00:00:00\", \"2019-11-13T00:00:00\", \"2019-11-14T00:00:00\", \"2019-11-14T00:00:00\", \"2019-11-14T00:00:00\", \"2019-11-14T00:00:00\", \"2019-11-15T00:00:00\", \"2019-11-15T00:00:00\", \"2019-11-15T00:00:00\", \"2019-11-17T00:00:00\", \"2019-11-17T00:00:00\", \"2019-11-17T00:00:00\", \"2019-11-19T00:00:00\", \"2019-11-21T00:00:00\", \"2019-11-21T00:00:00\", \"2019-11-22T00:00:00\", \"2019-11-22T00:00:00\", \"2019-11-22T00:00:00\", \"2019-11-23T00:00:00\", \"2019-11-23T00:00:00\", \"2019-11-24T00:00:00\", \"2019-11-25T00:00:00\", \"2019-11-25T00:00:00\", \"2019-11-26T00:00:00\", \"2019-11-26T00:00:00\", \"2019-11-27T00:00:00\", \"2019-11-28T00:00:00\", \"2019-11-28T00:00:00\", \"2019-11-29T00:00:00\", \"2019-11-29T00:00:00\", \"2019-11-29T00:00:00\", \"2019-11-29T00:00:00\", \"2019-11-30T00:00:00\", \"2019-11-30T00:00:00\", \"2019-11-30T00:00:00\", \"2019-11-30T00:00:00\", \"2019-12-01T00:00:00\", \"2019-12-01T00:00:00\", \"2019-12-02T00:00:00\", \"2019-12-02T00:00:00\", \"2019-12-03T00:00:00\", \"2019-12-03T00:00:00\", \"2019-12-03T00:00:00\", \"2019-12-03T00:00:00\", \"2019-12-04T00:00:00\", \"2019-12-04T00:00:00\", \"2019-12-04T00:00:00\", \"2019-12-04T00:00:00\", \"2019-12-05T00:00:00\", \"2019-12-05T00:00:00\", \"2019-12-05T00:00:00\", \"2019-12-05T00:00:00\", \"2019-12-06T00:00:00\", \"2019-12-08T00:00:00\", \"2019-12-10T00:00:00\", \"2019-12-10T00:00:00\", \"2019-12-10T00:00:00\", \"2019-12-11T00:00:00\", \"2019-12-12T00:00:00\", \"2019-12-12T00:00:00\", \"2019-12-13T00:00:00\", \"2019-12-14T00:00:00\", \"2019-12-14T00:00:00\", \"2019-12-14T00:00:00\", \"2019-12-15T00:00:00\", \"2019-12-15T00:00:00\", \"2019-12-15T00:00:00\", \"2019-12-16T00:00:00\", \"2019-12-16T00:00:00\", \"2019-12-16T00:00:00\", \"2019-12-17T00:00:00\", \"2019-12-17T00:00:00\", \"2019-12-17T00:00:00\", \"2019-12-18T00:00:00\", \"2019-12-18T00:00:00\", \"2019-12-18T00:00:00\", \"2019-12-19T00:00:00\", \"2019-12-21T00:00:00\", \"2019-12-21T00:00:00\", \"2019-12-21T00:00:00\", \"2019-12-21T00:00:00\", \"2019-12-21T00:00:00\", \"2019-12-21T00:00:00\", \"2019-12-22T00:00:00\", \"2019-12-23T00:00:00\", \"2019-12-25T00:00:00\", \"2019-12-26T00:00:00\", \"2019-12-26T00:00:00\", \"2019-12-27T00:00:00\", \"2019-12-27T00:00:00\", \"2019-12-28T00:00:00\", \"2019-12-28T00:00:00\", \"2019-12-28T00:00:00\", \"2019-12-30T00:00:00\", \"2019-12-30T00:00:00\"], \"xaxis\": \"x\", \"y\": [3, 10, 19, 5, 10, 15, 1, 18, 20, 16, 18, 18, 21, 18, 1, 18, 6, 7, 8, 5, 6, 9, 12, 20, 20, 21, 5, 8, 11, 0, 7, 2, 7, 21, 6, 9, 8, 11, 13, 18, 7, 15, 19, 20, 22, 1, 6, 6, 0, 0, 5, 6, 7, 5, 7, 4, 15, 0, 14, 3, 5, 19, 4, 6, 16, 18, 18, 19, 0, 0, 7, 16, 15, 0, 4, 20, 3, 13, 5, 23, 1, 8, 0, 10, 18, 19, 20, 22, 7, 10, 14, 0, 19, 23, 5, 7, 17, 6, 18, 22, 22, 19, 20, 0, 21, 12, 11, 12, 5, 22, 0, 1, 1, 3, 14, 14, 16, 22, 5, 17, 19, 7, 8, 1, 4, 13, 1, 5, 12, 20, 10, 13, 6, 0, 6, 6, 15, 16, 18, 13, 0, 4, 9, 10, 9, 17, 17, 17, 20, 0, 4, 12, 6, 6, 19, 22, 23, 15, 5, 12, 21, 13, 19, 5, 9, 19, 19, 3, 12, 13, 14, 23, 2, 20, 14, 5, 11, 1, 1, 21, 0, 17, 19, 23, 2, 8, 22, 15, 13, 14, 15, 7, 12, 17, 22, 0, 17, 3, 5, 6, 0, 15, 8, 22, 10, 5, 9, 20, 21, 11, 4, 17, 20, 22, 1, 2, 3, 1, 15, 1, 20, 21, 3, 5, 5, 13, 15, 16, 2, 17, 13, 21, 15, 10, 11, 13, 18, 20, 14, 16, 10, 15, 23, 2, 0, 1, 3, 17, 0, 21, 5, 11, 11, 18, 2, 7, 10, 10, 19, 20, 15, 17, 18, 0, 23, 0, 1, 2, 4, 17, 21, 21, 20, 7, 20, 19, 4, 8, 12, 14, 21, 9, 9, 11, 22, 12, 0, 9, 1, 13, 16, 17, 23, 7, 20, 21, 1, 1, 6, 17, 15, 15, 3, 5, 13, 20, 22, 13, 18, 20, 12, 2, 4, 12, 6, 16, 15, 19, 10, 18, 8, 12, 16, 4, 9, 18, 7, 9, 12, 22, 4, 0, 12, 21, 11, 2, 7, 15, 19, 20, 8, 13, 13, 0, 7, 0, 20, 22, 23, 15, 10, 22, 5, 11, 13, 8, 12, 20, 10, 21, 4, 9, 18, 5, 12, 22, 12, 1, 5, 12, 19, 15, 1, 11, 2, 5, 14, 2, 21, 22, 7, 19, 14, 5, 20, 3, 10, 20, 19, 21, 7, 18, 20, 6, 7, 19, 21, 21, 23, 6, 10, 19, 6, 20, 1, 4, 14, 11, 19, 21, 6, 16, 15, 19, 20, 5, 0, 8, 11, 1, 4, 5, 10, 11, 12, 17, 1, 7, 14, 19, 19, 11, 8, 11, 19, 19, 20, 21, 5, 7, 9, 2, 23, 18, 18, 9, 23, 21, 21, 0, 3, 7, 20, 3, 8, 8, 15, 16, 22, 13, 23, 10, 14, 17, 10, 19, 7, 15, 23, 11, 17, 11, 5, 20, 6, 19, 5, 18, 8, 0, 14, 14, 15, 23, 3, 10, 13, 23, 0, 11, 23, 10, 15, 9, 9, 21, 21, 10, 10, 15, 19, 16, 17, 17, 8, 2, 19, 21, 21, 16, 11, 16, 2, 7, 18, 0, 0, 2, 23, 8, 18, 20, 1, 3, 6, 20, 6, 17, 11, 16, 17, 9, 10, 5, 7, 17, 8, 17, 10, 6, 6, 5, 10, 13, 21, 9, 16, 21, 23, 0, 21, 17, 22, 2, 2, 4, 20, 6, 8, 19, 20, 6, 11, 12, 21, 0, 3, 15, 17, 18, 16, 11, 17, 3, 11, 18, 19, 5, 18, 22, 7, 18, 23, 3, 5, 7, 14, 14, 16, 5, 0, 5, 15, 18, 19, 22, 8, 22, 17, 17, 17, 6, 20, 5, 12, 14, 7, 21], \"yaxis\": \"y\"}, {\"customdata\": [[16], [21], [8], [5], [12], [14], [20], [5], [22], [11], [4], [5], [17], [19], [6], [6], [8], [23], [9], [2], [18], [11], [13], [14], [19], [13], [15], [21], [23], [9], [14], [5], [7], [7], [7], [14], [2], [16], [19], [21], [1], [6], [15], [20], [1], [9], [16], [19], [10], [18], [19], [6], [17], [1], [13], [16], [10], [18], [11], [11], [1], [14], [19], [18], [19], [19], [9], [19], [23], [15], [20], [12], [17], [3], [5], [11], [14], [19], [9], [19], [19], [10], [16], [10], [18], [22], [11], [22], [12], [12], [17], [17], [6], [11], [5], [10], [13], [2], [17], [14], [18], [11], [15], [19], [5], [11], [16], [8], [10], [22], [12], [0], [18], [11], [12], [16], [9], [7], [17], [10], [11], [7], [12], [11], [11], [10], [20], [14], [6], [3], [20], [13], [19], [19], [2], [10], [17], [11], [11], [17], [20], [9], [11], [13], [17], [4], [14], [9], [14], [17], [4], [21], [18], [6], [13], [16], [21], [21], [0], [13], [19], [8], [15], [14], [12], [18], [2], [5], [10], [5], [8], [15], [16], [16], [0], [17], [21], [21], [10], [10], [5], [11], [12], [16], [9], [15], [21], [19], [8], [15], [16], [8], [8], [14], [19], [11], [13], [18], [8], [17], [19], [21], [17], [17], [5], [11], [15], [19], [21], [18], [15], [18], [23], [15], [0], [9], [12], [13], [14], [23], [12], [14], [14], [4], [12], [8], [9], [22], [1], [17], [20], [1], [23], [1], [11], [13], [7], [22], [17], [2], [17], [8], [19], [12], [13], [9], [12], [13], [17], [1], [18], [5], [18], [18], [5], [20], [19], [20], [0], [6], [20], [15], [11], [15], [21], [12], [0], [23], [12], [9], [8], [9], [10], [17], [19], [9], [17], [20], [12], [14], [19], [23], [10], [14], [3], [17], [21], [7], [15], [18], [7], [8], [15], [21], [17], [20], [18], [10], [22], [4], [17], [17], [14], [19], [22], [17], [18], [8], [15], [18], [17], [0], [12], [20], [15], [9], [12], [12], [15], [17], [4], [4], [4], [9], [22], [18], [23], [17], [11], [18], [22], [18], [10], [9], [13], [8], [9], [22], [6], [12]], \"hoverlabel\": {\"namelength\": 0}, \"hovertemplate\": \"\\ubc1c\\uc0dd\\uc9c0\\uc2dc\\ub3c4=\\uacbd\\ubd81<br>\\ubc1c\\uc0dd\\ub144\\uc6d4\\uc77c\\uc2dc=%{x}<br>\\ubc1c\\uc0dd\\uc2dc\\uac04=%{customdata[0]}<br>\\uc0ac\\ub9dd\\uc790\\uc218=%{marker.size}\", \"legendgroup\": \"\\ubc1c\\uc0dd\\uc9c0\\uc2dc\\ub3c4=\\uacbd\\ubd81\", \"marker\": {\"color\": \"#00cc96\", \"size\": [1, 1, 1, 1, 1, 1, 1, 1, 1, 1, 1, 2, 1, 1, 1, 1, 1, 1, 1, 1, 1, 1, 1, 1, 1, 1, 1, 1, 1, 1, 1, 1, 1, 1, 1, 1, 1, 1, 1, 1, 1, 1, 1, 1, 1, 1, 1, 1, 1, 1, 1, 1, 1, 1, 1, 1, 1, 1, 1, 1, 1, 1, 1, 1, 1, 1, 1, 1, 2, 1, 1, 1, 1, 1, 1, 1, 1, 1, 1, 1, 1, 1, 1, 1, 1, 1, 1, 1, 1, 1, 1, 1, 1, 1, 1, 1, 1, 1, 1, 1, 1, 1, 2, 1, 1, 1, 1, 1, 1, 1, 1, 1, 1, 1, 1, 1, 1, 1, 1, 1, 1, 1, 1, 1, 1, 1, 1, 1, 1, 1, 1, 1, 1, 1, 1, 1, 1, 1, 1, 1, 1, 1, 1, 1, 1, 1, 1, 1, 1, 1, 1, 1, 1, 1, 1, 1, 1, 2, 1, 1, 1, 1, 1, 1, 1, 1, 1, 1, 1, 1, 1, 1, 1, 1, 1, 1, 1, 1, 1, 1, 1, 1, 1, 1, 1, 1, 1, 1, 1, 1, 1, 1, 1, 1, 1, 1, 1, 1, 1, 1, 1, 1, 1, 1, 1, 1, 1, 1, 1, 1, 1, 1, 1, 1, 1, 1, 1, 1, 1, 1, 1, 1, 1, 1, 1, 1, 1, 1, 1, 1, 1, 1, 1, 1, 1, 1, 1, 1, 1, 1, 1, 1, 1, 1, 1, 1, 1, 1, 1, 1, 1, 1, 1, 1, 2, 1, 1, 1, 1, 1, 1, 1, 3, 1, 1, 1, 1, 1, 2, 1, 1, 1, 1, 1, 1, 1, 1, 1, 1, 1, 1, 1, 1, 1, 1, 1, 1, 1, 1, 1, 1, 1, 1, 1, 1, 1, 1, 1, 1, 1, 1, 1, 1, 1, 1, 1, 1, 1, 1, 1, 1, 1, 1, 1, 1, 1, 1, 1, 2, 1, 1, 6, 1, 1, 1, 1, 1, 1, 1, 1, 1, 1, 1, 1, 1, 1, 1, 1, 1, 1], \"sizemode\": \"area\", \"sizeref\": 0.015, \"symbol\": \"circle\"}, \"mode\": \"markers\", \"name\": \"\\ubc1c\\uc0dd\\uc9c0\\uc2dc\\ub3c4=\\uacbd\\ubd81\", \"showlegend\": true, \"type\": \"scattergl\", \"x\": [\"2019-01-01T00:00:00\", \"2019-01-01T00:00:00\", \"2019-01-04T00:00:00\", \"2019-01-10T00:00:00\", \"2019-01-10T00:00:00\", \"2019-01-10T00:00:00\", \"2019-01-10T00:00:00\", \"2019-01-11T00:00:00\", \"2019-01-11T00:00:00\", \"2019-01-12T00:00:00\", \"2019-01-14T00:00:00\", \"2019-01-14T00:00:00\", \"2019-01-14T00:00:00\", \"2019-01-18T00:00:00\", \"2019-01-19T00:00:00\", \"2019-01-20T00:00:00\", \"2019-01-22T00:00:00\", \"2019-01-23T00:00:00\", \"2019-01-24T00:00:00\", \"2019-01-25T00:00:00\", \"2019-01-25T00:00:00\", \"2019-01-26T00:00:00\", \"2019-01-28T00:00:00\", \"2019-01-28T00:00:00\", \"2019-01-28T00:00:00\", \"2019-01-30T00:00:00\", \"2019-01-30T00:00:00\", \"2019-01-30T00:00:00\", \"2019-01-31T00:00:00\", \"2019-02-01T00:00:00\", \"2019-02-01T00:00:00\", \"2019-02-03T00:00:00\", \"2019-02-06T00:00:00\", \"2019-02-06T00:00:00\", \"2019-02-07T00:00:00\", \"2019-02-08T00:00:00\", \"2019-02-09T00:00:00\", \"2019-02-11T00:00:00\", \"2019-02-13T00:00:00\", \"2019-02-13T00:00:00\", \"2019-02-14T00:00:00\", \"2019-02-15T00:00:00\", \"2019-02-16T00:00:00\", \"2019-02-17T00:00:00\", \"2019-02-18T00:00:00\", \"2019-02-21T00:00:00\", \"2019-02-21T00:00:00\", \"2019-02-21T00:00:00\", \"2019-02-22T00:00:00\", \"2019-02-25T00:00:00\", \"2019-02-25T00:00:00\", \"2019-02-26T00:00:00\", \"2019-02-26T00:00:00\", \"2019-02-27T00:00:00\", \"2019-02-27T00:00:00\", \"2019-03-01T00:00:00\", \"2019-03-03T00:00:00\", \"2019-03-04T00:00:00\", \"2019-03-05T00:00:00\", \"2019-03-05T00:00:00\", \"2019-03-06T00:00:00\", \"2019-03-06T00:00:00\", \"2019-03-06T00:00:00\", \"2019-03-07T00:00:00\", \"2019-03-08T00:00:00\", \"2019-03-08T00:00:00\", \"2019-03-09T00:00:00\", \"2019-03-12T00:00:00\", \"2019-03-12T00:00:00\", \"2019-03-14T00:00:00\", \"2019-03-15T00:00:00\", \"2019-03-16T00:00:00\", \"2019-03-16T00:00:00\", \"2019-03-18T00:00:00\", \"2019-03-20T00:00:00\", \"2019-03-22T00:00:00\", \"2019-03-22T00:00:00\", \"2019-03-22T00:00:00\", \"2019-03-26T00:00:00\", \"2019-03-26T00:00:00\", \"2019-03-26T00:00:00\", \"2019-03-29T00:00:00\", \"2019-03-29T00:00:00\", \"2019-03-30T00:00:00\", \"2019-04-01T00:00:00\", \"2019-04-01T00:00:00\", \"2019-04-02T00:00:00\", \"2019-04-02T00:00:00\", \"2019-04-03T00:00:00\", \"2019-04-04T00:00:00\", \"2019-04-04T00:00:00\", \"2019-04-06T00:00:00\", \"2019-04-08T00:00:00\", \"2019-04-08T00:00:00\", \"2019-04-09T00:00:00\", \"2019-04-09T00:00:00\", \"2019-04-09T00:00:00\", \"2019-04-11T00:00:00\", \"2019-04-11T00:00:00\", \"2019-04-13T00:00:00\", \"2019-04-15T00:00:00\", \"2019-04-16T00:00:00\", \"2019-04-16T00:00:00\", \"2019-04-16T00:00:00\", \"2019-04-19T00:00:00\", \"2019-04-19T00:00:00\", \"2019-04-19T00:00:00\", \"2019-04-20T00:00:00\", \"2019-04-25T00:00:00\", \"2019-04-25T00:00:00\", \"2019-04-27T00:00:00\", \"2019-04-28T00:00:00\", \"2019-04-28T00:00:00\", \"2019-04-29T00:00:00\", \"2019-05-01T00:00:00\", \"2019-05-01T00:00:00\", \"2019-05-02T00:00:00\", \"2019-05-03T00:00:00\", \"2019-05-03T00:00:00\", \"2019-05-04T00:00:00\", \"2019-05-04T00:00:00\", \"2019-05-05T00:00:00\", \"2019-05-05T00:00:00\", \"2019-05-06T00:00:00\", \"2019-05-07T00:00:00\", \"2019-05-08T00:00:00\", \"2019-05-11T00:00:00\", \"2019-05-12T00:00:00\", \"2019-05-15T00:00:00\", \"2019-05-16T00:00:00\", \"2019-05-16T00:00:00\", \"2019-05-17T00:00:00\", \"2019-05-17T00:00:00\", \"2019-05-19T00:00:00\", \"2019-05-22T00:00:00\", \"2019-05-22T00:00:00\", \"2019-05-24T00:00:00\", \"2019-05-25T00:00:00\", \"2019-05-26T00:00:00\", \"2019-05-27T00:00:00\", \"2019-05-27T00:00:00\", \"2019-05-29T00:00:00\", \"2019-05-29T00:00:00\", \"2019-06-01T00:00:00\", \"2019-06-02T00:00:00\", \"2019-06-04T00:00:00\", \"2019-06-04T00:00:00\", \"2019-06-05T00:00:00\", \"2019-06-06T00:00:00\", \"2019-06-06T00:00:00\", \"2019-06-07T00:00:00\", \"2019-06-07T00:00:00\", \"2019-06-08T00:00:00\", \"2019-06-09T00:00:00\", \"2019-06-12T00:00:00\", \"2019-06-12T00:00:00\", \"2019-06-13T00:00:00\", \"2019-06-14T00:00:00\", \"2019-06-15T00:00:00\", \"2019-06-15T00:00:00\", \"2019-06-15T00:00:00\", \"2019-06-18T00:00:00\", \"2019-06-19T00:00:00\", \"2019-06-20T00:00:00\", \"2019-06-21T00:00:00\", \"2019-06-23T00:00:00\", \"2019-06-24T00:00:00\", \"2019-06-25T00:00:00\", \"2019-06-26T00:00:00\", \"2019-06-27T00:00:00\", \"2019-06-27T00:00:00\", \"2019-06-27T00:00:00\", \"2019-06-27T00:00:00\", \"2019-06-30T00:00:00\", \"2019-07-01T00:00:00\", \"2019-07-01T00:00:00\", \"2019-07-03T00:00:00\", \"2019-07-05T00:00:00\", \"2019-07-06T00:00:00\", \"2019-07-11T00:00:00\", \"2019-07-16T00:00:00\", \"2019-07-16T00:00:00\", \"2019-07-16T00:00:00\", \"2019-07-18T00:00:00\", \"2019-07-19T00:00:00\", \"2019-07-19T00:00:00\", \"2019-07-19T00:00:00\", \"2019-07-22T00:00:00\", \"2019-07-24T00:00:00\", \"2019-07-24T00:00:00\", \"2019-07-24T00:00:00\", \"2019-07-27T00:00:00\", \"2019-07-29T00:00:00\", \"2019-07-29T00:00:00\", \"2019-07-29T00:00:00\", \"2019-07-30T00:00:00\", \"2019-07-30T00:00:00\", \"2019-07-31T00:00:00\", \"2019-08-03T00:00:00\", \"2019-08-03T00:00:00\", \"2019-08-07T00:00:00\", \"2019-08-07T00:00:00\", \"2019-08-09T00:00:00\", \"2019-08-09T00:00:00\", \"2019-08-12T00:00:00\", \"2019-08-12T00:00:00\", \"2019-08-13T00:00:00\", \"2019-08-13T00:00:00\", \"2019-08-13T00:00:00\", \"2019-08-14T00:00:00\", \"2019-08-15T00:00:00\", \"2019-08-15T00:00:00\", \"2019-08-19T00:00:00\", \"2019-08-20T00:00:00\", \"2019-08-22T00:00:00\", \"2019-08-22T00:00:00\", \"2019-08-23T00:00:00\", \"2019-08-27T00:00:00\", \"2019-08-28T00:00:00\", \"2019-08-28T00:00:00\", \"2019-08-30T00:00:00\", \"2019-08-30T00:00:00\", \"2019-09-03T00:00:00\", \"2019-09-04T00:00:00\", \"2019-09-05T00:00:00\", \"2019-09-06T00:00:00\", \"2019-09-06T00:00:00\", \"2019-09-06T00:00:00\", \"2019-09-07T00:00:00\", \"2019-09-08T00:00:00\", \"2019-09-11T00:00:00\", \"2019-09-12T00:00:00\", \"2019-09-12T00:00:00\", \"2019-09-14T00:00:00\", \"2019-09-14T00:00:00\", \"2019-09-14T00:00:00\", \"2019-09-15T00:00:00\", \"2019-09-15T00:00:00\", \"2019-09-16T00:00:00\", \"2019-09-17T00:00:00\", \"2019-09-17T00:00:00\", \"2019-09-18T00:00:00\", \"2019-09-18T00:00:00\", \"2019-09-19T00:00:00\", \"2019-09-24T00:00:00\", \"2019-09-27T00:00:00\", \"2019-09-27T00:00:00\", \"2019-09-27T00:00:00\", \"2019-09-27T00:00:00\", \"2019-09-28T00:00:00\", \"2019-10-03T00:00:00\", \"2019-10-04T00:00:00\", \"2019-10-05T00:00:00\", \"2019-10-06T00:00:00\", \"2019-10-10T00:00:00\", \"2019-10-11T00:00:00\", \"2019-10-12T00:00:00\", \"2019-10-12T00:00:00\", \"2019-10-14T00:00:00\", \"2019-10-15T00:00:00\", \"2019-10-17T00:00:00\", \"2019-10-19T00:00:00\", \"2019-10-21T00:00:00\", \"2019-10-21T00:00:00\", \"2019-10-21T00:00:00\", \"2019-10-23T00:00:00\", \"2019-10-25T00:00:00\", \"2019-10-25T00:00:00\", \"2019-10-26T00:00:00\", \"2019-10-27T00:00:00\", \"2019-10-28T00:00:00\", \"2019-10-28T00:00:00\", \"2019-10-29T00:00:00\", \"2019-10-29T00:00:00\", \"2019-10-29T00:00:00\", \"2019-10-30T00:00:00\", \"2019-11-02T00:00:00\", \"2019-11-02T00:00:00\", \"2019-11-04T00:00:00\", \"2019-11-05T00:00:00\", \"2019-11-07T00:00:00\", \"2019-11-07T00:00:00\", \"2019-11-08T00:00:00\", \"2019-11-08T00:00:00\", \"2019-11-10T00:00:00\", \"2019-11-11T00:00:00\", \"2019-11-11T00:00:00\", \"2019-11-12T00:00:00\", \"2019-11-12T00:00:00\", \"2019-11-14T00:00:00\", \"2019-11-15T00:00:00\", \"2019-11-15T00:00:00\", \"2019-11-17T00:00:00\", \"2019-11-17T00:00:00\", \"2019-11-18T00:00:00\", \"2019-11-18T00:00:00\", \"2019-11-24T00:00:00\", \"2019-11-25T00:00:00\", \"2019-11-25T00:00:00\", \"2019-11-26T00:00:00\", \"2019-11-27T00:00:00\", \"2019-11-28T00:00:00\", \"2019-11-29T00:00:00\", \"2019-11-30T00:00:00\", \"2019-11-30T00:00:00\", \"2019-12-04T00:00:00\", \"2019-12-04T00:00:00\", \"2019-12-07T00:00:00\", \"2019-12-08T00:00:00\", \"2019-12-08T00:00:00\", \"2019-12-09T00:00:00\", \"2019-12-10T00:00:00\", \"2019-12-10T00:00:00\", \"2019-12-10T00:00:00\", \"2019-12-11T00:00:00\", \"2019-12-12T00:00:00\", \"2019-12-12T00:00:00\", \"2019-12-12T00:00:00\", \"2019-12-13T00:00:00\", \"2019-12-13T00:00:00\", \"2019-12-14T00:00:00\", \"2019-12-14T00:00:00\", \"2019-12-14T00:00:00\", \"2019-12-14T00:00:00\", \"2019-12-19T00:00:00\", \"2019-12-20T00:00:00\", \"2019-12-20T00:00:00\", \"2019-12-22T00:00:00\", \"2019-12-24T00:00:00\", \"2019-12-24T00:00:00\", \"2019-12-24T00:00:00\", \"2019-12-25T00:00:00\", \"2019-12-26T00:00:00\", \"2019-12-27T00:00:00\", \"2019-12-27T00:00:00\", \"2019-12-28T00:00:00\", \"2019-12-28T00:00:00\", \"2019-12-29T00:00:00\", \"2019-12-30T00:00:00\", \"2019-12-31T00:00:00\"], \"xaxis\": \"x\", \"y\": [16, 21, 8, 5, 12, 14, 20, 5, 22, 11, 4, 5, 17, 19, 6, 6, 8, 23, 9, 2, 18, 11, 13, 14, 19, 13, 15, 21, 23, 9, 14, 5, 7, 7, 7, 14, 2, 16, 19, 21, 1, 6, 15, 20, 1, 9, 16, 19, 10, 18, 19, 6, 17, 1, 13, 16, 10, 18, 11, 11, 1, 14, 19, 18, 19, 19, 9, 19, 23, 15, 20, 12, 17, 3, 5, 11, 14, 19, 9, 19, 19, 10, 16, 10, 18, 22, 11, 22, 12, 12, 17, 17, 6, 11, 5, 10, 13, 2, 17, 14, 18, 11, 15, 19, 5, 11, 16, 8, 10, 22, 12, 0, 18, 11, 12, 16, 9, 7, 17, 10, 11, 7, 12, 11, 11, 10, 20, 14, 6, 3, 20, 13, 19, 19, 2, 10, 17, 11, 11, 17, 20, 9, 11, 13, 17, 4, 14, 9, 14, 17, 4, 21, 18, 6, 13, 16, 21, 21, 0, 13, 19, 8, 15, 14, 12, 18, 2, 5, 10, 5, 8, 15, 16, 16, 0, 17, 21, 21, 10, 10, 5, 11, 12, 16, 9, 15, 21, 19, 8, 15, 16, 8, 8, 14, 19, 11, 13, 18, 8, 17, 19, 21, 17, 17, 5, 11, 15, 19, 21, 18, 15, 18, 23, 15, 0, 9, 12, 13, 14, 23, 12, 14, 14, 4, 12, 8, 9, 22, 1, 17, 20, 1, 23, 1, 11, 13, 7, 22, 17, 2, 17, 8, 19, 12, 13, 9, 12, 13, 17, 1, 18, 5, 18, 18, 5, 20, 19, 20, 0, 6, 20, 15, 11, 15, 21, 12, 0, 23, 12, 9, 8, 9, 10, 17, 19, 9, 17, 20, 12, 14, 19, 23, 10, 14, 3, 17, 21, 7, 15, 18, 7, 8, 15, 21, 17, 20, 18, 10, 22, 4, 17, 17, 14, 19, 22, 17, 18, 8, 15, 18, 17, 0, 12, 20, 15, 9, 12, 12, 15, 17, 4, 4, 4, 9, 22, 18, 23, 17, 11, 18, 22, 18, 10, 9, 13, 8, 9, 22, 6, 12], \"yaxis\": \"y\"}, {\"customdata\": [[19], [18], [7], [4], [21], [6], [23], [13], [16], [14], [5], [1], [0], [6], [9], [11], [17], [20], [23], [15], [20], [21], [16], [20], [13], [23], [12], [16], [11], [17], [22], [5], [10], [17], [20], [13], [21], [2], [8], [5], [21], [22], [7], [9], [5], [1], [11], [21], [23], [9], [4], [19], [11], [10], [11], [21], [7], [6], [20], [2], [20], [19], [18], [16], [5], [22], [17], [6], [3], [20], [19], [20], [14], [4]], \"hoverlabel\": {\"namelength\": 0}, \"hovertemplate\": \"\\ubc1c\\uc0dd\\uc9c0\\uc2dc\\ub3c4=\\ub300\\uc804<br>\\ubc1c\\uc0dd\\ub144\\uc6d4\\uc77c\\uc2dc=%{x}<br>\\ubc1c\\uc0dd\\uc2dc\\uac04=%{customdata[0]}<br>\\uc0ac\\ub9dd\\uc790\\uc218=%{marker.size}\", \"legendgroup\": \"\\ubc1c\\uc0dd\\uc9c0\\uc2dc\\ub3c4=\\ub300\\uc804\", \"marker\": {\"color\": \"#ab63fa\", \"size\": [1, 1, 1, 1, 1, 1, 1, 1, 1, 1, 1, 1, 1, 1, 1, 1, 1, 1, 1, 1, 1, 1, 1, 2, 1, 1, 1, 1, 1, 1, 1, 1, 1, 1, 1, 1, 1, 1, 1, 1, 1, 1, 1, 1, 1, 1, 1, 1, 1, 1, 1, 1, 1, 1, 1, 1, 1, 2, 1, 1, 1, 1, 1, 1, 1, 2, 1, 1, 1, 1, 1, 1, 1, 1], \"sizemode\": \"area\", \"sizeref\": 0.015, \"symbol\": \"circle\"}, \"mode\": \"markers\", \"name\": \"\\ubc1c\\uc0dd\\uc9c0\\uc2dc\\ub3c4=\\ub300\\uc804\", \"showlegend\": true, \"type\": \"scattergl\", \"x\": [\"2019-01-01T00:00:00\", \"2019-01-07T00:00:00\", \"2019-01-14T00:00:00\", \"2019-01-15T00:00:00\", \"2019-01-24T00:00:00\", \"2019-01-27T00:00:00\", \"2019-02-02T00:00:00\", \"2019-02-04T00:00:00\", \"2019-02-04T00:00:00\", \"2019-02-10T00:00:00\", \"2019-02-11T00:00:00\", \"2019-02-22T00:00:00\", \"2019-03-08T00:00:00\", \"2019-03-08T00:00:00\", \"2019-03-13T00:00:00\", \"2019-03-29T00:00:00\", \"2019-04-01T00:00:00\", \"2019-04-08T00:00:00\", \"2019-04-15T00:00:00\", \"2019-04-19T00:00:00\", \"2019-04-30T00:00:00\", \"2019-05-01T00:00:00\", \"2019-05-02T00:00:00\", \"2019-05-07T00:00:00\", \"2019-05-08T00:00:00\", \"2019-05-08T00:00:00\", \"2019-05-10T00:00:00\", \"2019-05-16T00:00:00\", \"2019-05-27T00:00:00\", \"2019-05-31T00:00:00\", \"2019-06-12T00:00:00\", \"2019-06-20T00:00:00\", \"2019-06-20T00:00:00\", \"2019-07-03T00:00:00\", \"2019-07-05T00:00:00\", \"2019-07-06T00:00:00\", \"2019-07-10T00:00:00\", \"2019-07-16T00:00:00\", \"2019-07-17T00:00:00\", \"2019-07-19T00:00:00\", \"2019-07-20T00:00:00\", \"2019-07-25T00:00:00\", \"2019-07-30T00:00:00\", \"2019-08-01T00:00:00\", \"2019-08-05T00:00:00\", \"2019-08-24T00:00:00\", \"2019-08-24T00:00:00\", \"2019-08-25T00:00:00\", \"2019-08-25T00:00:00\", \"2019-08-29T00:00:00\", \"2019-09-05T00:00:00\", \"2019-09-05T00:00:00\", \"2019-09-11T00:00:00\", \"2019-09-18T00:00:00\", \"2019-09-21T00:00:00\", \"2019-09-24T00:00:00\", \"2019-09-30T00:00:00\", \"2019-10-01T00:00:00\", \"2019-10-17T00:00:00\", \"2019-10-26T00:00:00\", \"2019-10-31T00:00:00\", \"2019-11-01T00:00:00\", \"2019-11-03T00:00:00\", \"2019-11-11T00:00:00\", \"2019-11-13T00:00:00\", \"2019-11-19T00:00:00\", \"2019-11-23T00:00:00\", \"2019-11-24T00:00:00\", \"2019-11-28T00:00:00\", \"2019-12-01T00:00:00\", \"2019-12-05T00:00:00\", \"2019-12-09T00:00:00\", \"2019-12-10T00:00:00\", \"2019-12-19T00:00:00\"], \"xaxis\": \"x\", \"y\": [19, 18, 7, 4, 21, 6, 23, 13, 16, 14, 5, 1, 0, 6, 9, 11, 17, 20, 23, 15, 20, 21, 16, 20, 13, 23, 12, 16, 11, 17, 22, 5, 10, 17, 20, 13, 21, 2, 8, 5, 21, 22, 7, 9, 5, 1, 11, 21, 23, 9, 4, 19, 11, 10, 11, 21, 7, 6, 20, 2, 20, 19, 18, 16, 5, 22, 17, 6, 3, 20, 19, 20, 14, 4], \"yaxis\": \"y\"}, {\"customdata\": [[3], [15], [20], [14], [5], [5], [22], [10], [19], [11], [13], [7], [10], [3], [21], [20], [17], [13], [16], [22], [12], [18], [8], [16], [23], [7], [3], [0], [10], [22], [5], [3], [13], [19], [14], [8], [18], [5], [21], [14], [2], [10], [8], [19], [3], [15], [14], [16], [6], [21], [2], [0], [10], [14], [0], [2], [13], [15], [19], [20], [3], [20], [23], [12], [17], [19], [7], [10], [10], [14], [5], [12], [10], [8], [8], [12], [10], [9], [9], [12], [16], [10], [12], [18], [19], [21], [0], [16], [4], [11], [15], [16], [17], [11], [15], [22], [1], [10], [8], [12], [4], [3], [15], [11], [10], [13], [7], [21], [17], [2], [10], [10], [1], [4], [4], [5], [15], [21], [7], [10], [23], [16], [2], [14], [6], [19], [5], [4], [19], [16], [19], [12], [8], [12], [18], [7], [18], [21], [13], [22], [10], [14], [19], [19], [18], [5], [19], [21], [6], [16], [6], [1], [20], [15], [22], [20], [19], [6], [14], [18], [18], [6], [19], [12], [16], [22], [7], [18], [14], [18], [5], [6], [18], [0], [5], [21], [19], [4]], \"hoverlabel\": {\"namelength\": 0}, \"hovertemplate\": \"\\ubc1c\\uc0dd\\uc9c0\\uc2dc\\ub3c4=\\ucda9\\ubd81<br>\\ubc1c\\uc0dd\\ub144\\uc6d4\\uc77c\\uc2dc=%{x}<br>\\ubc1c\\uc0dd\\uc2dc\\uac04=%{customdata[0]}<br>\\uc0ac\\ub9dd\\uc790\\uc218=%{marker.size}\", \"legendgroup\": \"\\ubc1c\\uc0dd\\uc9c0\\uc2dc\\ub3c4=\\ucda9\\ubd81\", \"marker\": {\"color\": \"#FFA15A\", \"size\": [1, 1, 1, 1, 1, 1, 1, 1, 1, 1, 1, 1, 1, 1, 1, 1, 1, 1, 1, 1, 1, 1, 1, 1, 1, 1, 1, 1, 1, 1, 1, 1, 1, 1, 1, 1, 1, 1, 1, 1, 1, 1, 1, 1, 1, 1, 1, 1, 1, 1, 1, 1, 1, 1, 1, 1, 1, 1, 1, 1, 1, 1, 1, 1, 1, 1, 1, 1, 1, 1, 1, 1, 1, 1, 1, 2, 1, 1, 1, 1, 1, 1, 1, 1, 1, 1, 1, 1, 1, 1, 2, 1, 2, 1, 1, 1, 1, 1, 1, 1, 1, 1, 1, 2, 1, 1, 1, 1, 1, 1, 1, 1, 1, 1, 1, 1, 1, 1, 1, 1, 1, 2, 1, 1, 1, 1, 1, 1, 1, 1, 1, 1, 1, 1, 1, 1, 1, 1, 1, 1, 1, 1, 1, 1, 1, 1, 1, 1, 1, 2, 1, 1, 1, 1, 1, 1, 1, 1, 1, 1, 1, 1, 1, 1, 4, 1, 1, 1, 1, 1, 1, 1, 1, 1, 2, 1, 1, 1], \"sizemode\": \"area\", \"sizeref\": 0.015, \"symbol\": \"circle\"}, \"mode\": \"markers\", \"name\": \"\\ubc1c\\uc0dd\\uc9c0\\uc2dc\\ub3c4=\\ucda9\\ubd81\", \"showlegend\": true, \"type\": \"scattergl\", \"x\": [\"2019-01-02T00:00:00\", \"2019-01-06T00:00:00\", \"2019-01-10T00:00:00\", \"2019-01-11T00:00:00\", \"2019-01-13T00:00:00\", \"2019-01-14T00:00:00\", \"2019-01-15T00:00:00\", \"2019-01-18T00:00:00\", \"2019-01-19T00:00:00\", \"2019-01-20T00:00:00\", \"2019-01-21T00:00:00\", \"2019-01-28T00:00:00\", \"2019-01-30T00:00:00\", \"2019-01-31T00:00:00\", \"2019-01-31T00:00:00\", \"2019-02-03T00:00:00\", \"2019-02-07T00:00:00\", \"2019-02-08T00:00:00\", \"2019-02-13T00:00:00\", \"2019-02-13T00:00:00\", \"2019-02-15T00:00:00\", \"2019-02-16T00:00:00\", \"2019-02-23T00:00:00\", \"2019-02-27T00:00:00\", \"2019-03-07T00:00:00\", \"2019-03-08T00:00:00\", \"2019-03-16T00:00:00\", \"2019-03-19T00:00:00\", \"2019-03-19T00:00:00\", \"2019-03-22T00:00:00\", \"2019-03-25T00:00:00\", \"2019-03-27T00:00:00\", \"2019-03-28T00:00:00\", \"2019-03-28T00:00:00\", \"2019-03-31T00:00:00\", \"2019-04-03T00:00:00\", \"2019-04-05T00:00:00\", \"2019-04-07T00:00:00\", \"2019-04-09T00:00:00\", \"2019-04-11T00:00:00\", \"2019-04-13T00:00:00\", \"2019-04-16T00:00:00\", \"2019-04-18T00:00:00\", \"2019-04-20T00:00:00\", \"2019-04-21T00:00:00\", \"2019-04-21T00:00:00\", \"2019-04-22T00:00:00\", \"2019-04-26T00:00:00\", \"2019-04-27T00:00:00\", \"2019-04-27T00:00:00\", \"2019-04-28T00:00:00\", \"2019-04-29T00:00:00\", \"2019-04-29T00:00:00\", \"2019-04-29T00:00:00\", \"2019-04-30T00:00:00\", \"2019-04-30T00:00:00\", \"2019-04-30T00:00:00\", \"2019-04-30T00:00:00\", \"2019-05-01T00:00:00\", \"2019-05-02T00:00:00\", \"2019-05-03T00:00:00\", \"2019-05-05T00:00:00\", \"2019-05-09T00:00:00\", \"2019-05-11T00:00:00\", \"2019-05-11T00:00:00\", \"2019-05-12T00:00:00\", \"2019-05-13T00:00:00\", \"2019-05-13T00:00:00\", \"2019-05-13T00:00:00\", \"2019-05-13T00:00:00\", \"2019-05-18T00:00:00\", \"2019-05-21T00:00:00\", \"2019-05-23T00:00:00\", \"2019-05-25T00:00:00\", \"2019-05-25T00:00:00\", \"2019-05-27T00:00:00\", \"2019-05-28T00:00:00\", \"2019-05-29T00:00:00\", \"2019-06-01T00:00:00\", \"2019-06-02T00:00:00\", \"2019-06-02T00:00:00\", \"2019-06-04T00:00:00\", \"2019-06-04T00:00:00\", \"2019-06-04T00:00:00\", \"2019-06-05T00:00:00\", \"2019-06-05T00:00:00\", \"2019-06-07T00:00:00\", \"2019-06-08T00:00:00\", \"2019-06-09T00:00:00\", \"2019-06-14T00:00:00\", \"2019-06-14T00:00:00\", \"2019-06-14T00:00:00\", \"2019-06-16T00:00:00\", \"2019-06-21T00:00:00\", \"2019-06-21T00:00:00\", \"2019-06-22T00:00:00\", \"2019-06-23T00:00:00\", \"2019-06-25T00:00:00\", \"2019-06-26T00:00:00\", \"2019-06-26T00:00:00\", \"2019-07-01T00:00:00\", \"2019-07-06T00:00:00\", \"2019-07-07T00:00:00\", \"2019-07-08T00:00:00\", \"2019-07-09T00:00:00\", \"2019-07-10T00:00:00\", \"2019-07-12T00:00:00\", \"2019-07-14T00:00:00\", \"2019-07-17T00:00:00\", \"2019-07-19T00:00:00\", \"2019-07-22T00:00:00\", \"2019-07-22T00:00:00\", \"2019-07-23T00:00:00\", \"2019-08-01T00:00:00\", \"2019-08-02T00:00:00\", \"2019-08-02T00:00:00\", \"2019-08-04T00:00:00\", \"2019-08-06T00:00:00\", \"2019-08-08T00:00:00\", \"2019-08-13T00:00:00\", \"2019-08-16T00:00:00\", \"2019-08-17T00:00:00\", \"2019-08-23T00:00:00\", \"2019-08-23T00:00:00\", \"2019-08-24T00:00:00\", \"2019-08-24T00:00:00\", \"2019-08-25T00:00:00\", \"2019-08-31T00:00:00\", \"2019-08-31T00:00:00\", \"2019-09-01T00:00:00\", \"2019-09-01T00:00:00\", \"2019-09-02T00:00:00\", \"2019-09-05T00:00:00\", \"2019-09-16T00:00:00\", \"2019-09-21T00:00:00\", \"2019-09-23T00:00:00\", \"2019-09-24T00:00:00\", \"2019-09-24T00:00:00\", \"2019-09-29T00:00:00\", \"2019-10-02T00:00:00\", \"2019-10-04T00:00:00\", \"2019-10-04T00:00:00\", \"2019-10-09T00:00:00\", \"2019-10-10T00:00:00\", \"2019-10-12T00:00:00\", \"2019-10-14T00:00:00\", \"2019-10-16T00:00:00\", \"2019-10-16T00:00:00\", \"2019-10-19T00:00:00\", \"2019-10-21T00:00:00\", \"2019-10-22T00:00:00\", \"2019-10-25T00:00:00\", \"2019-10-25T00:00:00\", \"2019-10-28T00:00:00\", \"2019-10-29T00:00:00\", \"2019-11-01T00:00:00\", \"2019-11-05T00:00:00\", \"2019-11-14T00:00:00\", \"2019-11-16T00:00:00\", \"2019-11-17T00:00:00\", \"2019-11-18T00:00:00\", \"2019-11-21T00:00:00\", \"2019-11-21T00:00:00\", \"2019-11-24T00:00:00\", \"2019-11-24T00:00:00\", \"2019-12-03T00:00:00\", \"2019-12-04T00:00:00\", \"2019-12-07T00:00:00\", \"2019-12-12T00:00:00\", \"2019-12-12T00:00:00\", \"2019-12-13T00:00:00\", \"2019-12-16T00:00:00\", \"2019-12-17T00:00:00\", \"2019-12-20T00:00:00\", \"2019-12-20T00:00:00\", \"2019-12-20T00:00:00\", \"2019-12-22T00:00:00\", \"2019-12-24T00:00:00\"], \"xaxis\": \"x\", \"y\": [3, 15, 20, 14, 5, 5, 22, 10, 19, 11, 13, 7, 10, 3, 21, 20, 17, 13, 16, 22, 12, 18, 8, 16, 23, 7, 3, 0, 10, 22, 5, 3, 13, 19, 14, 8, 18, 5, 21, 14, 2, 10, 8, 19, 3, 15, 14, 16, 6, 21, 2, 0, 10, 14, 0, 2, 13, 15, 19, 20, 3, 20, 23, 12, 17, 19, 7, 10, 10, 14, 5, 12, 10, 8, 8, 12, 10, 9, 9, 12, 16, 10, 12, 18, 19, 21, 0, 16, 4, 11, 15, 16, 17, 11, 15, 22, 1, 10, 8, 12, 4, 3, 15, 11, 10, 13, 7, 21, 17, 2, 10, 10, 1, 4, 4, 5, 15, 21, 7, 10, 23, 16, 2, 14, 6, 19, 5, 4, 19, 16, 19, 12, 8, 12, 18, 7, 18, 21, 13, 22, 10, 14, 19, 19, 18, 5, 19, 21, 6, 16, 6, 1, 20, 15, 22, 20, 19, 6, 14, 18, 18, 6, 19, 12, 16, 22, 7, 18, 14, 18, 5, 6, 18, 0, 5, 21, 19, 4], \"yaxis\": \"y\"}, {\"customdata\": [[6], [5], [20], [5], [22], [17], [21], [14], [5], [8], [6], [8], [23], [5], [12], [15], [22], [19], [0], [1], [11], [5], [15], [3], [20], [6], [16], [8], [4], [20], [22], [7], [13], [17], [17], [10], [20], [9], [1], [7], [14], [8], [14], [12], [19], [22], [14], [3], [2], [15], [1], [13], [4], [2], [17], [13], [22], [4], [9], [9], [17], [5], [18], [15], [5], [4], [14], [5], [10], [2], [19], [21], [22], [22], [1], [0], [2], [5], [5], [8], [22], [9], [22], [16], [23], [3], [6], [0], [19], [1], [1], [0], [2], [16], [6], [3], [10], [14], [2], [11], [15], [9], [20], [8], [13], [13], [18], [20], [11], [18], [22], [14], [16], [20], [8]], \"hoverlabel\": {\"namelength\": 0}, \"hovertemplate\": \"\\ubc1c\\uc0dd\\uc9c0\\uc2dc\\ub3c4=\\uc778\\ucc9c<br>\\ubc1c\\uc0dd\\ub144\\uc6d4\\uc77c\\uc2dc=%{x}<br>\\ubc1c\\uc0dd\\uc2dc\\uac04=%{customdata[0]}<br>\\uc0ac\\ub9dd\\uc790\\uc218=%{marker.size}\", \"legendgroup\": \"\\ubc1c\\uc0dd\\uc9c0\\uc2dc\\ub3c4=\\uc778\\ucc9c\", \"marker\": {\"color\": \"#19d3f3\", \"size\": [1, 1, 1, 1, 1, 1, 1, 1, 1, 1, 1, 1, 1, 1, 1, 1, 1, 1, 1, 1, 1, 1, 1, 1, 1, 1, 1, 1, 1, 1, 1, 1, 1, 1, 1, 1, 1, 1, 1, 1, 1, 1, 1, 1, 2, 1, 1, 1, 1, 1, 1, 1, 1, 1, 1, 1, 1, 1, 1, 1, 1, 1, 1, 1, 1, 1, 1, 1, 1, 1, 1, 1, 1, 1, 1, 1, 1, 1, 2, 1, 1, 1, 1, 1, 1, 1, 1, 2, 1, 1, 1, 1, 1, 1, 1, 1, 1, 1, 1, 1, 1, 1, 1, 1, 1, 1, 1, 1, 1, 1, 1, 1, 1, 1, 1], \"sizemode\": \"area\", \"sizeref\": 0.015, \"symbol\": \"circle\"}, \"mode\": \"markers\", \"name\": \"\\ubc1c\\uc0dd\\uc9c0\\uc2dc\\ub3c4=\\uc778\\ucc9c\", \"showlegend\": true, \"type\": \"scattergl\", \"x\": [\"2019-01-02T00:00:00\", \"2019-01-06T00:00:00\", \"2019-01-06T00:00:00\", \"2019-01-08T00:00:00\", \"2019-01-12T00:00:00\", \"2019-01-13T00:00:00\", \"2019-01-13T00:00:00\", \"2019-01-16T00:00:00\", \"2019-01-17T00:00:00\", \"2019-01-17T00:00:00\", \"2019-01-18T00:00:00\", \"2019-01-20T00:00:00\", \"2019-01-24T00:00:00\", \"2019-01-25T00:00:00\", \"2019-01-28T00:00:00\", \"2019-02-08T00:00:00\", \"2019-02-09T00:00:00\", \"2019-02-26T00:00:00\", \"2019-03-06T00:00:00\", \"2019-03-06T00:00:00\", \"2019-03-13T00:00:00\", \"2019-03-14T00:00:00\", \"2019-03-14T00:00:00\", \"2019-03-22T00:00:00\", \"2019-03-30T00:00:00\", \"2019-04-01T00:00:00\", \"2019-04-01T00:00:00\", \"2019-04-04T00:00:00\", \"2019-04-08T00:00:00\", \"2019-04-09T00:00:00\", \"2019-04-14T00:00:00\", \"2019-04-15T00:00:00\", \"2019-04-24T00:00:00\", \"2019-04-24T00:00:00\", \"2019-04-24T00:00:00\", \"2019-04-25T00:00:00\", \"2019-04-26T00:00:00\", \"2019-04-29T00:00:00\", \"2019-05-01T00:00:00\", \"2019-05-01T00:00:00\", \"2019-05-04T00:00:00\", \"2019-05-07T00:00:00\", \"2019-05-07T00:00:00\", \"2019-05-11T00:00:00\", \"2019-05-15T00:00:00\", \"2019-05-19T00:00:00\", \"2019-05-20T00:00:00\", \"2019-05-25T00:00:00\", \"2019-05-28T00:00:00\", \"2019-05-29T00:00:00\", \"2019-05-31T00:00:00\", \"2019-06-01T00:00:00\", \"2019-06-08T00:00:00\", \"2019-06-10T00:00:00\", \"2019-06-14T00:00:00\", \"2019-06-17T00:00:00\", \"2019-06-17T00:00:00\", \"2019-06-19T00:00:00\", \"2019-06-19T00:00:00\", \"2019-06-25T00:00:00\", \"2019-07-08T00:00:00\", \"2019-07-09T00:00:00\", \"2019-07-10T00:00:00\", \"2019-07-13T00:00:00\", \"2019-07-14T00:00:00\", \"2019-07-16T00:00:00\", \"2019-07-17T00:00:00\", \"2019-07-21T00:00:00\", \"2019-07-22T00:00:00\", \"2019-07-27T00:00:00\", \"2019-07-30T00:00:00\", \"2019-07-30T00:00:00\", \"2019-08-04T00:00:00\", \"2019-08-05T00:00:00\", \"2019-08-07T00:00:00\", \"2019-08-09T00:00:00\", \"2019-08-09T00:00:00\", \"2019-08-16T00:00:00\", \"2019-08-24T00:00:00\", \"2019-08-28T00:00:00\", \"2019-09-02T00:00:00\", \"2019-09-05T00:00:00\", \"2019-09-06T00:00:00\", \"2019-09-10T00:00:00\", \"2019-09-12T00:00:00\", \"2019-09-25T00:00:00\", \"2019-09-26T00:00:00\", \"2019-09-27T00:00:00\", \"2019-09-27T00:00:00\", \"2019-09-28T00:00:00\", \"2019-09-30T00:00:00\", \"2019-10-03T00:00:00\", \"2019-10-03T00:00:00\", \"2019-10-10T00:00:00\", \"2019-10-11T00:00:00\", \"2019-10-12T00:00:00\", \"2019-10-15T00:00:00\", \"2019-10-16T00:00:00\", \"2019-10-20T00:00:00\", \"2019-10-25T00:00:00\", \"2019-10-26T00:00:00\", \"2019-10-28T00:00:00\", \"2019-10-31T00:00:00\", \"2019-11-02T00:00:00\", \"2019-11-05T00:00:00\", \"2019-11-11T00:00:00\", \"2019-11-11T00:00:00\", \"2019-11-29T00:00:00\", \"2019-12-05T00:00:00\", \"2019-12-05T00:00:00\", \"2019-12-14T00:00:00\", \"2019-12-15T00:00:00\", \"2019-12-18T00:00:00\", \"2019-12-21T00:00:00\", \"2019-12-25T00:00:00\"], \"xaxis\": \"x\", \"y\": [6, 5, 20, 5, 22, 17, 21, 14, 5, 8, 6, 8, 23, 5, 12, 15, 22, 19, 0, 1, 11, 5, 15, 3, 20, 6, 16, 8, 4, 20, 22, 7, 13, 17, 17, 10, 20, 9, 1, 7, 14, 8, 14, 12, 19, 22, 14, 3, 2, 15, 1, 13, 4, 2, 17, 13, 22, 4, 9, 9, 17, 5, 18, 15, 5, 4, 14, 5, 10, 2, 19, 21, 22, 22, 1, 0, 2, 5, 5, 8, 22, 9, 22, 16, 23, 3, 6, 0, 19, 1, 1, 0, 2, 16, 6, 3, 10, 14, 2, 11, 15, 9, 20, 8, 13, 13, 18, 20, 11, 18, 22, 14, 16, 20, 8], \"yaxis\": \"y\"}, {\"customdata\": [[10], [12], [17], [4], [17], [4], [22], [5], [11], [0], [10], [7], [0], [12], [13], [21], [3], [0], [4], [23], [5], [0], [11], [18], [0], [8], [23], [3], [6], [19], [0], [18], [4], [21], [2], [6], [6], [15], [0], [1], [23], [18], [6], [0], [21], [19], [3], [5], [1], [6], [5], [22], [9], [13], [3], [8], [22], [19], [15], [21], [13], [16], [2], [3], [4], [20], [1], [12], [21], [18], [0], [1], [3], [1], [13], [14], [2], [1], [15], [1], [2], [6], [9], [9], [12], [12], [15], [17], [15], [0], [1], [13], [16], [11], [7], [22], [1], [4], [23], [8], [18], [21], [0], [5], [18], [20], [8], [10], [22], [6], [16], [23], [5], [15], [0], [22], [4], [3], [21], [2], [7], [16], [5], [4], [9], [22], [22], [4], [3], [15], [22], [7], [19], [15], [0], [14], [12], [18], [10], [13], [4], [13], [15], [18], [9], [22], [4], [15], [8], [15], [1], [7], [14], [17], [23], [5], [17], [8], [16], [2], [19], [11], [23], [20], [21], [21], [5], [1], [13], [4], [14], [6], [11], [14], [2], [5], [14], [11], [22], [22], [5], [8], [10], [16], [3], [0], [23], [3], [14], [5], [6], [6], [10], [20], [7], [12], [4], [5], [17], [2], [8], [20], [23], [23], [0], [7], [7], [5], [15], [9], [18], [9], [22], [11], [5], [5], [10], [2], [22], [4], [18], [0], [7], [1], [5], [0], [5], [15], [21], [23], [12], [18], [3], [3], [7], [4], [7], [21], [11], [12], [12], [20], [2], [2], [9], [16], [23], [0], [1], [5]], \"hoverlabel\": {\"namelength\": 0}, \"hovertemplate\": \"\\ubc1c\\uc0dd\\uc9c0\\uc2dc\\ub3c4=\\uc11c\\uc6b8<br>\\ubc1c\\uc0dd\\ub144\\uc6d4\\uc77c\\uc2dc=%{x}<br>\\ubc1c\\uc0dd\\uc2dc\\uac04=%{customdata[0]}<br>\\uc0ac\\ub9dd\\uc790\\uc218=%{marker.size}\", \"legendgroup\": \"\\ubc1c\\uc0dd\\uc9c0\\uc2dc\\ub3c4=\\uc11c\\uc6b8\", \"marker\": {\"color\": \"#FF6692\", \"size\": [1, 1, 1, 1, 1, 1, 1, 1, 1, 1, 1, 1, 1, 1, 1, 1, 1, 1, 1, 1, 1, 1, 1, 1, 1, 1, 1, 1, 1, 1, 1, 1, 1, 1, 1, 1, 1, 1, 1, 1, 1, 1, 1, 1, 1, 1, 1, 1, 1, 1, 1, 1, 1, 1, 1, 1, 1, 1, 1, 1, 1, 1, 1, 1, 1, 1, 1, 1, 1, 1, 1, 1, 1, 1, 1, 1, 1, 1, 1, 1, 1, 1, 1, 1, 1, 1, 1, 1, 1, 1, 1, 1, 1, 1, 1, 1, 1, 1, 1, 1, 1, 1, 1, 1, 1, 1, 1, 1, 1, 1, 1, 1, 1, 1, 1, 1, 1, 1, 1, 1, 1, 1, 1, 1, 1, 1, 1, 1, 1, 1, 1, 1, 1, 1, 1, 1, 1, 1, 1, 1, 1, 1, 1, 1, 1, 1, 1, 1, 1, 1, 1, 1, 1, 1, 1, 1, 1, 1, 1, 1, 1, 1, 1, 1, 1, 1, 1, 1, 1, 1, 1, 1, 1, 1, 1, 1, 1, 1, 1, 1, 1, 1, 1, 1, 1, 1, 1, 1, 1, 1, 1, 1, 1, 1, 1, 1, 1, 1, 1, 1, 1, 1, 1, 1, 1, 1, 1, 1, 1, 1, 1, 1, 1, 1, 1, 1, 1, 1, 1, 1, 1, 1, 1, 1, 1, 1, 1, 1, 1, 1, 1, 1, 1, 1, 1, 1, 1, 1, 1, 1, 1, 1, 1, 1, 1, 1, 1, 1, 1, 1], \"sizemode\": \"area\", \"sizeref\": 0.015, \"symbol\": \"circle\"}, \"mode\": \"markers\", \"name\": \"\\ubc1c\\uc0dd\\uc9c0\\uc2dc\\ub3c4=\\uc11c\\uc6b8\", \"showlegend\": true, \"type\": \"scattergl\", \"x\": [\"2019-01-02T00:00:00\", \"2019-01-03T00:00:00\", \"2019-01-03T00:00:00\", \"2019-01-08T00:00:00\", \"2019-01-14T00:00:00\", \"2019-01-16T00:00:00\", \"2019-01-16T00:00:00\", \"2019-01-17T00:00:00\", \"2019-01-17T00:00:00\", \"2019-01-18T00:00:00\", \"2019-01-18T00:00:00\", \"2019-01-19T00:00:00\", \"2019-01-21T00:00:00\", \"2019-01-21T00:00:00\", \"2019-01-22T00:00:00\", \"2019-01-22T00:00:00\", \"2019-01-23T00:00:00\", \"2019-01-24T00:00:00\", \"2019-01-25T00:00:00\", \"2019-01-25T00:00:00\", \"2019-01-29T00:00:00\", \"2019-01-30T00:00:00\", \"2019-01-30T00:00:00\", \"2019-01-30T00:00:00\", \"2019-01-31T00:00:00\", \"2019-02-03T00:00:00\", \"2019-02-06T00:00:00\", \"2019-02-07T00:00:00\", \"2019-02-08T00:00:00\", \"2019-02-11T00:00:00\", \"2019-02-12T00:00:00\", \"2019-02-12T00:00:00\", \"2019-02-13T00:00:00\", \"2019-02-15T00:00:00\", \"2019-02-19T00:00:00\", \"2019-02-24T00:00:00\", \"2019-02-25T00:00:00\", \"2019-02-27T00:00:00\", \"2019-03-01T00:00:00\", \"2019-03-03T00:00:00\", \"2019-03-04T00:00:00\", \"2019-03-06T00:00:00\", \"2019-03-09T00:00:00\", \"2019-03-10T00:00:00\", \"2019-03-12T00:00:00\", \"2019-03-13T00:00:00\", \"2019-03-14T00:00:00\", \"2019-03-14T00:00:00\", \"2019-03-15T00:00:00\", \"2019-03-15T00:00:00\", \"2019-03-18T00:00:00\", \"2019-03-19T00:00:00\", \"2019-03-20T00:00:00\", \"2019-03-20T00:00:00\", \"2019-03-21T00:00:00\", \"2019-03-23T00:00:00\", \"2019-03-25T00:00:00\", \"2019-03-26T00:00:00\", \"2019-03-27T00:00:00\", \"2019-03-31T00:00:00\", \"2019-04-01T00:00:00\", \"2019-04-01T00:00:00\", \"2019-04-07T00:00:00\", \"2019-04-07T00:00:00\", \"2019-04-07T00:00:00\", \"2019-04-07T00:00:00\", \"2019-04-09T00:00:00\", \"2019-04-09T00:00:00\", \"2019-04-11T00:00:00\", \"2019-04-12T00:00:00\", \"2019-04-14T00:00:00\", \"2019-04-20T00:00:00\", \"2019-04-21T00:00:00\", \"2019-04-24T00:00:00\", \"2019-05-01T00:00:00\", \"2019-05-02T00:00:00\", \"2019-05-03T00:00:00\", \"2019-05-04T00:00:00\", \"2019-05-05T00:00:00\", \"2019-05-06T00:00:00\", \"2019-05-06T00:00:00\", \"2019-05-07T00:00:00\", \"2019-05-07T00:00:00\", \"2019-05-07T00:00:00\", \"2019-05-07T00:00:00\", \"2019-05-07T00:00:00\", \"2019-05-07T00:00:00\", \"2019-05-07T00:00:00\", \"2019-05-09T00:00:00\", \"2019-05-11T00:00:00\", \"2019-05-14T00:00:00\", \"2019-05-14T00:00:00\", \"2019-05-14T00:00:00\", \"2019-05-16T00:00:00\", \"2019-05-20T00:00:00\", \"2019-05-24T00:00:00\", \"2019-05-25T00:00:00\", \"2019-05-28T00:00:00\", \"2019-06-01T00:00:00\", \"2019-06-03T00:00:00\", \"2019-06-05T00:00:00\", \"2019-06-05T00:00:00\", \"2019-06-06T00:00:00\", \"2019-06-07T00:00:00\", \"2019-06-09T00:00:00\", \"2019-06-10T00:00:00\", \"2019-06-12T00:00:00\", \"2019-06-14T00:00:00\", \"2019-06-14T00:00:00\", \"2019-06-15T00:00:00\", \"2019-06-17T00:00:00\", \"2019-06-17T00:00:00\", \"2019-06-19T00:00:00\", \"2019-06-21T00:00:00\", \"2019-06-25T00:00:00\", \"2019-06-26T00:00:00\", \"2019-06-27T00:00:00\", \"2019-06-30T00:00:00\", \"2019-07-05T00:00:00\", \"2019-07-09T00:00:00\", \"2019-07-13T00:00:00\", \"2019-07-19T00:00:00\", \"2019-07-20T00:00:00\", \"2019-07-22T00:00:00\", \"2019-07-24T00:00:00\", \"2019-07-26T00:00:00\", \"2019-07-26T00:00:00\", \"2019-07-27T00:00:00\", \"2019-07-29T00:00:00\", \"2019-07-29T00:00:00\", \"2019-07-29T00:00:00\", \"2019-07-30T00:00:00\", \"2019-07-30T00:00:00\", \"2019-08-01T00:00:00\", \"2019-08-03T00:00:00\", \"2019-08-06T00:00:00\", \"2019-08-07T00:00:00\", \"2019-08-07T00:00:00\", \"2019-08-08T00:00:00\", \"2019-08-09T00:00:00\", \"2019-08-10T00:00:00\", \"2019-08-13T00:00:00\", \"2019-08-14T00:00:00\", \"2019-08-17T00:00:00\", \"2019-08-18T00:00:00\", \"2019-08-19T00:00:00\", \"2019-08-20T00:00:00\", \"2019-08-21T00:00:00\", \"2019-08-25T00:00:00\", \"2019-08-26T00:00:00\", \"2019-08-27T00:00:00\", \"2019-08-29T00:00:00\", \"2019-08-29T00:00:00\", \"2019-08-29T00:00:00\", \"2019-08-30T00:00:00\", \"2019-09-02T00:00:00\", \"2019-09-02T00:00:00\", \"2019-09-03T00:00:00\", \"2019-09-05T00:00:00\", \"2019-09-06T00:00:00\", \"2019-09-07T00:00:00\", \"2019-09-10T00:00:00\", \"2019-09-11T00:00:00\", \"2019-09-12T00:00:00\", \"2019-09-12T00:00:00\", \"2019-09-12T00:00:00\", \"2019-09-13T00:00:00\", \"2019-09-17T00:00:00\", \"2019-09-20T00:00:00\", \"2019-09-21T00:00:00\", \"2019-09-21T00:00:00\", \"2019-09-22T00:00:00\", \"2019-09-23T00:00:00\", \"2019-09-23T00:00:00\", \"2019-09-25T00:00:00\", \"2019-09-27T00:00:00\", \"2019-09-27T00:00:00\", \"2019-09-29T00:00:00\", \"2019-09-29T00:00:00\", \"2019-09-30T00:00:00\", \"2019-10-01T00:00:00\", \"2019-10-01T00:00:00\", \"2019-10-01T00:00:00\", \"2019-10-01T00:00:00\", \"2019-10-02T00:00:00\", \"2019-10-03T00:00:00\", \"2019-10-04T00:00:00\", \"2019-10-05T00:00:00\", \"2019-10-06T00:00:00\", \"2019-10-07T00:00:00\", \"2019-10-08T00:00:00\", \"2019-10-09T00:00:00\", \"2019-10-11T00:00:00\", \"2019-10-11T00:00:00\", \"2019-10-12T00:00:00\", \"2019-10-14T00:00:00\", \"2019-10-17T00:00:00\", \"2019-10-18T00:00:00\", \"2019-10-21T00:00:00\", \"2019-10-23T00:00:00\", \"2019-10-23T00:00:00\", \"2019-10-23T00:00:00\", \"2019-10-23T00:00:00\", \"2019-10-23T00:00:00\", \"2019-10-24T00:00:00\", \"2019-10-25T00:00:00\", \"2019-10-26T00:00:00\", \"2019-10-28T00:00:00\", \"2019-10-28T00:00:00\", \"2019-10-30T00:00:00\", \"2019-10-30T00:00:00\", \"2019-11-01T00:00:00\", \"2019-11-01T00:00:00\", \"2019-11-02T00:00:00\", \"2019-11-05T00:00:00\", \"2019-11-08T00:00:00\", \"2019-11-09T00:00:00\", \"2019-11-15T00:00:00\", \"2019-11-15T00:00:00\", \"2019-11-16T00:00:00\", \"2019-11-16T00:00:00\", \"2019-11-21T00:00:00\", \"2019-11-21T00:00:00\", \"2019-11-25T00:00:00\", \"2019-11-27T00:00:00\", \"2019-12-01T00:00:00\", \"2019-12-01T00:00:00\", \"2019-12-03T00:00:00\", \"2019-12-03T00:00:00\", \"2019-12-03T00:00:00\", \"2019-12-04T00:00:00\", \"2019-12-07T00:00:00\", \"2019-12-08T00:00:00\", \"2019-12-09T00:00:00\", \"2019-12-10T00:00:00\", \"2019-12-12T00:00:00\", \"2019-12-12T00:00:00\", \"2019-12-12T00:00:00\", \"2019-12-14T00:00:00\", \"2019-12-14T00:00:00\", \"2019-12-16T00:00:00\", \"2019-12-16T00:00:00\", \"2019-12-17T00:00:00\", \"2019-12-20T00:00:00\", \"2019-12-22T00:00:00\", \"2019-12-26T00:00:00\", \"2019-12-29T00:00:00\", \"2019-12-30T00:00:00\", \"2019-12-31T00:00:00\", \"2019-12-31T00:00:00\"], \"xaxis\": \"x\", \"y\": [10, 12, 17, 4, 17, 4, 22, 5, 11, 0, 10, 7, 0, 12, 13, 21, 3, 0, 4, 23, 5, 0, 11, 18, 0, 8, 23, 3, 6, 19, 0, 18, 4, 21, 2, 6, 6, 15, 0, 1, 23, 18, 6, 0, 21, 19, 3, 5, 1, 6, 5, 22, 9, 13, 3, 8, 22, 19, 15, 21, 13, 16, 2, 3, 4, 20, 1, 12, 21, 18, 0, 1, 3, 1, 13, 14, 2, 1, 15, 1, 2, 6, 9, 9, 12, 12, 15, 17, 15, 0, 1, 13, 16, 11, 7, 22, 1, 4, 23, 8, 18, 21, 0, 5, 18, 20, 8, 10, 22, 6, 16, 23, 5, 15, 0, 22, 4, 3, 21, 2, 7, 16, 5, 4, 9, 22, 22, 4, 3, 15, 22, 7, 19, 15, 0, 14, 12, 18, 10, 13, 4, 13, 15, 18, 9, 22, 4, 15, 8, 15, 1, 7, 14, 17, 23, 5, 17, 8, 16, 2, 19, 11, 23, 20, 21, 21, 5, 1, 13, 4, 14, 6, 11, 14, 2, 5, 14, 11, 22, 22, 5, 8, 10, 16, 3, 0, 23, 3, 14, 5, 6, 6, 10, 20, 7, 12, 4, 5, 17, 2, 8, 20, 23, 23, 0, 7, 7, 5, 15, 9, 18, 9, 22, 11, 5, 5, 10, 2, 22, 4, 18, 0, 7, 1, 5, 0, 5, 15, 21, 23, 12, 18, 3, 3, 7, 4, 7, 21, 11, 12, 12, 20, 2, 2, 9, 16, 23, 0, 1, 5], \"yaxis\": \"y\"}, {\"customdata\": [[15], [20], [9], [14], [19], [6], [8], [23], [15], [23], [7], [11], [14], [19], [23], [5], [12], [17], [9], [18], [7], [8], [23], [9], [10], [10], [12], [3], [18], [20], [6], [9], [10], [11], [17], [11], [6], [6], [14], [5], [14], [10], [21], [18], [1], [10], [6], [7], [18], [12], [19], [21], [21], [9], [18], [19], [20], [0], [9], [16], [0], [16], [22], [10], [5], [16], [6], [18], [11], [14], [15], [21], [7], [4], [7], [11], [20], [19], [5], [14], [16], [8], [10], [5], [20], [9], [16], [17], [18], [22], [19], [15], [2], [9], [0], [23], [5], [16], [17], [22], [4], [17], [22], [7], [11], [5], [19], [21], [20], [4], [7], [12], [18], [22], [18], [10], [0], [21], [9], [11], [15], [14], [6], [20], [21], [20], [3], [9], [7], [17], [9], [21], [0], [18], [22], [20], [4], [9], [17], [7], [5], [0], [21], [8], [10], [13], [21], [21], [19], [16], [2], [8], [11], [7], [9], [12], [10], [13], [7], [21], [12], [20], [8], [10], [18], [20], [16], [0], [8], [23], [16], [13], [19], [5], [19], [19], [19], [19], [17], [19], [8], [8], [10], [16], [13], [16], [10], [13], [11], [6], [20], [21], [22], [6], [4], [17], [18], [9], [8], [18], [11], [18], [18], [19], [22], [19], [20], [9], [18], [10], [11], [18], [7], [9], [12], [6], [10], [11], [16], [18], [14], [2], [2], [8], [13], [16], [18], [18], [19], [12], [2], [18], [23], [22], [17], [19], [6], [7], [14], [15], [15], [23], [18], [10], [11], [16], [6], [22], [17], [18], [12], [21], [9], [18], [23], [6], [6], [22], [16], [18], [19], [5], [18], [6], [15], [11], [14], [16], [22], [17], [6], [16], [0], [11], [12], [13], [15], [12], [2], [14], [10], [23], [18], [21], [18], [18], [2], [21], [18], [4], [11], [14], [18], [22], [17], [14], [14], [6], [16]], \"hoverlabel\": {\"namelength\": 0}, \"hovertemplate\": \"\\ubc1c\\uc0dd\\uc9c0\\uc2dc\\ub3c4=\\ucda9\\ub0a8<br>\\ubc1c\\uc0dd\\ub144\\uc6d4\\uc77c\\uc2dc=%{x}<br>\\ubc1c\\uc0dd\\uc2dc\\uac04=%{customdata[0]}<br>\\uc0ac\\ub9dd\\uc790\\uc218=%{marker.size}\", \"legendgroup\": \"\\ubc1c\\uc0dd\\uc9c0\\uc2dc\\ub3c4=\\ucda9\\ub0a8\", \"marker\": {\"color\": \"#B6E880\", \"size\": [1, 1, 1, 1, 1, 1, 1, 1, 1, 1, 1, 1, 1, 1, 1, 1, 1, 1, 1, 1, 1, 1, 1, 1, 1, 1, 1, 1, 1, 1, 1, 2, 1, 1, 1, 1, 1, 1, 1, 1, 1, 1, 1, 1, 1, 1, 1, 1, 1, 1, 1, 1, 1, 1, 1, 1, 1, 1, 1, 1, 1, 1, 1, 1, 1, 1, 1, 1, 1, 1, 1, 1, 1, 1, 1, 1, 1, 1, 1, 1, 1, 1, 1, 1, 1, 1, 1, 1, 1, 1, 1, 1, 1, 1, 1, 1, 1, 1, 1, 1, 1, 1, 1, 3, 1, 1, 1, 1, 1, 1, 2, 1, 1, 1, 1, 1, 2, 1, 1, 1, 1, 1, 1, 1, 1, 1, 1, 1, 1, 1, 1, 1, 2, 1, 1, 1, 1, 1, 1, 1, 1, 1, 1, 1, 1, 1, 1, 1, 1, 1, 2, 1, 1, 1, 1, 1, 1, 1, 1, 1, 1, 1, 2, 1, 1, 1, 1, 1, 1, 1, 1, 1, 1, 1, 1, 1, 1, 1, 1, 1, 1, 1, 1, 1, 1, 1, 1, 1, 1, 1, 1, 1, 1, 1, 1, 1, 1, 2, 1, 1, 1, 1, 1, 1, 1, 1, 1, 1, 1, 1, 1, 1, 1, 1, 1, 1, 1, 1, 1, 1, 1, 1, 1, 1, 1, 1, 1, 1, 1, 1, 1, 1, 1, 1, 1, 1, 1, 1, 1, 1, 1, 1, 1, 1, 1, 1, 1, 1, 1, 1, 1, 1, 1, 1, 1, 1, 1, 1, 1, 1, 1, 1, 1, 1, 1, 1, 1, 1, 1, 1, 1, 1, 1, 1, 1, 1, 1, 1, 1, 1, 1, 1, 1, 1, 1, 1, 1, 1, 1, 1, 1, 1, 1, 1, 1, 1, 1, 1, 1], \"sizemode\": \"area\", \"sizeref\": 0.015, \"symbol\": \"circle\"}, \"mode\": \"markers\", \"name\": \"\\ubc1c\\uc0dd\\uc9c0\\uc2dc\\ub3c4=\\ucda9\\ub0a8\", \"showlegend\": true, \"type\": \"scattergl\", \"x\": [\"2019-01-02T00:00:00\", \"2019-01-03T00:00:00\", \"2019-01-07T00:00:00\", \"2019-01-08T00:00:00\", \"2019-01-08T00:00:00\", \"2019-01-09T00:00:00\", \"2019-01-10T00:00:00\", \"2019-01-10T00:00:00\", \"2019-01-11T00:00:00\", \"2019-01-11T00:00:00\", \"2019-01-13T00:00:00\", \"2019-01-13T00:00:00\", \"2019-01-14T00:00:00\", \"2019-01-14T00:00:00\", \"2019-01-15T00:00:00\", \"2019-01-17T00:00:00\", \"2019-01-18T00:00:00\", \"2019-01-20T00:00:00\", \"2019-01-21T00:00:00\", \"2019-01-21T00:00:00\", \"2019-01-28T00:00:00\", \"2019-01-28T00:00:00\", \"2019-01-28T00:00:00\", \"2019-01-30T00:00:00\", \"2019-01-30T00:00:00\", \"2019-01-31T00:00:00\", \"2019-01-31T00:00:00\", \"2019-02-06T00:00:00\", \"2019-02-07T00:00:00\", \"2019-02-11T00:00:00\", \"2019-02-13T00:00:00\", \"2019-02-13T00:00:00\", \"2019-02-18T00:00:00\", \"2019-02-19T00:00:00\", \"2019-02-20T00:00:00\", \"2019-02-21T00:00:00\", \"2019-02-22T00:00:00\", \"2019-02-25T00:00:00\", \"2019-02-25T00:00:00\", \"2019-02-28T00:00:00\", \"2019-02-28T00:00:00\", \"2019-03-01T00:00:00\", \"2019-03-01T00:00:00\", \"2019-03-02T00:00:00\", \"2019-03-03T00:00:00\", \"2019-03-06T00:00:00\", \"2019-03-08T00:00:00\", \"2019-03-08T00:00:00\", \"2019-03-13T00:00:00\", \"2019-03-18T00:00:00\", \"2019-03-18T00:00:00\", \"2019-03-19T00:00:00\", \"2019-03-21T00:00:00\", \"2019-03-25T00:00:00\", \"2019-03-27T00:00:00\", \"2019-03-28T00:00:00\", \"2019-03-29T00:00:00\", \"2019-03-31T00:00:00\", \"2019-03-31T00:00:00\", \"2019-04-02T00:00:00\", \"2019-04-03T00:00:00\", \"2019-04-03T00:00:00\", \"2019-04-05T00:00:00\", \"2019-04-08T00:00:00\", \"2019-04-09T00:00:00\", \"2019-04-09T00:00:00\", \"2019-04-10T00:00:00\", \"2019-04-12T00:00:00\", \"2019-04-14T00:00:00\", \"2019-04-14T00:00:00\", \"2019-04-14T00:00:00\", \"2019-04-15T00:00:00\", \"2019-04-16T00:00:00\", \"2019-04-18T00:00:00\", \"2019-04-18T00:00:00\", \"2019-04-22T00:00:00\", \"2019-04-23T00:00:00\", \"2019-04-25T00:00:00\", \"2019-04-29T00:00:00\", \"2019-04-29T00:00:00\", \"2019-05-02T00:00:00\", \"2019-05-03T00:00:00\", \"2019-05-03T00:00:00\", \"2019-05-08T00:00:00\", \"2019-05-10T00:00:00\", \"2019-05-11T00:00:00\", \"2019-05-11T00:00:00\", \"2019-05-11T00:00:00\", \"2019-05-11T00:00:00\", \"2019-05-13T00:00:00\", \"2019-05-14T00:00:00\", \"2019-05-17T00:00:00\", \"2019-05-22T00:00:00\", \"2019-05-23T00:00:00\", \"2019-05-24T00:00:00\", \"2019-05-24T00:00:00\", \"2019-05-27T00:00:00\", \"2019-05-29T00:00:00\", \"2019-05-30T00:00:00\", \"2019-06-01T00:00:00\", \"2019-06-02T00:00:00\", \"2019-06-03T00:00:00\", \"2019-06-03T00:00:00\", \"2019-06-04T00:00:00\", \"2019-06-04T00:00:00\", \"2019-06-05T00:00:00\", \"2019-06-05T00:00:00\", \"2019-06-05T00:00:00\", \"2019-06-07T00:00:00\", \"2019-06-09T00:00:00\", \"2019-06-11T00:00:00\", \"2019-06-11T00:00:00\", \"2019-06-12T00:00:00\", \"2019-06-12T00:00:00\", \"2019-06-13T00:00:00\", \"2019-06-17T00:00:00\", \"2019-06-18T00:00:00\", \"2019-06-19T00:00:00\", \"2019-06-23T00:00:00\", \"2019-06-23T00:00:00\", \"2019-06-26T00:00:00\", \"2019-06-27T00:00:00\", \"2019-06-28T00:00:00\", \"2019-06-28T00:00:00\", \"2019-06-29T00:00:00\", \"2019-07-01T00:00:00\", \"2019-07-06T00:00:00\", \"2019-07-06T00:00:00\", \"2019-07-07T00:00:00\", \"2019-07-08T00:00:00\", \"2019-07-15T00:00:00\", \"2019-07-15T00:00:00\", \"2019-07-17T00:00:00\", \"2019-07-17T00:00:00\", \"2019-07-17T00:00:00\", \"2019-07-19T00:00:00\", \"2019-07-22T00:00:00\", \"2019-07-22T00:00:00\", \"2019-07-22T00:00:00\", \"2019-07-23T00:00:00\", \"2019-07-24T00:00:00\", \"2019-07-25T00:00:00\", \"2019-07-25T00:00:00\", \"2019-07-26T00:00:00\", \"2019-07-29T00:00:00\", \"2019-07-29T00:00:00\", \"2019-07-29T00:00:00\", \"2019-07-29T00:00:00\", \"2019-07-30T00:00:00\", \"2019-07-31T00:00:00\", \"2019-08-01T00:00:00\", \"2019-08-01T00:00:00\", \"2019-08-07T00:00:00\", \"2019-08-09T00:00:00\", \"2019-08-12T00:00:00\", \"2019-08-12T00:00:00\", \"2019-08-14T00:00:00\", \"2019-08-17T00:00:00\", \"2019-08-19T00:00:00\", \"2019-08-19T00:00:00\", \"2019-08-20T00:00:00\", \"2019-08-21T00:00:00\", \"2019-08-23T00:00:00\", \"2019-08-25T00:00:00\", \"2019-08-25T00:00:00\", \"2019-08-25T00:00:00\", \"2019-08-26T00:00:00\", \"2019-08-28T00:00:00\", \"2019-08-29T00:00:00\", \"2019-08-29T00:00:00\", \"2019-08-30T00:00:00\", \"2019-09-02T00:00:00\", \"2019-09-02T00:00:00\", \"2019-09-03T00:00:00\", \"2019-09-06T00:00:00\", \"2019-09-09T00:00:00\", \"2019-09-10T00:00:00\", \"2019-09-10T00:00:00\", \"2019-09-11T00:00:00\", \"2019-09-11T00:00:00\", \"2019-09-13T00:00:00\", \"2019-09-17T00:00:00\", \"2019-09-17T00:00:00\", \"2019-09-17T00:00:00\", \"2019-09-20T00:00:00\", \"2019-09-21T00:00:00\", \"2019-09-23T00:00:00\", \"2019-09-24T00:00:00\", \"2019-09-26T00:00:00\", \"2019-09-28T00:00:00\", \"2019-09-28T00:00:00\", \"2019-09-28T00:00:00\", \"2019-09-29T00:00:00\", \"2019-09-30T00:00:00\", \"2019-10-01T00:00:00\", \"2019-10-01T00:00:00\", \"2019-10-02T00:00:00\", \"2019-10-03T00:00:00\", \"2019-10-05T00:00:00\", \"2019-10-07T00:00:00\", \"2019-10-08T00:00:00\", \"2019-10-08T00:00:00\", \"2019-10-09T00:00:00\", \"2019-10-09T00:00:00\", \"2019-10-10T00:00:00\", \"2019-10-11T00:00:00\", \"2019-10-11T00:00:00\", \"2019-10-12T00:00:00\", \"2019-10-14T00:00:00\", \"2019-10-15T00:00:00\", \"2019-10-15T00:00:00\", \"2019-10-15T00:00:00\", \"2019-10-16T00:00:00\", \"2019-10-16T00:00:00\", \"2019-10-16T00:00:00\", \"2019-10-17T00:00:00\", \"2019-10-18T00:00:00\", \"2019-10-18T00:00:00\", \"2019-10-18T00:00:00\", \"2019-10-18T00:00:00\", \"2019-10-20T00:00:00\", \"2019-10-21T00:00:00\", \"2019-10-21T00:00:00\", \"2019-10-22T00:00:00\", \"2019-10-22T00:00:00\", \"2019-10-24T00:00:00\", \"2019-10-24T00:00:00\", \"2019-10-24T00:00:00\", \"2019-10-24T00:00:00\", \"2019-10-25T00:00:00\", \"2019-10-27T00:00:00\", \"2019-10-29T00:00:00\", \"2019-10-29T00:00:00\", \"2019-10-30T00:00:00\", \"2019-10-31T00:00:00\", \"2019-11-02T00:00:00\", \"2019-11-04T00:00:00\", \"2019-11-04T00:00:00\", \"2019-11-04T00:00:00\", \"2019-11-04T00:00:00\", \"2019-11-04T00:00:00\", \"2019-11-04T00:00:00\", \"2019-11-06T00:00:00\", \"2019-11-09T00:00:00\", \"2019-11-09T00:00:00\", \"2019-11-10T00:00:00\", \"2019-11-11T00:00:00\", \"2019-11-11T00:00:00\", \"2019-11-12T00:00:00\", \"2019-11-13T00:00:00\", \"2019-11-14T00:00:00\", \"2019-11-14T00:00:00\", \"2019-11-15T00:00:00\", \"2019-11-16T00:00:00\", \"2019-11-17T00:00:00\", \"2019-11-18T00:00:00\", \"2019-11-18T00:00:00\", \"2019-11-21T00:00:00\", \"2019-11-22T00:00:00\", \"2019-11-24T00:00:00\", \"2019-11-24T00:00:00\", \"2019-11-26T00:00:00\", \"2019-11-26T00:00:00\", \"2019-11-27T00:00:00\", \"2019-11-28T00:00:00\", \"2019-11-29T00:00:00\", \"2019-11-29T00:00:00\", \"2019-11-29T00:00:00\", \"2019-12-01T00:00:00\", \"2019-12-02T00:00:00\", \"2019-12-03T00:00:00\", \"2019-12-04T00:00:00\", \"2019-12-08T00:00:00\", \"2019-12-08T00:00:00\", \"2019-12-08T00:00:00\", \"2019-12-08T00:00:00\", \"2019-12-08T00:00:00\", \"2019-12-09T00:00:00\", \"2019-12-10T00:00:00\", \"2019-12-10T00:00:00\", \"2019-12-11T00:00:00\", \"2019-12-11T00:00:00\", \"2019-12-12T00:00:00\", \"2019-12-17T00:00:00\", \"2019-12-18T00:00:00\", \"2019-12-18T00:00:00\", \"2019-12-20T00:00:00\", \"2019-12-20T00:00:00\", \"2019-12-21T00:00:00\", \"2019-12-23T00:00:00\", \"2019-12-24T00:00:00\", \"2019-12-24T00:00:00\", \"2019-12-24T00:00:00\", \"2019-12-25T00:00:00\", \"2019-12-26T00:00:00\", \"2019-12-29T00:00:00\", \"2019-12-29T00:00:00\", \"2019-12-30T00:00:00\", \"2019-12-30T00:00:00\"], \"xaxis\": \"x\", \"y\": [15, 20, 9, 14, 19, 6, 8, 23, 15, 23, 7, 11, 14, 19, 23, 5, 12, 17, 9, 18, 7, 8, 23, 9, 10, 10, 12, 3, 18, 20, 6, 9, 10, 11, 17, 11, 6, 6, 14, 5, 14, 10, 21, 18, 1, 10, 6, 7, 18, 12, 19, 21, 21, 9, 18, 19, 20, 0, 9, 16, 0, 16, 22, 10, 5, 16, 6, 18, 11, 14, 15, 21, 7, 4, 7, 11, 20, 19, 5, 14, 16, 8, 10, 5, 20, 9, 16, 17, 18, 22, 19, 15, 2, 9, 0, 23, 5, 16, 17, 22, 4, 17, 22, 7, 11, 5, 19, 21, 20, 4, 7, 12, 18, 22, 18, 10, 0, 21, 9, 11, 15, 14, 6, 20, 21, 20, 3, 9, 7, 17, 9, 21, 0, 18, 22, 20, 4, 9, 17, 7, 5, 0, 21, 8, 10, 13, 21, 21, 19, 16, 2, 8, 11, 7, 9, 12, 10, 13, 7, 21, 12, 20, 8, 10, 18, 20, 16, 0, 8, 23, 16, 13, 19, 5, 19, 19, 19, 19, 17, 19, 8, 8, 10, 16, 13, 16, 10, 13, 11, 6, 20, 21, 22, 6, 4, 17, 18, 9, 8, 18, 11, 18, 18, 19, 22, 19, 20, 9, 18, 10, 11, 18, 7, 9, 12, 6, 10, 11, 16, 18, 14, 2, 2, 8, 13, 16, 18, 18, 19, 12, 2, 18, 23, 22, 17, 19, 6, 7, 14, 15, 15, 23, 18, 10, 11, 16, 6, 22, 17, 18, 12, 21, 9, 18, 23, 6, 6, 22, 16, 18, 19, 5, 18, 6, 15, 11, 14, 16, 22, 17, 6, 16, 0, 11, 12, 13, 15, 12, 2, 14, 10, 23, 18, 21, 18, 18, 2, 21, 18, 4, 11, 14, 18, 22, 17, 14, 14, 6, 16], \"yaxis\": \"y\"}, {\"customdata\": [[16], [18], [1], [4], [18], [11], [13], [23], [10], [16], [8], [23], [15], [20], [15], [22], [21], [19], [15], [20], [19], [17], [16], [6], [19], [6], [23], [6], [7], [19], [9], [5], [19], [10], [3], [10], [13], [7], [13], [21], [8], [18], [20], [22], [13], [19], [20], [21], [7], [21], [17], [9], [11], [9], [18], [12], [20], [8], [9], [18], [14], [17], [23], [16], [19], [16], [7], [10], [16], [15], [15], [13], [10], [5], [9], [1], [14], [9], [14], [11], [21], [8], [12], [23], [21], [20], [15], [19], [10], [7], [14], [1], [11], [20], [4], [5], [7], [13], [14], [21], [18], [13], [9], [23], [20], [6], [18], [8], [2], [8], [21], [7], [11], [14], [9], [14], [22], [13], [22], [16], [13], [18], [22], [5], [18], [20], [7], [14], [19], [11], [7], [7], [14], [15], [13], [14], [16], [11], [15], [19], [12], [14], [20], [7], [15], [7], [16], [15], [1], [9], [10], [14], [3], [9], [8], [5], [10], [16], [7], [9], [5], [21], [21], [10], [19], [20], [3], [8], [19], [14], [18], [16], [16], [18], [19], [18], [21], [14], [20], [18], [11], [18], [11], [12], [10], [5], [10], [14], [19], [16], [5], [18], [6], [8], [19], [10], [12], [18], [20], [15], [5], [18], [19], [4], [16], [18], [7], [13], [14], [17], [1], [17], [5], [17], [18], [22], [17], [17], [3], [7], [10], [6], [0], [19], [13], [17], [20], [20]], \"hoverlabel\": {\"namelength\": 0}, \"hovertemplate\": \"\\ubc1c\\uc0dd\\uc9c0\\uc2dc\\ub3c4=\\uc804\\ubd81<br>\\ubc1c\\uc0dd\\ub144\\uc6d4\\uc77c\\uc2dc=%{x}<br>\\ubc1c\\uc0dd\\uc2dc\\uac04=%{customdata[0]}<br>\\uc0ac\\ub9dd\\uc790\\uc218=%{marker.size}\", \"legendgroup\": \"\\ubc1c\\uc0dd\\uc9c0\\uc2dc\\ub3c4=\\uc804\\ubd81\", \"marker\": {\"color\": \"#FF97FF\", \"size\": [1, 1, 1, 1, 1, 1, 1, 1, 1, 1, 1, 1, 1, 1, 1, 1, 2, 1, 1, 1, 1, 1, 1, 1, 1, 1, 1, 1, 1, 1, 1, 1, 1, 1, 1, 1, 1, 1, 1, 1, 1, 1, 1, 1, 1, 1, 1, 1, 1, 1, 1, 1, 2, 1, 1, 1, 1, 1, 1, 1, 1, 1, 1, 1, 2, 1, 1, 1, 1, 1, 1, 1, 1, 1, 1, 1, 1, 1, 1, 1, 1, 1, 1, 1, 1, 1, 1, 1, 1, 1, 1, 1, 1, 1, 1, 1, 1, 1, 1, 1, 1, 1, 1, 1, 1, 3, 1, 1, 1, 1, 1, 1, 1, 1, 1, 1, 1, 1, 1, 1, 1, 1, 1, 2, 1, 1, 1, 1, 1, 1, 1, 1, 1, 1, 1, 1, 1, 1, 1, 1, 1, 2, 1, 1, 1, 1, 1, 1, 1, 1, 1, 1, 1, 1, 1, 1, 1, 1, 1, 1, 1, 1, 2, 1, 1, 1, 1, 1, 1, 1, 1, 1, 1, 1, 1, 1, 1, 1, 2, 1, 1, 1, 1, 1, 1, 1, 1, 1, 1, 1, 1, 1, 1, 1, 1, 1, 1, 1, 1, 1, 1, 1, 2, 1, 1, 1, 1, 1, 1, 1, 1, 1, 1, 1, 1, 1, 1, 1, 1, 1, 1, 1, 1, 1, 1, 1, 1, 1], \"sizemode\": \"area\", \"sizeref\": 0.015, \"symbol\": \"circle\"}, \"mode\": \"markers\", \"name\": \"\\ubc1c\\uc0dd\\uc9c0\\uc2dc\\ub3c4=\\uc804\\ubd81\", \"showlegend\": true, \"type\": \"scattergl\", \"x\": [\"2019-01-02T00:00:00\", \"2019-01-02T00:00:00\", \"2019-01-05T00:00:00\", \"2019-01-06T00:00:00\", \"2019-01-06T00:00:00\", \"2019-01-19T00:00:00\", \"2019-01-23T00:00:00\", \"2019-01-25T00:00:00\", \"2019-01-28T00:00:00\", \"2019-01-28T00:00:00\", \"2019-01-29T00:00:00\", \"2019-01-29T00:00:00\", \"2019-01-30T00:00:00\", \"2019-01-31T00:00:00\", \"2019-02-01T00:00:00\", \"2019-02-01T00:00:00\", \"2019-02-04T00:00:00\", \"2019-02-06T00:00:00\", \"2019-02-15T00:00:00\", \"2019-02-15T00:00:00\", \"2019-02-16T00:00:00\", \"2019-02-18T00:00:00\", \"2019-02-20T00:00:00\", \"2019-02-23T00:00:00\", \"2019-02-23T00:00:00\", \"2019-02-27T00:00:00\", \"2019-02-27T00:00:00\", \"2019-02-28T00:00:00\", \"2019-02-28T00:00:00\", \"2019-02-28T00:00:00\", \"2019-03-03T00:00:00\", \"2019-03-05T00:00:00\", \"2019-03-05T00:00:00\", \"2019-03-09T00:00:00\", \"2019-03-12T00:00:00\", \"2019-03-12T00:00:00\", \"2019-03-12T00:00:00\", \"2019-03-13T00:00:00\", \"2019-03-13T00:00:00\", \"2019-03-13T00:00:00\", \"2019-03-20T00:00:00\", \"2019-03-22T00:00:00\", \"2019-03-22T00:00:00\", \"2019-03-22T00:00:00\", \"2019-03-26T00:00:00\", \"2019-03-28T00:00:00\", \"2019-03-29T00:00:00\", \"2019-04-03T00:00:00\", \"2019-04-06T00:00:00\", \"2019-04-06T00:00:00\", \"2019-04-11T00:00:00\", \"2019-04-13T00:00:00\", \"2019-04-19T00:00:00\", \"2019-04-20T00:00:00\", \"2019-04-21T00:00:00\", \"2019-04-22T00:00:00\", \"2019-04-24T00:00:00\", \"2019-04-26T00:00:00\", \"2019-04-27T00:00:00\", \"2019-04-28T00:00:00\", \"2019-04-30T00:00:00\", \"2019-04-30T00:00:00\", \"2019-05-01T00:00:00\", \"2019-05-02T00:00:00\", \"2019-05-02T00:00:00\", \"2019-05-05T00:00:00\", \"2019-05-07T00:00:00\", \"2019-05-07T00:00:00\", \"2019-05-09T00:00:00\", \"2019-05-10T00:00:00\", \"2019-05-11T00:00:00\", \"2019-05-12T00:00:00\", \"2019-05-13T00:00:00\", \"2019-05-15T00:00:00\", \"2019-05-17T00:00:00\", \"2019-05-19T00:00:00\", \"2019-05-20T00:00:00\", \"2019-05-22T00:00:00\", \"2019-05-23T00:00:00\", \"2019-05-24T00:00:00\", \"2019-05-29T00:00:00\", \"2019-05-30T00:00:00\", \"2019-05-31T00:00:00\", \"2019-05-31T00:00:00\", \"2019-06-01T00:00:00\", \"2019-06-03T00:00:00\", \"2019-06-05T00:00:00\", \"2019-06-05T00:00:00\", \"2019-06-06T00:00:00\", \"2019-06-10T00:00:00\", \"2019-06-10T00:00:00\", \"2019-06-14T00:00:00\", \"2019-06-14T00:00:00\", \"2019-06-14T00:00:00\", \"2019-06-17T00:00:00\", \"2019-06-18T00:00:00\", \"2019-06-18T00:00:00\", \"2019-06-18T00:00:00\", \"2019-06-18T00:00:00\", \"2019-06-18T00:00:00\", \"2019-06-21T00:00:00\", \"2019-06-22T00:00:00\", \"2019-06-23T00:00:00\", \"2019-06-23T00:00:00\", \"2019-07-02T00:00:00\", \"2019-07-09T00:00:00\", \"2019-07-09T00:00:00\", \"2019-07-10T00:00:00\", \"2019-07-11T00:00:00\", \"2019-07-11T00:00:00\", \"2019-07-15T00:00:00\", \"2019-07-17T00:00:00\", \"2019-07-27T00:00:00\", \"2019-07-28T00:00:00\", \"2019-07-29T00:00:00\", \"2019-07-30T00:00:00\", \"2019-07-30T00:00:00\", \"2019-08-01T00:00:00\", \"2019-08-02T00:00:00\", \"2019-08-04T00:00:00\", \"2019-08-07T00:00:00\", \"2019-08-08T00:00:00\", \"2019-08-08T00:00:00\", \"2019-08-09T00:00:00\", \"2019-08-09T00:00:00\", \"2019-08-12T00:00:00\", \"2019-08-13T00:00:00\", \"2019-08-13T00:00:00\", \"2019-08-14T00:00:00\", \"2019-08-15T00:00:00\", \"2019-08-16T00:00:00\", \"2019-08-17T00:00:00\", \"2019-08-17T00:00:00\", \"2019-08-20T00:00:00\", \"2019-08-21T00:00:00\", \"2019-08-23T00:00:00\", \"2019-08-23T00:00:00\", \"2019-08-24T00:00:00\", \"2019-08-29T00:00:00\", \"2019-09-01T00:00:00\", \"2019-09-05T00:00:00\", \"2019-09-09T00:00:00\", \"2019-09-11T00:00:00\", \"2019-09-15T00:00:00\", \"2019-09-15T00:00:00\", \"2019-09-17T00:00:00\", \"2019-09-18T00:00:00\", \"2019-09-19T00:00:00\", \"2019-09-20T00:00:00\", \"2019-09-20T00:00:00\", \"2019-09-20T00:00:00\", \"2019-09-23T00:00:00\", \"2019-09-25T00:00:00\", \"2019-09-26T00:00:00\", \"2019-09-27T00:00:00\", \"2019-09-28T00:00:00\", \"2019-09-28T00:00:00\", \"2019-09-28T00:00:00\", \"2019-09-30T00:00:00\", \"2019-09-30T00:00:00\", \"2019-10-02T00:00:00\", \"2019-10-02T00:00:00\", \"2019-10-03T00:00:00\", \"2019-10-04T00:00:00\", \"2019-10-09T00:00:00\", \"2019-10-09T00:00:00\", \"2019-10-10T00:00:00\", \"2019-10-11T00:00:00\", \"2019-10-14T00:00:00\", \"2019-10-16T00:00:00\", \"2019-10-16T00:00:00\", \"2019-10-18T00:00:00\", \"2019-10-19T00:00:00\", \"2019-10-19T00:00:00\", \"2019-10-19T00:00:00\", \"2019-10-20T00:00:00\", \"2019-10-20T00:00:00\", \"2019-10-21T00:00:00\", \"2019-10-21T00:00:00\", \"2019-10-24T00:00:00\", \"2019-10-25T00:00:00\", \"2019-10-25T00:00:00\", \"2019-10-26T00:00:00\", \"2019-10-26T00:00:00\", \"2019-10-27T00:00:00\", \"2019-10-28T00:00:00\", \"2019-10-29T00:00:00\", \"2019-10-31T00:00:00\", \"2019-10-31T00:00:00\", \"2019-11-02T00:00:00\", \"2019-11-03T00:00:00\", \"2019-11-03T00:00:00\", \"2019-11-05T00:00:00\", \"2019-11-05T00:00:00\", \"2019-11-05T00:00:00\", \"2019-11-06T00:00:00\", \"2019-11-06T00:00:00\", \"2019-11-07T00:00:00\", \"2019-11-07T00:00:00\", \"2019-11-08T00:00:00\", \"2019-11-09T00:00:00\", \"2019-11-12T00:00:00\", \"2019-11-15T00:00:00\", \"2019-11-16T00:00:00\", \"2019-11-16T00:00:00\", \"2019-11-19T00:00:00\", \"2019-11-22T00:00:00\", \"2019-11-22T00:00:00\", \"2019-11-23T00:00:00\", \"2019-11-25T00:00:00\", \"2019-11-26T00:00:00\", \"2019-12-03T00:00:00\", \"2019-12-04T00:00:00\", \"2019-12-04T00:00:00\", \"2019-12-05T00:00:00\", \"2019-12-07T00:00:00\", \"2019-12-10T00:00:00\", \"2019-12-11T00:00:00\", \"2019-12-16T00:00:00\", \"2019-12-16T00:00:00\", \"2019-12-16T00:00:00\", \"2019-12-19T00:00:00\", \"2019-12-21T00:00:00\", \"2019-12-22T00:00:00\", \"2019-12-23T00:00:00\", \"2019-12-25T00:00:00\", \"2019-12-25T00:00:00\", \"2019-12-27T00:00:00\"], \"xaxis\": \"x\", \"y\": [16, 18, 1, 4, 18, 11, 13, 23, 10, 16, 8, 23, 15, 20, 15, 22, 21, 19, 15, 20, 19, 17, 16, 6, 19, 6, 23, 6, 7, 19, 9, 5, 19, 10, 3, 10, 13, 7, 13, 21, 8, 18, 20, 22, 13, 19, 20, 21, 7, 21, 17, 9, 11, 9, 18, 12, 20, 8, 9, 18, 14, 17, 23, 16, 19, 16, 7, 10, 16, 15, 15, 13, 10, 5, 9, 1, 14, 9, 14, 11, 21, 8, 12, 23, 21, 20, 15, 19, 10, 7, 14, 1, 11, 20, 4, 5, 7, 13, 14, 21, 18, 13, 9, 23, 20, 6, 18, 8, 2, 8, 21, 7, 11, 14, 9, 14, 22, 13, 22, 16, 13, 18, 22, 5, 18, 20, 7, 14, 19, 11, 7, 7, 14, 15, 13, 14, 16, 11, 15, 19, 12, 14, 20, 7, 15, 7, 16, 15, 1, 9, 10, 14, 3, 9, 8, 5, 10, 16, 7, 9, 5, 21, 21, 10, 19, 20, 3, 8, 19, 14, 18, 16, 16, 18, 19, 18, 21, 14, 20, 18, 11, 18, 11, 12, 10, 5, 10, 14, 19, 16, 5, 18, 6, 8, 19, 10, 12, 18, 20, 15, 5, 18, 19, 4, 16, 18, 7, 13, 14, 17, 1, 17, 5, 17, 18, 22, 17, 17, 3, 7, 10, 6, 0, 19, 13, 17, 20, 20], \"yaxis\": \"y\"}, {\"customdata\": [[18], [23], [5], [2], [18], [16], [19], [20], [7], [23], [12], [15], [10], [18], [17], [18], [12], [15], [16], [11], [10], [9], [13], [14], [14], [2], [13], [19], [5], [17], [10], [6], [20], [14], [0], [20], [16], [9], [11], [13], [12], [1], [17], [3], [5], [19], [23], [3], [18], [15], [17], [19], [17], [3], [17], [7], [10], [19], [0], [0], [5], [10], [6], [23], [10], [20], [21], [10], [20], [22], [23], [8], [6], [11], [19], [5], [10], [15], [5], [11], [12], [1], [7], [11], [1], [21], [19], [14], [19], [22], [10], [1], [14], [6], [9], [17], [13], [19], [1], [23], [18], [13], [14], [7], [12], [14], [2], [1], [10], [7], [11], [14], [16], [10], [14], [7], [8], [4], [6], [19], [10], [10], [14], [4], [21], [5], [18], [21], [8], [7], [5], [22], [0], [17], [10], [21], [20], [5], [9], [6], [10], [20], [13], [13], [15], [8], [20], [16], [8], [4], [17], [12], [16], [11], [10], [6], [9], [11], [19], [14], [5], [19], [19], [20], [0], [21], [15], [8], [11], [19], [2], [10], [19], [6], [23], [0], [22], [0], [4], [23], [21], [13], [8], [21], [13], [9], [4], [22], [8], [13], [2], [23], [5], [11], [11], [16], [15], [15], [15], [16], [12], [18], [10], [2], [18], [0], [23], [3], [13], [18], [19], [20], [5], [19], [19], [11], [11], [19], [7], [21], [18], [2], [6], [12], [18], [21], [6], [19], [0], [18], [18], [16], [19], [14], [10], [20], [5], [15], [18], [21], [6], [20], [10], [8], [17], [8], [12], [9], [14], [17], [18], [12], [16], [17], [18], [18], [2], [11], [5], [8], [10], [11], [11], [19], [14], [22], [9], [18], [23], [13], [18], [20], [10], [8], [5], [21], [18], [16], [20], [22], [17], [0], [6], [6], [9], [6], [12], [5], [16]], \"hoverlabel\": {\"namelength\": 0}, \"hovertemplate\": \"\\ubc1c\\uc0dd\\uc9c0\\uc2dc\\ub3c4=\\uacbd\\ub0a8<br>\\ubc1c\\uc0dd\\ub144\\uc6d4\\uc77c\\uc2dc=%{x}<br>\\ubc1c\\uc0dd\\uc2dc\\uac04=%{customdata[0]}<br>\\uc0ac\\ub9dd\\uc790\\uc218=%{marker.size}\", \"legendgroup\": \"\\ubc1c\\uc0dd\\uc9c0\\uc2dc\\ub3c4=\\uacbd\\ub0a8\", \"marker\": {\"color\": \"#FECB52\", \"size\": [1, 1, 1, 1, 1, 1, 1, 1, 1, 1, 1, 1, 1, 1, 1, 1, 1, 1, 1, 1, 1, 1, 1, 1, 1, 1, 1, 1, 1, 1, 1, 1, 1, 1, 1, 1, 1, 1, 1, 1, 1, 1, 1, 1, 1, 1, 1, 2, 1, 1, 1, 1, 1, 1, 1, 1, 1, 1, 1, 1, 1, 1, 1, 1, 1, 1, 1, 1, 1, 1, 1, 1, 1, 1, 1, 1, 1, 2, 1, 1, 1, 1, 1, 1, 1, 1, 1, 1, 1, 1, 1, 1, 1, 1, 1, 1, 1, 1, 1, 1, 1, 1, 1, 1, 1, 1, 1, 1, 1, 1, 1, 1, 1, 1, 1, 1, 1, 1, 1, 1, 1, 1, 1, 1, 1, 1, 1, 1, 1, 1, 1, 1, 1, 1, 1, 1, 1, 1, 1, 1, 1, 1, 1, 1, 1, 1, 1, 1, 1, 1, 1, 1, 1, 1, 1, 1, 1, 1, 1, 1, 1, 1, 1, 1, 1, 1, 1, 1, 1, 1, 1, 1, 1, 1, 1, 1, 1, 1, 1, 1, 1, 1, 1, 1, 1, 1, 1, 1, 1, 1, 1, 1, 1, 1, 1, 1, 1, 1, 1, 1, 1, 1, 1, 1, 1, 1, 1, 1, 2, 1, 1, 1, 1, 1, 1, 1, 1, 1, 1, 1, 1, 1, 1, 1, 1, 1, 1, 1, 1, 1, 1, 2, 1, 1, 1, 1, 1, 1, 1, 1, 1, 1, 1, 1, 1, 1, 1, 1, 1, 1, 1, 1, 1, 1, 1, 1, 1, 1, 1, 1, 1, 1, 1, 1, 1, 1, 1, 1, 1, 1, 1, 1, 1, 1, 1, 1, 1, 1, 1, 1, 1, 1, 1, 1, 1, 1, 1, 1, 1], \"sizemode\": \"area\", \"sizeref\": 0.015, \"symbol\": \"circle\"}, \"mode\": \"markers\", \"name\": \"\\ubc1c\\uc0dd\\uc9c0\\uc2dc\\ub3c4=\\uacbd\\ub0a8\", \"showlegend\": true, \"type\": \"scattergl\", \"x\": [\"2019-01-02T00:00:00\", \"2019-01-02T00:00:00\", \"2019-01-07T00:00:00\", \"2019-01-08T00:00:00\", \"2019-01-08T00:00:00\", \"2019-01-10T00:00:00\", \"2019-01-16T00:00:00\", \"2019-01-16T00:00:00\", \"2019-01-17T00:00:00\", \"2019-01-20T00:00:00\", \"2019-01-23T00:00:00\", \"2019-01-23T00:00:00\", \"2019-01-25T00:00:00\", \"2019-01-25T00:00:00\", \"2019-01-28T00:00:00\", \"2019-01-28T00:00:00\", \"2019-01-29T00:00:00\", \"2019-01-29T00:00:00\", \"2019-01-29T00:00:00\", \"2019-01-30T00:00:00\", \"2019-02-06T00:00:00\", \"2019-02-07T00:00:00\", \"2019-02-09T00:00:00\", \"2019-02-13T00:00:00\", \"2019-02-13T00:00:00\", \"2019-02-16T00:00:00\", \"2019-02-16T00:00:00\", \"2019-02-16T00:00:00\", \"2019-02-18T00:00:00\", \"2019-02-18T00:00:00\", \"2019-02-19T00:00:00\", \"2019-02-23T00:00:00\", \"2019-02-24T00:00:00\", \"2019-02-25T00:00:00\", \"2019-02-27T00:00:00\", \"2019-03-02T00:00:00\", \"2019-03-04T00:00:00\", \"2019-03-07T00:00:00\", \"2019-03-07T00:00:00\", \"2019-03-07T00:00:00\", \"2019-03-08T00:00:00\", \"2019-03-09T00:00:00\", \"2019-03-13T00:00:00\", \"2019-03-15T00:00:00\", \"2019-03-16T00:00:00\", \"2019-03-16T00:00:00\", \"2019-03-16T00:00:00\", \"2019-03-17T00:00:00\", \"2019-03-18T00:00:00\", \"2019-03-25T00:00:00\", \"2019-03-25T00:00:00\", \"2019-03-26T00:00:00\", \"2019-03-27T00:00:00\", \"2019-03-28T00:00:00\", \"2019-03-28T00:00:00\", \"2019-04-01T00:00:00\", \"2019-04-02T00:00:00\", \"2019-04-03T00:00:00\", \"2019-04-07T00:00:00\", \"2019-04-07T00:00:00\", \"2019-04-07T00:00:00\", \"2019-04-07T00:00:00\", \"2019-04-08T00:00:00\", \"2019-04-09T00:00:00\", \"2019-04-12T00:00:00\", \"2019-04-12T00:00:00\", \"2019-04-12T00:00:00\", \"2019-04-13T00:00:00\", \"2019-04-14T00:00:00\", \"2019-04-14T00:00:00\", \"2019-04-14T00:00:00\", \"2019-04-15T00:00:00\", \"2019-04-16T00:00:00\", \"2019-04-16T00:00:00\", \"2019-04-16T00:00:00\", \"2019-04-17T00:00:00\", \"2019-04-18T00:00:00\", \"2019-04-22T00:00:00\", \"2019-04-25T00:00:00\", \"2019-04-25T00:00:00\", \"2019-04-26T00:00:00\", \"2019-05-01T00:00:00\", \"2019-05-04T00:00:00\", \"2019-05-04T00:00:00\", \"2019-05-05T00:00:00\", \"2019-05-05T00:00:00\", \"2019-05-06T00:00:00\", \"2019-05-07T00:00:00\", \"2019-05-10T00:00:00\", \"2019-05-10T00:00:00\", \"2019-05-14T00:00:00\", \"2019-05-16T00:00:00\", \"2019-05-19T00:00:00\", \"2019-05-20T00:00:00\", \"2019-05-20T00:00:00\", \"2019-05-22T00:00:00\", \"2019-05-23T00:00:00\", \"2019-05-23T00:00:00\", \"2019-05-24T00:00:00\", \"2019-05-24T00:00:00\", \"2019-05-26T00:00:00\", \"2019-05-27T00:00:00\", \"2019-05-27T00:00:00\", \"2019-05-28T00:00:00\", \"2019-05-29T00:00:00\", \"2019-05-29T00:00:00\", \"2019-06-01T00:00:00\", \"2019-06-04T00:00:00\", \"2019-06-04T00:00:00\", \"2019-06-05T00:00:00\", \"2019-06-07T00:00:00\", \"2019-06-07T00:00:00\", \"2019-06-07T00:00:00\", \"2019-06-10T00:00:00\", \"2019-06-10T00:00:00\", \"2019-06-11T00:00:00\", \"2019-06-13T00:00:00\", \"2019-06-18T00:00:00\", \"2019-06-20T00:00:00\", \"2019-06-20T00:00:00\", \"2019-06-21T00:00:00\", \"2019-06-21T00:00:00\", \"2019-06-22T00:00:00\", \"2019-06-23T00:00:00\", \"2019-06-26T00:00:00\", \"2019-06-28T00:00:00\", \"2019-06-29T00:00:00\", \"2019-06-30T00:00:00\", \"2019-07-01T00:00:00\", \"2019-07-04T00:00:00\", \"2019-07-05T00:00:00\", \"2019-07-05T00:00:00\", \"2019-07-07T00:00:00\", \"2019-07-07T00:00:00\", \"2019-07-10T00:00:00\", \"2019-07-10T00:00:00\", \"2019-07-12T00:00:00\", \"2019-07-14T00:00:00\", \"2019-07-15T00:00:00\", \"2019-07-17T00:00:00\", \"2019-07-23T00:00:00\", \"2019-07-24T00:00:00\", \"2019-07-25T00:00:00\", \"2019-07-25T00:00:00\", \"2019-07-26T00:00:00\", \"2019-07-29T00:00:00\", \"2019-07-29T00:00:00\", \"2019-07-31T00:00:00\", \"2019-08-02T00:00:00\", \"2019-08-03T00:00:00\", \"2019-08-03T00:00:00\", \"2019-08-04T00:00:00\", \"2019-08-05T00:00:00\", \"2019-08-07T00:00:00\", \"2019-08-09T00:00:00\", \"2019-08-14T00:00:00\", \"2019-08-15T00:00:00\", \"2019-08-17T00:00:00\", \"2019-08-17T00:00:00\", \"2019-08-18T00:00:00\", \"2019-08-19T00:00:00\", \"2019-08-19T00:00:00\", \"2019-08-20T00:00:00\", \"2019-08-20T00:00:00\", \"2019-08-22T00:00:00\", \"2019-08-23T00:00:00\", \"2019-08-24T00:00:00\", \"2019-08-25T00:00:00\", \"2019-08-29T00:00:00\", \"2019-08-29T00:00:00\", \"2019-09-01T00:00:00\", \"2019-09-02T00:00:00\", \"2019-09-02T00:00:00\", \"2019-09-03T00:00:00\", \"2019-09-04T00:00:00\", \"2019-09-05T00:00:00\", \"2019-09-05T00:00:00\", \"2019-09-06T00:00:00\", \"2019-09-08T00:00:00\", \"2019-09-09T00:00:00\", \"2019-09-11T00:00:00\", \"2019-09-12T00:00:00\", \"2019-09-16T00:00:00\", \"2019-09-16T00:00:00\", \"2019-09-18T00:00:00\", \"2019-09-19T00:00:00\", \"2019-09-21T00:00:00\", \"2019-09-21T00:00:00\", \"2019-09-22T00:00:00\", \"2019-09-23T00:00:00\", \"2019-09-24T00:00:00\", \"2019-09-24T00:00:00\", \"2019-09-26T00:00:00\", \"2019-09-26T00:00:00\", \"2019-09-26T00:00:00\", \"2019-09-26T00:00:00\", \"2019-09-27T00:00:00\", \"2019-10-01T00:00:00\", \"2019-10-03T00:00:00\", \"2019-10-03T00:00:00\", \"2019-10-04T00:00:00\", \"2019-10-04T00:00:00\", \"2019-10-05T00:00:00\", \"2019-10-06T00:00:00\", \"2019-10-07T00:00:00\", \"2019-10-09T00:00:00\", \"2019-10-10T00:00:00\", \"2019-10-13T00:00:00\", \"2019-10-16T00:00:00\", \"2019-10-16T00:00:00\", \"2019-10-16T00:00:00\", \"2019-10-16T00:00:00\", \"2019-10-21T00:00:00\", \"2019-10-24T00:00:00\", \"2019-10-24T00:00:00\", \"2019-10-25T00:00:00\", \"2019-10-25T00:00:00\", \"2019-10-25T00:00:00\", \"2019-10-27T00:00:00\", \"2019-10-27T00:00:00\", \"2019-10-28T00:00:00\", \"2019-10-30T00:00:00\", \"2019-10-31T00:00:00\", \"2019-10-31T00:00:00\", \"2019-10-31T00:00:00\", \"2019-10-31T00:00:00\", \"2019-11-01T00:00:00\", \"2019-11-01T00:00:00\", \"2019-11-02T00:00:00\", \"2019-11-02T00:00:00\", \"2019-11-02T00:00:00\", \"2019-11-03T00:00:00\", \"2019-11-03T00:00:00\", \"2019-11-05T00:00:00\", \"2019-11-06T00:00:00\", \"2019-11-06T00:00:00\", \"2019-11-08T00:00:00\", \"2019-11-08T00:00:00\", \"2019-11-09T00:00:00\", \"2019-11-09T00:00:00\", \"2019-11-10T00:00:00\", \"2019-11-13T00:00:00\", \"2019-11-15T00:00:00\", \"2019-11-18T00:00:00\", \"2019-11-18T00:00:00\", \"2019-11-19T00:00:00\", \"2019-11-19T00:00:00\", \"2019-11-20T00:00:00\", \"2019-11-20T00:00:00\", \"2019-11-20T00:00:00\", \"2019-11-21T00:00:00\", \"2019-11-28T00:00:00\", \"2019-11-28T00:00:00\", \"2019-11-28T00:00:00\", \"2019-11-28T00:00:00\", \"2019-11-28T00:00:00\", \"2019-12-01T00:00:00\", \"2019-12-02T00:00:00\", \"2019-12-03T00:00:00\", \"2019-12-03T00:00:00\", \"2019-12-04T00:00:00\", \"2019-12-04T00:00:00\", \"2019-12-06T00:00:00\", \"2019-12-06T00:00:00\", \"2019-12-07T00:00:00\", \"2019-12-07T00:00:00\", \"2019-12-08T00:00:00\", \"2019-12-08T00:00:00\", \"2019-12-09T00:00:00\", \"2019-12-10T00:00:00\", \"2019-12-12T00:00:00\", \"2019-12-12T00:00:00\", \"2019-12-13T00:00:00\", \"2019-12-14T00:00:00\", \"2019-12-15T00:00:00\", \"2019-12-16T00:00:00\", \"2019-12-17T00:00:00\", \"2019-12-18T00:00:00\", \"2019-12-19T00:00:00\", \"2019-12-19T00:00:00\", \"2019-12-20T00:00:00\", \"2019-12-21T00:00:00\", \"2019-12-21T00:00:00\", \"2019-12-22T00:00:00\", \"2019-12-26T00:00:00\", \"2019-12-27T00:00:00\", \"2019-12-27T00:00:00\", \"2019-12-28T00:00:00\", \"2019-12-31T00:00:00\"], \"xaxis\": \"x\", \"y\": [18, 23, 5, 2, 18, 16, 19, 20, 7, 23, 12, 15, 10, 18, 17, 18, 12, 15, 16, 11, 10, 9, 13, 14, 14, 2, 13, 19, 5, 17, 10, 6, 20, 14, 0, 20, 16, 9, 11, 13, 12, 1, 17, 3, 5, 19, 23, 3, 18, 15, 17, 19, 17, 3, 17, 7, 10, 19, 0, 0, 5, 10, 6, 23, 10, 20, 21, 10, 20, 22, 23, 8, 6, 11, 19, 5, 10, 15, 5, 11, 12, 1, 7, 11, 1, 21, 19, 14, 19, 22, 10, 1, 14, 6, 9, 17, 13, 19, 1, 23, 18, 13, 14, 7, 12, 14, 2, 1, 10, 7, 11, 14, 16, 10, 14, 7, 8, 4, 6, 19, 10, 10, 14, 4, 21, 5, 18, 21, 8, 7, 5, 22, 0, 17, 10, 21, 20, 5, 9, 6, 10, 20, 13, 13, 15, 8, 20, 16, 8, 4, 17, 12, 16, 11, 10, 6, 9, 11, 19, 14, 5, 19, 19, 20, 0, 21, 15, 8, 11, 19, 2, 10, 19, 6, 23, 0, 22, 0, 4, 23, 21, 13, 8, 21, 13, 9, 4, 22, 8, 13, 2, 23, 5, 11, 11, 16, 15, 15, 15, 16, 12, 18, 10, 2, 18, 0, 23, 3, 13, 18, 19, 20, 5, 19, 19, 11, 11, 19, 7, 21, 18, 2, 6, 12, 18, 21, 6, 19, 0, 18, 18, 16, 19, 14, 10, 20, 5, 15, 18, 21, 6, 20, 10, 8, 17, 8, 12, 9, 14, 17, 18, 12, 16, 17, 18, 18, 2, 11, 5, 8, 10, 11, 11, 19, 14, 22, 9, 18, 23, 13, 18, 20, 10, 8, 5, 21, 18, 16, 20, 22, 17, 0, 6, 6, 9, 6, 12, 5, 16], \"yaxis\": \"y\"}, {\"customdata\": [[3], [17], [15], [15], [18], [11], [9], [11], [21], [11], [18], [8], [13], [14], [15], [18], [9], [7], [10], [20], [7], [18], [19], [12], [13], [19], [23], [18], [10], [9], [20], [18], [7], [6], [20], [6], [12], [14], [14], [12], [9], [17], [8], [15], [10], [15], [18], [18], [19], [21], [5], [6], [14], [10], [17], [19], [7], [15], [7], [19], [21], [7], [11], [7], [12], [14], [18], [23], [7], [19], [11], [10], [15], [19], [6], [11], [19], [15], [15], [15], [13], [22], [6], [16], [14], [6], [12], [12], [2], [14], [4], [11], [18], [0], [22], [3], [14], [15], [19], [21], [21], [13], [14], [22], [14], [18], [23], [18], [21], [11], [11], [8], [14], [13], [19], [19], [11], [14], [6], [2], [8], [23], [19], [6], [7], [15], [1], [17], [11], [7], [19], [21], [20], [11], [8], [12], [16], [10], [13], [16], [9], [11], [16], [11], [9], [16], [1], [14], [19], [11], [13], [15], [11], [9], [14], [18], [15], [23], [1], [18], [10], [23], [0], [9], [21], [9], [17], [0], [10], [17], [11], [18], [13], [19], [8], [10], [20], [15], [5], [11], [11], [19], [0], [8], [14], [21], [14], [14], [9], [11], [14], [18], [1], [7], [16], [14], [19], [8], [18], [12], [19], [12], [2], [12], [17], [8], [13], [16], [18], [5], [14], [19], [10], [18], [14], [10], [13], [13], [14], [17], [18], [7], [19], [7], [9], [17], [8], [21], [5], [17], [15], [15], [14], [16], [18], [9], [12], [18], [18], [7], [18], [20], [7], [16], [10], [5], [6], [3], [9], [10], [20], [23], [4], [4], [7], [10], [6], [11], [16], [4], [18], [13], [14], [6], [17], [5], [17], [1], [8], [22], [6], [8], [17], [14], [17], [6], [18]], \"hoverlabel\": {\"namelength\": 0}, \"hovertemplate\": \"\\ubc1c\\uc0dd\\uc9c0\\uc2dc\\ub3c4=\\uc804\\ub0a8<br>\\ubc1c\\uc0dd\\ub144\\uc6d4\\uc77c\\uc2dc=%{x}<br>\\ubc1c\\uc0dd\\uc2dc\\uac04=%{customdata[0]}<br>\\uc0ac\\ub9dd\\uc790\\uc218=%{marker.size}\", \"legendgroup\": \"\\ubc1c\\uc0dd\\uc9c0\\uc2dc\\ub3c4=\\uc804\\ub0a8\", \"marker\": {\"color\": \"#636efa\", \"size\": [1, 1, 1, 1, 1, 1, 1, 1, 1, 1, 1, 1, 1, 1, 1, 1, 1, 1, 1, 1, 1, 1, 1, 1, 1, 1, 1, 1, 1, 2, 1, 1, 1, 1, 1, 1, 1, 1, 1, 1, 1, 1, 1, 1, 1, 1, 1, 1, 1, 1, 1, 1, 1, 1, 1, 1, 1, 1, 1, 1, 1, 1, 1, 1, 1, 1, 1, 1, 1, 1, 1, 1, 1, 1, 2, 1, 1, 1, 1, 1, 1, 1, 1, 1, 1, 1, 1, 1, 1, 1, 1, 1, 1, 3, 1, 1, 1, 1, 1, 1, 1, 1, 1, 1, 1, 1, 1, 1, 1, 1, 1, 1, 1, 1, 1, 1, 1, 1, 1, 1, 1, 1, 1, 1, 1, 1, 1, 1, 1, 1, 2, 1, 1, 2, 2, 1, 1, 1, 1, 1, 1, 1, 1, 1, 1, 1, 1, 1, 1, 1, 1, 1, 1, 2, 1, 1, 2, 3, 1, 1, 1, 1, 1, 1, 1, 1, 1, 1, 1, 1, 1, 1, 2, 1, 1, 1, 1, 1, 1, 1, 1, 1, 1, 1, 1, 1, 1, 2, 1, 1, 1, 1, 1, 1, 1, 1, 2, 1, 1, 1, 1, 1, 1, 1, 1, 1, 1, 1, 1, 1, 1, 1, 1, 1, 1, 1, 1, 1, 1, 1, 1, 1, 1, 1, 1, 1, 1, 1, 1, 1, 1, 1, 2, 1, 1, 1, 1, 1, 1, 1, 1, 1, 1, 1, 1, 1, 1, 1, 1, 1, 1, 1, 1, 1, 1, 1, 1, 1, 1, 1, 1, 1, 1, 1, 2, 1, 1, 1, 1, 1, 1, 1, 1, 2, 1, 1, 1], \"sizemode\": \"area\", \"sizeref\": 0.015, \"symbol\": \"circle\"}, \"mode\": \"markers\", \"name\": \"\\ubc1c\\uc0dd\\uc9c0\\uc2dc\\ub3c4=\\uc804\\ub0a8\", \"showlegend\": true, \"type\": \"scattergl\", \"x\": [\"2019-01-03T00:00:00\", \"2019-01-05T00:00:00\", \"2019-01-06T00:00:00\", \"2019-01-10T00:00:00\", \"2019-01-13T00:00:00\", \"2019-01-14T00:00:00\", \"2019-01-16T00:00:00\", \"2019-01-16T00:00:00\", \"2019-01-16T00:00:00\", \"2019-01-19T00:00:00\", \"2019-01-19T00:00:00\", \"2019-01-22T00:00:00\", \"2019-01-24T00:00:00\", \"2019-01-24T00:00:00\", \"2019-01-24T00:00:00\", \"2019-01-24T00:00:00\", \"2019-01-26T00:00:00\", \"2019-01-28T00:00:00\", \"2019-01-28T00:00:00\", \"2019-01-28T00:00:00\", \"2019-01-29T00:00:00\", \"2019-01-30T00:00:00\", \"2019-01-30T00:00:00\", \"2019-02-02T00:00:00\", \"2019-02-02T00:00:00\", \"2019-02-02T00:00:00\", \"2019-02-04T00:00:00\", \"2019-02-07T00:00:00\", \"2019-02-08T00:00:00\", \"2019-02-11T00:00:00\", \"2019-02-12T00:00:00\", \"2019-02-13T00:00:00\", \"2019-02-16T00:00:00\", \"2019-02-22T00:00:00\", \"2019-02-23T00:00:00\", \"2019-02-25T00:00:00\", \"2019-02-25T00:00:00\", \"2019-02-25T00:00:00\", \"2019-02-27T00:00:00\", \"2019-03-02T00:00:00\", \"2019-03-07T00:00:00\", \"2019-03-08T00:00:00\", \"2019-03-09T00:00:00\", \"2019-03-10T00:00:00\", \"2019-03-12T00:00:00\", \"2019-03-13T00:00:00\", \"2019-03-14T00:00:00\", \"2019-03-14T00:00:00\", \"2019-03-14T00:00:00\", \"2019-03-14T00:00:00\", \"2019-03-15T00:00:00\", \"2019-03-15T00:00:00\", \"2019-03-15T00:00:00\", \"2019-03-18T00:00:00\", \"2019-03-18T00:00:00\", \"2019-03-18T00:00:00\", \"2019-03-21T00:00:00\", \"2019-03-21T00:00:00\", \"2019-03-23T00:00:00\", \"2019-03-23T00:00:00\", \"2019-03-25T00:00:00\", \"2019-03-26T00:00:00\", \"2019-03-30T00:00:00\", \"2019-04-01T00:00:00\", \"2019-04-03T00:00:00\", \"2019-04-03T00:00:00\", \"2019-04-04T00:00:00\", \"2019-04-04T00:00:00\", \"2019-04-06T00:00:00\", \"2019-04-06T00:00:00\", \"2019-04-08T00:00:00\", \"2019-04-10T00:00:00\", \"2019-04-10T00:00:00\", \"2019-04-10T00:00:00\", \"2019-04-11T00:00:00\", \"2019-04-12T00:00:00\", \"2019-04-12T00:00:00\", \"2019-04-16T00:00:00\", \"2019-04-16T00:00:00\", \"2019-04-16T00:00:00\", \"2019-04-18T00:00:00\", \"2019-04-19T00:00:00\", \"2019-04-21T00:00:00\", \"2019-04-21T00:00:00\", \"2019-04-23T00:00:00\", \"2019-04-25T00:00:00\", \"2019-04-26T00:00:00\", \"2019-04-26T00:00:00\", \"2019-04-28T00:00:00\", \"2019-04-29T00:00:00\", \"2019-05-05T00:00:00\", \"2019-05-05T00:00:00\", \"2019-05-05T00:00:00\", \"2019-05-06T00:00:00\", \"2019-05-06T00:00:00\", \"2019-05-09T00:00:00\", \"2019-05-10T00:00:00\", \"2019-05-12T00:00:00\", \"2019-05-13T00:00:00\", \"2019-05-13T00:00:00\", \"2019-05-14T00:00:00\", \"2019-05-15T00:00:00\", \"2019-05-15T00:00:00\", \"2019-05-15T00:00:00\", \"2019-05-16T00:00:00\", \"2019-05-16T00:00:00\", \"2019-05-17T00:00:00\", \"2019-05-18T00:00:00\", \"2019-05-18T00:00:00\", \"2019-05-20T00:00:00\", \"2019-05-21T00:00:00\", \"2019-05-24T00:00:00\", \"2019-05-25T00:00:00\", \"2019-05-27T00:00:00\", \"2019-05-27T00:00:00\", \"2019-05-28T00:00:00\", \"2019-05-29T00:00:00\", \"2019-05-29T00:00:00\", \"2019-05-31T00:00:00\", \"2019-06-01T00:00:00\", \"2019-06-01T00:00:00\", \"2019-06-02T00:00:00\", \"2019-06-06T00:00:00\", \"2019-06-07T00:00:00\", \"2019-06-07T00:00:00\", \"2019-06-09T00:00:00\", \"2019-06-11T00:00:00\", \"2019-06-12T00:00:00\", \"2019-06-15T00:00:00\", \"2019-06-17T00:00:00\", \"2019-06-17T00:00:00\", \"2019-06-17T00:00:00\", \"2019-06-18T00:00:00\", \"2019-06-19T00:00:00\", \"2019-06-24T00:00:00\", \"2019-06-26T00:00:00\", \"2019-06-27T00:00:00\", \"2019-06-28T00:00:00\", \"2019-06-28T00:00:00\", \"2019-06-29T00:00:00\", \"2019-07-01T00:00:00\", \"2019-07-01T00:00:00\", \"2019-07-05T00:00:00\", \"2019-07-07T00:00:00\", \"2019-07-09T00:00:00\", \"2019-07-13T00:00:00\", \"2019-07-14T00:00:00\", \"2019-07-17T00:00:00\", \"2019-07-18T00:00:00\", \"2019-07-20T00:00:00\", \"2019-07-24T00:00:00\", \"2019-07-24T00:00:00\", \"2019-07-25T00:00:00\", \"2019-07-30T00:00:00\", \"2019-07-30T00:00:00\", \"2019-08-02T00:00:00\", \"2019-08-05T00:00:00\", \"2019-08-05T00:00:00\", \"2019-08-07T00:00:00\", \"2019-08-07T00:00:00\", \"2019-08-09T00:00:00\", \"2019-08-09T00:00:00\", \"2019-08-10T00:00:00\", \"2019-08-15T00:00:00\", \"2019-08-16T00:00:00\", \"2019-08-17T00:00:00\", \"2019-08-19T00:00:00\", \"2019-08-23T00:00:00\", \"2019-08-23T00:00:00\", \"2019-08-23T00:00:00\", \"2019-08-28T00:00:00\", \"2019-08-28T00:00:00\", \"2019-08-29T00:00:00\", \"2019-08-30T00:00:00\", \"2019-08-31T00:00:00\", \"2019-09-02T00:00:00\", \"2019-09-02T00:00:00\", \"2019-09-04T00:00:00\", \"2019-09-06T00:00:00\", \"2019-09-08T00:00:00\", \"2019-09-15T00:00:00\", \"2019-09-15T00:00:00\", \"2019-09-16T00:00:00\", \"2019-09-17T00:00:00\", \"2019-09-18T00:00:00\", \"2019-09-18T00:00:00\", \"2019-09-19T00:00:00\", \"2019-09-19T00:00:00\", \"2019-09-20T00:00:00\", \"2019-09-23T00:00:00\", \"2019-09-23T00:00:00\", \"2019-09-27T00:00:00\", \"2019-09-28T00:00:00\", \"2019-09-28T00:00:00\", \"2019-09-28T00:00:00\", \"2019-09-29T00:00:00\", \"2019-09-30T00:00:00\", \"2019-10-04T00:00:00\", \"2019-10-04T00:00:00\", \"2019-10-06T00:00:00\", \"2019-10-07T00:00:00\", \"2019-10-08T00:00:00\", \"2019-10-10T00:00:00\", \"2019-10-10T00:00:00\", \"2019-10-10T00:00:00\", \"2019-10-12T00:00:00\", \"2019-10-12T00:00:00\", \"2019-10-12T00:00:00\", \"2019-10-13T00:00:00\", \"2019-10-14T00:00:00\", \"2019-10-14T00:00:00\", \"2019-10-15T00:00:00\", \"2019-10-16T00:00:00\", \"2019-10-18T00:00:00\", \"2019-10-23T00:00:00\", \"2019-10-24T00:00:00\", \"2019-10-24T00:00:00\", \"2019-10-25T00:00:00\", \"2019-10-25T00:00:00\", \"2019-10-25T00:00:00\", \"2019-10-25T00:00:00\", \"2019-10-26T00:00:00\", \"2019-10-26T00:00:00\", \"2019-10-27T00:00:00\", \"2019-10-27T00:00:00\", \"2019-10-28T00:00:00\", \"2019-10-29T00:00:00\", \"2019-10-29T00:00:00\", \"2019-11-01T00:00:00\", \"2019-11-02T00:00:00\", \"2019-11-03T00:00:00\", \"2019-11-03T00:00:00\", \"2019-11-06T00:00:00\", \"2019-11-06T00:00:00\", \"2019-11-07T00:00:00\", \"2019-11-08T00:00:00\", \"2019-11-08T00:00:00\", \"2019-11-09T00:00:00\", \"2019-11-10T00:00:00\", \"2019-11-11T00:00:00\", \"2019-11-11T00:00:00\", \"2019-11-11T00:00:00\", \"2019-11-13T00:00:00\", \"2019-11-14T00:00:00\", \"2019-11-15T00:00:00\", \"2019-11-18T00:00:00\", \"2019-11-19T00:00:00\", \"2019-11-20T00:00:00\", \"2019-11-20T00:00:00\", \"2019-11-29T00:00:00\", \"2019-12-04T00:00:00\", \"2019-12-04T00:00:00\", \"2019-12-05T00:00:00\", \"2019-12-05T00:00:00\", \"2019-12-05T00:00:00\", \"2019-12-05T00:00:00\", \"2019-12-07T00:00:00\", \"2019-12-07T00:00:00\", \"2019-12-10T00:00:00\", \"2019-12-11T00:00:00\", \"2019-12-11T00:00:00\", \"2019-12-12T00:00:00\", \"2019-12-12T00:00:00\", \"2019-12-13T00:00:00\", \"2019-12-14T00:00:00\", \"2019-12-16T00:00:00\", \"2019-12-18T00:00:00\", \"2019-12-19T00:00:00\", \"2019-12-19T00:00:00\", \"2019-12-19T00:00:00\", \"2019-12-20T00:00:00\", \"2019-12-23T00:00:00\", \"2019-12-25T00:00:00\", \"2019-12-26T00:00:00\", \"2019-12-26T00:00:00\", \"2019-12-28T00:00:00\", \"2019-12-30T00:00:00\"], \"xaxis\": \"x\", \"y\": [3, 17, 15, 15, 18, 11, 9, 11, 21, 11, 18, 8, 13, 14, 15, 18, 9, 7, 10, 20, 7, 18, 19, 12, 13, 19, 23, 18, 10, 9, 20, 18, 7, 6, 20, 6, 12, 14, 14, 12, 9, 17, 8, 15, 10, 15, 18, 18, 19, 21, 5, 6, 14, 10, 17, 19, 7, 15, 7, 19, 21, 7, 11, 7, 12, 14, 18, 23, 7, 19, 11, 10, 15, 19, 6, 11, 19, 15, 15, 15, 13, 22, 6, 16, 14, 6, 12, 12, 2, 14, 4, 11, 18, 0, 22, 3, 14, 15, 19, 21, 21, 13, 14, 22, 14, 18, 23, 18, 21, 11, 11, 8, 14, 13, 19, 19, 11, 14, 6, 2, 8, 23, 19, 6, 7, 15, 1, 17, 11, 7, 19, 21, 20, 11, 8, 12, 16, 10, 13, 16, 9, 11, 16, 11, 9, 16, 1, 14, 19, 11, 13, 15, 11, 9, 14, 18, 15, 23, 1, 18, 10, 23, 0, 9, 21, 9, 17, 0, 10, 17, 11, 18, 13, 19, 8, 10, 20, 15, 5, 11, 11, 19, 0, 8, 14, 21, 14, 14, 9, 11, 14, 18, 1, 7, 16, 14, 19, 8, 18, 12, 19, 12, 2, 12, 17, 8, 13, 16, 18, 5, 14, 19, 10, 18, 14, 10, 13, 13, 14, 17, 18, 7, 19, 7, 9, 17, 8, 21, 5, 17, 15, 15, 14, 16, 18, 9, 12, 18, 18, 7, 18, 20, 7, 16, 10, 5, 6, 3, 9, 10, 20, 23, 4, 4, 7, 10, 6, 11, 16, 4, 18, 13, 14, 6, 17, 5, 17, 1, 8, 22, 6, 8, 17, 14, 17, 6, 18], \"yaxis\": \"y\"}, {\"customdata\": [[7], [17], [11], [3], [8], [5], [11], [16], [5], [20], [7], [15], [22], [21], [7], [22], [0], [0], [11], [5], [13], [23], [20], [0], [7], [23], [22], [6], [1], [8], [12], [6], [19], [6], [21], [0], [17], [13], [15], [19], [10], [2], [17], [16], [0], [22], [1], [11], [6], [9], [10], [6], [12]], \"hoverlabel\": {\"namelength\": 0}, \"hovertemplate\": \"\\ubc1c\\uc0dd\\uc9c0\\uc2dc\\ub3c4=\\uc6b8\\uc0b0<br>\\ubc1c\\uc0dd\\ub144\\uc6d4\\uc77c\\uc2dc=%{x}<br>\\ubc1c\\uc0dd\\uc2dc\\uac04=%{customdata[0]}<br>\\uc0ac\\ub9dd\\uc790\\uc218=%{marker.size}\", \"legendgroup\": \"\\ubc1c\\uc0dd\\uc9c0\\uc2dc\\ub3c4=\\uc6b8\\uc0b0\", \"marker\": {\"color\": \"#EF553B\", \"size\": [1, 1, 1, 1, 1, 1, 1, 1, 1, 1, 1, 1, 1, 1, 1, 1, 1, 1, 1, 1, 1, 1, 1, 1, 1, 1, 1, 1, 1, 1, 1, 1, 1, 1, 1, 1, 1, 1, 1, 1, 1, 2, 1, 1, 1, 1, 1, 1, 1, 1, 2, 1, 1], \"sizemode\": \"area\", \"sizeref\": 0.015, \"symbol\": \"circle\"}, \"mode\": \"markers\", \"name\": \"\\ubc1c\\uc0dd\\uc9c0\\uc2dc\\ub3c4=\\uc6b8\\uc0b0\", \"showlegend\": true, \"type\": \"scattergl\", \"x\": [\"2019-01-03T00:00:00\", \"2019-01-08T00:00:00\", \"2019-01-30T00:00:00\", \"2019-02-08T00:00:00\", \"2019-02-22T00:00:00\", \"2019-02-27T00:00:00\", \"2019-03-03T00:00:00\", \"2019-03-06T00:00:00\", \"2019-03-14T00:00:00\", \"2019-03-18T00:00:00\", \"2019-03-20T00:00:00\", \"2019-03-31T00:00:00\", \"2019-04-02T00:00:00\", \"2019-04-06T00:00:00\", \"2019-04-15T00:00:00\", \"2019-04-17T00:00:00\", \"2019-04-19T00:00:00\", \"2019-04-28T00:00:00\", \"2019-04-29T00:00:00\", \"2019-05-11T00:00:00\", \"2019-05-13T00:00:00\", \"2019-05-31T00:00:00\", \"2019-06-02T00:00:00\", \"2019-06-09T00:00:00\", \"2019-06-20T00:00:00\", \"2019-06-22T00:00:00\", \"2019-06-28T00:00:00\", \"2019-07-12T00:00:00\", \"2019-07-23T00:00:00\", \"2019-08-15T00:00:00\", \"2019-08-23T00:00:00\", \"2019-08-26T00:00:00\", \"2019-09-01T00:00:00\", \"2019-09-19T00:00:00\", \"2019-09-23T00:00:00\", \"2019-10-04T00:00:00\", \"2019-10-04T00:00:00\", \"2019-10-08T00:00:00\", \"2019-10-22T00:00:00\", \"2019-10-22T00:00:00\", \"2019-10-23T00:00:00\", \"2019-10-28T00:00:00\", \"2019-11-02T00:00:00\", \"2019-11-07T00:00:00\", \"2019-11-11T00:00:00\", \"2019-12-13T00:00:00\", \"2019-12-15T00:00:00\", \"2019-12-16T00:00:00\", \"2019-12-19T00:00:00\", \"2019-12-23T00:00:00\", \"2019-12-28T00:00:00\", \"2019-12-29T00:00:00\", \"2019-12-31T00:00:00\"], \"xaxis\": \"x\", \"y\": [7, 17, 11, 3, 8, 5, 11, 16, 5, 20, 7, 15, 22, 21, 7, 22, 0, 0, 11, 5, 13, 23, 20, 0, 7, 23, 22, 6, 1, 8, 12, 6, 19, 6, 21, 0, 17, 13, 15, 19, 10, 2, 17, 16, 0, 22, 1, 11, 6, 9, 10, 6, 12], \"yaxis\": \"y\"}, {\"customdata\": [[7], [8], [12], [5], [5], [21], [6], [2], [11], [3], [0], [2], [12], [0], [1], [1], [14], [19], [15], [11], [0], [9], [1], [10], [20], [13], [19], [16], [15], [19], [7], [6], [3], [1], [14], [2], [6], [0], [16], [9], [0], [13], [8], [5], [14], [4], [22], [20], [21], [7], [5], [21], [22], [8], [23], [7], [22], [12], [4], [0], [1], [22], [5], [8], [23], [10], [16], [3], [8], [17], [4], [19], [6], [23], [23], [12], [19], [15], [2], [19], [15], [6], [6], [4], [2], [12], [1], [13], [15], [16], [17], [1], [14], [6], [21], [11], [8], [0], [11], [5], [21], [5], [19], [3], [18], [11], [20], [1], [14]], \"hoverlabel\": {\"namelength\": 0}, \"hovertemplate\": \"\\ubc1c\\uc0dd\\uc9c0\\uc2dc\\ub3c4=\\ub300\\uad6c<br>\\ubc1c\\uc0dd\\ub144\\uc6d4\\uc77c\\uc2dc=%{x}<br>\\ubc1c\\uc0dd\\uc2dc\\uac04=%{customdata[0]}<br>\\uc0ac\\ub9dd\\uc790\\uc218=%{marker.size}\", \"legendgroup\": \"\\ubc1c\\uc0dd\\uc9c0\\uc2dc\\ub3c4=\\ub300\\uad6c\", \"marker\": {\"color\": \"#00cc96\", \"size\": [1, 1, 1, 1, 2, 1, 1, 1, 1, 1, 1, 1, 1, 1, 1, 1, 1, 1, 1, 1, 1, 1, 1, 1, 1, 1, 1, 1, 1, 1, 1, 1, 1, 2, 1, 1, 1, 1, 1, 1, 1, 1, 1, 1, 1, 1, 1, 1, 1, 1, 1, 1, 1, 1, 1, 1, 1, 1, 1, 1, 1, 1, 1, 1, 1, 1, 2, 1, 1, 1, 1, 1, 1, 1, 1, 1, 1, 1, 1, 1, 1, 1, 1, 1, 1, 1, 1, 1, 1, 1, 1, 1, 1, 1, 1, 1, 1, 1, 1, 1, 1, 1, 1, 1, 1, 1, 1, 1, 1], \"sizemode\": \"area\", \"sizeref\": 0.015, \"symbol\": \"circle\"}, \"mode\": \"markers\", \"name\": \"\\ubc1c\\uc0dd\\uc9c0\\uc2dc\\ub3c4=\\ub300\\uad6c\", \"showlegend\": true, \"type\": \"scattergl\", \"x\": [\"2019-01-04T00:00:00\", \"2019-01-05T00:00:00\", \"2019-01-06T00:00:00\", \"2019-01-07T00:00:00\", \"2019-01-12T00:00:00\", \"2019-01-20T00:00:00\", \"2019-01-22T00:00:00\", \"2019-01-25T00:00:00\", \"2019-01-30T00:00:00\", \"2019-02-02T00:00:00\", \"2019-02-13T00:00:00\", \"2019-02-15T00:00:00\", \"2019-02-15T00:00:00\", \"2019-02-17T00:00:00\", \"2019-02-26T00:00:00\", \"2019-02-27T00:00:00\", \"2019-02-27T00:00:00\", \"2019-02-28T00:00:00\", \"2019-03-04T00:00:00\", \"2019-03-05T00:00:00\", \"2019-03-08T00:00:00\", \"2019-03-13T00:00:00\", \"2019-03-14T00:00:00\", \"2019-03-23T00:00:00\", \"2019-03-23T00:00:00\", \"2019-03-24T00:00:00\", \"2019-03-25T00:00:00\", \"2019-03-29T00:00:00\", \"2019-04-01T00:00:00\", \"2019-04-02T00:00:00\", \"2019-04-03T00:00:00\", \"2019-04-04T00:00:00\", \"2019-04-08T00:00:00\", \"2019-04-15T00:00:00\", \"2019-04-24T00:00:00\", \"2019-04-27T00:00:00\", \"2019-04-27T00:00:00\", \"2019-05-02T00:00:00\", \"2019-05-05T00:00:00\", \"2019-05-07T00:00:00\", \"2019-05-09T00:00:00\", \"2019-05-13T00:00:00\", \"2019-05-28T00:00:00\", \"2019-05-29T00:00:00\", \"2019-05-30T00:00:00\", \"2019-06-01T00:00:00\", \"2019-06-01T00:00:00\", \"2019-06-04T00:00:00\", \"2019-06-08T00:00:00\", \"2019-06-10T00:00:00\", \"2019-06-11T00:00:00\", \"2019-06-18T00:00:00\", \"2019-06-19T00:00:00\", \"2019-06-25T00:00:00\", \"2019-06-26T00:00:00\", \"2019-06-30T00:00:00\", \"2019-07-03T00:00:00\", \"2019-07-05T00:00:00\", \"2019-07-11T00:00:00\", \"2019-07-13T00:00:00\", \"2019-07-14T00:00:00\", \"2019-07-23T00:00:00\", \"2019-07-24T00:00:00\", \"2019-07-24T00:00:00\", \"2019-07-26T00:00:00\", \"2019-08-02T00:00:00\", \"2019-08-05T00:00:00\", \"2019-08-07T00:00:00\", \"2019-08-09T00:00:00\", \"2019-08-16T00:00:00\", \"2019-09-06T00:00:00\", \"2019-09-06T00:00:00\", \"2019-09-07T00:00:00\", \"2019-09-09T00:00:00\", \"2019-09-14T00:00:00\", \"2019-09-15T00:00:00\", \"2019-09-16T00:00:00\", \"2019-09-22T00:00:00\", \"2019-09-23T00:00:00\", \"2019-09-24T00:00:00\", \"2019-09-25T00:00:00\", \"2019-10-07T00:00:00\", \"2019-10-07T00:00:00\", \"2019-10-14T00:00:00\", \"2019-10-18T00:00:00\", \"2019-10-18T00:00:00\", \"2019-11-01T00:00:00\", \"2019-11-01T00:00:00\", \"2019-11-04T00:00:00\", \"2019-11-04T00:00:00\", \"2019-11-04T00:00:00\", \"2019-11-05T00:00:00\", \"2019-11-05T00:00:00\", \"2019-11-07T00:00:00\", \"2019-11-14T00:00:00\", \"2019-11-17T00:00:00\", \"2019-11-18T00:00:00\", \"2019-11-20T00:00:00\", \"2019-11-25T00:00:00\", \"2019-11-30T00:00:00\", \"2019-12-09T00:00:00\", \"2019-12-10T00:00:00\", \"2019-12-10T00:00:00\", \"2019-12-12T00:00:00\", \"2019-12-12T00:00:00\", \"2019-12-14T00:00:00\", \"2019-12-23T00:00:00\", \"2019-12-29T00:00:00\", \"2019-12-30T00:00:00\"], \"xaxis\": \"x\", \"y\": [7, 8, 12, 5, 5, 21, 6, 2, 11, 3, 0, 2, 12, 0, 1, 1, 14, 19, 15, 11, 0, 9, 1, 10, 20, 13, 19, 16, 15, 19, 7, 6, 3, 1, 14, 2, 6, 0, 16, 9, 0, 13, 8, 5, 14, 4, 22, 20, 21, 7, 5, 21, 22, 8, 23, 7, 22, 12, 4, 0, 1, 22, 5, 8, 23, 10, 16, 3, 8, 17, 4, 19, 6, 23, 23, 12, 19, 15, 2, 19, 15, 6, 6, 4, 2, 12, 1, 13, 15, 16, 17, 1, 14, 6, 21, 11, 8, 0, 11, 5, 21, 5, 19, 3, 18, 11, 20, 1, 14], \"yaxis\": \"y\"}, {\"customdata\": [[2], [14], [21], [7], [11], [15], [15], [2], [1], [16], [17], [16], [20], [7], [2], [22], [11], [11], [13], [9], [17], [14], [19], [18], [21], [2], [8], [9], [14], [4], [10], [12], [23], [19], [12], [5], [14], [10], [9], [14], [18], [16], [13], [16], [21], [21], [19], [10], [23], [18], [3], [19], [4], [14], [10], [8], [15], [16], [7], [2], [14], [9], [8], [19], [18], [15], [20], [14], [12], [16], [15], [19], [2], [0], [2], [20], [2], [16], [0], [8], [7], [14], [13], [9], [23], [8], [19], [21], [7], [8], [12], [1], [13], [8], [0], [18], [21], [19], [5], [20], [10], [21], [10], [1], [18], [17], [13], [13], [15], [3], [6], [22], [7], [11], [7], [22], [3], [16], [19], [17], [18], [14], [5], [13], [12], [5], [13], [23], [20], [12], [14], [10], [18], [14], [17], [5], [6], [18], [3], [8], [12], [5], [1], [6], [17], [6], [16], [21], [6], [7], [22], [9], [13], [19], [8], [18], [18], [22], [14], [0], [7], [16], [17], [17], [5], [2], [6], [12], [20], [22], [0], [8]], \"hoverlabel\": {\"namelength\": 0}, \"hovertemplate\": \"\\ubc1c\\uc0dd\\uc9c0\\uc2dc\\ub3c4=\\uac15\\uc6d0<br>\\ubc1c\\uc0dd\\ub144\\uc6d4\\uc77c\\uc2dc=%{x}<br>\\ubc1c\\uc0dd\\uc2dc\\uac04=%{customdata[0]}<br>\\uc0ac\\ub9dd\\uc790\\uc218=%{marker.size}\", \"legendgroup\": \"\\ubc1c\\uc0dd\\uc9c0\\uc2dc\\ub3c4=\\uac15\\uc6d0\", \"marker\": {\"color\": \"#ab63fa\", \"size\": [1, 1, 1, 1, 1, 1, 1, 1, 1, 1, 1, 1, 3, 1, 2, 1, 1, 1, 1, 1, 1, 1, 1, 1, 1, 1, 1, 2, 1, 1, 1, 1, 1, 1, 1, 1, 1, 1, 1, 1, 1, 1, 1, 1, 1, 1, 1, 1, 1, 1, 1, 1, 1, 1, 1, 1, 1, 1, 1, 1, 1, 1, 1, 1, 1, 1, 1, 1, 1, 1, 1, 1, 1, 1, 1, 1, 1, 1, 1, 1, 1, 1, 1, 1, 1, 1, 1, 2, 4, 1, 1, 1, 1, 1, 2, 1, 1, 1, 1, 1, 1, 1, 1, 1, 1, 1, 1, 1, 1, 1, 1, 1, 2, 1, 2, 1, 1, 1, 1, 1, 1, 1, 1, 1, 1, 1, 1, 1, 1, 1, 1, 1, 1, 1, 1, 1, 1, 1, 2, 1, 1, 1, 1, 1, 1, 1, 1, 1, 1, 1, 1, 1, 1, 1, 1, 1, 1, 1, 2, 1, 1, 1, 1, 1, 1, 1, 1, 1, 1, 1, 1, 1], \"sizemode\": \"area\", \"sizeref\": 0.015, \"symbol\": \"circle\"}, \"mode\": \"markers\", \"name\": \"\\ubc1c\\uc0dd\\uc9c0\\uc2dc\\ub3c4=\\uac15\\uc6d0\", \"showlegend\": true, \"type\": \"scattergl\", \"x\": [\"2019-01-05T00:00:00\", \"2019-01-06T00:00:00\", \"2019-01-06T00:00:00\", \"2019-01-12T00:00:00\", \"2019-01-14T00:00:00\", \"2019-01-14T00:00:00\", \"2019-01-15T00:00:00\", \"2019-01-20T00:00:00\", \"2019-01-22T00:00:00\", \"2019-01-22T00:00:00\", \"2019-01-22T00:00:00\", \"2019-01-23T00:00:00\", \"2019-01-24T00:00:00\", \"2019-01-25T00:00:00\", \"2019-01-26T00:00:00\", \"2019-02-05T00:00:00\", \"2019-02-13T00:00:00\", \"2019-02-15T00:00:00\", \"2019-02-15T00:00:00\", \"2019-02-18T00:00:00\", \"2019-02-21T00:00:00\", \"2019-02-23T00:00:00\", \"2019-02-23T00:00:00\", \"2019-02-25T00:00:00\", \"2019-02-25T00:00:00\", \"2019-03-04T00:00:00\", \"2019-03-05T00:00:00\", \"2019-03-05T00:00:00\", \"2019-03-05T00:00:00\", \"2019-03-06T00:00:00\", \"2019-03-06T00:00:00\", \"2019-03-07T00:00:00\", \"2019-03-13T00:00:00\", \"2019-03-15T00:00:00\", \"2019-03-17T00:00:00\", \"2019-03-26T00:00:00\", \"2019-04-01T00:00:00\", \"2019-04-02T00:00:00\", \"2019-04-03T00:00:00\", \"2019-04-07T00:00:00\", \"2019-04-09T00:00:00\", \"2019-04-11T00:00:00\", \"2019-04-12T00:00:00\", \"2019-04-12T00:00:00\", \"2019-04-13T00:00:00\", \"2019-04-16T00:00:00\", \"2019-04-17T00:00:00\", \"2019-04-18T00:00:00\", \"2019-04-18T00:00:00\", \"2019-04-19T00:00:00\", \"2019-04-20T00:00:00\", \"2019-04-24T00:00:00\", \"2019-04-25T00:00:00\", \"2019-04-28T00:00:00\", \"2019-04-29T00:00:00\", \"2019-05-02T00:00:00\", \"2019-05-02T00:00:00\", \"2019-05-02T00:00:00\", \"2019-05-03T00:00:00\", \"2019-05-05T00:00:00\", \"2019-05-06T00:00:00\", \"2019-05-09T00:00:00\", \"2019-05-13T00:00:00\", \"2019-05-17T00:00:00\", \"2019-05-18T00:00:00\", \"2019-05-19T00:00:00\", \"2019-05-21T00:00:00\", \"2019-05-23T00:00:00\", \"2019-05-27T00:00:00\", \"2019-05-29T00:00:00\", \"2019-06-02T00:00:00\", \"2019-06-05T00:00:00\", \"2019-06-06T00:00:00\", \"2019-06-07T00:00:00\", \"2019-06-09T00:00:00\", \"2019-06-22T00:00:00\", \"2019-06-24T00:00:00\", \"2019-06-26T00:00:00\", \"2019-06-27T00:00:00\", \"2019-07-01T00:00:00\", \"2019-07-03T00:00:00\", \"2019-07-04T00:00:00\", \"2019-07-05T00:00:00\", \"2019-07-09T00:00:00\", \"2019-07-10T00:00:00\", \"2019-07-12T00:00:00\", \"2019-07-13T00:00:00\", \"2019-07-15T00:00:00\", \"2019-07-22T00:00:00\", \"2019-07-26T00:00:00\", \"2019-07-26T00:00:00\", \"2019-07-30T00:00:00\", \"2019-07-30T00:00:00\", \"2019-07-31T00:00:00\", \"2019-08-03T00:00:00\", \"2019-08-03T00:00:00\", \"2019-08-05T00:00:00\", \"2019-08-12T00:00:00\", \"2019-08-14T00:00:00\", \"2019-08-14T00:00:00\", \"2019-08-15T00:00:00\", \"2019-08-15T00:00:00\", \"2019-08-18T00:00:00\", \"2019-08-22T00:00:00\", \"2019-08-22T00:00:00\", \"2019-08-31T00:00:00\", \"2019-09-02T00:00:00\", \"2019-09-02T00:00:00\", \"2019-09-07T00:00:00\", \"2019-09-08T00:00:00\", \"2019-09-09T00:00:00\", \"2019-09-10T00:00:00\", \"2019-09-11T00:00:00\", \"2019-09-11T00:00:00\", \"2019-09-12T00:00:00\", \"2019-09-14T00:00:00\", \"2019-09-19T00:00:00\", \"2019-09-21T00:00:00\", \"2019-09-21T00:00:00\", \"2019-09-22T00:00:00\", \"2019-09-24T00:00:00\", \"2019-09-25T00:00:00\", \"2019-09-26T00:00:00\", \"2019-09-28T00:00:00\", \"2019-09-29T00:00:00\", \"2019-09-30T00:00:00\", \"2019-10-02T00:00:00\", \"2019-10-02T00:00:00\", \"2019-10-04T00:00:00\", \"2019-10-07T00:00:00\", \"2019-10-09T00:00:00\", \"2019-10-15T00:00:00\", \"2019-10-15T00:00:00\", \"2019-10-16T00:00:00\", \"2019-10-17T00:00:00\", \"2019-10-19T00:00:00\", \"2019-10-22T00:00:00\", \"2019-10-22T00:00:00\", \"2019-10-28T00:00:00\", \"2019-10-29T00:00:00\", \"2019-10-29T00:00:00\", \"2019-11-02T00:00:00\", \"2019-11-05T00:00:00\", \"2019-11-06T00:00:00\", \"2019-11-06T00:00:00\", \"2019-11-09T00:00:00\", \"2019-11-11T00:00:00\", \"2019-11-12T00:00:00\", \"2019-11-15T00:00:00\", \"2019-11-15T00:00:00\", \"2019-11-15T00:00:00\", \"2019-11-17T00:00:00\", \"2019-11-22T00:00:00\", \"2019-11-22T00:00:00\", \"2019-11-25T00:00:00\", \"2019-11-26T00:00:00\", \"2019-11-26T00:00:00\", \"2019-12-01T00:00:00\", \"2019-12-02T00:00:00\", \"2019-12-06T00:00:00\", \"2019-12-06T00:00:00\", \"2019-12-10T00:00:00\", \"2019-12-10T00:00:00\", \"2019-12-13T00:00:00\", \"2019-12-18T00:00:00\", \"2019-12-19T00:00:00\", \"2019-12-19T00:00:00\", \"2019-12-23T00:00:00\", \"2019-12-27T00:00:00\", \"2019-12-30T00:00:00\", \"2019-12-31T00:00:00\", \"2019-12-31T00:00:00\"], \"xaxis\": \"x\", \"y\": [2, 14, 21, 7, 11, 15, 15, 2, 1, 16, 17, 16, 20, 7, 2, 22, 11, 11, 13, 9, 17, 14, 19, 18, 21, 2, 8, 9, 14, 4, 10, 12, 23, 19, 12, 5, 14, 10, 9, 14, 18, 16, 13, 16, 21, 21, 19, 10, 23, 18, 3, 19, 4, 14, 10, 8, 15, 16, 7, 2, 14, 9, 8, 19, 18, 15, 20, 14, 12, 16, 15, 19, 2, 0, 2, 20, 2, 16, 0, 8, 7, 14, 13, 9, 23, 8, 19, 21, 7, 8, 12, 1, 13, 8, 0, 18, 21, 19, 5, 20, 10, 21, 10, 1, 18, 17, 13, 13, 15, 3, 6, 22, 7, 11, 7, 22, 3, 16, 19, 17, 18, 14, 5, 13, 12, 5, 13, 23, 20, 12, 14, 10, 18, 14, 17, 5, 6, 18, 3, 8, 12, 5, 1, 6, 17, 6, 16, 21, 6, 7, 22, 9, 13, 19, 8, 18, 18, 22, 14, 0, 7, 16, 17, 17, 5, 2, 6, 12, 20, 22, 0, 8], \"yaxis\": \"y\"}, {\"customdata\": [[17], [22], [9], [19], [6], [6], [15], [11], [11], [7], [3], [6], [8], [13], [6], [23], [13], [20], [14], [1], [1], [23], [0], [7], [21], [8], [8], [14], [7], [16], [6], [15], [0], [10], [20], [22], [6], [14], [14], [17], [15], [10], [20], [4], [17], [5], [13], [8], [16], [15], [8], [9], [5], [19], [20], [12], [19], [19], [6], [9], [1], [22], [18], [1]], \"hoverlabel\": {\"namelength\": 0}, \"hovertemplate\": \"\\ubc1c\\uc0dd\\uc9c0\\uc2dc\\ub3c4=\\uc81c\\uc8fc<br>\\ubc1c\\uc0dd\\ub144\\uc6d4\\uc77c\\uc2dc=%{x}<br>\\ubc1c\\uc0dd\\uc2dc\\uac04=%{customdata[0]}<br>\\uc0ac\\ub9dd\\uc790\\uc218=%{marker.size}\", \"legendgroup\": \"\\ubc1c\\uc0dd\\uc9c0\\uc2dc\\ub3c4=\\uc81c\\uc8fc\", \"marker\": {\"color\": \"#FFA15A\", \"size\": [2, 1, 1, 1, 1, 1, 1, 1, 1, 1, 1, 1, 1, 1, 1, 1, 1, 1, 1, 1, 1, 1, 1, 1, 1, 1, 1, 1, 1, 1, 1, 1, 1, 1, 1, 1, 1, 1, 1, 1, 1, 1, 2, 1, 1, 1, 1, 1, 1, 1, 1, 1, 1, 1, 1, 1, 1, 1, 1, 1, 1, 1, 1, 1], \"sizemode\": \"area\", \"sizeref\": 0.015, \"symbol\": \"circle\"}, \"mode\": \"markers\", \"name\": \"\\ubc1c\\uc0dd\\uc9c0\\uc2dc\\ub3c4=\\uc81c\\uc8fc\", \"showlegend\": true, \"type\": \"scattergl\", \"x\": [\"2019-01-11T00:00:00\", \"2019-01-16T00:00:00\", \"2019-01-20T00:00:00\", \"2019-01-25T00:00:00\", \"2019-01-29T00:00:00\", \"2019-01-31T00:00:00\", \"2019-02-06T00:00:00\", \"2019-02-12T00:00:00\", \"2019-02-16T00:00:00\", \"2019-02-22T00:00:00\", \"2019-03-03T00:00:00\", \"2019-03-11T00:00:00\", \"2019-03-11T00:00:00\", \"2019-03-12T00:00:00\", \"2019-03-15T00:00:00\", \"2019-03-16T00:00:00\", \"2019-03-19T00:00:00\", \"2019-03-25T00:00:00\", \"2019-03-30T00:00:00\", \"2019-04-02T00:00:00\", \"2019-04-09T00:00:00\", \"2019-04-09T00:00:00\", \"2019-04-11T00:00:00\", \"2019-04-18T00:00:00\", \"2019-04-20T00:00:00\", \"2019-04-22T00:00:00\", \"2019-04-26T00:00:00\", \"2019-04-30T00:00:00\", \"2019-05-15T00:00:00\", \"2019-05-15T00:00:00\", \"2019-05-21T00:00:00\", \"2019-05-27T00:00:00\", \"2019-06-09T00:00:00\", \"2019-06-20T00:00:00\", \"2019-06-20T00:00:00\", \"2019-06-21T00:00:00\", \"2019-06-25T00:00:00\", \"2019-06-25T00:00:00\", \"2019-07-22T00:00:00\", \"2019-07-26T00:00:00\", \"2019-08-05T00:00:00\", \"2019-08-19T00:00:00\", \"2019-08-21T00:00:00\", \"2019-08-28T00:00:00\", \"2019-09-04T00:00:00\", \"2019-09-05T00:00:00\", \"2019-09-05T00:00:00\", \"2019-09-17T00:00:00\", \"2019-09-19T00:00:00\", \"2019-09-25T00:00:00\", \"2019-10-18T00:00:00\", \"2019-10-20T00:00:00\", \"2019-10-21T00:00:00\", \"2019-10-22T00:00:00\", \"2019-10-29T00:00:00\", \"2019-11-07T00:00:00\", \"2019-11-10T00:00:00\", \"2019-11-10T00:00:00\", \"2019-11-13T00:00:00\", \"2019-11-15T00:00:00\", \"2019-11-24T00:00:00\", \"2019-11-26T00:00:00\", \"2019-12-27T00:00:00\", \"2019-12-28T00:00:00\"], \"xaxis\": \"x\", \"y\": [17, 22, 9, 19, 6, 6, 15, 11, 11, 7, 3, 6, 8, 13, 6, 23, 13, 20, 14, 1, 1, 23, 0, 7, 21, 8, 8, 14, 7, 16, 6, 15, 0, 10, 20, 22, 6, 14, 14, 17, 15, 10, 20, 4, 17, 5, 13, 8, 16, 15, 8, 9, 5, 19, 20, 12, 19, 19, 6, 9, 1, 22, 18, 1], \"yaxis\": \"y\"}, {\"customdata\": [[6], [9], [21], [11], [18], [18], [20], [23], [19], [21], [18], [19], [14], [4], [14], [8], [20], [8], [10], [8], [0], [23], [9], [3], [15], [21], [20], [16], [12], [2], [6], [0], [5], [19], [11], [0], [6], [10], [6], [0], [5], [10], [15], [19], [6], [6], [19], [17], [10]], \"hoverlabel\": {\"namelength\": 0}, \"hovertemplate\": \"\\ubc1c\\uc0dd\\uc9c0\\uc2dc\\ub3c4=\\uad11\\uc8fc<br>\\ubc1c\\uc0dd\\ub144\\uc6d4\\uc77c\\uc2dc=%{x}<br>\\ubc1c\\uc0dd\\uc2dc\\uac04=%{customdata[0]}<br>\\uc0ac\\ub9dd\\uc790\\uc218=%{marker.size}\", \"legendgroup\": \"\\ubc1c\\uc0dd\\uc9c0\\uc2dc\\ub3c4=\\uad11\\uc8fc\", \"marker\": {\"color\": \"#19d3f3\", \"size\": [1, 1, 1, 1, 1, 1, 1, 1, 1, 1, 1, 1, 1, 1, 1, 1, 1, 1, 1, 1, 1, 1, 1, 1, 1, 1, 1, 1, 1, 1, 1, 1, 1, 1, 1, 1, 1, 1, 1, 1, 1, 1, 1, 1, 1, 1, 1, 1, 1], \"sizemode\": \"area\", \"sizeref\": 0.015, \"symbol\": \"circle\"}, \"mode\": \"markers\", \"name\": \"\\ubc1c\\uc0dd\\uc9c0\\uc2dc\\ub3c4=\\uad11\\uc8fc\", \"showlegend\": true, \"type\": \"scattergl\", \"x\": [\"2019-01-30T00:00:00\", \"2019-01-30T00:00:00\", \"2019-02-13T00:00:00\", \"2019-02-21T00:00:00\", \"2019-02-23T00:00:00\", \"2019-02-26T00:00:00\", \"2019-03-08T00:00:00\", \"2019-03-20T00:00:00\", \"2019-03-29T00:00:00\", \"2019-04-19T00:00:00\", \"2019-05-15T00:00:00\", \"2019-05-18T00:00:00\", \"2019-05-31T00:00:00\", \"2019-06-03T00:00:00\", \"2019-06-07T00:00:00\", \"2019-06-13T00:00:00\", \"2019-06-21T00:00:00\", \"2019-06-24T00:00:00\", \"2019-06-25T00:00:00\", \"2019-06-28T00:00:00\", \"2019-07-08T00:00:00\", \"2019-07-20T00:00:00\", \"2019-07-21T00:00:00\", \"2019-07-28T00:00:00\", \"2019-07-31T00:00:00\", \"2019-08-02T00:00:00\", \"2019-08-11T00:00:00\", \"2019-08-13T00:00:00\", \"2019-08-23T00:00:00\", \"2019-08-27T00:00:00\", \"2019-08-28T00:00:00\", \"2019-08-31T00:00:00\", \"2019-08-31T00:00:00\", \"2019-09-04T00:00:00\", \"2019-09-17T00:00:00\", \"2019-09-20T00:00:00\", \"2019-10-03T00:00:00\", \"2019-10-16T00:00:00\", \"2019-10-18T00:00:00\", \"2019-10-25T00:00:00\", \"2019-11-04T00:00:00\", \"2019-11-10T00:00:00\", \"2019-11-14T00:00:00\", \"2019-11-18T00:00:00\", \"2019-11-22T00:00:00\", \"2019-11-25T00:00:00\", \"2019-12-01T00:00:00\", \"2019-12-02T00:00:00\", \"2019-12-19T00:00:00\"], \"xaxis\": \"x\", \"y\": [6, 9, 21, 11, 18, 18, 20, 23, 19, 21, 18, 19, 14, 4, 14, 8, 20, 8, 10, 8, 0, 23, 9, 3, 15, 21, 20, 16, 12, 2, 6, 0, 5, 19, 11, 0, 6, 10, 6, 0, 5, 10, 15, 19, 6, 6, 19, 17, 10], \"yaxis\": \"y\"}, {\"customdata\": [[14], [20], [21], [8], [20], [9], [6], [12], [10], [4], [23], [7], [11]], \"hoverlabel\": {\"namelength\": 0}, \"hovertemplate\": \"\\ubc1c\\uc0dd\\uc9c0\\uc2dc\\ub3c4=\\uc138\\uc885<br>\\ubc1c\\uc0dd\\ub144\\uc6d4\\uc77c\\uc2dc=%{x}<br>\\ubc1c\\uc0dd\\uc2dc\\uac04=%{customdata[0]}<br>\\uc0ac\\ub9dd\\uc790\\uc218=%{marker.size}\", \"legendgroup\": \"\\ubc1c\\uc0dd\\uc9c0\\uc2dc\\ub3c4=\\uc138\\uc885\", \"marker\": {\"color\": \"#FF6692\", \"size\": [1, 1, 1, 2, 1, 1, 1, 1, 1, 1, 1, 2, 1], \"sizemode\": \"area\", \"sizeref\": 0.015, \"symbol\": \"circle\"}, \"mode\": \"markers\", \"name\": \"\\ubc1c\\uc0dd\\uc9c0\\uc2dc\\ub3c4=\\uc138\\uc885\", \"showlegend\": true, \"type\": \"scattergl\", \"x\": [\"2019-03-26T00:00:00\", \"2019-03-31T00:00:00\", \"2019-04-20T00:00:00\", \"2019-05-23T00:00:00\", \"2019-06-02T00:00:00\", \"2019-06-19T00:00:00\", \"2019-06-24T00:00:00\", \"2019-07-01T00:00:00\", \"2019-08-24T00:00:00\", \"2019-09-20T00:00:00\", \"2019-10-28T00:00:00\", \"2019-11-03T00:00:00\", \"2019-11-06T00:00:00\"], \"xaxis\": \"x\", \"y\": [14, 20, 21, 8, 20, 9, 6, 12, 10, 4, 23, 7, 11], \"yaxis\": \"y\"}],\n",
              "                        {\"legend\": {\"itemsizing\": \"constant\", \"tracegroupgap\": 0}, \"margin\": {\"t\": 60}, \"template\": {\"data\": {\"bar\": [{\"error_x\": {\"color\": \"#2a3f5f\"}, \"error_y\": {\"color\": \"#2a3f5f\"}, \"marker\": {\"line\": {\"color\": \"#E5ECF6\", \"width\": 0.5}}, \"type\": \"bar\"}], \"barpolar\": [{\"marker\": {\"line\": {\"color\": \"#E5ECF6\", \"width\": 0.5}}, \"type\": \"barpolar\"}], \"carpet\": [{\"aaxis\": {\"endlinecolor\": \"#2a3f5f\", \"gridcolor\": \"white\", \"linecolor\": \"white\", \"minorgridcolor\": \"white\", \"startlinecolor\": \"#2a3f5f\"}, \"baxis\": {\"endlinecolor\": \"#2a3f5f\", \"gridcolor\": \"white\", \"linecolor\": \"white\", \"minorgridcolor\": \"white\", \"startlinecolor\": \"#2a3f5f\"}, \"type\": \"carpet\"}], \"choropleth\": [{\"colorbar\": {\"outlinewidth\": 0, \"ticks\": \"\"}, \"type\": \"choropleth\"}], \"contour\": [{\"colorbar\": {\"outlinewidth\": 0, \"ticks\": \"\"}, \"colorscale\": [[0.0, \"#0d0887\"], [0.1111111111111111, \"#46039f\"], [0.2222222222222222, \"#7201a8\"], [0.3333333333333333, \"#9c179e\"], [0.4444444444444444, \"#bd3786\"], [0.5555555555555556, \"#d8576b\"], [0.6666666666666666, \"#ed7953\"], [0.7777777777777778, \"#fb9f3a\"], [0.8888888888888888, \"#fdca26\"], [1.0, \"#f0f921\"]], \"type\": \"contour\"}], \"contourcarpet\": [{\"colorbar\": {\"outlinewidth\": 0, \"ticks\": \"\"}, \"type\": \"contourcarpet\"}], \"heatmap\": [{\"colorbar\": {\"outlinewidth\": 0, \"ticks\": \"\"}, \"colorscale\": [[0.0, \"#0d0887\"], [0.1111111111111111, \"#46039f\"], [0.2222222222222222, \"#7201a8\"], [0.3333333333333333, \"#9c179e\"], [0.4444444444444444, \"#bd3786\"], [0.5555555555555556, \"#d8576b\"], [0.6666666666666666, \"#ed7953\"], [0.7777777777777778, \"#fb9f3a\"], [0.8888888888888888, \"#fdca26\"], [1.0, \"#f0f921\"]], \"type\": \"heatmap\"}], \"heatmapgl\": [{\"colorbar\": {\"outlinewidth\": 0, \"ticks\": \"\"}, \"colorscale\": [[0.0, \"#0d0887\"], [0.1111111111111111, \"#46039f\"], [0.2222222222222222, \"#7201a8\"], [0.3333333333333333, \"#9c179e\"], [0.4444444444444444, \"#bd3786\"], [0.5555555555555556, \"#d8576b\"], [0.6666666666666666, \"#ed7953\"], [0.7777777777777778, \"#fb9f3a\"], [0.8888888888888888, \"#fdca26\"], [1.0, \"#f0f921\"]], \"type\": \"heatmapgl\"}], \"histogram\": [{\"marker\": {\"colorbar\": {\"outlinewidth\": 0, \"ticks\": \"\"}}, \"type\": \"histogram\"}], \"histogram2d\": [{\"colorbar\": {\"outlinewidth\": 0, \"ticks\": \"\"}, \"colorscale\": [[0.0, \"#0d0887\"], [0.1111111111111111, \"#46039f\"], [0.2222222222222222, \"#7201a8\"], [0.3333333333333333, \"#9c179e\"], [0.4444444444444444, \"#bd3786\"], [0.5555555555555556, \"#d8576b\"], [0.6666666666666666, \"#ed7953\"], [0.7777777777777778, \"#fb9f3a\"], [0.8888888888888888, \"#fdca26\"], [1.0, \"#f0f921\"]], \"type\": \"histogram2d\"}], \"histogram2dcontour\": [{\"colorbar\": {\"outlinewidth\": 0, \"ticks\": \"\"}, \"colorscale\": [[0.0, \"#0d0887\"], [0.1111111111111111, \"#46039f\"], [0.2222222222222222, \"#7201a8\"], [0.3333333333333333, \"#9c179e\"], [0.4444444444444444, \"#bd3786\"], [0.5555555555555556, \"#d8576b\"], [0.6666666666666666, \"#ed7953\"], [0.7777777777777778, \"#fb9f3a\"], [0.8888888888888888, \"#fdca26\"], [1.0, \"#f0f921\"]], \"type\": \"histogram2dcontour\"}], \"mesh3d\": [{\"colorbar\": {\"outlinewidth\": 0, \"ticks\": \"\"}, \"type\": \"mesh3d\"}], \"parcoords\": [{\"line\": {\"colorbar\": {\"outlinewidth\": 0, \"ticks\": \"\"}}, \"type\": \"parcoords\"}], \"pie\": [{\"automargin\": true, \"type\": \"pie\"}], \"scatter\": [{\"marker\": {\"colorbar\": {\"outlinewidth\": 0, \"ticks\": \"\"}}, \"type\": \"scatter\"}], \"scatter3d\": [{\"line\": {\"colorbar\": {\"outlinewidth\": 0, \"ticks\": \"\"}}, \"marker\": {\"colorbar\": {\"outlinewidth\": 0, \"ticks\": \"\"}}, \"type\": \"scatter3d\"}], \"scattercarpet\": [{\"marker\": {\"colorbar\": {\"outlinewidth\": 0, \"ticks\": \"\"}}, \"type\": \"scattercarpet\"}], \"scattergeo\": [{\"marker\": {\"colorbar\": {\"outlinewidth\": 0, \"ticks\": \"\"}}, \"type\": \"scattergeo\"}], \"scattergl\": [{\"marker\": {\"colorbar\": {\"outlinewidth\": 0, \"ticks\": \"\"}}, \"type\": \"scattergl\"}], \"scattermapbox\": [{\"marker\": {\"colorbar\": {\"outlinewidth\": 0, \"ticks\": \"\"}}, \"type\": \"scattermapbox\"}], \"scatterpolar\": [{\"marker\": {\"colorbar\": {\"outlinewidth\": 0, \"ticks\": \"\"}}, \"type\": \"scatterpolar\"}], \"scatterpolargl\": [{\"marker\": {\"colorbar\": {\"outlinewidth\": 0, \"ticks\": \"\"}}, \"type\": \"scatterpolargl\"}], \"scatterternary\": [{\"marker\": {\"colorbar\": {\"outlinewidth\": 0, \"ticks\": \"\"}}, \"type\": \"scatterternary\"}], \"surface\": [{\"colorbar\": {\"outlinewidth\": 0, \"ticks\": \"\"}, \"colorscale\": [[0.0, \"#0d0887\"], [0.1111111111111111, \"#46039f\"], [0.2222222222222222, \"#7201a8\"], [0.3333333333333333, \"#9c179e\"], [0.4444444444444444, \"#bd3786\"], [0.5555555555555556, \"#d8576b\"], [0.6666666666666666, \"#ed7953\"], [0.7777777777777778, \"#fb9f3a\"], [0.8888888888888888, \"#fdca26\"], [1.0, \"#f0f921\"]], \"type\": \"surface\"}], \"table\": [{\"cells\": {\"fill\": {\"color\": \"#EBF0F8\"}, \"line\": {\"color\": \"white\"}}, \"header\": {\"fill\": {\"color\": \"#C8D4E3\"}, \"line\": {\"color\": \"white\"}}, \"type\": \"table\"}]}, \"layout\": {\"annotationdefaults\": {\"arrowcolor\": \"#2a3f5f\", \"arrowhead\": 0, \"arrowwidth\": 1}, \"coloraxis\": {\"colorbar\": {\"outlinewidth\": 0, \"ticks\": \"\"}}, \"colorscale\": {\"diverging\": [[0, \"#8e0152\"], [0.1, \"#c51b7d\"], [0.2, \"#de77ae\"], [0.3, \"#f1b6da\"], [0.4, \"#fde0ef\"], [0.5, \"#f7f7f7\"], [0.6, \"#e6f5d0\"], [0.7, \"#b8e186\"], [0.8, \"#7fbc41\"], [0.9, \"#4d9221\"], [1, \"#276419\"]], \"sequential\": [[0.0, \"#0d0887\"], [0.1111111111111111, \"#46039f\"], [0.2222222222222222, \"#7201a8\"], [0.3333333333333333, \"#9c179e\"], [0.4444444444444444, \"#bd3786\"], [0.5555555555555556, \"#d8576b\"], [0.6666666666666666, \"#ed7953\"], [0.7777777777777778, \"#fb9f3a\"], [0.8888888888888888, \"#fdca26\"], [1.0, \"#f0f921\"]], \"sequentialminus\": [[0.0, \"#0d0887\"], [0.1111111111111111, \"#46039f\"], [0.2222222222222222, \"#7201a8\"], [0.3333333333333333, \"#9c179e\"], [0.4444444444444444, \"#bd3786\"], [0.5555555555555556, \"#d8576b\"], [0.6666666666666666, \"#ed7953\"], [0.7777777777777778, \"#fb9f3a\"], [0.8888888888888888, \"#fdca26\"], [1.0, \"#f0f921\"]]}, \"colorway\": [\"#636efa\", \"#EF553B\", \"#00cc96\", \"#ab63fa\", \"#FFA15A\", \"#19d3f3\", \"#FF6692\", \"#B6E880\", \"#FF97FF\", \"#FECB52\"], \"font\": {\"color\": \"#2a3f5f\"}, \"geo\": {\"bgcolor\": \"white\", \"lakecolor\": \"white\", \"landcolor\": \"#E5ECF6\", \"showlakes\": true, \"showland\": true, \"subunitcolor\": \"white\"}, \"hoverlabel\": {\"align\": \"left\"}, \"hovermode\": \"closest\", \"mapbox\": {\"style\": \"light\"}, \"paper_bgcolor\": \"white\", \"plot_bgcolor\": \"#E5ECF6\", \"polar\": {\"angularaxis\": {\"gridcolor\": \"white\", \"linecolor\": \"white\", \"ticks\": \"\"}, \"bgcolor\": \"#E5ECF6\", \"radialaxis\": {\"gridcolor\": \"white\", \"linecolor\": \"white\", \"ticks\": \"\"}}, \"scene\": {\"xaxis\": {\"backgroundcolor\": \"#E5ECF6\", \"gridcolor\": \"white\", \"gridwidth\": 2, \"linecolor\": \"white\", \"showbackground\": true, \"ticks\": \"\", \"zerolinecolor\": \"white\"}, \"yaxis\": {\"backgroundcolor\": \"#E5ECF6\", \"gridcolor\": \"white\", \"gridwidth\": 2, \"linecolor\": \"white\", \"showbackground\": true, \"ticks\": \"\", \"zerolinecolor\": \"white\"}, \"zaxis\": {\"backgroundcolor\": \"#E5ECF6\", \"gridcolor\": \"white\", \"gridwidth\": 2, \"linecolor\": \"white\", \"showbackground\": true, \"ticks\": \"\", \"zerolinecolor\": \"white\"}}, \"shapedefaults\": {\"line\": {\"color\": \"#2a3f5f\"}}, \"ternary\": {\"aaxis\": {\"gridcolor\": \"white\", \"linecolor\": \"white\", \"ticks\": \"\"}, \"baxis\": {\"gridcolor\": \"white\", \"linecolor\": \"white\", \"ticks\": \"\"}, \"bgcolor\": \"#E5ECF6\", \"caxis\": {\"gridcolor\": \"white\", \"linecolor\": \"white\", \"ticks\": \"\"}}, \"title\": {\"x\": 0.05}, \"xaxis\": {\"automargin\": true, \"gridcolor\": \"white\", \"linecolor\": \"white\", \"ticks\": \"\", \"title\": {\"standoff\": 15}, \"zerolinecolor\": \"white\", \"zerolinewidth\": 2}, \"yaxis\": {\"automargin\": true, \"gridcolor\": \"white\", \"linecolor\": \"white\", \"ticks\": \"\", \"title\": {\"standoff\": 15}, \"zerolinecolor\": \"white\", \"zerolinewidth\": 2}}}, \"xaxis\": {\"anchor\": \"y\", \"domain\": [0.0, 1.0], \"title\": {\"text\": \"\\ubc1c\\uc0dd\\ub144\\uc6d4\\uc77c\\uc2dc\"}}, \"yaxis\": {\"anchor\": \"x\", \"domain\": [0.0, 1.0], \"title\": {\"text\": \"\\ubc1c\\uc0dd\\uc2dc\\uac04\"}}},\n",
              "                        {\"responsive\": true}\n",
              "                    ).then(function(){\n",
              "                            \n",
              "var gd = document.getElementById('340810b6-c446-4668-bec3-ad2eaa2e824c');\n",
              "var x = new MutationObserver(function (mutations, observer) {{\n",
              "        var display = window.getComputedStyle(gd).display;\n",
              "        if (!display || display === 'none') {{\n",
              "            console.log([gd, 'removed!']);\n",
              "            Plotly.purge(gd);\n",
              "            observer.disconnect();\n",
              "        }}\n",
              "}});\n",
              "\n",
              "// Listen for the removal of the full notebook cells\n",
              "var notebookContainer = gd.closest('#notebook-container');\n",
              "if (notebookContainer) {{\n",
              "    x.observe(notebookContainer, {childList: true});\n",
              "}}\n",
              "\n",
              "// Listen for the clearing of the current output cell\n",
              "var outputEl = gd.closest('.output');\n",
              "if (outputEl) {{\n",
              "    x.observe(outputEl, {childList: true});\n",
              "}}\n",
              "\n",
              "                        })\n",
              "                };\n",
              "                \n",
              "            </script>\n",
              "        </div>\n",
              "</body>\n",
              "</html>"
            ]
          },
          "metadata": {
            "tags": []
          }
        }
      ]
    },
    {
      "cell_type": "code",
      "metadata": {
        "colab": {
          "base_uri": "https://localhost:8080/",
          "height": 562
        },
        "id": "eoJGzZ-coDr7",
        "outputId": "f60bc2fa-07db-4c70-ea67-87b530affc9b"
      },
      "source": [
        "fig2=px.bar(df,x='사망자수',y='발생시간',orientation='h')\n",
        "fig2.show()"
      ],
      "execution_count": 12,
      "outputs": [
        {
          "output_type": "display_data",
          "data": {
            "text/html": [
              "<html>\n",
              "<head><meta charset=\"utf-8\" /></head>\n",
              "<body>\n",
              "    <div>\n",
              "            <script src=\"https://cdnjs.cloudflare.com/ajax/libs/mathjax/2.7.5/MathJax.js?config=TeX-AMS-MML_SVG\"></script><script type=\"text/javascript\">if (window.MathJax) {MathJax.Hub.Config({SVG: {font: \"STIX-Web\"}});}</script>\n",
              "                <script type=\"text/javascript\">window.PlotlyConfig = {MathJaxConfig: 'local'};</script>\n",
              "        <script src=\"https://cdn.plot.ly/plotly-latest.min.js\"></script>    \n",
              "            <div id=\"fc635376-ba31-4805-89f9-e3420375ace1\" class=\"plotly-graph-div\" style=\"height:525px; width:100%;\"></div>\n",
              "            <script type=\"text/javascript\">\n",
              "                \n",
              "                    window.PLOTLYENV=window.PLOTLYENV || {};\n",
              "                    \n",
              "                if (document.getElementById(\"fc635376-ba31-4805-89f9-e3420375ace1\")) {\n",
              "                    Plotly.newPlot(\n",
              "                        'fc635376-ba31-4805-89f9-e3420375ace1',\n",
              "                        [{\"alignmentgroup\": \"True\", \"hoverlabel\": {\"namelength\": 0}, \"hovertemplate\": \"\\uc0ac\\ub9dd\\uc790\\uc218=%{x}<br>\\ubc1c\\uc0dd\\uc2dc\\uac04=%{y}\", \"legendgroup\": \"\", \"marker\": {\"color\": \"#636efa\"}, \"name\": \"\", \"offsetgroup\": \"\", \"orientation\": \"h\", \"showlegend\": false, \"textposition\": \"auto\", \"type\": \"bar\", \"x\": [1, 1, 1, 1, 1, 1, 1, 1, 1, 1, 1, 1, 1, 1, 1, 1, 1, 1, 1, 1, 1, 1, 1, 1, 1, 1, 1, 1, 1, 1, 1, 1, 1, 1, 1, 1, 1, 1, 1, 1, 1, 1, 1, 1, 1, 1, 1, 1, 1, 1, 1, 1, 1, 1, 1, 1, 1, 1, 1, 1, 1, 1, 1, 1, 1, 1, 1, 1, 1, 1, 1, 1, 1, 1, 1, 1, 1, 2, 1, 1, 2, 1, 1, 1, 1, 1, 1, 1, 1, 1, 1, 1, 1, 1, 1, 1, 1, 1, 1, 1, 1, 1, 1, 2, 1, 1, 1, 1, 1, 1, 1, 1, 1, 2, 1, 1, 1, 1, 1, 1, 1, 1, 1, 1, 1, 1, 1, 1, 1, 1, 1, 1, 1, 1, 1, 1, 1, 1, 1, 1, 1, 1, 1, 1, 1, 1, 1, 1, 1, 1, 1, 1, 1, 1, 1, 1, 1, 1, 1, 1, 1, 1, 1, 1, 1, 1, 1, 1, 1, 1, 1, 1, 1, 1, 1, 1, 1, 1, 1, 1, 1, 1, 1, 1, 1, 1, 1, 1, 1, 1, 1, 1, 1, 1, 1, 1, 1, 1, 1, 1, 1, 1, 1, 1, 1, 1, 1, 3, 1, 1, 1, 1, 1, 1, 1, 1, 1, 1, 1, 1, 1, 1, 1, 2, 1, 1, 1, 1, 1, 1, 1, 1, 1, 1, 1, 1, 1, 1, 1, 1, 1, 1, 1, 1, 1, 1, 1, 1, 1, 1, 1, 1, 1, 1, 1, 1, 1, 1, 1, 1, 1, 1, 1, 1, 1, 1, 1, 1, 1, 1, 1, 1, 1, 1, 1, 1, 1, 1, 1, 1, 1, 2, 1, 1, 1, 1, 1, 1, 1, 1, 1, 1, 1, 1, 1, 1, 1, 1, 1, 1, 1, 1, 1, 1, 1, 1, 2, 1, 1, 1, 1, 1, 1, 1, 1, 1, 1, 1, 1, 1, 1, 1, 1, 1, 1, 1, 1, 1, 1, 1, 1, 1, 1, 1, 1, 1, 1, 1, 1, 1, 2, 1, 1, 1, 1, 1, 1, 1, 1, 1, 1, 1, 1, 1, 2, 2, 1, 1, 1, 1, 1, 1, 1, 1, 1, 1, 1, 1, 1, 1, 1, 1, 1, 1, 1, 1, 1, 1, 1, 1, 1, 1, 1, 1, 1, 1, 1, 1, 1, 1, 1, 1, 1, 1, 1, 1, 1, 1, 1, 1, 1, 1, 1, 1, 1, 1, 1, 1, 1, 1, 1, 1, 1, 1, 1, 1, 1, 1, 1, 1, 1, 1, 1, 1, 1, 1, 1, 1, 1, 1, 1, 1, 1, 1, 1, 1, 1, 1, 1, 1, 1, 1, 1, 1, 1, 1, 1, 1, 1, 1, 1, 1, 1, 1, 1, 1, 1, 1, 1, 1, 1, 1, 1, 1, 1, 1, 1, 1, 1, 1, 1, 1, 1, 1, 1, 1, 1, 1, 1, 1, 1, 1, 1, 1, 1, 1, 1, 1, 1, 1, 1, 1, 1, 1, 1, 1, 1, 1, 1, 1, 1, 1, 1, 1, 1, 1, 1, 1, 1, 1, 1, 1, 1, 2, 1, 1, 1, 1, 1, 1, 1, 1, 1, 1, 1, 1, 1, 1, 1, 1, 1, 1, 1, 1, 1, 1, 1, 1, 1, 1, 1, 1, 1, 1, 1, 1, 1, 1, 1, 1, 1, 1, 1, 1, 1, 1, 1, 1, 1, 1, 1, 1, 1, 1, 1, 1, 1, 1, 1, 1, 1, 1, 1, 1, 1, 1, 1, 1, 2, 1, 1, 1, 1, 1, 1, 1, 1, 1, 1, 1, 1, 3, 1, 1, 1, 1, 1, 1, 1, 1, 1, 1, 1, 1, 1, 1, 1, 1, 1, 1, 1, 1, 1, 1, 1, 1, 1, 1, 1, 1, 1, 1, 1, 1, 2, 1, 1, 1, 1, 1, 1, 1, 1, 1, 1, 1, 1, 1, 1, 1, 1, 1, 1, 1, 1, 1, 1, 1, 1, 1, 1, 1, 1, 1, 1, 1, 1, 1, 1, 1, 1, 1, 1, 1, 1, 1, 1, 1, 1, 1, 1, 1, 1, 1, 1, 1, 1, 1, 1, 1, 1, 1, 1, 1, 1, 1, 1, 1, 1, 1, 1, 1, 1, 1, 1, 1, 1, 1, 1, 1, 1, 1, 1, 1, 1, 1, 1, 1, 1, 1, 1, 1, 1, 1, 1, 1, 1, 1, 1, 1, 1, 1, 1, 1, 1, 1, 1, 1, 1, 1, 1, 1, 1, 1, 1, 1, 1, 1, 1, 1, 1, 1, 1, 1, 1, 1, 1, 1, 1, 1, 1, 1, 1, 1, 1, 1, 1, 1, 1, 1, 1, 1, 1, 1, 1, 1, 1, 1, 1, 1, 1, 1, 1, 1, 1, 1, 1, 1, 1, 1, 1, 1, 1, 1, 1, 1, 1, 1, 1, 1, 1, 1, 1, 1, 1, 1, 1, 1, 1, 1, 1, 1, 1, 1, 1, 1, 1, 1, 1, 1, 1, 1, 1, 1, 1, 1, 1, 1, 1, 1, 1, 1, 1, 1, 1, 1, 1, 1, 1, 1, 1, 1, 1, 1, 1, 1, 1, 1, 2, 1, 1, 1, 1, 1, 1, 1, 1, 1, 1, 1, 1, 1, 1, 1, 1, 1, 1, 1, 1, 1, 1, 1, 1, 1, 1, 1, 1, 1, 1, 1, 1, 1, 1, 1, 1, 1, 2, 1, 1, 1, 1, 1, 1, 1, 1, 1, 1, 1, 1, 1, 1, 1, 1, 1, 2, 1, 1, 1, 1, 1, 1, 1, 1, 1, 1, 1, 1, 1, 1, 1, 1, 1, 1, 1, 1, 2, 1, 1, 1, 2, 1, 1, 1, 1, 1, 1, 1, 1, 1, 1, 1, 1, 1, 1, 1, 1, 1, 1, 1, 1, 1, 1, 1, 1, 1, 1, 1, 2, 1, 1, 1, 1, 1, 1, 1, 1, 1, 1, 1, 1, 1, 1, 1, 1, 1, 1, 1, 1, 1, 1, 1, 1, 1, 1, 1, 1, 1, 1, 1, 1, 1, 1, 1, 1, 1, 1, 1, 1, 1, 1, 1, 1, 1, 1, 1, 1, 1, 1, 1, 1, 1, 1, 1, 1, 1, 1, 1, 1, 1, 1, 1, 1, 1, 1, 1, 1, 1, 1, 1, 1, 1, 1, 1, 1, 1, 1, 1, 1, 1, 1, 1, 1, 1, 1, 1, 2, 1, 1, 1, 1, 1, 1, 1, 1, 1, 1, 1, 1, 1, 1, 1, 1, 1, 1, 1, 1, 1, 1, 1, 1, 1, 1, 1, 1, 1, 1, 1, 1, 1, 1, 1, 3, 1, 1, 1, 1, 1, 1, 1, 1, 1, 1, 1, 1, 1, 1, 1, 1, 1, 1, 1, 1, 1, 1, 1, 1, 1, 1, 2, 1, 1, 1, 1, 1, 1, 1, 1, 1, 1, 1, 1, 1, 1, 1, 1, 1, 1, 1, 1, 1, 1, 1, 1, 1, 1, 1, 1, 1, 1, 1, 1, 1, 1, 1, 1, 1, 1, 1, 1, 1, 1, 1, 1, 1, 1, 1, 1, 1, 1, 1, 1, 1, 1, 1, 1, 1, 1, 1, 1, 1, 1, 1, 1, 1, 1, 1, 1, 1, 1, 1, 1, 1, 1, 2, 1, 1, 1, 1, 1, 1, 1, 1, 1, 1, 1, 1, 1, 1, 1, 1, 1, 1, 1, 1, 1, 1, 1, 1, 1, 1, 1, 1, 1, 1, 1, 1, 1, 1, 1, 1, 1, 1, 1, 1, 1, 1, 1, 1, 1, 1, 1, 1, 1, 1, 1, 1, 1, 1, 1, 1, 1, 2, 1, 1, 1, 1, 1, 1, 1, 1, 1, 1, 1, 1, 1, 1, 1, 1, 1, 1, 1, 1, 1, 1, 1, 1, 1, 1, 1, 1, 1, 1, 1, 1, 1, 1, 1, 1, 1, 1, 1, 1, 2, 1, 1, 1, 1, 1, 1, 1, 1, 1, 1, 1, 1, 1, 1, 1, 1, 1, 1, 1, 1, 1, 1, 1, 1, 1, 1, 1, 1, 1, 1, 2, 1, 1, 1, 1, 1, 1, 1, 1, 1, 1, 1, 1, 1, 1, 1, 1, 1, 1, 1, 1, 1, 1, 1, 1, 1, 1, 1, 1, 1, 1, 1, 1, 1, 1, 3, 1, 1, 1, 1, 1, 1, 1, 1, 1, 1, 1, 1, 1, 1, 1, 1, 1, 1, 1, 1, 2, 1, 1, 1, 1, 1, 1, 1, 1, 1, 1, 1, 1, 1, 1, 1, 1, 1, 1, 1, 1, 1, 1, 1, 1, 1, 1, 1, 1, 1, 1, 1, 1, 1, 1, 1, 1, 1, 1, 1, 1, 1, 1, 1, 1, 1, 1, 1, 1, 1, 1, 1, 1, 1, 2, 1, 1, 1, 1, 1, 1, 1, 1, 1, 1, 1, 1, 1, 1, 1, 1, 1, 1, 1, 1, 1, 2, 1, 1, 1, 2, 1, 1, 1, 1, 1, 1, 1, 1, 1, 2, 1, 1, 1, 1, 1, 1, 1, 1, 2, 1, 1, 1, 1, 1, 2, 1, 1, 1, 1, 1, 1, 1, 1, 1, 1, 1, 1, 1, 1, 1, 1, 2, 1, 1, 1, 1, 1, 1, 1, 1, 1, 1, 1, 1, 1, 1, 1, 1, 1, 1, 1, 1, 1, 1, 1, 1, 1, 1, 1, 1, 1, 1, 1, 1, 1, 1, 1, 1, 1, 1, 1, 1, 1, 1, 1, 1, 1, 1, 1, 2, 1, 1, 1, 1, 1, 1, 1, 1, 1, 1, 1, 1, 1, 1, 1, 1, 1, 1, 1, 1, 1, 1, 1, 1, 1, 1, 1, 1, 1, 1, 1, 1, 1, 1, 1, 1, 1, 1, 1, 1, 1, 1, 1, 1, 1, 1, 1, 1, 1, 1, 1, 1, 1, 1, 1, 1, 1, 1, 1, 1, 1, 1, 1, 1, 1, 1, 1, 1, 1, 1, 1, 1, 1, 1, 1, 1, 1, 1, 1, 1, 1, 1, 1, 1, 1, 1, 1, 1, 1, 1, 1, 1, 1, 1, 1, 1, 1, 2, 1, 1, 1, 1, 1, 3, 1, 1, 1, 1, 1, 1, 1, 1, 1, 1, 1, 1, 1, 1, 1, 1, 1, 1, 1, 1, 1, 1, 1, 1, 1, 1, 1, 1, 1, 1, 1, 1, 1, 1, 1, 1, 1, 1, 2, 1, 1, 1, 1, 1, 1, 1, 1, 1, 2, 1, 1, 1, 1, 1, 1, 1, 1, 1, 1, 1, 1, 1, 1, 1, 1, 1, 1, 1, 1, 1, 1, 1, 1, 1, 1, 1, 1, 1, 1, 1, 4, 1, 1, 1, 1, 1, 1, 1, 1, 1, 2, 1, 1, 1, 1, 1, 1, 1, 1, 1, 1, 1, 1, 1, 1, 1, 1, 1, 1, 1, 1, 2, 1, 1, 1, 1, 1, 1, 1, 1, 1, 1, 1, 1, 1, 1, 1, 1, 1, 1, 1, 1, 1, 1, 1, 1, 1, 1, 1, 1, 1, 1, 1, 1, 1, 1, 1, 1, 1, 1, 1, 1, 1, 1, 1, 2, 1, 1, 1, 1, 1, 1, 1, 1, 1, 1, 1, 1, 1, 1, 1, 1, 1, 1, 1, 2, 1, 1, 1, 1, 1, 1, 1, 1, 1, 1, 1, 1, 1, 1, 2, 1, 1, 1, 1, 1, 1, 1, 1, 1, 1, 1, 1, 1, 1, 1, 1, 1, 2, 1, 1, 2, 1, 1, 1, 1, 3, 1, 1, 1, 1, 1, 1, 1, 1, 1, 1, 1, 1, 1, 1, 1, 1, 1, 1, 1, 1, 2, 1, 1, 1, 1, 1, 1, 1, 1, 1, 1, 1, 1, 1, 1, 1, 1, 1, 1, 1, 1, 1, 1, 1, 1, 1, 1, 1, 1, 1, 1, 1, 1, 1, 1, 1, 1, 1, 1, 1, 1, 1, 1, 1, 1, 1, 1, 1, 1, 1, 1, 1, 1, 1, 1, 1, 1, 1, 1, 1, 1, 1, 1, 1, 1, 1, 2, 1, 1, 1, 1, 1, 1, 1, 1, 1, 1, 1, 1, 1, 1, 1, 1, 1, 1, 1, 1, 1, 1, 1, 1, 1, 1, 1, 1, 1, 2, 1, 1, 1, 1, 1, 1, 1, 1, 1, 2, 1, 1, 1, 1, 1, 1, 1, 1, 1, 1, 1, 2, 1, 1, 1, 1, 1, 1, 1, 1, 1, 1, 1, 1, 1, 1, 1, 1, 1, 1, 1, 1, 1, 1, 1, 1, 1, 1, 1, 1, 1, 1, 1, 1, 1, 1, 1, 1, 1, 1, 2, 1, 1, 1, 1, 1, 1, 1, 1, 1, 1, 1, 1, 1, 1, 1, 1, 1, 1, 1, 1, 1, 1, 1, 1, 1, 1, 1, 1, 1, 1, 1, 1, 1, 1, 1, 1, 1, 1, 1, 1, 1, 1, 1, 1, 1, 1, 1, 1, 1, 1, 1, 1, 1, 1, 1, 1, 1, 1, 1, 1, 1, 1, 1, 1, 1, 1, 1, 1, 1, 1, 1, 1, 1, 1, 1, 1, 1, 1, 1, 1, 1, 1, 1, 2, 1, 1, 1, 1, 1, 1, 1, 1, 2, 1, 1, 1, 1, 1, 1, 1, 1, 1, 1, 1, 2, 1, 1, 1, 1, 1, 1, 1, 1, 1, 1, 1, 2, 1, 1, 1, 1, 1, 1, 1, 1, 1, 1, 1, 1, 1, 1, 1, 1, 1, 1, 1, 1, 1, 1, 1, 1, 1, 1, 1, 1, 1, 1, 1, 1, 1, 1, 1, 1, 1, 1, 1, 1, 1, 1, 1, 1, 1, 1, 1, 1, 1, 1, 1, 1, 1, 1, 1, 1, 1, 1, 1, 2, 1, 1, 1, 1, 1, 1, 1, 1, 1, 1, 1, 1, 1, 1, 1, 1, 1, 1, 1, 1, 1, 1, 1, 1, 1, 1, 1, 1, 1, 1, 1, 1, 1, 1, 1, 1, 1, 1, 1, 1, 1, 1, 1, 1, 1, 1, 1, 1, 1, 1, 1, 1, 1, 1, 1, 1, 1, 1, 1, 1, 1, 1, 1, 1, 1, 1, 1, 1, 1, 1, 1, 1, 1, 1, 2, 1, 2, 1, 1, 1, 1, 1, 1, 1, 1, 1, 1, 1, 1, 1, 1, 1, 1, 1, 1, 1, 1, 1, 1, 1, 1, 1, 1, 1, 1, 1, 1, 1, 1, 1, 1, 1, 1, 1, 1, 1, 1, 1, 1, 1, 1, 2, 1, 1, 1, 2, 1, 1, 1, 1, 1, 1, 1, 1, 1, 1, 1, 1, 1, 1, 1, 1, 1, 2, 1, 1, 1, 2, 1, 1, 1, 1, 1, 1, 1, 1, 1, 1, 1, 1, 1, 1, 1, 1, 1, 1, 1, 1, 1, 1, 1, 1, 1, 1, 1, 1, 1, 1, 1, 1, 1, 1, 1, 1, 1, 1, 1, 1, 1, 1, 1, 1, 1, 1, 1, 1, 1, 1, 1, 2, 1, 1, 1, 1, 1, 1, 1, 1, 1, 1, 1, 1, 1, 1, 1, 1, 1, 1, 1, 1, 1, 1, 1, 1, 1, 1, 1, 2, 1, 1, 1, 1, 1, 1, 1, 1, 1, 1, 1, 1, 1, 1, 1, 1, 1, 1, 1, 1, 1, 1, 1, 1, 1, 1, 1, 1, 1, 1, 1, 1, 1, 2, 1, 1, 1, 1, 1, 1, 1, 1, 1, 1, 1, 1, 1, 1, 1, 1, 1, 1, 1, 1, 1, 1, 1, 1, 1, 1, 1, 1, 1, 1, 1, 1, 1, 1, 1, 1, 1, 1, 1, 1, 2, 1, 1, 1, 1, 1, 1, 1, 1, 3, 1, 1, 2, 1, 2, 4, 1, 1, 1, 1, 1, 1, 1, 1, 1, 1, 1, 1, 1, 1, 1, 1, 1, 1, 1, 1, 1, 1, 1, 1, 1, 1, 1, 1, 1, 1, 1, 1, 1, 1, 1, 1, 1, 1, 1, 1, 1, 1, 1, 1, 1, 1, 1, 1, 1, 1, 1, 1, 1, 1, 1, 1, 1, 1, 1, 1, 1, 1, 2, 1, 1, 1, 1, 1, 1, 1, 1, 1, 1, 1, 1, 1, 2, 2, 1, 1, 1, 1, 1, 1, 1, 1, 1, 1, 1, 1, 1, 1, 1, 1, 1, 1, 1, 1, 1, 1, 1, 1, 1, 1, 1, 1, 1, 1, 1, 1, 1, 1, 1, 1, 1, 1, 1, 1, 1, 1, 1, 1, 1, 1, 1, 1, 1, 1, 1, 1, 1, 1, 1, 1, 1, 1, 1, 1, 1, 1, 1, 1, 1, 1, 1, 1, 1, 1, 1, 1, 1, 2, 1, 1, 2, 1, 1, 1, 1, 1, 1, 1, 1, 1, 1, 1, 1, 1, 1, 1, 1, 1, 1, 1, 1, 1, 1, 1, 1, 1, 1, 1, 1, 1, 1, 1, 1, 1, 1, 1, 2, 1, 1, 1, 1, 1, 1, 1, 1, 1, 1, 1, 1, 1, 1, 1, 1, 1, 1, 1, 1, 1, 1, 1, 1, 1, 1, 1, 1, 1, 1, 1, 1, 1, 1, 1, 1, 1, 1, 1, 1, 1, 1, 1, 1, 1, 1, 1, 1, 1, 1, 1, 1, 1, 1, 1, 1, 1, 1, 1, 1, 1, 1, 1, 1, 1, 1, 1, 1, 1, 1, 1, 1, 1, 1, 1, 1, 1, 1, 1, 1, 1, 1, 1, 1, 1, 1, 1, 1, 1, 1, 1, 1, 1, 1, 2, 1, 1, 1, 1, 1, 1, 1, 1, 1, 1, 1, 2, 1, 1, 1, 1, 1, 1, 1, 1, 1, 1, 1, 1, 1, 1, 1, 1, 1, 1, 1, 1, 1, 1, 2, 1, 1, 1, 1, 1, 1, 1, 1, 2, 1, 1, 1, 1, 1, 1, 1, 1, 1, 1, 1, 1, 1, 1, 1, 1, 1, 1, 1, 1, 1, 1, 1, 1, 4, 1, 1, 1, 1, 1, 1, 1, 1, 2, 1, 1, 1, 1, 1, 1, 1, 1, 1, 1, 1, 1, 1, 1, 1, 1, 1, 1, 1, 1, 1, 1, 1, 1, 1, 1, 1, 1, 1, 1, 1, 1, 1, 1, 1, 1, 1, 1, 1, 1, 1, 1, 1, 1, 1, 1, 1, 1, 1, 1, 1, 1, 1, 1, 1, 1, 1, 1, 2, 1, 1, 1, 1, 1, 2, 1, 1, 1, 1, 1, 1, 1, 1, 1, 1, 1, 1, 1, 2, 1, 1, 1, 1, 1, 1, 1, 1, 1, 1, 1, 1, 1, 1, 1, 1, 1, 1, 1, 1, 1, 1, 1, 1, 1, 1, 1, 1, 1, 1, 1, 1, 1, 1, 1, 1, 1, 1, 1, 1, 1, 1, 1, 1, 1, 1, 1, 1, 1, 1, 1, 1, 1, 1, 1, 1, 1, 1, 1, 1, 1, 1, 1, 1, 1, 1, 1, 1, 1, 1, 1, 1, 1, 1, 1, 1, 1, 1, 1, 1, 1, 1, 1, 1, 1, 1, 1, 1, 1, 2, 1, 1, 1, 1, 1, 1, 1, 1, 1, 1, 2, 1, 1, 1, 1, 6, 1, 1, 1, 1, 1, 1, 1, 2, 1, 1, 1, 1, 1, 1, 1, 1, 1, 1, 1, 1, 1, 1, 1, 1, 1, 1, 1, 1, 1, 1, 1, 1, 1, 1, 1, 1, 1, 1, 1, 1, 1, 1, 1, 1, 1, 1, 1, 1, 1, 1, 1, 1, 1, 1, 1, 1, 1, 1, 1, 1, 1, 1, 1, 1, 1, 2, 1, 1, 1, 1, 1, 1, 1, 1, 1, 1, 1, 1, 1, 1, 2, 1, 1, 1, 1, 1, 1, 1, 1, 1, 1, 1, 1, 1, 1, 1, 1, 1, 1, 1, 1, 1, 1, 1, 1, 1, 1, 1, 1, 1, 1, 1, 1, 2, 1, 1, 1, 1, 1, 1, 1, 1, 1, 1, 1, 1, 1, 1, 1, 1, 1, 1, 1, 1, 2, 1, 1, 1, 1, 1, 1, 1, 1, 1, 1, 1, 1, 1, 1, 1, 1, 1, 1, 1, 1, 1, 1, 1, 1, 1], \"xaxis\": \"x\", \"y\": [0, 3, 16, 19, 21, 3, 6, 10, 10, 15, 16, 18, 18, 19, 23, 3, 7, 12, 17, 20, 5, 7, 8, 10, 15, 1, 1, 2, 4, 8, 17, 4, 5, 12, 14, 15, 15, 18, 20, 21, 5, 5, 9, 18, 18, 20, 2, 4, 5, 14, 14, 16, 17, 18, 18, 18, 19, 21, 6, 18, 1, 5, 8, 12, 14, 15, 16, 18, 20, 20, 23, 5, 6, 7, 8, 14, 15, 17, 22, 23, 5, 5, 6, 7, 9, 11, 12, 20, 20, 21, 22, 5, 5, 7, 8, 11, 11, 17, 18, 21, 0, 4, 5, 5, 7, 7, 11, 11, 14, 15, 17, 17, 19, 2, 4, 7, 15, 21, 22, 23, 4, 4, 6, 9, 9, 11, 14, 19, 20, 21, 22, 22, 5, 5, 5, 7, 8, 8, 11, 11, 13, 18, 0, 5, 5, 6, 7, 10, 10, 12, 15, 19, 6, 7, 11, 11, 18, 19, 19, 20, 22, 1, 2, 6, 6, 8, 9, 11, 17, 21, 23, 0, 6, 9, 12, 13, 18, 0, 0, 1, 5, 6, 6, 7, 8, 8, 13, 16, 17, 21, 3, 5, 7, 12, 13, 15, 16, 23, 0, 4, 7, 9, 13, 14, 14, 15, 18, 20, 21, 23, 2, 2, 4, 5, 7, 10, 15, 18, 18, 19, 23, 23, 0, 2, 8, 9, 11, 14, 3, 5, 6, 7, 7, 7, 8, 10, 10, 12, 13, 14, 16, 17, 18, 19, 19, 20, 23, 5, 6, 7, 7, 8, 9, 12, 15, 16, 23, 0, 6, 9, 9, 10, 10, 11, 11, 11, 11, 13, 15, 15, 18, 18, 19, 21, 0, 3, 4, 6, 6, 10, 12, 16, 18, 18, 19, 20, 21, 23, 9, 14, 15, 22, 0, 0, 3, 7, 12, 13, 19, 23, 5, 8, 16, 20, 13, 16, 21, 23, 22, 3, 3, 7, 7, 10, 15, 15, 19, 23, 0, 3, 4, 7, 9, 17, 18, 18, 20, 3, 3, 6, 10, 13, 14, 15, 2, 13, 13, 22, 14, 5, 9, 16, 19, 20, 0, 5, 11, 18, 20, 23, 0, 1, 4, 6, 8, 9, 11, 14, 14, 16, 18, 19, 21, 21, 22, 0, 1, 10, 18, 19, 20, 20, 22, 2, 6, 7, 10, 11, 12, 12, 13, 14, 15, 20, 21, 0, 2, 7, 11, 13, 15, 18, 19, 19, 0, 1, 19, 20, 23, 1, 5, 5, 7, 9, 10, 17, 17, 17, 2, 6, 10, 11, 16, 17, 18, 22, 22, 9, 11, 11, 16, 17, 19, 19, 20, 0, 1, 6, 6, 7, 8, 10, 21, 6, 6, 8, 12, 14, 18, 19, 19, 20, 1, 6, 20, 6, 6, 6, 11, 12, 12, 14, 14, 14, 18, 18, 19, 21, 0, 1, 5, 6, 17, 18, 19, 22, 0, 0, 1, 1, 1, 5, 6, 13, 14, 14, 15, 16, 23, 1, 5, 6, 7, 8, 14, 19, 19, 0, 3, 10, 16, 21, 12, 14, 18, 20, 1, 1, 3, 9, 10, 11, 14, 2, 15, 16, 16, 18, 22, 23, 1, 5, 8, 9, 11, 11, 11, 14, 19, 0, 1, 1, 4, 10, 10, 14, 16, 18, 19, 5, 9, 9, 11, 12, 13, 14, 17, 18, 19, 23, 0, 0, 6, 6, 7, 7, 7, 8, 12, 17, 19, 19, 20, 1, 1, 4, 6, 8, 9, 10, 13, 0, 1, 5, 12, 15, 20, 6, 8, 10, 3, 10, 10, 13, 13, 13, 19, 21, 23, 6, 7, 9, 9, 11, 13, 15, 17, 18, 19, 21, 23, 0, 1, 3, 5, 5, 5, 15, 15, 18, 18, 19, 21, 1, 3, 5, 6, 6, 6, 6, 14, 19, 20, 2, 3, 5, 6, 12, 15, 16, 17, 19, 23, 23, 3, 12, 18, 3, 5, 10, 12, 13, 17, 18, 19, 19, 20, 0, 0, 10, 13, 21, 22, 5, 5, 7, 8, 9, 13, 23, 3, 4, 7, 9, 10, 15, 21, 21, 3, 9, 11, 14, 17, 18, 19, 20, 22, 22, 7, 8, 10, 17, 17, 19, 20, 13, 5, 9, 15, 17, 19, 20, 21, 22, 5, 7, 9, 13, 14, 19, 19, 19, 19, 20, 3, 15, 17, 18, 0, 3, 4, 12, 13, 17, 19, 19, 19, 6, 6, 10, 10, 11, 16, 16, 19, 19, 20, 20, 22, 23, 10, 11, 14, 15, 20, 0, 5, 9, 12, 14, 15, 20, 21, 21, 6, 7, 7, 10, 13, 13, 14, 15, 16, 16, 17, 18, 19, 22, 1, 5, 10, 10, 11, 16, 19, 22, 22, 0, 4, 7, 8, 9, 12, 12, 14, 16, 19, 21, 6, 8, 9, 12, 17, 18, 19, 19, 23, 3, 12, 13, 14, 18, 22, 23, 2, 7, 7, 17, 19, 20, 21, 21, 0, 0, 2, 3, 4, 5, 5, 10, 14, 14, 20, 3, 4, 5, 6, 6, 10, 11, 11, 11, 13, 20, 1, 1, 1, 1, 5, 5, 10, 12, 13, 16, 18, 20, 21, 21, 23, 23, 0, 6, 10, 15, 17, 19, 0, 2, 6, 14, 16, 17, 17, 19, 21, 23, 2, 8, 10, 11, 13, 16, 18, 18, 19, 20, 21, 22, 2, 9, 10, 14, 15, 19, 21, 0, 11, 13, 14, 14, 15, 20, 22, 22, 22, 23, 1, 7, 7, 8, 15, 18, 21, 23, 6, 7, 7, 10, 11, 11, 12, 15, 15, 15, 15, 17, 19, 19, 21, 22, 5, 8, 19, 22, 0, 4, 7, 7, 8, 10, 10, 13, 17, 23, 0, 3, 5, 5, 6, 11, 11, 15, 16, 18, 21, 22, 23, 0, 1, 3, 8, 9, 15, 19, 21, 21, 3, 3, 6, 15, 16, 18, 8, 8, 11, 12, 14, 15, 22, 10, 14, 20, 1, 13, 14, 17, 17, 19, 20, 4, 5, 5, 6, 10, 10, 11, 19, 22, 8, 8, 9, 12, 12, 12, 16, 20, 20, 21, 21, 2, 6, 6, 9, 12, 21, 0, 0, 2, 2, 3, 14, 18, 18, 0, 5, 9, 10, 10, 11, 11, 11, 14, 14, 14, 0, 2, 4, 13, 14, 14, 15, 17, 17, 20, 1, 1, 7, 12, 13, 16, 19, 20, 21, 22, 23, 0, 1, 8, 9, 14, 15, 16, 16, 16, 16, 19, 20, 2, 2, 3, 3, 7, 7, 8, 10, 17, 17, 1, 1, 7, 10, 11, 11, 11, 14, 15, 1, 1, 2, 4, 7, 11, 12, 15, 16, 16, 18, 20, 20, 21, 21, 0, 1, 2, 3, 5, 11, 14, 19, 22, 5, 6, 7, 8, 9, 9, 9, 10, 11, 12, 12, 13, 14, 14, 15, 15, 16, 17, 20, 2, 5, 10, 13, 17, 23, 0, 3, 7, 9, 13, 15, 16, 21, 23, 6, 12, 14, 15, 15, 19, 20, 22, 0, 5, 9, 12, 12, 15, 16, 17, 17, 18, 20, 4, 8, 13, 14, 15, 19, 7, 8, 10, 10, 10, 10, 11, 13, 13, 13, 14, 18, 19, 20, 21, 22, 1, 10, 13, 14, 16, 16, 19, 21, 5, 5, 6, 7, 10, 13, 14, 15, 16, 18, 19, 22, 23, 1, 2, 3, 11, 14, 16, 18, 20, 0, 9, 13, 15, 19, 19, 23, 1, 3, 5, 13, 17, 18, 18, 19, 21, 0, 1, 14, 15, 19, 21, 22, 5, 6, 7, 9, 11, 11, 11, 14, 14, 16, 18, 2, 6, 11, 12, 20, 2, 2, 7, 9, 10, 10, 17, 8, 8, 9, 10, 10, 12, 13, 14, 14, 19, 19, 20, 0, 1, 8, 11, 15, 17, 17, 18, 20, 22, 23, 23, 0, 1, 3, 8, 8, 11, 14, 21, 23, 0, 1, 2, 11, 18, 4, 5, 11, 12, 12, 13, 13, 14, 15, 17, 19, 20, 23, 2, 4, 7, 8, 10, 17, 19, 5, 9, 9, 11, 11, 12, 14, 14, 15, 16, 16, 21, 8, 14, 17, 21, 1, 6, 12, 14, 17, 23, 23, 2, 2, 4, 8, 9, 13, 13, 21, 22, 22, 23, 4, 12, 15, 16, 17, 20, 20, 21, 23, 4, 8, 17, 20, 22, 1, 4, 7, 10, 10, 11, 12, 14, 18, 20, 20, 5, 7, 7, 7, 9, 15, 17, 18, 19, 19, 19, 19, 20, 21, 21, 21, 0, 2, 10, 14, 17, 19, 19, 0, 0, 4, 4, 5, 6, 7, 8, 11, 12, 14, 14, 16, 20, 21, 4, 14, 16, 18, 21, 21, 0, 0, 2, 4, 4, 6, 9, 9, 11, 15, 18, 2, 7, 7, 10, 14, 14, 20, 22, 0, 1, 5, 7, 7, 12, 8, 12, 13, 16, 17, 18, 22, 22, 0, 8, 8, 9, 18, 21, 1, 1, 10, 11, 11, 15, 16, 17, 20, 21, 22, 0, 6, 11, 13, 13, 16, 19, 17, 17, 23, 4, 4, 7, 7, 10, 13, 16, 19, 20, 21, 21, 22, 23, 0, 1, 1, 4, 5, 6, 7, 8, 13, 14, 20, 21, 21, 4, 5, 9, 9, 11, 15, 17, 21, 22, 3, 5, 6, 7, 10, 10, 13, 14, 15, 19, 20, 10, 10, 11, 12, 15, 15, 15, 18, 20, 22, 3, 5, 13, 13, 14, 20, 20, 22, 22, 23, 1, 4, 7, 9, 9, 10, 11, 18, 23, 2, 2, 6, 8, 8, 13, 0, 5, 6, 8, 9, 10, 10, 14, 8, 10, 12, 12, 15, 16, 18, 21, 22, 23, 0, 4, 5, 8, 14, 15, 15, 16, 16, 20, 5, 6, 8, 10, 12, 13, 20, 22, 2, 4, 12, 16, 18, 21, 3, 6, 7, 16, 21, 0, 4, 8, 8, 9, 11, 12, 16, 17, 20, 15, 19, 20, 7, 10, 17, 20, 21, 22, 7, 14, 5, 12, 13, 16, 18, 20, 21, 21, 22, 3, 3, 8, 9, 9, 10, 12, 13, 16, 0, 3, 4, 7, 9, 11, 15, 17, 0, 11, 17, 17, 18, 2, 5, 6, 9, 9, 10, 12, 18, 7, 8, 9, 10, 13, 18, 21, 21, 23, 2, 4, 8, 10, 6, 7, 8, 12, 20, 22, 0, 7, 15, 16, 19, 1, 1, 5, 5, 21, 4, 9, 9, 13, 21, 21, 21, 2, 2, 4, 5, 11, 12, 0, 0, 6, 7, 8, 12, 14, 14, 17, 18, 21, 22, 11, 16, 19, 2, 5, 5, 9, 15, 16, 20, 21, 5, 11, 21, 23, 2, 5, 9, 4, 4, 7, 7, 9, 10, 10, 10, 14, 15, 17, 19, 19, 20, 22, 1, 1, 7, 8, 10, 22, 5, 5, 8, 8, 9, 13, 13, 13, 15, 15, 16, 20, 0, 0, 7, 11, 13, 13, 21, 22, 0, 8, 8, 12, 12, 15, 17, 22, 22, 23, 2, 4, 8, 11, 2, 3, 14, 3, 8, 8, 9, 10, 13, 14, 15, 19, 20, 20, 21, 21, 22, 22, 23, 1, 2, 7, 7, 9, 11, 13, 13, 14, 14, 15, 19, 19, 19, 20, 21, 22, 8, 10, 13, 15, 16, 16, 18, 2, 4, 8, 9, 13, 15, 4, 5, 8, 10, 18, 21, 22, 22, 0, 0, 4, 5, 8, 11, 13, 17, 17, 18, 8, 12, 14, 15, 16, 19, 22, 5, 12, 15, 15, 16, 16, 20, 20, 21, 22, 23, 10, 14, 21, 1, 1, 3, 11, 11, 12, 13, 18, 18, 19, 21, 7, 10, 18, 22, 0, 2, 5, 7, 8, 10, 10, 11, 13, 17, 17, 18, 21, 23, 0, 4, 4, 4, 9, 18, 5, 20, 5, 9, 11, 12, 12, 12, 19, 20, 22, 7, 10, 13, 14, 15, 16, 19, 21, 5, 6, 10, 12, 15, 18, 19, 20, 1, 5, 8, 9, 9, 10, 11, 12, 15, 18, 21, 5, 7, 17, 21, 23, 7, 9, 11, 13, 14, 16, 18, 19, 9, 10, 14, 19, 5, 7, 10, 15, 17, 19, 21, 22, 23, 1, 4, 11, 12, 15, 15, 19, 20, 2, 5, 10, 13, 15, 20, 20, 0, 0, 1, 9, 14, 18, 0, 2, 2, 8, 10, 12, 12, 12, 14, 14, 16, 17, 21, 21, 1, 5, 6, 10, 11, 11, 15, 19, 22, 5, 8, 8, 10, 18, 20, 21, 21, 23, 6, 7, 15, 16, 19, 1, 2, 13, 14, 0, 4, 6, 8, 11, 14, 18, 23, 5, 7, 8, 9, 11, 13, 14, 15, 17, 19, 20, 23, 3, 10, 12, 14, 16, 19, 23, 0, 4, 5, 6, 8, 17, 19, 20, 2, 16, 19, 19, 19, 5, 10, 10, 12, 13, 13, 13, 17, 19, 19, 19, 20, 21, 22, 5, 6, 7, 8, 14, 17, 18, 2, 4, 15, 17, 19, 20, 23, 0, 4, 5, 5, 6, 8, 9, 12, 12, 13, 16, 19, 22, 0, 2, 4, 5, 8, 9, 19, 19, 22, 22, 1, 6, 7, 15, 19, 19, 21, 21, 3, 4, 11, 17, 23, 6, 6, 14, 19, 23, 23, 10, 11, 16, 19, 19, 19, 22, 6, 7, 11, 11, 17, 19, 20, 20, 20, 21, 23, 1, 4, 7, 13, 20, 21, 21, 23, 23, 1, 5, 8, 1, 4, 11, 13, 14, 22, 23, 2, 7, 7, 11, 11, 12, 15, 19, 19, 22, 0, 6, 8, 12, 17, 19, 21, 21, 1, 2, 7, 8, 8, 8, 10, 11, 13, 16, 17, 6, 8, 10, 13, 14, 16, 16, 19, 21, 3, 6, 9, 12, 14, 14, 15, 15, 16, 19, 20, 0, 1, 4, 5, 9, 9, 10, 13, 13, 21, 0, 4, 4, 8, 11, 11, 14, 16, 16, 18, 19, 22, 1, 6, 8, 15, 17, 2, 4, 5, 7, 10, 10, 11, 11, 11, 12, 13, 14, 14, 14, 21, 2, 13, 13, 17, 18, 18, 19, 21, 21, 23, 1, 2, 3, 3, 7, 14, 14, 15, 15, 5, 5, 6, 9, 11, 11, 11, 16, 19, 19, 0, 5, 8, 9, 11, 12, 13, 14, 15, 17, 18, 19, 1, 1, 1, 5, 6, 7, 8, 10, 11, 13, 16, 16, 20, 21, 11, 12, 13, 14, 19, 19, 20, 21, 22, 22, 1, 5, 5, 6, 7, 7, 7, 9, 9, 19, 22, 4, 5, 6, 8, 10, 15, 16, 17, 2, 3, 5, 13, 18, 21, 22, 23, 0, 0, 2, 6, 9, 15, 16, 18, 21, 23, 0, 5, 8, 10, 10, 12, 14, 17, 18, 18, 18, 18, 20, 23, 3, 8, 9, 10, 18, 23, 2, 12, 14, 18, 21, 21, 5, 6, 6, 12, 18, 18, 19, 6, 11, 12, 13, 18, 0, 0, 3, 6, 14, 18, 19, 19, 19, 20, 2, 3, 5, 6, 7, 12, 16, 17, 19, 20, 22, 23, 3, 6, 8, 8, 8, 10, 13, 15, 16, 19, 20, 20, 20, 22, 3, 7, 8, 9, 13, 13, 16, 18, 19, 20, 23, 3, 18, 0, 4, 5, 5, 10, 12, 14, 14, 18, 19, 6, 10, 10, 10, 11, 17, 18, 18, 19, 7, 9, 10, 10, 10, 12, 13, 14, 14, 14, 18, 18, 19, 19, 19, 20, 21, 4, 6, 7, 15, 17, 20, 20, 2, 5, 6, 8, 10, 11, 12, 16, 16, 18, 18, 23, 5, 6, 11, 15, 16, 17, 18, 19, 19, 2, 9, 11, 14, 18, 21, 2, 2, 5, 5, 5, 11, 14, 15, 16, 17, 20, 20, 21, 6, 6, 6, 6, 8, 13, 15, 18, 19, 19, 19, 2, 5, 8, 10, 12, 14, 18, 20, 23, 23, 0, 8, 10, 13, 16, 18, 18, 18, 19, 19, 19, 0, 0, 0, 1, 7, 7, 11, 11, 11, 11, 12, 13, 14, 14, 14, 15, 17, 18, 18, 19, 19, 20, 23, 2, 5, 7, 7, 11, 12, 12, 15, 19, 23, 2, 3, 7, 7, 9, 9, 10, 10, 16, 21, 2, 3, 5, 5, 8, 9, 9, 13, 15, 15, 17, 18, 23, 23, 0, 8, 8, 10, 10, 11, 12, 17, 18, 19, 20, 21, 22, 23, 23, 2, 9, 9, 10, 15, 18, 22, 6, 9, 9, 12, 14, 17, 18, 19, 20, 20, 21, 21, 21, 1, 5, 6, 9, 10, 13, 19, 19, 20, 22, 0, 5, 8, 10, 11, 15, 16, 17, 17, 17, 18, 18, 19, 19, 20, 5, 7, 15, 15, 16, 18, 18, 19, 5, 6, 7, 12, 14, 15, 15, 15, 16, 16, 17, 17, 17, 23, 1, 1, 5, 6, 8, 8, 13, 14, 14, 14, 15, 19, 19, 6, 10, 10, 11, 12, 14, 16, 17, 17, 18, 20, 6, 12, 16, 16, 18, 18, 19, 20, 23, 2, 5, 5, 9, 10, 12, 14, 15, 15, 19, 21, 21, 1, 5, 6, 10, 10, 11, 16, 18, 18, 21, 3, 6, 8, 10, 11, 16, 16, 18, 19, 19, 0, 2, 6, 7, 13, 16, 16, 17, 18, 18, 20, 21, 22, 7, 7, 15, 17, 18, 21, 5, 6, 7, 18, 18, 20, 23, 0, 0, 2, 6, 12, 15, 16, 18, 21, 21, 23, 2, 6, 7, 7, 8, 8, 9, 9, 10, 10, 18, 19, 20, 22, 22, 4, 4, 11, 14, 16, 18, 18, 1, 3, 6, 9, 11, 15, 18, 21, 23, 5, 6, 6, 8, 8, 17, 17, 18, 19, 20, 6, 8, 12, 18, 20, 22, 0, 3, 9, 9, 11, 14, 17, 0, 6, 6, 7, 17, 18, 19, 22, 6, 7, 9, 11, 13, 13, 16, 16, 17, 19, 9, 10, 14, 17, 1, 5, 6, 12, 16, 18, 18, 19, 1, 4, 6, 7, 8, 10, 10, 11, 17, 17, 22, 1, 4, 5, 8, 17, 18, 18, 18, 22, 22, 5, 6, 10, 17, 18, 3, 6, 6, 12, 15, 16, 17, 17, 18, 18, 5, 10, 10, 11, 13, 14, 14, 16, 20, 21, 5, 9, 16, 19, 21, 22, 23, 0, 0, 2, 5, 18, 19, 20, 21, 22, 22, 11, 14, 17, 17, 17, 22, 2, 2, 4, 5, 6, 8, 15, 17, 20, 21, 22, 23, 5, 6, 7, 8, 10, 11, 12, 16, 17, 17, 18, 19, 20, 20, 23, 4, 4, 6, 7, 10, 11, 11, 12, 18, 18, 19, 21, 0, 0, 7, 11, 19, 6, 8, 11, 14, 18, 18, 22, 22, 0, 3, 3, 9, 11, 12, 13, 15, 15, 15, 18, 18, 3, 12, 17, 20, 21, 23, 0, 2, 5, 7, 12, 13, 14, 14, 15, 16, 16, 17, 17, 17, 18, 19, 20, 21, 4, 10, 15, 16, 17, 18, 23, 3, 4, 7, 9, 11, 12, 12, 13, 14, 14, 17, 18, 18, 18, 18, 20, 21, 3, 5, 6, 10, 15, 17, 17, 22, 4, 4, 4, 8, 9, 11, 11, 11, 12, 17, 18, 19, 22, 1, 5, 5, 14, 18, 22, 3, 5, 6, 7, 7, 10, 11, 12, 18, 20, 21, 22, 23, 2, 3, 5, 7, 18, 18, 21, 22, 2, 5, 14, 14, 16, 16, 16, 17, 18, 18, 18, 1, 2, 4, 5, 6, 6, 6, 8, 10, 20, 22, 22, 22, 0, 2, 2, 5, 6, 17, 18, 21, 21, 23, 0, 0, 0, 5, 6, 15, 18, 18, 19, 20, 22, 6, 8, 9, 12, 17, 19, 19, 4, 8, 9, 12, 13, 20, 22, 4, 11, 11, 14, 18, 18, 22, 8, 17, 17, 17, 18, 20, 22, 9, 10, 14, 16, 17, 17, 17, 17, 6, 6, 9, 12, 13, 18, 20, 20, 20, 1, 5, 5, 6, 8, 9, 10, 12, 14, 1, 6, 14, 14, 22, 23, 0, 6, 6, 7, 14, 16, 18, 20, 21, 22, 0, 1, 5, 8, 12, 12, 16], \"yaxis\": \"y\"}],\n",
              "                        {\"barmode\": \"relative\", \"legend\": {\"tracegroupgap\": 0}, \"margin\": {\"t\": 60}, \"template\": {\"data\": {\"bar\": [{\"error_x\": {\"color\": \"#2a3f5f\"}, \"error_y\": {\"color\": \"#2a3f5f\"}, \"marker\": {\"line\": {\"color\": \"#E5ECF6\", \"width\": 0.5}}, \"type\": \"bar\"}], \"barpolar\": [{\"marker\": {\"line\": {\"color\": \"#E5ECF6\", \"width\": 0.5}}, \"type\": \"barpolar\"}], \"carpet\": [{\"aaxis\": {\"endlinecolor\": \"#2a3f5f\", \"gridcolor\": \"white\", \"linecolor\": \"white\", \"minorgridcolor\": \"white\", \"startlinecolor\": \"#2a3f5f\"}, \"baxis\": {\"endlinecolor\": \"#2a3f5f\", \"gridcolor\": \"white\", \"linecolor\": \"white\", \"minorgridcolor\": \"white\", \"startlinecolor\": \"#2a3f5f\"}, \"type\": \"carpet\"}], \"choropleth\": [{\"colorbar\": {\"outlinewidth\": 0, \"ticks\": \"\"}, \"type\": \"choropleth\"}], \"contour\": [{\"colorbar\": {\"outlinewidth\": 0, \"ticks\": \"\"}, \"colorscale\": [[0.0, \"#0d0887\"], [0.1111111111111111, \"#46039f\"], [0.2222222222222222, \"#7201a8\"], [0.3333333333333333, \"#9c179e\"], [0.4444444444444444, \"#bd3786\"], [0.5555555555555556, \"#d8576b\"], [0.6666666666666666, \"#ed7953\"], [0.7777777777777778, \"#fb9f3a\"], [0.8888888888888888, \"#fdca26\"], [1.0, \"#f0f921\"]], \"type\": \"contour\"}], \"contourcarpet\": [{\"colorbar\": {\"outlinewidth\": 0, \"ticks\": \"\"}, \"type\": \"contourcarpet\"}], \"heatmap\": [{\"colorbar\": {\"outlinewidth\": 0, \"ticks\": \"\"}, \"colorscale\": [[0.0, \"#0d0887\"], [0.1111111111111111, \"#46039f\"], [0.2222222222222222, \"#7201a8\"], [0.3333333333333333, \"#9c179e\"], [0.4444444444444444, \"#bd3786\"], [0.5555555555555556, \"#d8576b\"], [0.6666666666666666, \"#ed7953\"], [0.7777777777777778, \"#fb9f3a\"], [0.8888888888888888, \"#fdca26\"], [1.0, \"#f0f921\"]], \"type\": \"heatmap\"}], \"heatmapgl\": [{\"colorbar\": {\"outlinewidth\": 0, \"ticks\": \"\"}, \"colorscale\": [[0.0, \"#0d0887\"], [0.1111111111111111, \"#46039f\"], [0.2222222222222222, \"#7201a8\"], [0.3333333333333333, \"#9c179e\"], [0.4444444444444444, \"#bd3786\"], [0.5555555555555556, \"#d8576b\"], [0.6666666666666666, \"#ed7953\"], [0.7777777777777778, \"#fb9f3a\"], [0.8888888888888888, \"#fdca26\"], [1.0, \"#f0f921\"]], \"type\": \"heatmapgl\"}], \"histogram\": [{\"marker\": {\"colorbar\": {\"outlinewidth\": 0, \"ticks\": \"\"}}, \"type\": \"histogram\"}], \"histogram2d\": [{\"colorbar\": {\"outlinewidth\": 0, \"ticks\": \"\"}, \"colorscale\": [[0.0, \"#0d0887\"], [0.1111111111111111, \"#46039f\"], [0.2222222222222222, \"#7201a8\"], [0.3333333333333333, \"#9c179e\"], [0.4444444444444444, \"#bd3786\"], [0.5555555555555556, \"#d8576b\"], [0.6666666666666666, \"#ed7953\"], [0.7777777777777778, \"#fb9f3a\"], [0.8888888888888888, \"#fdca26\"], [1.0, \"#f0f921\"]], \"type\": \"histogram2d\"}], \"histogram2dcontour\": [{\"colorbar\": {\"outlinewidth\": 0, \"ticks\": \"\"}, \"colorscale\": [[0.0, \"#0d0887\"], [0.1111111111111111, \"#46039f\"], [0.2222222222222222, \"#7201a8\"], [0.3333333333333333, \"#9c179e\"], [0.4444444444444444, \"#bd3786\"], [0.5555555555555556, \"#d8576b\"], [0.6666666666666666, \"#ed7953\"], [0.7777777777777778, \"#fb9f3a\"], [0.8888888888888888, \"#fdca26\"], [1.0, \"#f0f921\"]], \"type\": \"histogram2dcontour\"}], \"mesh3d\": [{\"colorbar\": {\"outlinewidth\": 0, \"ticks\": \"\"}, \"type\": \"mesh3d\"}], \"parcoords\": [{\"line\": {\"colorbar\": {\"outlinewidth\": 0, \"ticks\": \"\"}}, \"type\": \"parcoords\"}], \"pie\": [{\"automargin\": true, \"type\": \"pie\"}], \"scatter\": [{\"marker\": {\"colorbar\": {\"outlinewidth\": 0, \"ticks\": \"\"}}, \"type\": \"scatter\"}], \"scatter3d\": [{\"line\": {\"colorbar\": {\"outlinewidth\": 0, \"ticks\": \"\"}}, \"marker\": {\"colorbar\": {\"outlinewidth\": 0, \"ticks\": \"\"}}, \"type\": \"scatter3d\"}], \"scattercarpet\": [{\"marker\": {\"colorbar\": {\"outlinewidth\": 0, \"ticks\": \"\"}}, \"type\": \"scattercarpet\"}], \"scattergeo\": [{\"marker\": {\"colorbar\": {\"outlinewidth\": 0, \"ticks\": \"\"}}, \"type\": \"scattergeo\"}], \"scattergl\": [{\"marker\": {\"colorbar\": {\"outlinewidth\": 0, \"ticks\": \"\"}}, \"type\": \"scattergl\"}], \"scattermapbox\": [{\"marker\": {\"colorbar\": {\"outlinewidth\": 0, \"ticks\": \"\"}}, \"type\": \"scattermapbox\"}], \"scatterpolar\": [{\"marker\": {\"colorbar\": {\"outlinewidth\": 0, \"ticks\": \"\"}}, \"type\": \"scatterpolar\"}], \"scatterpolargl\": [{\"marker\": {\"colorbar\": {\"outlinewidth\": 0, \"ticks\": \"\"}}, \"type\": \"scatterpolargl\"}], \"scatterternary\": [{\"marker\": {\"colorbar\": {\"outlinewidth\": 0, \"ticks\": \"\"}}, \"type\": \"scatterternary\"}], \"surface\": [{\"colorbar\": {\"outlinewidth\": 0, \"ticks\": \"\"}, \"colorscale\": [[0.0, \"#0d0887\"], [0.1111111111111111, \"#46039f\"], [0.2222222222222222, \"#7201a8\"], [0.3333333333333333, \"#9c179e\"], [0.4444444444444444, \"#bd3786\"], [0.5555555555555556, \"#d8576b\"], [0.6666666666666666, \"#ed7953\"], [0.7777777777777778, \"#fb9f3a\"], [0.8888888888888888, \"#fdca26\"], [1.0, \"#f0f921\"]], \"type\": \"surface\"}], \"table\": [{\"cells\": {\"fill\": {\"color\": \"#EBF0F8\"}, \"line\": {\"color\": \"white\"}}, \"header\": {\"fill\": {\"color\": \"#C8D4E3\"}, \"line\": {\"color\": \"white\"}}, \"type\": \"table\"}]}, \"layout\": {\"annotationdefaults\": {\"arrowcolor\": \"#2a3f5f\", \"arrowhead\": 0, \"arrowwidth\": 1}, \"coloraxis\": {\"colorbar\": {\"outlinewidth\": 0, \"ticks\": \"\"}}, \"colorscale\": {\"diverging\": [[0, \"#8e0152\"], [0.1, \"#c51b7d\"], [0.2, \"#de77ae\"], [0.3, \"#f1b6da\"], [0.4, \"#fde0ef\"], [0.5, \"#f7f7f7\"], [0.6, \"#e6f5d0\"], [0.7, \"#b8e186\"], [0.8, \"#7fbc41\"], [0.9, \"#4d9221\"], [1, \"#276419\"]], \"sequential\": [[0.0, \"#0d0887\"], [0.1111111111111111, \"#46039f\"], [0.2222222222222222, \"#7201a8\"], [0.3333333333333333, \"#9c179e\"], [0.4444444444444444, \"#bd3786\"], [0.5555555555555556, \"#d8576b\"], [0.6666666666666666, \"#ed7953\"], [0.7777777777777778, \"#fb9f3a\"], [0.8888888888888888, \"#fdca26\"], [1.0, \"#f0f921\"]], \"sequentialminus\": [[0.0, \"#0d0887\"], [0.1111111111111111, \"#46039f\"], [0.2222222222222222, \"#7201a8\"], [0.3333333333333333, \"#9c179e\"], [0.4444444444444444, \"#bd3786\"], [0.5555555555555556, \"#d8576b\"], [0.6666666666666666, \"#ed7953\"], [0.7777777777777778, \"#fb9f3a\"], [0.8888888888888888, \"#fdca26\"], [1.0, \"#f0f921\"]]}, \"colorway\": [\"#636efa\", \"#EF553B\", \"#00cc96\", \"#ab63fa\", \"#FFA15A\", \"#19d3f3\", \"#FF6692\", \"#B6E880\", \"#FF97FF\", \"#FECB52\"], \"font\": {\"color\": \"#2a3f5f\"}, \"geo\": {\"bgcolor\": \"white\", \"lakecolor\": \"white\", \"landcolor\": \"#E5ECF6\", \"showlakes\": true, \"showland\": true, \"subunitcolor\": \"white\"}, \"hoverlabel\": {\"align\": \"left\"}, \"hovermode\": \"closest\", \"mapbox\": {\"style\": \"light\"}, \"paper_bgcolor\": \"white\", \"plot_bgcolor\": \"#E5ECF6\", \"polar\": {\"angularaxis\": {\"gridcolor\": \"white\", \"linecolor\": \"white\", \"ticks\": \"\"}, \"bgcolor\": \"#E5ECF6\", \"radialaxis\": {\"gridcolor\": \"white\", \"linecolor\": \"white\", \"ticks\": \"\"}}, \"scene\": {\"xaxis\": {\"backgroundcolor\": \"#E5ECF6\", \"gridcolor\": \"white\", \"gridwidth\": 2, \"linecolor\": \"white\", \"showbackground\": true, \"ticks\": \"\", \"zerolinecolor\": \"white\"}, \"yaxis\": {\"backgroundcolor\": \"#E5ECF6\", \"gridcolor\": \"white\", \"gridwidth\": 2, \"linecolor\": \"white\", \"showbackground\": true, \"ticks\": \"\", \"zerolinecolor\": \"white\"}, \"zaxis\": {\"backgroundcolor\": \"#E5ECF6\", \"gridcolor\": \"white\", \"gridwidth\": 2, \"linecolor\": \"white\", \"showbackground\": true, \"ticks\": \"\", \"zerolinecolor\": \"white\"}}, \"shapedefaults\": {\"line\": {\"color\": \"#2a3f5f\"}}, \"ternary\": {\"aaxis\": {\"gridcolor\": \"white\", \"linecolor\": \"white\", \"ticks\": \"\"}, \"baxis\": {\"gridcolor\": \"white\", \"linecolor\": \"white\", \"ticks\": \"\"}, \"bgcolor\": \"#E5ECF6\", \"caxis\": {\"gridcolor\": \"white\", \"linecolor\": \"white\", \"ticks\": \"\"}}, \"title\": {\"x\": 0.05}, \"xaxis\": {\"automargin\": true, \"gridcolor\": \"white\", \"linecolor\": \"white\", \"ticks\": \"\", \"title\": {\"standoff\": 15}, \"zerolinecolor\": \"white\", \"zerolinewidth\": 2}, \"yaxis\": {\"automargin\": true, \"gridcolor\": \"white\", \"linecolor\": \"white\", \"ticks\": \"\", \"title\": {\"standoff\": 15}, \"zerolinecolor\": \"white\", \"zerolinewidth\": 2}}}, \"xaxis\": {\"anchor\": \"y\", \"domain\": [0.0, 1.0], \"title\": {\"text\": \"\\uc0ac\\ub9dd\\uc790\\uc218\"}}, \"yaxis\": {\"anchor\": \"x\", \"domain\": [0.0, 1.0], \"title\": {\"text\": \"\\ubc1c\\uc0dd\\uc2dc\\uac04\"}}},\n",
              "                        {\"responsive\": true}\n",
              "                    ).then(function(){\n",
              "                            \n",
              "var gd = document.getElementById('fc635376-ba31-4805-89f9-e3420375ace1');\n",
              "var x = new MutationObserver(function (mutations, observer) {{\n",
              "        var display = window.getComputedStyle(gd).display;\n",
              "        if (!display || display === 'none') {{\n",
              "            console.log([gd, 'removed!']);\n",
              "            Plotly.purge(gd);\n",
              "            observer.disconnect();\n",
              "        }}\n",
              "}});\n",
              "\n",
              "// Listen for the removal of the full notebook cells\n",
              "var notebookContainer = gd.closest('#notebook-container');\n",
              "if (notebookContainer) {{\n",
              "    x.observe(notebookContainer, {childList: true});\n",
              "}}\n",
              "\n",
              "// Listen for the clearing of the current output cell\n",
              "var outputEl = gd.closest('.output');\n",
              "if (outputEl) {{\n",
              "    x.observe(outputEl, {childList: true});\n",
              "}}\n",
              "\n",
              "                        })\n",
              "                };\n",
              "                \n",
              "            </script>\n",
              "        </div>\n",
              "</body>\n",
              "</html>"
            ]
          },
          "metadata": {
            "tags": []
          }
        }
      ]
    },
    {
      "cell_type": "code",
      "metadata": {
        "colab": {
          "base_uri": "https://localhost:8080/",
          "height": 542
        },
        "id": "lMavGm19pZ22",
        "outputId": "2dffd301-3785-49d2-cfa5-ec8c7282833d"
      },
      "source": [
        "fig3=px.bar(df,x='사망자수',y='발생지시도',orientation='h',title='시도별 교통사고 사망자 현황')\n",
        "fig3.show()"
      ],
      "execution_count": 13,
      "outputs": [
        {
          "output_type": "display_data",
          "data": {
            "text/html": [
              "<html>\n",
              "<head><meta charset=\"utf-8\" /></head>\n",
              "<body>\n",
              "    <div>\n",
              "            <script src=\"https://cdnjs.cloudflare.com/ajax/libs/mathjax/2.7.5/MathJax.js?config=TeX-AMS-MML_SVG\"></script><script type=\"text/javascript\">if (window.MathJax) {MathJax.Hub.Config({SVG: {font: \"STIX-Web\"}});}</script>\n",
              "                <script type=\"text/javascript\">window.PlotlyConfig = {MathJaxConfig: 'local'};</script>\n",
              "        <script src=\"https://cdn.plot.ly/plotly-latest.min.js\"></script>    \n",
              "            <div id=\"16245400-d7d9-49e5-9f0c-1e04e8f1a0c3\" class=\"plotly-graph-div\" style=\"height:525px; width:100%;\"></div>\n",
              "            <script type=\"text/javascript\">\n",
              "                \n",
              "                    window.PLOTLYENV=window.PLOTLYENV || {};\n",
              "                    \n",
              "                if (document.getElementById(\"16245400-d7d9-49e5-9f0c-1e04e8f1a0c3\")) {\n",
              "                    Plotly.newPlot(\n",
              "                        '16245400-d7d9-49e5-9f0c-1e04e8f1a0c3',\n",
              "                        [{\"alignmentgroup\": \"True\", \"hoverlabel\": {\"namelength\": 0}, \"hovertemplate\": \"\\uc0ac\\ub9dd\\uc790\\uc218=%{x}<br>\\ubc1c\\uc0dd\\uc9c0\\uc2dc\\ub3c4=%{y}\", \"legendgroup\": \"\", \"marker\": {\"color\": \"#636efa\"}, \"name\": \"\", \"offsetgroup\": \"\", \"orientation\": \"h\", \"showlegend\": false, \"textposition\": \"auto\", \"type\": \"bar\", \"x\": [1, 1, 1, 1, 1, 1, 1, 1, 1, 1, 1, 1, 1, 1, 1, 1, 1, 1, 1, 1, 1, 1, 1, 1, 1, 1, 1, 1, 1, 1, 1, 1, 1, 1, 1, 1, 1, 1, 1, 1, 1, 1, 1, 1, 1, 1, 1, 1, 1, 1, 1, 1, 1, 1, 1, 1, 1, 1, 1, 1, 1, 1, 1, 1, 1, 1, 1, 1, 1, 1, 1, 1, 1, 1, 1, 1, 1, 2, 1, 1, 2, 1, 1, 1, 1, 1, 1, 1, 1, 1, 1, 1, 1, 1, 1, 1, 1, 1, 1, 1, 1, 1, 1, 2, 1, 1, 1, 1, 1, 1, 1, 1, 1, 2, 1, 1, 1, 1, 1, 1, 1, 1, 1, 1, 1, 1, 1, 1, 1, 1, 1, 1, 1, 1, 1, 1, 1, 1, 1, 1, 1, 1, 1, 1, 1, 1, 1, 1, 1, 1, 1, 1, 1, 1, 1, 1, 1, 1, 1, 1, 1, 1, 1, 1, 1, 1, 1, 1, 1, 1, 1, 1, 1, 1, 1, 1, 1, 1, 1, 1, 1, 1, 1, 1, 1, 1, 1, 1, 1, 1, 1, 1, 1, 1, 1, 1, 1, 1, 1, 1, 1, 1, 1, 1, 1, 1, 1, 3, 1, 1, 1, 1, 1, 1, 1, 1, 1, 1, 1, 1, 1, 1, 1, 2, 1, 1, 1, 1, 1, 1, 1, 1, 1, 1, 1, 1, 1, 1, 1, 1, 1, 1, 1, 1, 1, 1, 1, 1, 1, 1, 1, 1, 1, 1, 1, 1, 1, 1, 1, 1, 1, 1, 1, 1, 1, 1, 1, 1, 1, 1, 1, 1, 1, 1, 1, 1, 1, 1, 1, 1, 1, 2, 1, 1, 1, 1, 1, 1, 1, 1, 1, 1, 1, 1, 1, 1, 1, 1, 1, 1, 1, 1, 1, 1, 1, 1, 2, 1, 1, 1, 1, 1, 1, 1, 1, 1, 1, 1, 1, 1, 1, 1, 1, 1, 1, 1, 1, 1, 1, 1, 1, 1, 1, 1, 1, 1, 1, 1, 1, 1, 2, 1, 1, 1, 1, 1, 1, 1, 1, 1, 1, 1, 1, 1, 2, 2, 1, 1, 1, 1, 1, 1, 1, 1, 1, 1, 1, 1, 1, 1, 1, 1, 1, 1, 1, 1, 1, 1, 1, 1, 1, 1, 1, 1, 1, 1, 1, 1, 1, 1, 1, 1, 1, 1, 1, 1, 1, 1, 1, 1, 1, 1, 1, 1, 1, 1, 1, 1, 1, 1, 1, 1, 1, 1, 1, 1, 1, 1, 1, 1, 1, 1, 1, 1, 1, 1, 1, 1, 1, 1, 1, 1, 1, 1, 1, 1, 1, 1, 1, 1, 1, 1, 1, 1, 1, 1, 1, 1, 1, 1, 1, 1, 1, 1, 1, 1, 1, 1, 1, 1, 1, 1, 1, 1, 1, 1, 1, 1, 1, 1, 1, 1, 1, 1, 1, 1, 1, 1, 1, 1, 1, 1, 1, 1, 1, 1, 1, 1, 1, 1, 1, 1, 1, 1, 1, 1, 1, 1, 1, 1, 1, 1, 1, 1, 1, 1, 1, 1, 1, 1, 1, 1, 1, 2, 1, 1, 1, 1, 1, 1, 1, 1, 1, 1, 1, 1, 1, 1, 1, 1, 1, 1, 1, 1, 1, 1, 1, 1, 1, 1, 1, 1, 1, 1, 1, 1, 1, 1, 1, 1, 1, 1, 1, 1, 1, 1, 1, 1, 1, 1, 1, 1, 1, 1, 1, 1, 1, 1, 1, 1, 1, 1, 1, 1, 1, 1, 1, 1, 2, 1, 1, 1, 1, 1, 1, 1, 1, 1, 1, 1, 1, 3, 1, 1, 1, 1, 1, 1, 1, 1, 1, 1, 1, 1, 1, 1, 1, 1, 1, 1, 1, 1, 1, 1, 1, 1, 1, 1, 1, 1, 1, 1, 1, 1, 2, 1, 1, 1, 1, 1, 1, 1, 1, 1, 1, 1, 1, 1, 1, 1, 1, 1, 1, 1, 1, 1, 1, 1, 1, 1, 1, 1, 1, 1, 1, 1, 1, 1, 1, 1, 1, 1, 1, 1, 1, 1, 1, 1, 1, 1, 1, 1, 1, 1, 1, 1, 1, 1, 1, 1, 1, 1, 1, 1, 1, 1, 1, 1, 1, 1, 1, 1, 1, 1, 1, 1, 1, 1, 1, 1, 1, 1, 1, 1, 1, 1, 1, 1, 1, 1, 1, 1, 1, 1, 1, 1, 1, 1, 1, 1, 1, 1, 1, 1, 1, 1, 1, 1, 1, 1, 1, 1, 1, 1, 1, 1, 1, 1, 1, 1, 1, 1, 1, 1, 1, 1, 1, 1, 1, 1, 1, 1, 1, 1, 1, 1, 1, 1, 1, 1, 1, 1, 1, 1, 1, 1, 1, 1, 1, 1, 1, 1, 1, 1, 1, 1, 1, 1, 1, 1, 1, 1, 1, 1, 1, 1, 1, 1, 1, 1, 1, 1, 1, 1, 1, 1, 1, 1, 1, 1, 1, 1, 1, 1, 1, 1, 1, 1, 1, 1, 1, 1, 1, 1, 1, 1, 1, 1, 1, 1, 1, 1, 1, 1, 1, 1, 1, 1, 1, 1, 1, 1, 1, 1, 1, 1, 1, 1, 2, 1, 1, 1, 1, 1, 1, 1, 1, 1, 1, 1, 1, 1, 1, 1, 1, 1, 1, 1, 1, 1, 1, 1, 1, 1, 1, 1, 1, 1, 1, 1, 1, 1, 1, 1, 1, 1, 2, 1, 1, 1, 1, 1, 1, 1, 1, 1, 1, 1, 1, 1, 1, 1, 1, 1, 2, 1, 1, 1, 1, 1, 1, 1, 1, 1, 1, 1, 1, 1, 1, 1, 1, 1, 1, 1, 1, 2, 1, 1, 1, 2, 1, 1, 1, 1, 1, 1, 1, 1, 1, 1, 1, 1, 1, 1, 1, 1, 1, 1, 1, 1, 1, 1, 1, 1, 1, 1, 1, 2, 1, 1, 1, 1, 1, 1, 1, 1, 1, 1, 1, 1, 1, 1, 1, 1, 1, 1, 1, 1, 1, 1, 1, 1, 1, 1, 1, 1, 1, 1, 1, 1, 1, 1, 1, 1, 1, 1, 1, 1, 1, 1, 1, 1, 1, 1, 1, 1, 1, 1, 1, 1, 1, 1, 1, 1, 1, 1, 1, 1, 1, 1, 1, 1, 1, 1, 1, 1, 1, 1, 1, 1, 1, 1, 1, 1, 1, 1, 1, 1, 1, 1, 1, 1, 1, 1, 1, 2, 1, 1, 1, 1, 1, 1, 1, 1, 1, 1, 1, 1, 1, 1, 1, 1, 1, 1, 1, 1, 1, 1, 1, 1, 1, 1, 1, 1, 1, 1, 1, 1, 1, 1, 1, 3, 1, 1, 1, 1, 1, 1, 1, 1, 1, 1, 1, 1, 1, 1, 1, 1, 1, 1, 1, 1, 1, 1, 1, 1, 1, 1, 2, 1, 1, 1, 1, 1, 1, 1, 1, 1, 1, 1, 1, 1, 1, 1, 1, 1, 1, 1, 1, 1, 1, 1, 1, 1, 1, 1, 1, 1, 1, 1, 1, 1, 1, 1, 1, 1, 1, 1, 1, 1, 1, 1, 1, 1, 1, 1, 1, 1, 1, 1, 1, 1, 1, 1, 1, 1, 1, 1, 1, 1, 1, 1, 1, 1, 1, 1, 1, 1, 1, 1, 1, 1, 1, 2, 1, 1, 1, 1, 1, 1, 1, 1, 1, 1, 1, 1, 1, 1, 1, 1, 1, 1, 1, 1, 1, 1, 1, 1, 1, 1, 1, 1, 1, 1, 1, 1, 1, 1, 1, 1, 1, 1, 1, 1, 1, 1, 1, 1, 1, 1, 1, 1, 1, 1, 1, 1, 1, 1, 1, 1, 1, 2, 1, 1, 1, 1, 1, 1, 1, 1, 1, 1, 1, 1, 1, 1, 1, 1, 1, 1, 1, 1, 1, 1, 1, 1, 1, 1, 1, 1, 1, 1, 1, 1, 1, 1, 1, 1, 1, 1, 1, 1, 2, 1, 1, 1, 1, 1, 1, 1, 1, 1, 1, 1, 1, 1, 1, 1, 1, 1, 1, 1, 1, 1, 1, 1, 1, 1, 1, 1, 1, 1, 1, 2, 1, 1, 1, 1, 1, 1, 1, 1, 1, 1, 1, 1, 1, 1, 1, 1, 1, 1, 1, 1, 1, 1, 1, 1, 1, 1, 1, 1, 1, 1, 1, 1, 1, 1, 3, 1, 1, 1, 1, 1, 1, 1, 1, 1, 1, 1, 1, 1, 1, 1, 1, 1, 1, 1, 1, 2, 1, 1, 1, 1, 1, 1, 1, 1, 1, 1, 1, 1, 1, 1, 1, 1, 1, 1, 1, 1, 1, 1, 1, 1, 1, 1, 1, 1, 1, 1, 1, 1, 1, 1, 1, 1, 1, 1, 1, 1, 1, 1, 1, 1, 1, 1, 1, 1, 1, 1, 1, 1, 1, 2, 1, 1, 1, 1, 1, 1, 1, 1, 1, 1, 1, 1, 1, 1, 1, 1, 1, 1, 1, 1, 1, 2, 1, 1, 1, 2, 1, 1, 1, 1, 1, 1, 1, 1, 1, 2, 1, 1, 1, 1, 1, 1, 1, 1, 2, 1, 1, 1, 1, 1, 2, 1, 1, 1, 1, 1, 1, 1, 1, 1, 1, 1, 1, 1, 1, 1, 1, 2, 1, 1, 1, 1, 1, 1, 1, 1, 1, 1, 1, 1, 1, 1, 1, 1, 1, 1, 1, 1, 1, 1, 1, 1, 1, 1, 1, 1, 1, 1, 1, 1, 1, 1, 1, 1, 1, 1, 1, 1, 1, 1, 1, 1, 1, 1, 1, 2, 1, 1, 1, 1, 1, 1, 1, 1, 1, 1, 1, 1, 1, 1, 1, 1, 1, 1, 1, 1, 1, 1, 1, 1, 1, 1, 1, 1, 1, 1, 1, 1, 1, 1, 1, 1, 1, 1, 1, 1, 1, 1, 1, 1, 1, 1, 1, 1, 1, 1, 1, 1, 1, 1, 1, 1, 1, 1, 1, 1, 1, 1, 1, 1, 1, 1, 1, 1, 1, 1, 1, 1, 1, 1, 1, 1, 1, 1, 1, 1, 1, 1, 1, 1, 1, 1, 1, 1, 1, 1, 1, 1, 1, 1, 1, 1, 1, 2, 1, 1, 1, 1, 1, 3, 1, 1, 1, 1, 1, 1, 1, 1, 1, 1, 1, 1, 1, 1, 1, 1, 1, 1, 1, 1, 1, 1, 1, 1, 1, 1, 1, 1, 1, 1, 1, 1, 1, 1, 1, 1, 1, 1, 2, 1, 1, 1, 1, 1, 1, 1, 1, 1, 2, 1, 1, 1, 1, 1, 1, 1, 1, 1, 1, 1, 1, 1, 1, 1, 1, 1, 1, 1, 1, 1, 1, 1, 1, 1, 1, 1, 1, 1, 1, 1, 4, 1, 1, 1, 1, 1, 1, 1, 1, 1, 2, 1, 1, 1, 1, 1, 1, 1, 1, 1, 1, 1, 1, 1, 1, 1, 1, 1, 1, 1, 1, 2, 1, 1, 1, 1, 1, 1, 1, 1, 1, 1, 1, 1, 1, 1, 1, 1, 1, 1, 1, 1, 1, 1, 1, 1, 1, 1, 1, 1, 1, 1, 1, 1, 1, 1, 1, 1, 1, 1, 1, 1, 1, 1, 1, 2, 1, 1, 1, 1, 1, 1, 1, 1, 1, 1, 1, 1, 1, 1, 1, 1, 1, 1, 1, 2, 1, 1, 1, 1, 1, 1, 1, 1, 1, 1, 1, 1, 1, 1, 2, 1, 1, 1, 1, 1, 1, 1, 1, 1, 1, 1, 1, 1, 1, 1, 1, 1, 2, 1, 1, 2, 1, 1, 1, 1, 3, 1, 1, 1, 1, 1, 1, 1, 1, 1, 1, 1, 1, 1, 1, 1, 1, 1, 1, 1, 1, 2, 1, 1, 1, 1, 1, 1, 1, 1, 1, 1, 1, 1, 1, 1, 1, 1, 1, 1, 1, 1, 1, 1, 1, 1, 1, 1, 1, 1, 1, 1, 1, 1, 1, 1, 1, 1, 1, 1, 1, 1, 1, 1, 1, 1, 1, 1, 1, 1, 1, 1, 1, 1, 1, 1, 1, 1, 1, 1, 1, 1, 1, 1, 1, 1, 1, 2, 1, 1, 1, 1, 1, 1, 1, 1, 1, 1, 1, 1, 1, 1, 1, 1, 1, 1, 1, 1, 1, 1, 1, 1, 1, 1, 1, 1, 1, 2, 1, 1, 1, 1, 1, 1, 1, 1, 1, 2, 1, 1, 1, 1, 1, 1, 1, 1, 1, 1, 1, 2, 1, 1, 1, 1, 1, 1, 1, 1, 1, 1, 1, 1, 1, 1, 1, 1, 1, 1, 1, 1, 1, 1, 1, 1, 1, 1, 1, 1, 1, 1, 1, 1, 1, 1, 1, 1, 1, 1, 2, 1, 1, 1, 1, 1, 1, 1, 1, 1, 1, 1, 1, 1, 1, 1, 1, 1, 1, 1, 1, 1, 1, 1, 1, 1, 1, 1, 1, 1, 1, 1, 1, 1, 1, 1, 1, 1, 1, 1, 1, 1, 1, 1, 1, 1, 1, 1, 1, 1, 1, 1, 1, 1, 1, 1, 1, 1, 1, 1, 1, 1, 1, 1, 1, 1, 1, 1, 1, 1, 1, 1, 1, 1, 1, 1, 1, 1, 1, 1, 1, 1, 1, 1, 2, 1, 1, 1, 1, 1, 1, 1, 1, 2, 1, 1, 1, 1, 1, 1, 1, 1, 1, 1, 1, 2, 1, 1, 1, 1, 1, 1, 1, 1, 1, 1, 1, 2, 1, 1, 1, 1, 1, 1, 1, 1, 1, 1, 1, 1, 1, 1, 1, 1, 1, 1, 1, 1, 1, 1, 1, 1, 1, 1, 1, 1, 1, 1, 1, 1, 1, 1, 1, 1, 1, 1, 1, 1, 1, 1, 1, 1, 1, 1, 1, 1, 1, 1, 1, 1, 1, 1, 1, 1, 1, 1, 1, 2, 1, 1, 1, 1, 1, 1, 1, 1, 1, 1, 1, 1, 1, 1, 1, 1, 1, 1, 1, 1, 1, 1, 1, 1, 1, 1, 1, 1, 1, 1, 1, 1, 1, 1, 1, 1, 1, 1, 1, 1, 1, 1, 1, 1, 1, 1, 1, 1, 1, 1, 1, 1, 1, 1, 1, 1, 1, 1, 1, 1, 1, 1, 1, 1, 1, 1, 1, 1, 1, 1, 1, 1, 1, 1, 2, 1, 2, 1, 1, 1, 1, 1, 1, 1, 1, 1, 1, 1, 1, 1, 1, 1, 1, 1, 1, 1, 1, 1, 1, 1, 1, 1, 1, 1, 1, 1, 1, 1, 1, 1, 1, 1, 1, 1, 1, 1, 1, 1, 1, 1, 1, 2, 1, 1, 1, 2, 1, 1, 1, 1, 1, 1, 1, 1, 1, 1, 1, 1, 1, 1, 1, 1, 1, 2, 1, 1, 1, 2, 1, 1, 1, 1, 1, 1, 1, 1, 1, 1, 1, 1, 1, 1, 1, 1, 1, 1, 1, 1, 1, 1, 1, 1, 1, 1, 1, 1, 1, 1, 1, 1, 1, 1, 1, 1, 1, 1, 1, 1, 1, 1, 1, 1, 1, 1, 1, 1, 1, 1, 1, 2, 1, 1, 1, 1, 1, 1, 1, 1, 1, 1, 1, 1, 1, 1, 1, 1, 1, 1, 1, 1, 1, 1, 1, 1, 1, 1, 1, 2, 1, 1, 1, 1, 1, 1, 1, 1, 1, 1, 1, 1, 1, 1, 1, 1, 1, 1, 1, 1, 1, 1, 1, 1, 1, 1, 1, 1, 1, 1, 1, 1, 1, 2, 1, 1, 1, 1, 1, 1, 1, 1, 1, 1, 1, 1, 1, 1, 1, 1, 1, 1, 1, 1, 1, 1, 1, 1, 1, 1, 1, 1, 1, 1, 1, 1, 1, 1, 1, 1, 1, 1, 1, 1, 2, 1, 1, 1, 1, 1, 1, 1, 1, 3, 1, 1, 2, 1, 2, 4, 1, 1, 1, 1, 1, 1, 1, 1, 1, 1, 1, 1, 1, 1, 1, 1, 1, 1, 1, 1, 1, 1, 1, 1, 1, 1, 1, 1, 1, 1, 1, 1, 1, 1, 1, 1, 1, 1, 1, 1, 1, 1, 1, 1, 1, 1, 1, 1, 1, 1, 1, 1, 1, 1, 1, 1, 1, 1, 1, 1, 1, 1, 2, 1, 1, 1, 1, 1, 1, 1, 1, 1, 1, 1, 1, 1, 2, 2, 1, 1, 1, 1, 1, 1, 1, 1, 1, 1, 1, 1, 1, 1, 1, 1, 1, 1, 1, 1, 1, 1, 1, 1, 1, 1, 1, 1, 1, 1, 1, 1, 1, 1, 1, 1, 1, 1, 1, 1, 1, 1, 1, 1, 1, 1, 1, 1, 1, 1, 1, 1, 1, 1, 1, 1, 1, 1, 1, 1, 1, 1, 1, 1, 1, 1, 1, 1, 1, 1, 1, 1, 1, 2, 1, 1, 2, 1, 1, 1, 1, 1, 1, 1, 1, 1, 1, 1, 1, 1, 1, 1, 1, 1, 1, 1, 1, 1, 1, 1, 1, 1, 1, 1, 1, 1, 1, 1, 1, 1, 1, 1, 2, 1, 1, 1, 1, 1, 1, 1, 1, 1, 1, 1, 1, 1, 1, 1, 1, 1, 1, 1, 1, 1, 1, 1, 1, 1, 1, 1, 1, 1, 1, 1, 1, 1, 1, 1, 1, 1, 1, 1, 1, 1, 1, 1, 1, 1, 1, 1, 1, 1, 1, 1, 1, 1, 1, 1, 1, 1, 1, 1, 1, 1, 1, 1, 1, 1, 1, 1, 1, 1, 1, 1, 1, 1, 1, 1, 1, 1, 1, 1, 1, 1, 1, 1, 1, 1, 1, 1, 1, 1, 1, 1, 1, 1, 1, 2, 1, 1, 1, 1, 1, 1, 1, 1, 1, 1, 1, 2, 1, 1, 1, 1, 1, 1, 1, 1, 1, 1, 1, 1, 1, 1, 1, 1, 1, 1, 1, 1, 1, 1, 2, 1, 1, 1, 1, 1, 1, 1, 1, 2, 1, 1, 1, 1, 1, 1, 1, 1, 1, 1, 1, 1, 1, 1, 1, 1, 1, 1, 1, 1, 1, 1, 1, 1, 4, 1, 1, 1, 1, 1, 1, 1, 1, 2, 1, 1, 1, 1, 1, 1, 1, 1, 1, 1, 1, 1, 1, 1, 1, 1, 1, 1, 1, 1, 1, 1, 1, 1, 1, 1, 1, 1, 1, 1, 1, 1, 1, 1, 1, 1, 1, 1, 1, 1, 1, 1, 1, 1, 1, 1, 1, 1, 1, 1, 1, 1, 1, 1, 1, 1, 1, 1, 2, 1, 1, 1, 1, 1, 2, 1, 1, 1, 1, 1, 1, 1, 1, 1, 1, 1, 1, 1, 2, 1, 1, 1, 1, 1, 1, 1, 1, 1, 1, 1, 1, 1, 1, 1, 1, 1, 1, 1, 1, 1, 1, 1, 1, 1, 1, 1, 1, 1, 1, 1, 1, 1, 1, 1, 1, 1, 1, 1, 1, 1, 1, 1, 1, 1, 1, 1, 1, 1, 1, 1, 1, 1, 1, 1, 1, 1, 1, 1, 1, 1, 1, 1, 1, 1, 1, 1, 1, 1, 1, 1, 1, 1, 1, 1, 1, 1, 1, 1, 1, 1, 1, 1, 1, 1, 1, 1, 1, 1, 2, 1, 1, 1, 1, 1, 1, 1, 1, 1, 1, 2, 1, 1, 1, 1, 6, 1, 1, 1, 1, 1, 1, 1, 2, 1, 1, 1, 1, 1, 1, 1, 1, 1, 1, 1, 1, 1, 1, 1, 1, 1, 1, 1, 1, 1, 1, 1, 1, 1, 1, 1, 1, 1, 1, 1, 1, 1, 1, 1, 1, 1, 1, 1, 1, 1, 1, 1, 1, 1, 1, 1, 1, 1, 1, 1, 1, 1, 1, 1, 1, 1, 2, 1, 1, 1, 1, 1, 1, 1, 1, 1, 1, 1, 1, 1, 1, 2, 1, 1, 1, 1, 1, 1, 1, 1, 1, 1, 1, 1, 1, 1, 1, 1, 1, 1, 1, 1, 1, 1, 1, 1, 1, 1, 1, 1, 1, 1, 1, 1, 2, 1, 1, 1, 1, 1, 1, 1, 1, 1, 1, 1, 1, 1, 1, 1, 1, 1, 1, 1, 1, 2, 1, 1, 1, 1, 1, 1, 1, 1, 1, 1, 1, 1, 1, 1, 1, 1, 1, 1, 1, 1, 1, 1, 1, 1, 1], \"xaxis\": \"x\", \"y\": [\"\\ubd80\\uc0b0\", \"\\uacbd\\uae30\", \"\\uacbd\\ubd81\", \"\\ub300\\uc804\", \"\\uacbd\\ubd81\", \"\\ucda9\\ubd81\", \"\\uc778\\ucc9c\", \"\\uc11c\\uc6b8\", \"\\uacbd\\uae30\", \"\\ucda9\\ub0a8\", \"\\uc804\\ubd81\", \"\\uc804\\ubd81\", \"\\uacbd\\ub0a8\", \"\\uacbd\\uae30\", \"\\uacbd\\ub0a8\", \"\\uc804\\ub0a8\", \"\\uc6b8\\uc0b0\", \"\\uc11c\\uc6b8\", \"\\uc11c\\uc6b8\", \"\\ucda9\\ub0a8\", \"\\uacbd\\uae30\", \"\\ub300\\uad6c\", \"\\uacbd\\ubd81\", \"\\uacbd\\uae30\", \"\\uacbd\\uae30\", \"\\uacbd\\uae30\", \"\\uc804\\ubd81\", \"\\uac15\\uc6d0\", \"\\ubd80\\uc0b0\", \"\\ub300\\uad6c\", \"\\uc804\\ub0a8\", \"\\uc804\\ubd81\", \"\\uc778\\ucc9c\", \"\\ub300\\uad6c\", \"\\uac15\\uc6d0\", \"\\ucda9\\ubd81\", \"\\uc804\\ub0a8\", \"\\uc804\\ubd81\", \"\\uc778\\ucc9c\", \"\\uac15\\uc6d0\", \"\\uacbd\\ub0a8\", \"\\ub300\\uad6c\", \"\\ucda9\\ub0a8\", \"\\ub300\\uc804\", \"\\uacbd\\uae30\", \"\\uacbd\\uae30\", \"\\uacbd\\ub0a8\", \"\\uc11c\\uc6b8\", \"\\uc778\\ucc9c\", \"\\ubd80\\uc0b0\", \"\\ucda9\\ub0a8\", \"\\uacbd\\uae30\", \"\\uc6b8\\uc0b0\", \"\\uacbd\\uae30\", \"\\uacbd\\uae30\", \"\\uacbd\\ub0a8\", \"\\ucda9\\ub0a8\", \"\\uacbd\\uae30\", \"\\ucda9\\ub0a8\", \"\\uacbd\\uae30\", \"\\uacbd\\uae30\", \"\\uacbd\\ubd81\", \"\\ucda9\\ub0a8\", \"\\uacbd\\ubd81\", \"\\uacbd\\ubd81\", \"\\uc804\\ub0a8\", \"\\uacbd\\ub0a8\", \"\\uacbd\\uae30\", \"\\ucda9\\ubd81\", \"\\uacbd\\ubd81\", \"\\ucda9\\ub0a8\", \"\\uacbd\\ubd81\", \"\\uacbd\\uae30\", \"\\uacbd\\uae30\", \"\\uacbd\\uae30\", \"\\ucda9\\ubd81\", \"\\ucda9\\ub0a8\", \"\\uc81c\\uc8fc\", \"\\uacbd\\ubd81\", \"\\ucda9\\ub0a8\", \"\\ub300\\uad6c\", \"\\uacbd\\uae30\", \"\\uacbd\\uae30\", \"\\uac15\\uc6d0\", \"\\uacbd\\uae30\", \"\\uacbd\\ubd81\", \"\\uacbd\\uae30\", \"\\uacbd\\uae30\", \"\\uacbd\\uae30\", \"\\uacbd\\uae30\", \"\\uc778\\ucc9c\", \"\\ucda9\\ubd81\", \"\\uacbd\\uae30\", \"\\ucda9\\ub0a8\", \"\\uacbd\\uae30\", \"\\ucda9\\ub0a8\", \"\\uacbd\\uae30\", \"\\uc778\\ucc9c\", \"\\uc804\\ub0a8\", \"\\uc778\\ucc9c\", \"\\uacbd\\uae30\", \"\\uacbd\\ubd81\", \"\\ucda9\\ubd81\", \"\\uacbd\\ubd81\", \"\\uacbd\\uae30\", \"\\ub300\\uc804\", \"\\uac15\\uc6d0\", \"\\uc804\\ub0a8\", \"\\ucda9\\ub0a8\", \"\\uac15\\uc6d0\", \"\\uc11c\\uc6b8\", \"\\uacbd\\ubd81\", \"\\ucda9\\ub0a8\", \"\\uacbd\\uae30\", \"\\ub300\\uc804\", \"\\uacbd\\uae30\", \"\\uac15\\uc6d0\", \"\\uacbd\\uae30\", \"\\ucda9\\ubd81\", \"\\ucda9\\ub0a8\", \"\\uc11c\\uc6b8\", \"\\ubd80\\uc0b0\", \"\\uacbd\\uae30\", \"\\uc804\\ub0a8\", \"\\uacbd\\uae30\", \"\\uc804\\ub0a8\", \"\\uc778\\ucc9c\", \"\\uacbd\\ub0a8\", \"\\uacbd\\ub0a8\", \"\\uc804\\ub0a8\", \"\\uc11c\\uc6b8\", \"\\uc81c\\uc8fc\", \"\\uc11c\\uc6b8\", \"\\ucda9\\ub0a8\", \"\\uc778\\ucc9c\", \"\\uacbd\\ub0a8\", \"\\uacbd\\uae30\", \"\\uc778\\ucc9c\", \"\\uc11c\\uc6b8\", \"\\uacbd\\uae30\", \"\\uacbd\\uae30\", \"\\uacbd\\uae30\", \"\\uc11c\\uc6b8\", \"\\ubd80\\uc0b0\", \"\\ubd80\\uc0b0\", \"\\uc778\\ucc9c\", \"\\uacbd\\uae30\", \"\\uc11c\\uc6b8\", \"\\ucda9\\ubd81\", \"\\ucda9\\ub0a8\", \"\\uacbd\\uae30\", \"\\uacbd\\ubd81\", \"\\uacbd\\ubd81\", \"\\uc11c\\uc6b8\", \"\\uc804\\ubd81\", \"\\uc804\\ub0a8\", \"\\uc804\\ub0a8\", \"\\uacbd\\uae30\", \"\\ucda9\\ubd81\", \"\\uacbd\\uae30\", \"\\uacbd\\uae30\", \"\\uacbd\\uae30\", \"\\uac15\\uc6d0\", \"\\uacbd\\ubd81\", \"\\uacbd\\uae30\", \"\\uc778\\ucc9c\", \"\\uc81c\\uc8fc\", \"\\ucda9\\ubd81\", \"\\ucda9\\ub0a8\", \"\\ub300\\uad6c\", \"\\uacbd\\ub0a8\", \"\\uc11c\\uc6b8\", \"\\uacbd\\uae30\", \"\\ucda9\\ub0a8\", \"\\uc11c\\uc6b8\", \"\\ucda9\\ubd81\", \"\\ucda9\\ub0a8\", \"\\uacbd\\uae30\", \"\\uacbd\\uae30\", \"\\uac15\\uc6d0\", \"\\uacbd\\uae30\", \"\\ub300\\uad6c\", \"\\uacbd\\uae30\", \"\\uacbd\\uae30\", \"\\uc804\\ub0a8\", \"\\uacbd\\ubd81\", \"\\uc11c\\uc6b8\", \"\\uac15\\uc6d0\", \"\\uac15\\uc6d0\", \"\\uc11c\\uc6b8\", \"\\uc11c\\uc6b8\", \"\\uacbd\\uae30\", \"\\uacbd\\uae30\", \"\\uacbd\\ub0a8\", \"\\uc804\\ubd81\", \"\\uacbd\\ub0a8\", \"\\uac15\\uc6d0\", \"\\uacbd\\ubd81\", \"\\uc11c\\uc6b8\", \"\\uacbd\\uae30\", \"\\ubd80\\uc0b0\", \"\\uacbd\\ubd81\", \"\\uc804\\ub0a8\", \"\\ubd80\\uc0b0\", \"\\uc804\\ub0a8\", \"\\uc804\\ub0a8\", \"\\uc804\\ub0a8\", \"\\uac15\\uc6d0\", \"\\ub300\\uc804\", \"\\uc778\\ucc9c\", \"\\ub300\\uad6c\", \"\\uacbd\\ubd81\", \"\\uc11c\\uc6b8\", \"\\uc778\\ucc9c\", \"\\uac15\\uc6d0\", \"\\uacbd\\ub0a8\", \"\\uacbd\\uae30\", \"\\uacbd\\ubd81\", \"\\uacbd\\ub0a8\", \"\\uc81c\\uc8fc\", \"\\uc11c\\uc6b8\", \"\\uc804\\ubd81\", \"\\uacbd\\uae30\", \"\\uac15\\uc6d0\", \"\\ubd80\\uc0b0\", \"\\uc804\\ub0a8\", \"\\uacbd\\ubd81\", \"\\uacbd\\uae30\", \"\\uacbd\\uae30\", \"\\uacbd\\uae30\", \"\\ub300\\uc804\", \"\\ucda9\\ubd81\", \"\\ucda9\\ub0a8\", \"\\uc804\\ub0a8\", \"\\ucda9\\ub0a8\", \"\\uc804\\ubd81\", \"\\uc804\\ub0a8\", \"\\uc778\\ucc9c\", \"\\uacbd\\ubd81\", \"\\uacbd\\ubd81\", \"\\uc804\\ubd81\", \"\\uacbd\\ub0a8\", \"\\uacbd\\ub0a8\", \"\\uacbd\\ubd81\", \"\\uacbd\\uae30\", \"\\uc804\\ub0a8\", \"\\ucda9\\ub0a8\", \"\\uc11c\\uc6b8\", \"\\uc81c\\uc8fc\", \"\\ubd80\\uc0b0\", \"\\uc804\\ub0a8\", \"\\uc804\\ubd81\", \"\\ubd80\\uc0b0\", \"\\uacbd\\ub0a8\", \"\\uacbd\\ub0a8\", \"\\uacbd\\ub0a8\", \"\\uc804\\ubd81\", \"\\uc11c\\uc6b8\", \"\\uad11\\uc8fc\", \"\\ucda9\\ub0a8\", \"\\uad11\\uc8fc\", \"\\ucda9\\ubd81\", \"\\ucda9\\ub0a8\", \"\\uc11c\\uc6b8\", \"\\uacbd\\ub0a8\", \"\\ub300\\uad6c\", \"\\uc6b8\\uc0b0\", \"\\uacbd\\ubd81\", \"\\uc804\\ubd81\", \"\\uacbd\\ubd81\", \"\\uc11c\\uc6b8\", \"\\uc804\\ub0a8\", \"\\uc804\\ub0a8\", \"\\uacbd\\ubd81\", \"\\uc11c\\uc6b8\", \"\\ucda9\\ubd81\", \"\\uacbd\\uae30\", \"\\uacbd\\uae30\", \"\\uc81c\\uc8fc\", \"\\ucda9\\ub0a8\", \"\\ucda9\\ub0a8\", \"\\uacbd\\uae30\", \"\\uacbd\\uae30\", \"\\uacbd\\uae30\", \"\\uacbd\\uae30\", \"\\uc804\\ubd81\", \"\\ucda9\\ubd81\", \"\\uacbd\\ubd81\", \"\\uacbd\\ubd81\", \"\\uacbd\\ubd81\", \"\\uc804\\ubd81\", \"\\uc804\\ubd81\", \"\\uacbd\\uae30\", \"\\uacbd\\uae30\", \"\\ub300\\uad6c\", \"\\uacbd\\uae30\", \"\\uc804\\ub0a8\", \"\\uc804\\ub0a8\", \"\\uc804\\ub0a8\", \"\\ub300\\uc804\", \"\\uacbd\\ubd81\", \"\\uc11c\\uc6b8\", \"\\uacbd\\uae30\", \"\\ucda9\\ubd81\", \"\\ub300\\uc804\", \"\\ub300\\uc804\", \"\\uc804\\ubd81\", \"\\uc804\\ub0a8\", \"\\uac15\\uc6d0\", \"\\ubd80\\uc0b0\", \"\\ucda9\\ub0a8\", \"\\uacbd\\ubd81\", \"\\uacbd\\ubd81\", \"\\uacbd\\ub0a8\", \"\\uc81c\\uc8fc\", \"\\uacbd\\uae30\", \"\\uc804\\ubd81\", \"\\uc11c\\uc6b8\", \"\\uacbd\\uae30\", \"\\uc11c\\uc6b8\", \"\\uacbd\\uae30\", \"\\uacbd\\ubd81\", \"\\uacbd\\ub0a8\", \"\\ucda9\\ubd81\", \"\\ucda9\\ub0a8\", \"\\uc804\\ub0a8\", \"\\uacbd\\uae30\", \"\\uacbd\\uae30\", \"\\uc6b8\\uc0b0\", \"\\uc11c\\uc6b8\", \"\\uc804\\ub0a8\", \"\\ucda9\\ubd81\", \"\\uacbd\\ubd81\", \"\\uc778\\ucc9c\", \"\\uacbd\\ubd81\", \"\\uacbd\\uae30\", \"\\uacbd\\ub0a8\", \"\\uc778\\ucc9c\", \"\\ub300\\uc804\", \"\\ub300\\uc804\", \"\\uc804\\ub0a8\", \"\\uacbd\\ubd81\", \"\\uc11c\\uc6b8\", \"\\ucda9\\ub0a8\", \"\\uc11c\\uc6b8\", \"\\uacbd\\uae30\", \"\\uc81c\\uc8fc\", \"\\uc11c\\uc6b8\", \"\\uc804\\ub0a8\", \"\\uacbd\\uae30\", \"\\ub300\\uad6c\", \"\\uacbd\\uae30\", \"\\uc11c\\uc6b8\", \"\\ucda9\\ub0a8\", \"\\uacbd\\uae30\", \"\\ucda9\\ub0a8\", \"\\uac15\\uc6d0\", \"\\uacbd\\ub0a8\", \"\\uacbd\\ub0a8\", \"\\ucda9\\ubd81\", \"\\uc804\\ub0a8\", \"\\uacbd\\ubd81\", \"\\uacbd\\ubd81\", \"\\uad11\\uc8fc\", \"\\ucda9\\ubd81\", \"\\uacbd\\uae30\", \"\\uacbd\\ubd81\", \"\\uacbd\\uae30\", \"\\uacbd\\uae30\", \"\\uacbd\\uae30\", \"\\ubd80\\uc0b0\", \"\\uacbd\\uae30\", \"\\uacbd\\uae30\", \"\\ub300\\uad6c\", \"\\uacbd\\ubd81\", \"\\uacbd\\uae30\", \"\\uacbd\\uae30\", \"\\uac15\\uc6d0\", \"\\ucda9\\ubd81\", \"\\ub300\\uad6c\", \"\\uac15\\uc6d0\", \"\\uacbd\\uae30\", \"\\uc804\\ubd81\", \"\\uc804\\ubd81\", \"\\uc11c\\uc6b8\", \"\\uacbd\\uae30\", \"\\uacbd\\ub0a8\", \"\\uc804\\ub0a8\", \"\\uc81c\\uc8fc\", \"\\uacbd\\ub0a8\", \"\\uacbd\\ubd81\", \"\\ucda9\\ubd81\", \"\\uc804\\ubd81\", \"\\uacbd\\ub0a8\", \"\\ub300\\uad6c\", \"\\ubd80\\uc0b0\", \"\\uacbd\\uae30\", \"\\uacbd\\ubd81\", \"\\uacbd\\uae30\", \"\\uacbd\\ubd81\", \"\\uacbd\\uae30\", \"\\uacbd\\ub0a8\", \"\\uacbd\\uae30\", \"\\uac15\\uc6d0\", \"\\ucda9\\ub0a8\", \"\\uacbd\\uae30\", \"\\uc804\\ubd81\", \"\\uacbd\\ub0a8\", \"\\uc11c\\uc6b8\", \"\\uacbd\\uae30\", \"\\uacbd\\ub0a8\", \"\\ucda9\\ub0a8\", \"\\uc804\\ubd81\", \"\\ucda9\\ub0a8\", \"\\uacbd\\uae30\", \"\\uacbd\\uae30\", \"\\uacbd\\uae30\", \"\\uacbd\\ubd81\", \"\\ucda9\\ub0a8\", \"\\uad11\\uc8fc\", \"\\uacbd\\ubd81\", \"\\uac15\\uc6d0\", \"\\uacbd\\ubd81\", \"\\uacbd\\uae30\", \"\\uacbd\\uae30\", \"\\uacbd\\uae30\", \"\\ub300\\uc804\", \"\\ucda9\\ub0a8\", \"\\uc804\\ub0a8\", \"\\uc81c\\uc8fc\", \"\\uc6b8\\uc0b0\", \"\\uacbd\\ubd81\", \"\\uacbd\\uae30\", \"\\uc804\\ubd81\", \"\\uacbd\\ub0a8\", \"\\ucda9\\ubd81\", \"\\uacbd\\uae30\", \"\\uac15\\uc6d0\", \"\\uad11\\uc8fc\", \"\\uac15\\uc6d0\", \"\\uc804\\ubd81\", \"\\uc804\\ub0a8\", \"\\ubd80\\uc0b0\", \"\\uc11c\\uc6b8\", \"\\uacbd\\ub0a8\", \"\\uc11c\\uc6b8\", \"\\ucda9\\ub0a8\", \"\\uc804\\ub0a8\", \"\\uacbd\\uae30\", \"\\uc804\\ub0a8\", \"\\uacbd\\uae30\", \"\\ucda9\\ub0a8\", \"\\uc804\\ub0a8\", \"\\uacbd\\ub0a8\", \"\\uac15\\uc6d0\", \"\\uacbd\\ubd81\", \"\\uacbd\\ubd81\", \"\\uac15\\uc6d0\", \"\\ubd80\\uc0b0\", \"\\ub300\\uad6c\", \"\\uacbd\\uae30\", \"\\uacbd\\ubd81\", \"\\uacbd\\ubd81\", \"\\uad11\\uc8fc\", \"\\uc778\\ucc9c\", \"\\uacbd\\uae30\", \"\\uacbd\\ub0a8\", \"\\uacbd\\uae30\", \"\\uacbd\\uae30\", \"\\uacbd\\ubd81\", \"\\ub300\\uad6c\", \"\\uc6b8\\uc0b0\", \"\\uc804\\ubd81\", \"\\uacbd\\ubd81\", \"\\uc804\\ub0a8\", \"\\ub300\\uad6c\", \"\\uc11c\\uc6b8\", \"\\ucda9\\ubd81\", \"\\uc804\\ubd81\", \"\\uacbd\\uae30\", \"\\ucda9\\ub0a8\", \"\\uc804\\ubd81\", \"\\uc804\\ubd81\", \"\\ubd80\\uc0b0\", \"\\ucda9\\ub0a8\", \"\\uc804\\ubd81\", \"\\ub300\\uad6c\", \"\\uc11c\\uc6b8\", \"\\uacbd\\uae30\", \"\\ucda9\\ub0a8\", \"\\uacbd\\ubd81\", \"\\ucda9\\ub0a8\", \"\\uc804\\ub0a8\", \"\\uacbd\\uae30\", \"\\ucda9\\ub0a8\", \"\\uacbd\\ub0a8\", \"\\uc11c\\uc6b8\", \"\\ucda9\\ub0a8\", \"\\uc81c\\uc8fc\", \"\\uc804\\ubd81\", \"\\uacbd\\ubd81\", \"\\uc6b8\\uc0b0\", \"\\uacbd\\uae30\", \"\\uac15\\uc6d0\", \"\\ub300\\uad6c\", \"\\uacbd\\uae30\", \"\\uacbd\\ub0a8\", \"\\uacbd\\ubd81\", \"\\uacbd\\uae30\", \"\\uc11c\\uc6b8\", \"\\ubd80\\uc0b0\", \"\\uc804\\ubd81\", \"\\uac15\\uc6d0\", \"\\uac15\\uc6d0\", \"\\uacbd\\ubd81\", \"\\uacbd\\ubd81\", \"\\ub300\\uad6c\", \"\\uac15\\uc6d0\", \"\\uc804\\ubd81\", \"\\uc778\\ucc9c\", \"\\uacbd\\ubd81\", \"\\uc778\\ucc9c\", \"\\uac15\\uc6d0\", \"\\uac15\\uc6d0\", \"\\ucda9\\ub0a8\", \"\\uacbd\\ubd81\", \"\\uc6b8\\uc0b0\", \"\\uc11c\\uc6b8\", \"\\uacbd\\ubd81\", \"\\uacbd\\uae30\", \"\\uc804\\ub0a8\", \"\\uacbd\\ub0a8\", \"\\uacbd\\ub0a8\", \"\\uac15\\uc6d0\", \"\\uacbd\\ub0a8\", \"\\ubd80\\uc0b0\", \"\\uacbd\\uae30\", \"\\uacbd\\ubd81\", \"\\uacbd\\uae30\", \"\\ucda9\\ubd81\", \"\\ub300\\uad6c\", \"\\ub300\\uc804\", \"\\ucda9\\ub0a8\", \"\\ub300\\uc804\", \"\\ucda9\\ubd81\", \"\\ucda9\\ub0a8\", \"\\uacbd\\uae30\", \"\\uacbd\\uae30\", \"\\uacbd\\ub0a8\", \"\\uc804\\ub0a8\", \"\\uacbd\\ubd81\", \"\\uacbd\\ubd81\", \"\\uad11\\uc8fc\", \"\\uacbd\\uae30\", \"\\uacbd\\ub0a8\", \"\\uacbd\\uae30\", \"\\uc11c\\uc6b8\", \"\\uc804\\ub0a8\", \"\\uacbd\\ubd81\", \"\\uc804\\ubd81\", \"\\uacbd\\uae30\", \"\\uc11c\\uc6b8\", \"\\uacbd\\uae30\", \"\\uacbd\\uae30\", \"\\uacbd\\uae30\", \"\\uc804\\ub0a8\", \"\\uacbd\\uae30\", \"\\uc81c\\uc8fc\", \"\\uc81c\\uc8fc\", \"\\uacbd\\uae30\", \"\\uc804\\ubd81\", \"\\uc804\\ubd81\", \"\\uc804\\ub0a8\", \"\\uacbd\\uae30\", \"\\uc804\\ubd81\", \"\\uc81c\\uc8fc\", \"\\uacbd\\ubd81\", \"\\uc11c\\uc6b8\", \"\\uacbd\\ubd81\", \"\\uacbd\\uae30\", \"\\uc804\\ubd81\", \"\\ub300\\uad6c\", \"\\ub300\\uc804\", \"\\uc778\\ucc9c\", \"\\uc804\\ubd81\", \"\\uc804\\ub0a8\", \"\\uacbd\\ub0a8\", \"\\ucda9\\ub0a8\", \"\\uc11c\\uc6b8\", \"\\uc804\\ubd81\", \"\\uac15\\uc6d0\", \"\\uacbd\\uae30\", \"\\ub300\\uad6c\", \"\\uc11c\\uc6b8\", \"\\uc11c\\uc6b8\", \"\\uc778\\ucc9c\", \"\\uc6b8\\uc0b0\", \"\\uacbd\\ubd81\", \"\\uc778\\ucc9c\", \"\\uc804\\ub0a8\", \"\\uc804\\ub0a8\", \"\\uc804\\ub0a8\", \"\\uc804\\ub0a8\", \"\\uc11c\\uc6b8\", \"\\uacbd\\ub0a8\", \"\\uc804\\ub0a8\", \"\\uc11c\\uc6b8\", \"\\uc804\\ub0a8\", \"\\uc81c\\uc8fc\", \"\\uacbd\\uae30\", \"\\uc804\\ub0a8\", \"\\uac15\\uc6d0\", \"\\uacbd\\ubd81\", \"\\ubd80\\uc0b0\", \"\\ucda9\\ubd81\", \"\\uacbd\\ub0a8\", \"\\uacbd\\uae30\", \"\\uacbd\\ubd81\", \"\\uacbd\\uae30\", \"\\uacbd\\uae30\", \"\\uacbd\\ubd81\", \"\\uacbd\\ub0a8\", \"\\uacbd\\ub0a8\", \"\\uc81c\\uc8fc\", \"\\uacbd\\ub0a8\", \"\\uac15\\uc6d0\", \"\\uacbd\\uae30\", \"\\uacbd\\ubd81\", \"\\uc11c\\uc6b8\", \"\\uc804\\ub0a8\", \"\\ucda9\\ub0a8\", \"\\uacbd\\uae30\", \"\\uc804\\ub0a8\", \"\\uacbd\\ub0a8\", \"\\ucda9\\ub0a8\", \"\\uc804\\ub0a8\", \"\\uc6b8\\uc0b0\", \"\\ucda9\\ubd81\", \"\\uacbd\\uae30\", \"\\ucda9\\ubd81\", \"\\uc81c\\uc8fc\", \"\\ucda9\\ub0a8\", \"\\uc11c\\uc6b8\", \"\\ubd80\\uc0b0\", \"\\uacbd\\ubd81\", \"\\uc6b8\\uc0b0\", \"\\uc804\\ubd81\", \"\\uc11c\\uc6b8\", \"\\uc11c\\uc6b8\", \"\\uad11\\uc8fc\", \"\\uc11c\\uc6b8\", \"\\uacbd\\uae30\", \"\\uc804\\ub0a8\", \"\\uacbd\\uae30\", \"\\uacbd\\uae30\", \"\\uc804\\ub0a8\", \"\\ubd80\\uc0b0\", \"\\ucda9\\ub0a8\", \"\\uc778\\ucc9c\", \"\\uacbd\\uae30\", \"\\uacbd\\ubd81\", \"\\uacbd\\ubd81\", \"\\uacbd\\uae30\", \"\\uc804\\ubd81\", \"\\uacbd\\ubd81\", \"\\uc804\\ubd81\", \"\\ucda9\\ubd81\", \"\\uc804\\ubd81\", \"\\uc804\\ub0a8\", \"\\uc11c\\uc6b8\", \"\\ub300\\uad6c\", \"\\uacbd\\uae30\", \"\\uacbd\\uae30\", \"\\uc804\\ub0a8\", \"\\ub300\\uad6c\", \"\\ub300\\uad6c\", \"\\ucda9\\ubd81\", \"\\ucda9\\ub0a8\", \"\\uacbd\\ub0a8\", \"\\uacbd\\ub0a8\", \"\\ub300\\uad6c\", \"\\uc81c\\uc8fc\", \"\\uc804\\ub0a8\", \"\\uc11c\\uc6b8\", \"\\uac15\\uc6d0\", \"\\uc804\\ub0a8\", \"\\uacbd\\ubd81\", \"\\uc804\\ubd81\", \"\\uc138\\uc885\", \"\\uc11c\\uc6b8\", \"\\uacbd\\ubd81\", \"\\uacbd\\ubd81\", \"\\uacbd\\ub0a8\", \"\\uacbd\\uae30\", \"\\ucda9\\ubd81\", \"\\uc11c\\uc6b8\", \"\\uacbd\\ub0a8\", \"\\ucda9\\ub0a8\", \"\\uacbd\\uae30\", \"\\uacbd\\ub0a8\", \"\\uacbd\\uae30\", \"\\uacbd\\uae30\", \"\\ucda9\\ubd81\", \"\\uacbd\\ub0a8\", \"\\ucda9\\ubd81\", \"\\ucda9\\ub0a8\", \"\\uc804\\ubd81\", \"\\uacbd\\uae30\", \"\\uacbd\\uae30\", \"\\ubd80\\uc0b0\", \"\\uacbd\\ubd81\", \"\\ub300\\uc804\", \"\\uacbd\\ubd81\", \"\\ub300\\uad6c\", \"\\uacbd\\uae30\", \"\\uad11\\uc8fc\", \"\\ucda9\\ub0a8\", \"\\uc804\\ubd81\", \"\\uacbd\\uae30\", \"\\uacbd\\uae30\", \"\\uacbd\\ubd81\", \"\\uc804\\ub0a8\", \"\\uc81c\\uc8fc\", \"\\uacbd\\uae30\", \"\\uc778\\ucc9c\", \"\\ucda9\\ub0a8\", \"\\uacbd\\uae30\", \"\\ucda9\\ub0a8\", \"\\uacbd\\uae30\", \"\\ucda9\\ubd81\", \"\\uc6b8\\uc0b0\", \"\\uc138\\uc885\", \"\\uc11c\\uc6b8\", \"\\uacbd\\uae30\", \"\\uc778\\ucc9c\", \"\\uc804\\ub0a8\", \"\\uacbd\\ub0a8\", \"\\ubd80\\uc0b0\", \"\\uc11c\\uc6b8\", \"\\uacbd\\uae30\", \"\\uac15\\uc6d0\", \"\\ub300\\uad6c\", \"\\uc11c\\uc6b8\", \"\\uc778\\ucc9c\", \"\\ub300\\uc804\", \"\\uacbd\\ubd81\", \"\\uacbd\\uae30\", \"\\uacbd\\ubd81\", \"\\uc81c\\uc8fc\", \"\\uacbd\\uae30\", \"\\uac15\\uc6d0\", \"\\uacbd\\ub0a8\", \"\\uacbd\\ubd81\", \"\\ucda9\\ub0a8\", \"\\ub300\\uad6c\", \"\\uacbd\\ubd81\", \"\\uc6b8\\uc0b0\", \"\\ucda9\\ub0a8\", \"\\ubd80\\uc0b0\", \"\\ub300\\uad6c\", \"\\ucda9\\ubd81\", \"\\uac15\\uc6d0\", \"\\uc804\\ub0a8\", \"\\uacbd\\ubd81\", \"\\uc804\\ub0a8\", \"\\ucda9\\ub0a8\", \"\\uacbd\\ub0a8\", \"\\uc804\\ubd81\", \"\\ub300\\uad6c\", \"\\uc778\\ucc9c\", \"\\uacbd\\uae30\", \"\\uacbd\\ubd81\", \"\\uacbd\\ubd81\", \"\\uc804\\ub0a8\", \"\\uacbd\\uae30\", \"\\uacbd\\uae30\", \"\\uc804\\ub0a8\", \"\\uacbd\\uae30\", \"\\uacbd\\uae30\", \"\\uacbd\\uae30\", \"\\uacbd\\uae30\", \"\\ucda9\\ubd81\", \"\\ucda9\\ub0a8\", \"\\uacbd\\uae30\", \"\\uacbd\\uae30\", \"\\uc804\\ubd81\", \"\\uc804\\ub0a8\", \"\\uacbd\\ubd81\", \"\\uc804\\ub0a8\", \"\\uacbd\\uae30\", \"\\uc804\\ubd81\", \"\\uc6b8\\uc0b0\", \"\\uacbd\\ub0a8\", \"\\uacbd\\ub0a8\", \"\\uc11c\\uc6b8\", \"\\uc11c\\uc6b8\", \"\\uc11c\\uc6b8\", \"\\uacbd\\ub0a8\", \"\\ucda9\\ubd81\", \"\\uacbd\\ub0a8\", \"\\uacbd\\uae30\", \"\\uac15\\uc6d0\", \"\\uc11c\\uc6b8\", \"\\ub300\\uad6c\", \"\\uc778\\ucc9c\", \"\\uacbd\\uae30\", \"\\uacbd\\ubd81\", \"\\uacbd\\ub0a8\", \"\\ucda9\\ub0a8\", \"\\uacbd\\uae30\", \"\\uc804\\ub0a8\", \"\\uacbd\\ubd81\", \"\\ubd80\\uc0b0\", \"\\ub300\\uc804\", \"\\uc11c\\uc6b8\", \"\\uacbd\\uae30\", \"\\uc81c\\uc8fc\", \"\\uacbd\\uae30\", \"\\ucda9\\ub0a8\", \"\\uacbd\\ubd81\", \"\\uacbd\\ubd81\", \"\\uc11c\\uc6b8\", \"\\uacbd\\ubd81\", \"\\ucda9\\ub0a8\", \"\\uac15\\uc6d0\", \"\\uc778\\ucc9c\", \"\\uacbd\\uae30\", \"\\ucda9\\ubd81\", \"\\uacbd\\ub0a8\", \"\\uc81c\\uc8fc\", \"\\uacbd\\uae30\", \"\\ucda9\\ub0a8\", \"\\uc804\\ub0a8\", \"\\uc804\\ub0a8\", \"\\uacbd\\uae30\", \"\\uc804\\ub0a8\", \"\\uc81c\\uc8fc\", \"\\uacbd\\ubd81\", \"\\uc804\\ub0a8\", \"\\ucda9\\ubd81\", \"\\uac15\\uc6d0\", \"\\uc804\\ubd81\", \"\\uacbd\\ubd81\", \"\\uacbd\\uae30\", \"\\uc11c\\uc6b8\", \"\\uacbd\\uae30\", \"\\uacbd\\uae30\", \"\\uacbd\\uae30\", \"\\uacbd\\ub0a8\", \"\\uc804\\ub0a8\", \"\\uac15\\uc6d0\", \"\\uac15\\uc6d0\", \"\\uc11c\\uc6b8\", \"\\ucda9\\ub0a8\", \"\\uc804\\ub0a8\", \"\\uacbd\\ub0a8\", \"\\uacbd\\ub0a8\", \"\\uacbd\\uae30\", \"\\ucda9\\ubd81\", \"\\uc804\\ubd81\", \"\\uacbd\\ub0a8\", \"\\uacbd\\ubd81\", \"\\uacbd\\uae30\", \"\\ubd80\\uc0b0\", \"\\uac15\\uc6d0\", \"\\uc11c\\uc6b8\", \"\\ucda9\\ub0a8\", \"\\uacbd\\uae30\", \"\\uacbd\\uae30\", \"\\ucda9\\ub0a8\", \"\\ucda9\\ub0a8\", \"\\uacbd\\ub0a8\", \"\\ubd80\\uc0b0\", \"\\uacbd\\ub0a8\", \"\\uc778\\ucc9c\", \"\\uacbd\\ub0a8\", \"\\ub300\\uad6c\", \"\\uc778\\ucc9c\", \"\\uc6b8\\uc0b0\", \"\\uacbd\\ub0a8\", \"\\uacbd\\uae30\", \"\\uacbd\\ubd81\", \"\\ucda9\\ub0a8\", \"\\ub300\\uc804\", \"\\uacbd\\ub0a8\", \"\\uacbd\\uae30\", \"\\ucda9\\ub0a8\", \"\\ucda9\\ubd81\", \"\\uacbd\\ubd81\", \"\\uacbd\\ub0a8\", \"\\uacbd\\uae30\", \"\\uc804\\ub0a8\", \"\\uc804\\ub0a8\", \"\\uc804\\ub0a8\", \"\\uacbd\\ubd81\", \"\\uacbd\\uae30\", \"\\uacbd\\ubd81\", \"\\uacbd\\ub0a8\", \"\\uac15\\uc6d0\", \"\\uacbd\\uae30\", \"\\uacbd\\ub0a8\", \"\\ubd80\\uc0b0\", \"\\uac15\\uc6d0\", \"\\uc6b8\\uc0b0\", \"\\uacbd\\uae30\", \"\\ucda9\\ub0a8\", \"\\ucda9\\ub0a8\", \"\\uc81c\\uc8fc\", \"\\ucda9\\ubd81\", \"\\uac15\\uc6d0\", \"\\uacbd\\ub0a8\", \"\\uc804\\ub0a8\", \"\\uacbd\\uae30\", \"\\uac15\\uc6d0\", \"\\uc6b8\\uc0b0\", \"\\uacbd\\uae30\", \"\\uacbd\\ubd81\", \"\\uacbd\\uae30\", \"\\uacbd\\uae30\", \"\\uc804\\ubd81\", \"\\uacbd\\ubd81\", \"\\ub300\\uc804\", \"\\uacbd\\ubd81\", \"\\uac15\\uc6d0\", \"\\uad11\\uc8fc\", \"\\uc804\\ub0a8\", \"\\ubd80\\uc0b0\", \"\\uacbd\\uae30\", \"\\uc11c\\uc6b8\", \"\\uac15\\uc6d0\", \"\\uacbd\\ubd81\", \"\\uc804\\ubd81\", \"\\uacbd\\uae30\", \"\\ucda9\\ubd81\", \"\\uc138\\uc885\", \"\\uc81c\\uc8fc\", \"\\uc11c\\uc6b8\", \"\\ucda9\\ubd81\", \"\\uc804\\ub0a8\", \"\\ucda9\\ubd81\", \"\\uc804\\ub0a8\", \"\\uc804\\ubd81\", \"\\uacbd\\uae30\", \"\\uc81c\\uc8fc\", \"\\ucda9\\ub0a8\", \"\\uc804\\ubd81\", \"\\ucda9\\ubd81\", \"\\uacbd\\ub0a8\", \"\\uacbd\\uae30\", \"\\uacbd\\uae30\", \"\\uc804\\ub0a8\", \"\\ucda9\\ub0a8\", \"\\uc11c\\uc6b8\", \"\\uc778\\ucc9c\", \"\\ub300\\uad6c\", \"\\uc778\\ucc9c\", \"\\uc778\\ucc9c\", \"\\uac15\\uc6d0\", \"\\uc804\\ubd81\", \"\\uac15\\uc6d0\", \"\\uacbd\\uae30\", \"\\uacbd\\ub0a8\", \"\\uc804\\ub0a8\", \"\\uacbd\\ubd81\", \"\\uc778\\ucc9c\", \"\\uacbd\\ub0a8\", \"\\ucda9\\ub0a8\", \"\\uacbd\\ubd81\", \"\\uc804\\ubd81\", \"\\uc81c\\uc8fc\", \"\\uacbd\\uae30\", \"\\uc804\\ub0a8\", \"\\uc804\\ub0a8\", \"\\uacbd\\ub0a8\", \"\\ucda9\\ubd81\", \"\\uacbd\\uae30\", \"\\uc778\\ucc9c\", \"\\ubd80\\uc0b0\", \"\\uacbd\\uae30\", \"\\ub300\\uad6c\", \"\\ucda9\\ubd81\", \"\\ub300\\uad6c\", \"\\uc804\\ubd81\", \"\\uacbd\\ubd81\", \"\\ucda9\\ubd81\", \"\\uacbd\\ubd81\", \"\\uc6b8\\uc0b0\", \"\\ucda9\\ubd81\", \"\\uc804\\ub0a8\", \"\\ubd80\\uc0b0\", \"\\uac15\\uc6d0\", \"\\uc804\\ubd81\", \"\\uacbd\\ubd81\", \"\\ucda9\\ubd81\", \"\\ucda9\\ub0a8\", \"\\uc778\\ucc9c\", \"\\uac15\\uc6d0\", \"\\ucda9\\ubd81\", \"\\uacbd\\uae30\", \"\\uacbd\\ubd81\", \"\\uc6b8\\uc0b0\", \"\\ucda9\\ubd81\", \"\\ucda9\\ub0a8\", \"\\uc804\\ub0a8\", \"\\ucda9\\ubd81\", \"\\ucda9\\ubd81\", \"\\uacbd\\uae30\", \"\\ucda9\\ubd81\", \"\\uc804\\ubd81\", \"\\uc81c\\uc8fc\", \"\\ucda9\\ubd81\", \"\\uacbd\\uae30\", \"\\uc804\\ubd81\", \"\\ub300\\uc804\", \"\\uacbd\\ub0a8\", \"\\uc778\\ucc9c\", \"\\uc778\\ucc9c\", \"\\uacbd\\ubd81\", \"\\uc11c\\uc6b8\", \"\\uacbd\\ubd81\", \"\\ucda9\\ubd81\", \"\\uacbd\\uae30\", \"\\ub300\\uc804\", \"\\uacbd\\uae30\", \"\\uc804\\ubd81\", \"\\ub300\\uad6c\", \"\\uacbd\\uae30\", \"\\uac15\\uc6d0\", \"\\uacbd\\ubd81\", \"\\uc11c\\uc6b8\", \"\\uac15\\uc6d0\", \"\\uac15\\uc6d0\", \"\\ucda9\\ub0a8\", \"\\uc804\\ubd81\", \"\\ub300\\uc804\", \"\\uc804\\ubd81\", \"\\ucda9\\ubd81\", \"\\uc11c\\uc6b8\", \"\\uacbd\\uae30\", \"\\uacbd\\uae30\", \"\\ucda9\\ubd81\", \"\\uac15\\uc6d0\", \"\\uacbd\\ubd81\", \"\\ucda9\\ub0a8\", \"\\ucda9\\ub0a8\", \"\\ubd80\\uc0b0\", \"\\uacbd\\ubd81\", \"\\uc11c\\uc6b8\", \"\\uacbd\\uae30\", \"\\uacbd\\ub0a8\", \"\\uacbd\\ubd81\", \"\\ubd80\\uc0b0\", \"\\uacbd\\ubd81\", \"\\uacbd\\ub0a8\", \"\\uc778\\ucc9c\", \"\\uacbd\\uae30\", \"\\uacbd\\uae30\", \"\\uacbd\\ub0a8\", \"\\uac15\\uc6d0\", \"\\uc804\\ub0a8\", \"\\uacbd\\ubd81\", \"\\uc804\\ub0a8\", \"\\uacbd\\ubd81\", \"\\uc11c\\uc6b8\", \"\\uc804\\ubd81\", \"\\ub300\\uad6c\", \"\\uc804\\ub0a8\", \"\\ucda9\\ubd81\", \"\\uacbd\\uae30\", \"\\uacbd\\uae30\", \"\\uacbd\\ub0a8\", \"\\uc804\\ub0a8\", \"\\uc11c\\uc6b8\", \"\\uc11c\\uc6b8\", \"\\uacbd\\uae30\", \"\\uacbd\\uae30\", \"\\uacbd\\ubd81\", \"\\uac15\\uc6d0\", \"\\uacbd\\ub0a8\", \"\\uc804\\ub0a8\", \"\\uacbd\\uae30\", \"\\uc11c\\uc6b8\", \"\\uc804\\ubd81\", \"\\uc778\\ucc9c\", \"\\uc11c\\uc6b8\", \"\\uc11c\\uc6b8\", \"\\ub300\\uad6c\", \"\\uc804\\ubd81\", \"\\uacbd\\ubd81\", \"\\uc11c\\uc6b8\", \"\\uc11c\\uc6b8\", \"\\uacbd\\uae30\", \"\\uacbd\\ub0a8\", \"\\uc778\\ucc9c\", \"\\uc11c\\uc6b8\", \"\\uacbd\\uae30\", \"\\uacbd\\uae30\", \"\\uc11c\\uc6b8\", \"\\ub300\\uc804\", \"\\uacbd\\uae30\", \"\\ucda9\\ub0a8\", \"\\uacbd\\ubd81\", \"\\ub300\\uc804\", \"\\uacbd\\uae30\", \"\\ub300\\uc804\", \"\\ub300\\uad6c\", \"\\uc804\\ub0a8\", \"\\ubd80\\uc0b0\", \"\\uac15\\uc6d0\", \"\\uacbd\\uae30\", \"\\uc11c\\uc6b8\", \"\\uc804\\ubd81\", \"\\uacbd\\uae30\", \"\\ucda9\\ubd81\", \"\\ubd80\\uc0b0\", \"\\ub300\\uc804\", \"\\uc804\\ub0a8\", \"\\uacbd\\uae30\", \"\\uc804\\ubd81\", \"\\uacbd\\ub0a8\", \"\\ucda9\\ub0a8\", \"\\uacbd\\ub0a8\", \"\\uc11c\\uc6b8\", \"\\uc6b8\\uc0b0\", \"\\ucda9\\ub0a8\", \"\\ucda9\\ubd81\", \"\\uc778\\ucc9c\", \"\\uc804\\ubd81\", \"\\ucda9\\ub0a8\", \"\\ucda9\\ubd81\", \"\\ucda9\\ub0a8\", \"\\ucda9\\ub0a8\", \"\\uacbd\\ubd81\", \"\\ubd80\\uc0b0\", \"\\ubd80\\uc0b0\", \"\\uc804\\ubd81\", \"\\uacbd\\ubd81\", \"\\uc804\\ub0a8\", \"\\ucda9\\ubd81\", \"\\ucda9\\ubd81\", \"\\uac15\\uc6d0\", \"\\uacbd\\uae30\", \"\\ucda9\\ubd81\", \"\\ucda9\\ubd81\", \"\\uc804\\ubd81\", \"\\uacbd\\uae30\", \"\\ub300\\uad6c\", \"\\uc6b8\\uc0b0\", \"\\uacbd\\uae30\", \"\\ucda9\\ubd81\", \"\\uacbd\\uae30\", \"\\uc804\\ub0a8\", \"\\uacbd\\uae30\", \"\\uc804\\ub0a8\", \"\\ucda9\\ub0a8\", \"\\uc11c\\uc6b8\", \"\\uacbd\\ub0a8\", \"\\uc11c\\uc6b8\", \"\\uacbd\\uae30\", \"\\uc11c\\uc6b8\", \"\\uacbd\\uae30\", \"\\ucda9\\ub0a8\", \"\\uc804\\ub0a8\", \"\\ubd80\\uc0b0\", \"\\uc804\\ubd81\", \"\\uacbd\\ubd81\", \"\\uc81c\\uc8fc\", \"\\uacbd\\uae30\", \"\\uc804\\ub0a8\", \"\\uc804\\ub0a8\", \"\\uacbd\\uae30\", \"\\uc81c\\uc8fc\", \"\\uad11\\uc8fc\", \"\\uc778\\ucc9c\", \"\\uc804\\ub0a8\", \"\\uacbd\\uae30\", \"\\uacbd\\ub0a8\", \"\\uacbd\\uae30\", \"\\uacbd\\ubd81\", \"\\uc11c\\uc6b8\", \"\\uc804\\ub0a8\", \"\\ub300\\uc804\", \"\\uc804\\ub0a8\", \"\\uacbd\\ubd81\", \"\\uacbd\\uae30\", \"\\uc804\\ubd81\", \"\\uacbd\\ubd81\", \"\\ucda9\\ub0a8\", \"\\uac15\\uc6d0\", \"\\uacbd\\ubd81\", \"\\uc804\\ub0a8\", \"\\uacbd\\uae30\", \"\\uacbd\\uae30\", \"\\ucda9\\ubd81\", \"\\ubd80\\uc0b0\", \"\\uacbd\\uae30\", \"\\uac15\\uc6d0\", \"\\uc804\\ub0a8\", \"\\uad11\\uc8fc\", \"\\uc804\\ub0a8\", \"\\uacbd\\uae30\", \"\\uc804\\ubd81\", \"\\uacbd\\ub0a8\", \"\\uac15\\uc6d0\", \"\\uacbd\\ubd81\", \"\\uacbd\\uae30\", \"\\uc778\\ucc9c\", \"\\uacbd\\uae30\", \"\\uacbd\\ub0a8\", \"\\uc11c\\uc6b8\", \"\\uacbd\\ub0a8\", \"\\uacbd\\uae30\", \"\\uacbd\\uae30\", \"\\uc804\\ub0a8\", \"\\uc804\\ubd81\", \"\\uc778\\ucc9c\", \"\\ubd80\\uc0b0\", \"\\uacbd\\uae30\", \"\\uacbd\\uae30\", \"\\uc81c\\uc8fc\", \"\\uc804\\ub0a8\", \"\\ucda9\\ubd81\", \"\\uac15\\uc6d0\", \"\\ucda9\\ub0a8\", \"\\uacbd\\ubd81\", \"\\uacbd\\uae30\", \"\\uc804\\ubd81\", \"\\uacbd\\ubd81\", \"\\uacbd\\uae30\", \"\\uacbd\\ub0a8\", \"\\ubd80\\uc0b0\", \"\\uc138\\uc885\", \"\\ucda9\\ub0a8\", \"\\ucda9\\ubd81\", \"\\uacbd\\uae30\", \"\\ubd80\\uc0b0\", \"\\uacbd\\ub0a8\", \"\\uac15\\uc6d0\", \"\\uc804\\ubd81\", \"\\uacbd\\uae30\", \"\\uacbd\\ub0a8\", \"\\uacbd\\uae30\", \"\\ucda9\\ub0a8\", \"\\uacbd\\ub0a8\", \"\\uc804\\ub0a8\", \"\\uc804\\ubd81\", \"\\uacbd\\uae30\", \"\\uacbd\\uae30\", \"\\uacbd\\ubd81\", \"\\uacbd\\uae30\", \"\\ubd80\\uc0b0\", \"\\uc11c\\uc6b8\", \"\\ucda9\\ub0a8\", \"\\uacbd\\ub0a8\", \"\\uacbd\\uae30\", \"\\uc11c\\uc6b8\", \"\\uc778\\ucc9c\", \"\\ucda9\\ubd81\", \"\\ucda9\\ubd81\", \"\\uacbd\\ubd81\", \"\\uc804\\ub0a8\", \"\\ubd80\\uc0b0\", \"\\uacbd\\uae30\", \"\\uacbd\\uae30\", \"\\uacbd\\uae30\", \"\\uacbd\\uae30\", \"\\uacbd\\ubd81\", \"\\uacbd\\ub0a8\", \"\\uacbd\\uae30\", \"\\ucda9\\ub0a8\", \"\\ub300\\uc804\", \"\\uac15\\uc6d0\", \"\\ucda9\\ubd81\", \"\\uc804\\ub0a8\", \"\\uacbd\\ub0a8\", \"\\uacbd\\ub0a8\", \"\\uc81c\\uc8fc\", \"\\uacbd\\ubd81\", \"\\uc804\\ub0a8\", \"\\uacbd\\ubd81\", \"\\ubd80\\uc0b0\", \"\\uc778\\ucc9c\", \"\\uc11c\\uc6b8\", \"\\uacbd\\ub0a8\", \"\\ub300\\uad6c\", \"\\ucda9\\ubd81\", \"\\uacbd\\uae30\", \"\\uc804\\ub0a8\", \"\\ub300\\uad6c\", \"\\ucda9\\ubd81\", \"\\uacbd\\ubd81\", \"\\uc804\\ub0a8\", \"\\uacbd\\ubd81\", \"\\uacbd\\ub0a8\", \"\\uc804\\ub0a8\", \"\\uacbd\\ub0a8\", \"\\uc778\\ucc9c\", \"\\uac15\\uc6d0\", \"\\ucda9\\ub0a8\", \"\\uc804\\ubd81\", \"\\uc804\\ubd81\", \"\\ub300\\uad6c\", \"\\ucda9\\ub0a8\", \"\\uacbd\\uae30\", \"\\uc778\\ucc9c\", \"\\uc804\\ub0a8\", \"\\uc804\\ubd81\", \"\\uad11\\uc8fc\", \"\\ub300\\uc804\", \"\\uc804\\ubd81\", \"\\uc6b8\\uc0b0\", \"\\uc804\\ub0a8\", \"\\uacbd\\ub0a8\", \"\\ub300\\uad6c\", \"\\uc804\\ub0a8\", \"\\ucda9\\ubd81\", \"\\uacbd\\ubd81\", \"\\uc778\\ucc9c\", \"\\uc804\\ubd81\", \"\\ucda9\\ub0a8\", \"\\ub300\\uad6c\", \"\\uc11c\\uc6b8\", \"\\ucda9\\ub0a8\", \"\\ucda9\\ubd81\", \"\\uac15\\uc6d0\", \"\\ucda9\\ubd81\", \"\\uacbd\\ubd81\", \"\\uc138\\uc885\", \"\\uc6b8\\uc0b0\", \"\\uacbd\\uae30\", \"\\uc804\\ub0a8\", \"\\uad11\\uc8fc\", \"\\uc11c\\uc6b8\", \"\\ucda9\\ub0a8\", \"\\uc804\\ubd81\", \"\\ucda9\\ub0a8\", \"\\uacbd\\ub0a8\", \"\\uacbd\\ubd81\", \"\\ucda9\\ub0a8\", \"\\ucda9\\ubd81\", \"\\uacbd\\ub0a8\", \"\\ucda9\\ub0a8\", \"\\ucda9\\ubd81\", \"\\uacbd\\ubd81\", \"\\ucda9\\ubd81\", \"\\uacbd\\uae30\", \"\\ub300\\uad6c\", \"\\ucda9\\ub0a8\", \"\\ubd80\\uc0b0\", \"\\uacbd\\uae30\", \"\\uacbd\\ub0a8\", \"\\uacbd\\ubd81\", \"\\uc804\\ubd81\", \"\\ubd80\\uc0b0\", \"\\uc11c\\uc6b8\", \"\\uac15\\uc6d0\", \"\\ucda9\\ubd81\", \"\\ucda9\\ub0a8\", \"\\uc804\\ubd81\", \"\\uacbd\\uae30\", \"\\uc11c\\uc6b8\", \"\\ucda9\\ubd81\", \"\\ucda9\\ub0a8\", \"\\uc11c\\uc6b8\", \"\\uac15\\uc6d0\", \"\\uc804\\ubd81\", \"\\uacbd\\ubd81\", \"\\uacbd\\ubd81\", \"\\uacbd\\uae30\", \"\\uc804\\ub0a8\", \"\\uac15\\uc6d0\", \"\\ucda9\\ubd81\", \"\\uacbd\\ubd81\", \"\\uacbd\\uae30\", \"\\uc11c\\uc6b8\", \"\\uc804\\ub0a8\", \"\\uc804\\ub0a8\", \"\\uacbd\\uae30\", \"\\uacbd\\ub0a8\", \"\\uacbd\\uae30\", \"\\uacbd\\ub0a8\", \"\\uad11\\uc8fc\", \"\\uacbd\\ub0a8\", \"\\ucda9\\ub0a8\", \"\\uacbd\\ubd81\", \"\\uc778\\ucc9c\", \"\\uacbd\\uae30\", \"\\ucda9\\ubd81\", \"\\uacbd\\ubd81\", \"\\uacbd\\uae30\", \"\\ub300\\uad6c\", \"\\uc81c\\uc8fc\", \"\\uc6b8\\uc0b0\", \"\\uac15\\uc6d0\", \"\\ucda9\\ubd81\", \"\\ucda9\\ub0a8\", \"\\uacbd\\ubd81\", \"\\uacbd\\uae30\", \"\\uacbd\\uae30\", \"\\uacbd\\uae30\", \"\\uc804\\ub0a8\", \"\\uc11c\\uc6b8\", \"\\uc778\\ucc9c\", \"\\uc804\\ubd81\", \"\\ub300\\uad6c\", \"\\uacbd\\ub0a8\", \"\\uc804\\ubd81\", \"\\uacbd\\ub0a8\", \"\\uc11c\\uc6b8\", \"\\uacbd\\uae30\", \"\\ubd80\\uc0b0\", \"\\uc804\\ub0a8\", \"\\ub300\\uad6c\", \"\\ucda9\\ub0a8\", \"\\uacbd\\ub0a8\", \"\\ucda9\\ub0a8\", \"\\uc11c\\uc6b8\", \"\\uacbd\\uae30\", \"\\uacbd\\ubd81\", \"\\uacbd\\ubd81\", \"\\uc804\\ub0a8\", \"\\ucda9\\ub0a8\", \"\\ucda9\\ub0a8\", \"\\ub300\\uc804\", \"\\uacbd\\uae30\", \"\\uacbd\\ub0a8\", \"\\uad11\\uc8fc\", \"\\uacbd\\uae30\", \"\\ucda9\\ub0a8\", \"\\uacbd\\ubd81\", \"\\uacbd\\uae30\", \"\\uc804\\ubd81\", \"\\uc11c\\uc6b8\", \"\\ucda9\\ubd81\", \"\\uc804\\ubd81\", \"\\ucda9\\ubd81\", \"\\ucda9\\ubd81\", \"\\uc778\\ucc9c\", \"\\uc804\\ubd81\", \"\\uacbd\\ubd81\", \"\\uc11c\\uc6b8\", \"\\uacbd\\ubd81\", \"\\uc11c\\uc6b8\", \"\\uc804\\ub0a8\", \"\\uacbd\\uae30\", \"\\uacbd\\ubd81\", \"\\uacbd\\uae30\", \"\\uacbd\\ubd81\", \"\\uacbd\\uae30\", \"\\ucda9\\ubd81\", \"\\uacbd\\uae30\", \"\\ubd80\\uc0b0\", \"\\uc804\\ubd81\", \"\\uc804\\ub0a8\", \"\\uacbd\\uae30\", \"\\ucda9\\ub0a8\", \"\\uc778\\ucc9c\", \"\\uc11c\\uc6b8\", \"\\uc804\\ub0a8\", \"\\uacbd\\uae30\", \"\\uacbd\\uae30\", \"\\uc804\\ub0a8\", \"\\uc778\\ucc9c\", \"\\uc11c\\uc6b8\", \"\\ucda9\\ub0a8\", \"\\uacbd\\uae30\", \"\\uacbd\\uae30\", \"\\uacbd\\ub0a8\", \"\\uc804\\ubd81\", \"\\uacbd\\uae30\", \"\\uc804\\ubd81\", \"\\uacbd\\ubd81\", \"\\uc804\\ubd81\", \"\\uc804\\ubd81\", \"\\uc804\\ub0a8\", \"\\uc804\\ubd81\", \"\\ub300\\uad6c\", \"\\uc778\\ucc9c\", \"\\uc11c\\uc6b8\", \"\\uc138\\uc885\", \"\\uc778\\ucc9c\", \"\\uc804\\ub0a8\", \"\\uacbd\\ubd81\", \"\\uacbd\\uae30\", \"\\ucda9\\ub0a8\", \"\\ub300\\uad6c\", \"\\ubd80\\uc0b0\", \"\\ub300\\uc804\", \"\\uacbd\\ub0a8\", \"\\uc6b8\\uc0b0\", \"\\uc81c\\uc8fc\", \"\\ub300\\uc804\", \"\\ubd80\\uc0b0\", \"\\uacbd\\ubd81\", \"\\uacbd\\uae30\", \"\\uacbd\\ub0a8\", \"\\uc81c\\uc8fc\", \"\\uacbd\\ub0a8\", \"\\uacbd\\ub0a8\", \"\\ucda9\\ubd81\", \"\\uacbd\\ubd81\", \"\\uc11c\\uc6b8\", \"\\uacbd\\uae30\", \"\\ucda9\\ubd81\", \"\\uc804\\ubd81\", \"\\uad11\\uc8fc\", \"\\uc81c\\uc8fc\", \"\\uacbd\\uae30\", \"\\uacbd\\uae30\", \"\\uacbd\\uae30\", \"\\uc804\\ubd81\", \"\\uacbd\\ub0a8\", \"\\uac15\\uc6d0\", \"\\uacbd\\uae30\", \"\\uacbd\\uae30\", \"\\ucda9\\ubd81\", \"\\uc6b8\\uc0b0\", \"\\ucda9\\ubd81\", \"\\uacbd\\ub0a8\", \"\\ubd80\\uc0b0\", \"\\ucda9\\ub0a8\", \"\\uc804\\ubd81\", \"\\ubd80\\uc0b0\", \"\\ucda9\\ub0a8\", \"\\uacbd\\ubd81\", \"\\uc804\\ubd81\", \"\\uac15\\uc6d0\", \"\\uacbd\\ubd81\", \"\\uc138\\uc885\", \"\\uc804\\ub0a8\", \"\\uad11\\uc8fc\", \"\\uacbd\\uae30\", \"\\uc11c\\uc6b8\", \"\\uacbd\\ubd81\", \"\\uc81c\\uc8fc\", \"\\ub300\\uad6c\", \"\\uc778\\ucc9c\", \"\\ucda9\\ubd81\", \"\\uad11\\uc8fc\", \"\\uc81c\\uc8fc\", \"\\ucda9\\ubd81\", \"\\uacbd\\ubd81\", \"\\ucda9\\ubd81\", \"\\uc804\\ub0a8\", \"\\ucda9\\ub0a8\", \"\\uac15\\uc6d0\", \"\\uacbd\\uae30\", \"\\uacbd\\ub0a8\", \"\\uc11c\\uc6b8\", \"\\ub300\\uad6c\", \"\\uac15\\uc6d0\", \"\\uc11c\\uc6b8\", \"\\uacbd\\ubd81\", \"\\uacbd\\ubd81\", \"\\ucda9\\ub0a8\", \"\\ubd80\\uc0b0\", \"\\uacbd\\ubd81\", \"\\uc804\\ub0a8\", \"\\uacbd\\ubd81\", \"\\uacbd\\uae30\", \"\\uacbd\\ub0a8\", \"\\ucda9\\ub0a8\", \"\\uad11\\uc8fc\", \"\\uc804\\ub0a8\", \"\\uacbd\\uae30\", \"\\uc804\\ub0a8\", \"\\ucda9\\ub0a8\", \"\\uc6b8\\uc0b0\", \"\\uacbd\\uae30\", \"\\uacbd\\uae30\", \"\\uacbd\\uae30\", \"\\uc804\\ub0a8\", \"\\uacbd\\ub0a8\", \"\\ucda9\\ub0a8\", \"\\uc11c\\uc6b8\", \"\\uacbd\\uae30\", \"\\ub300\\uad6c\", \"\\uacbd\\ubd81\", \"\\uacbd\\ub0a8\", \"\\uacbd\\ubd81\", \"\\ucda9\\ubd81\", \"\\uac15\\uc6d0\", \"\\uacbd\\ub0a8\", \"\\uc804\\ub0a8\", \"\\uc804\\ub0a8\", \"\\uc138\\uc885\", \"\\uacbd\\uae30\", \"\\uacbd\\ubd81\", \"\\ucda9\\ub0a8\", \"\\uacbd\\uae30\", \"\\uacbd\\uae30\", \"\\uc804\\ubd81\", \"\\uac15\\uc6d0\", \"\\uacbd\\uae30\", \"\\ub300\\uc804\", \"\\ubd80\\uc0b0\", \"\\uacbd\\ubd81\", \"\\ub300\\uad6c\", \"\\uacbd\\ub0a8\", \"\\uac15\\uc6d0\", \"\\uacbd\\ub0a8\", \"\\ub300\\uad6c\", \"\\uac15\\uc6d0\", \"\\uc804\\ub0a8\", \"\\uacbd\\uae30\", \"\\ub300\\uc804\", \"\\uc11c\\uc6b8\", \"\\uacbd\\ubd81\", \"\\uacbd\\ub0a8\", \"\\ucda9\\ubd81\", \"\\ucda9\\ub0a8\", \"\\uacbd\\uae30\", \"\\ubd80\\uc0b0\", \"\\ucda9\\ub0a8\", \"\\uacbd\\ubd81\", \"\\uacbd\\uae30\", \"\\ub300\\uc804\", \"\\uacbd\\uae30\", \"\\uacbd\\ub0a8\", \"\\ubd80\\uc0b0\", \"\\uacbd\\uae30\", \"\\ucda9\\ub0a8\", \"\\uacbd\\uae30\", \"\\uc804\\ub0a8\", \"\\ucda9\\ubd81\", \"\\uacbd\\ub0a8\", \"\\uad11\\uc8fc\", \"\\ucda9\\ubd81\", \"\\ucda9\\ub0a8\", \"\\uc778\\ucc9c\", \"\\uacbd\\uae30\", \"\\uc11c\\uc6b8\", \"\\uc778\\ucc9c\", \"\\uc804\\ubd81\", \"\\uac15\\uc6d0\", \"\\uc804\\ub0a8\", \"\\ucda9\\ubd81\", \"\\ubd80\\uc0b0\", \"\\uc804\\ubd81\", \"\\uacbd\\uae30\", \"\\uc804\\ubd81\", \"\\uacbd\\uae30\", \"\\uacbd\\ub0a8\", \"\\ucda9\\ubd81\", \"\\uc778\\ucc9c\", \"\\uacbd\\ub0a8\", \"\\ub300\\uc804\", \"\\uac15\\uc6d0\", \"\\uc804\\ubd81\", \"\\ub300\\uad6c\", \"\\uc804\\ubd81\", \"\\uacbd\\ubd81\", \"\\uc6b8\\uc0b0\", \"\\ucda9\\ubd81\", \"\\uac15\\uc6d0\", \"\\uacbd\\uae30\", \"\\uacbd\\ub0a8\", \"\\uacbd\\uae30\", \"\\ub300\\uad6c\", \"\\uc11c\\uc6b8\", \"\\uc778\\ucc9c\", \"\\uc804\\ub0a8\", \"\\uac15\\uc6d0\", \"\\uc804\\ub0a8\", \"\\ub300\\uad6c\", \"\\uacbd\\ub0a8\", \"\\uc778\\ucc9c\", \"\\ucda9\\ubd81\", \"\\uacbd\\uae30\", \"\\ucda9\\ub0a8\", \"\\uacbd\\ub0a8\", \"\\ubd80\\uc0b0\", \"\\uac15\\uc6d0\", \"\\ucda9\\ub0a8\", \"\\uc804\\ubd81\", \"\\ubd80\\uc0b0\", \"\\ub300\\uc804\", \"\\uc778\\ucc9c\", \"\\uacbd\\ubd81\", \"\\uacbd\\ubd81\", \"\\uacbd\\ubd81\", \"\\uacbd\\uae30\", \"\\ucda9\\ub0a8\", \"\\uacbd\\ub0a8\", \"\\uc804\\ubd81\", \"\\ub300\\uc804\", \"\\uacbd\\uae30\", \"\\uc804\\ub0a8\", \"\\uc778\\ucc9c\", \"\\ucda9\\ubd81\", \"\\ucda9\\ub0a8\", \"\\uacbd\\uae30\", \"\\ucda9\\ub0a8\", \"\\uacbd\\uae30\", \"\\uacbd\\ubd81\", \"\\uc804\\ub0a8\", \"\\ucda9\\ubd81\", \"\\ubd80\\uc0b0\", \"\\ub300\\uc804\", \"\\uacbd\\ubd81\", \"\\uacbd\\ubd81\", \"\\uc11c\\uc6b8\", \"\\ucda9\\ub0a8\", \"\\uacbd\\ubd81\", \"\\uc11c\\uc6b8\", \"\\uc804\\ub0a8\", \"\\ub300\\uc804\", \"\\uad11\\uc8fc\", \"\\uacbd\\uae30\", \"\\uc778\\ucc9c\", \"\\uad11\\uc8fc\", \"\\uc11c\\uc6b8\", \"\\ucda9\\ub0a8\", \"\\uacbd\\uae30\", \"\\uac15\\uc6d0\", \"\\ucda9\\ub0a8\", \"\\ucda9\\ubd81\", \"\\ucda9\\ubd81\", \"\\uc778\\ucc9c\", \"\\uc81c\\uc8fc\", \"\\uacbd\\uae30\", \"\\ucda9\\ub0a8\", \"\\uacbd\\uae30\", \"\\uacbd\\ubd81\", \"\\uacbd\\uae30\", \"\\ubd80\\uc0b0\", \"\\ucda9\\ubd81\", \"\\uc6b8\\uc0b0\", \"\\ucda9\\ub0a8\", \"\\uacbd\\uae30\", \"\\uacbd\\ub0a8\", \"\\ub300\\uad6c\", \"\\ucda9\\ub0a8\", \"\\ub300\\uad6c\", \"\\uacbd\\ubd81\", \"\\ub300\\uad6c\", \"\\uc11c\\uc6b8\", \"\\uacbd\\uae30\", \"\\uc804\\ub0a8\", \"\\uacbd\\uae30\", \"\\uc804\\ub0a8\", \"\\uacbd\\ubd81\", \"\\uacbd\\ubd81\", \"\\uacbd\\ub0a8\", \"\\ucda9\\ub0a8\", \"\\uacbd\\uae30\", \"\\uacbd\\uae30\", \"\\uc804\\ub0a8\", \"\\uacbd\\ub0a8\", \"\\uacbd\\ub0a8\", \"\\ucda9\\ub0a8\", \"\\ub300\\uc804\", \"\\uacbd\\uae30\", \"\\uac15\\uc6d0\", \"\\ucda9\\ub0a8\", \"\\ubd80\\uc0b0\", \"\\uac15\\uc6d0\", \"\\uacbd\\ub0a8\", \"\\uc81c\\uc8fc\", \"\\uc11c\\uc6b8\", \"\\uc11c\\uc6b8\", \"\\ub300\\uad6c\", \"\\uc778\\ucc9c\", \"\\uc11c\\uc6b8\", \"\\uacbd\\ubd81\", \"\\uc804\\ubd81\", \"\\ubd80\\uc0b0\", \"\\uad11\\uc8fc\", \"\\uc804\\ubd81\", \"\\uc11c\\uc6b8\", \"\\uacbd\\ubd81\", \"\\uacbd\\ub0a8\", \"\\uc804\\ubd81\", \"\\ucda9\\ub0a8\", \"\\ucda9\\ub0a8\", \"\\uacbd\\ubd81\", \"\\uc11c\\uc6b8\", \"\\uacbd\\ubd81\", \"\\uacbd\\uae30\", \"\\uacbd\\ub0a8\", \"\\ucda9\\ub0a8\", \"\\ucda9\\ub0a8\", \"\\uc11c\\uc6b8\", \"\\uacbd\\uae30\", \"\\uacbd\\uae30\", \"\\uac15\\uc6d0\", \"\\ubd80\\uc0b0\", \"\\uc11c\\uc6b8\", \"\\ub300\\uc804\", \"\\uc804\\ub0a8\", \"\\uacbd\\ubd81\", \"\\uac15\\uc6d0\", \"\\uacbd\\ubd81\", \"\\uc804\\ubd81\", \"\\uc804\\ub0a8\", \"\\uacbd\\uae30\", \"\\uc11c\\uc6b8\", \"\\ucda9\\ub0a8\", \"\\uc778\\ucc9c\", \"\\ubd80\\uc0b0\", \"\\uc778\\ucc9c\", \"\\uc804\\ubd81\", \"\\uac15\\uc6d0\", \"\\uacbd\\uae30\", \"\\ubd80\\uc0b0\", \"\\uad11\\uc8fc\", \"\\ucda9\\ub0a8\", \"\\uacbd\\ub0a8\", \"\\uacbd\\ubd81\", \"\\ucda9\\ub0a8\", \"\\ucda9\\ubd81\", \"\\ucda9\\ub0a8\", \"\\ub300\\uc804\", \"\\uc804\\ubd81\", \"\\uc11c\\uc6b8\", \"\\ucda9\\ubd81\", \"\\ucda9\\ubd81\", \"\\uacbd\\ub0a8\", \"\\ub300\\uad6c\", \"\\uc804\\ub0a8\", \"\\uad11\\uc8fc\", \"\\uacbd\\uae30\", \"\\uc804\\ubd81\", \"\\uc11c\\uc6b8\", \"\\uac15\\uc6d0\", \"\\uacbd\\ub0a8\", \"\\uacbd\\uae30\", \"\\uacbd\\ubd81\", \"\\uacbd\\uae30\", \"\\uacbd\\uae30\", \"\\uacbd\\ubd81\", \"\\uacbd\\ub0a8\", \"\\uac15\\uc6d0\", \"\\uacbd\\uae30\", \"\\uacbd\\ub0a8\", \"\\ubd80\\uc0b0\", \"\\ucda9\\ubd81\", \"\\uc804\\ubd81\", \"\\ubd80\\uc0b0\", \"\\uc778\\ucc9c\", \"\\ub300\\uc804\", \"\\uacbd\\uae30\", \"\\uc804\\ub0a8\", \"\\uc81c\\uc8fc\", \"\\uacbd\\ub0a8\", \"\\ub300\\uad6c\", \"\\ubd80\\uc0b0\", \"\\uacbd\\uae30\", \"\\uac15\\uc6d0\", \"\\uc778\\ucc9c\", \"\\uc804\\ub0a8\", \"\\uacbd\\uae30\", \"\\uc11c\\uc6b8\", \"\\ucda9\\ubd81\", \"\\uc804\\ub0a8\", \"\\uc778\\ucc9c\", \"\\ub300\\uad6c\", \"\\ucda9\\ub0a8\", \"\\uacbd\\ub0a8\", \"\\uc11c\\uc6b8\", \"\\uc804\\ubd81\", \"\\uc11c\\uc6b8\", \"\\uc804\\ub0a8\", \"\\uacbd\\ubd81\", \"\\uacbd\\ubd81\", \"\\ucda9\\ubd81\", \"\\uc11c\\uc6b8\", \"\\uc804\\ubd81\", \"\\uc804\\ubd81\", \"\\uc778\\ucc9c\", \"\\uc778\\ucc9c\", \"\\uc804\\ubd81\", \"\\ucda9\\ub0a8\", \"\\ub300\\uad6c\", \"\\uc804\\ub0a8\", \"\\uacbd\\ub0a8\", \"\\ubd80\\uc0b0\", \"\\uc11c\\uc6b8\", \"\\uacbd\\ubd81\", \"\\uacbd\\ubd81\", \"\\uc804\\ubd81\", \"\\uacbd\\uae30\", \"\\uc804\\ub0a8\", \"\\uc804\\ub0a8\", \"\\uc11c\\uc6b8\", \"\\ubd80\\uc0b0\", \"\\uacbd\\uae30\", \"\\uacbd\\uae30\", \"\\uacbd\\uae30\", \"\\uacbd\\uae30\", \"\\uad11\\uc8fc\", \"\\uacbd\\ubd81\", \"\\ucda9\\ub0a8\", \"\\uacbd\\ubd81\", \"\\ubd80\\uc0b0\", \"\\uacbd\\uae30\", \"\\ucda9\\ub0a8\", \"\\uac15\\uc6d0\", \"\\uc804\\ubd81\", \"\\uacbd\\uae30\", \"\\uc804\\ubd81\", \"\\ucda9\\ubd81\", \"\\uc11c\\uc6b8\", \"\\uc804\\ubd81\", \"\\uacbd\\ubd81\", \"\\uad11\\uc8fc\", \"\\uacbd\\ubd81\", \"\\uacbd\\ubd81\", \"\\uac15\\uc6d0\", \"\\uacbd\\ub0a8\", \"\\ucda9\\ub0a8\", \"\\uacbd\\uae30\", \"\\uc11c\\uc6b8\", \"\\uacbd\\ubd81\", \"\\uc804\\ubd81\", \"\\uac15\\uc6d0\", \"\\uacbd\\uae30\", \"\\uacbd\\uae30\", \"\\uc6b8\\uc0b0\", \"\\uc804\\ub0a8\", \"\\uacbd\\ub0a8\", \"\\uac15\\uc6d0\", \"\\uc804\\ubd81\", \"\\uacbd\\uae30\", \"\\uacbd\\ubd81\", \"\\uacbd\\ubd81\", \"\\uac15\\uc6d0\", \"\\uc778\\ucc9c\", \"\\uc804\\ubd81\", \"\\ub300\\uad6c\", \"\\uc804\\ub0a8\", \"\\ucda9\\ubd81\", \"\\uc804\\ubd81\", \"\\uc804\\ub0a8\", \"\\uacbd\\ub0a8\", \"\\ucda9\\ub0a8\", \"\\uc804\\ubd81\", \"\\ucda9\\ubd81\", \"\\uc11c\\uc6b8\", \"\\uacbd\\ub0a8\", \"\\uc11c\\uc6b8\", \"\\uac15\\uc6d0\", \"\\uacbd\\ub0a8\", \"\\uacbd\\uae30\", \"\\uacbd\\ub0a8\", \"\\ucda9\\ub0a8\", \"\\uc81c\\uc8fc\", \"\\uacbd\\uae30\", \"\\uc804\\ub0a8\", \"\\uacbd\\ub0a8\", \"\\ucda9\\ub0a8\", \"\\uc11c\\uc6b8\", \"\\uacbd\\ubd81\", \"\\uacbd\\uae30\", \"\\uc11c\\uc6b8\", \"\\uacbd\\uae30\", \"\\ucda9\\ub0a8\", \"\\uc804\\ubd81\", \"\\uacbd\\ubd81\", \"\\uacbd\\ub0a8\", \"\\uacbd\\ub0a8\", \"\\uacbd\\uae30\", \"\\uacbd\\uae30\", \"\\ubd80\\uc0b0\", \"\\uc804\\ubd81\", \"\\uc11c\\uc6b8\", \"\\ucda9\\ub0a8\", \"\\uc81c\\uc8fc\", \"\\uacbd\\ubd81\", \"\\uacbd\\ub0a8\", \"\\uac15\\uc6d0\", \"\\uacbd\\ubd81\", \"\\uacbd\\uae30\", \"\\uac15\\uc6d0\", \"\\uc804\\ub0a8\", \"\\uacbd\\uae30\", \"\\ucda9\\ubd81\", \"\\ucda9\\ub0a8\", \"\\uc804\\ub0a8\", \"\\uacbd\\ubd81\", \"\\uad11\\uc8fc\", \"\\uc6b8\\uc0b0\", \"\\ucda9\\ubd81\", \"\\uc804\\ubd81\", \"\\uc804\\ubd81\", \"\\uc804\\ub0a8\", \"\\uacbd\\uae30\", \"\\uacbd\\ub0a8\", \"\\ub300\\uc804\", \"\\uc778\\ucc9c\", \"\\ucda9\\ubd81\", \"\\uc138\\uc885\", \"\\uc804\\ubd81\", \"\\ub300\\uc804\", \"\\uacbd\\ub0a8\", \"\\ucda9\\ubd81\", \"\\uacbd\\uae30\", \"\\ucda9\\ubd81\", \"\\uc11c\\uc6b8\", \"\\uacbd\\ub0a8\", \"\\ucda9\\ub0a8\", \"\\ucda9\\ub0a8\", \"\\ucda9\\ub0a8\", \"\\ubd80\\uc0b0\", \"\\ub300\\uc804\", \"\\ub300\\uc804\", \"\\uc6b8\\uc0b0\", \"\\uacbd\\uae30\", \"\\uc11c\\uc6b8\", \"\\ucda9\\ub0a8\", \"\\uacbd\\uae30\", \"\\uc11c\\uc6b8\", \"\\uad11\\uc8fc\", \"\\uacbd\\ubd81\", \"\\uacbd\\uae30\", \"\\ucda9\\ub0a8\", \"\\uc81c\\uc8fc\", \"\\uad11\\uc8fc\", \"\\uc778\\ucc9c\", \"\\uc804\\ub0a8\", \"\\uacbd\\ubd81\", \"\\uc804\\ub0a8\", \"\\uacbd\\ubd81\", \"\\uacbd\\uae30\", \"\\uc11c\\uc6b8\", \"\\ucda9\\ub0a8\", \"\\ub300\\uc804\", \"\\uacbd\\ub0a8\", \"\\uc804\\ub0a8\", \"\\uc11c\\uc6b8\", \"\\uc804\\ubd81\", \"\\uc11c\\uc6b8\", \"\\uacbd\\ub0a8\", \"\\uacbd\\uae30\", \"\\ucda9\\ub0a8\", \"\\uacbd\\uae30\", \"\\uacbd\\uae30\", \"\\uacbd\\ubd81\", \"\\uacbd\\ubd81\", \"\\ucda9\\ub0a8\", \"\\uc804\\ub0a8\", \"\\uc11c\\uc6b8\", \"\\uad11\\uc8fc\", \"\\ucda9\\ubd81\", \"\\uad11\\uc8fc\", \"\\ubd80\\uc0b0\", \"\\uc804\\ub0a8\", \"\\uac15\\uc6d0\", \"\\ucda9\\ubd81\", \"\\uacbd\\uae30\", \"\\uacbd\\ub0a8\", \"\\ucda9\\ubd81\", \"\\ucda9\\ubd81\", \"\\uc804\\ubd81\", \"\\uc6b8\\uc0b0\", \"\\uc11c\\uc6b8\", \"\\uc804\\ub0a8\", \"\\uacbd\\ub0a8\", \"\\ucda9\\ubd81\", \"\\uac15\\uc6d0\", \"\\uac15\\uc6d0\", \"\\ucda9\\ub0a8\", \"\\uc11c\\uc6b8\", \"\\ucda9\\ub0a8\", \"\\uacbd\\ub0a8\", \"\\uacbd\\uae30\", \"\\uc804\\ub0a8\", \"\\uacbd\\uae30\", \"\\uc778\\ucc9c\", \"\\ucda9\\ub0a8\", \"\\uacbd\\ub0a8\", \"\\uacbd\\uae30\", \"\\uc11c\\uc6b8\", \"\\uacbd\\ubd81\", \"\\ubd80\\uc0b0\", \"\\uacbd\\uae30\", \"\\ubd80\\uc0b0\", \"\\uacbd\\ubd81\", \"\\uc804\\ub0a8\", \"\\uc81c\\uc8fc\", \"\\uad11\\uc8fc\", \"\\uacbd\\uae30\", \"\\uacbd\\ub0a8\", \"\\uacbd\\ub0a8\", \"\\ub300\\uc804\", \"\\ubd80\\uc0b0\", \"\\uc81c\\uc8fc\", \"\\uacbd\\uae30\", \"\\ucda9\\ubd81\", \"\\uc778\\ucc9c\", \"\\uc804\\ubd81\", \"\\uacbd\\ubd81\", \"\\uc81c\\uc8fc\", \"\\uc11c\\uc6b8\", \"\\ub300\\uc804\", \"\\uacbd\\ub0a8\", \"\\uacbd\\ub0a8\", \"\\uc11c\\uc6b8\", \"\\ub300\\uad6c\", \"\\uc804\\ub0a8\", \"\\uacbd\\ubd81\", \"\\uacbd\\ubd81\", \"\\ucda9\\ub0a8\", \"\\ub300\\uad6c\", \"\\uacbd\\ubd81\", \"\\uc778\\ucc9c\", \"\\uacbd\\ubd81\", \"\\ub300\\uad6c\", \"\\uacbd\\uae30\", \"\\uac15\\uc6d0\", \"\\uc11c\\uc6b8\", \"\\uacbd\\uae30\", \"\\uacbd\\uae30\", \"\\uacbd\\uae30\", \"\\uac15\\uc6d0\", \"\\uacbd\\ub0a8\", \"\\uc804\\ub0a8\", \"\\uacbd\\ubd81\", \"\\uacbd\\uae30\", \"\\uacbd\\uae30\", \"\\uac15\\uc6d0\", \"\\uc804\\ubd81\", \"\\ucda9\\ub0a8\", \"\\uacbd\\ub0a8\", \"\\ub300\\uad6c\", \"\\uacbd\\uae30\", \"\\uc11c\\uc6b8\", \"\\uc778\\ucc9c\", \"\\uacbd\\uae30\", \"\\ucda9\\ub0a8\", \"\\ucda9\\ub0a8\", \"\\uac15\\uc6d0\", \"\\uacbd\\uae30\", \"\\uac15\\uc6d0\", \"\\uac15\\uc6d0\", \"\\ub300\\uc804\", \"\\ucda9\\ub0a8\", \"\\ucda9\\ub0a8\", \"\\uc804\\ubd81\", \"\\uacbd\\ubd81\", \"\\uacbd\\uae30\", \"\\uacbd\\ub0a8\", \"\\uc11c\\uc6b8\", \"\\uacbd\\ubd81\", \"\\ubd80\\uc0b0\", \"\\uac15\\uc6d0\", \"\\uacbd\\ub0a8\", \"\\uc11c\\uc6b8\", \"\\uc11c\\uc6b8\", \"\\uc11c\\uc6b8\", \"\\uacbd\\ubd81\", \"\\uc778\\ucc9c\", \"\\uacbd\\uae30\", \"\\uc11c\\uc6b8\", \"\\ucda9\\ub0a8\", \"\\uacbd\\ubd81\", \"\\uacbd\\uae30\", \"\\uacbd\\ubd81\", \"\\uacbd\\ubd81\", \"\\uacbd\\uae30\", \"\\uac15\\uc6d0\", \"\\ub300\\uad6c\", \"\\ubd80\\uc0b0\", \"\\uc804\\ubd81\", \"\\uacbd\\ubd81\", \"\\uacbd\\uae30\", \"\\uc804\\ub0a8\", \"\\ub300\\uad6c\", \"\\uc804\\ubd81\", \"\\uc804\\ub0a8\", \"\\uacbd\\uae30\", \"\\uacbd\\ubd81\", \"\\uc804\\ub0a8\", \"\\ubd80\\uc0b0\", \"\\uacbd\\ub0a8\", \"\\ucda9\\ubd81\", \"\\uacbd\\ubd81\", \"\\ub300\\uad6c\", \"\\uacbd\\ub0a8\", \"\\uacbd\\uae30\", \"\\uc11c\\uc6b8\", \"\\uacbd\\ubd81\", \"\\uc804\\ubd81\", \"\\ucda9\\ub0a8\", \"\\uc804\\ub0a8\", \"\\uc81c\\uc8fc\", \"\\ucda9\\ub0a8\", \"\\uad11\\uc8fc\", \"\\ubd80\\uc0b0\", \"\\ucda9\\ub0a8\", \"\\uacbd\\ubd81\", \"\\uacbd\\uae30\", \"\\uacbd\\ubd81\", \"\\ub300\\uc804\", \"\\uacbd\\ub0a8\", \"\\uc804\\ub0a8\", \"\\uacbd\\uae30\", \"\\uc804\\ubd81\", \"\\uacbd\\ubd81\", \"\\uc804\\ub0a8\", \"\\uac15\\uc6d0\", \"\\uc6b8\\uc0b0\", \"\\uacbd\\ub0a8\", \"\\uacbd\\ubd81\", \"\\uc804\\ub0a8\", \"\\uc804\\ub0a8\", \"\\uacbd\\uae30\", \"\\uc804\\ubd81\", \"\\uc81c\\uc8fc\", \"\\uacbd\\uae30\", \"\\uacbd\\uae30\", \"\\uad11\\uc8fc\", \"\\uc804\\ubd81\", \"\\uc138\\uc885\", \"\\uacbd\\uae30\", \"\\uc804\\ubd81\", \"\\uc804\\ub0a8\", \"\\uc804\\ubd81\", \"\\uc11c\\uc6b8\", \"\\ucda9\\ub0a8\", \"\\ubd80\\uc0b0\", \"\\uacbd\\uae30\", \"\\uc11c\\uc6b8\", \"\\uacbd\\ub0a8\", \"\\uacbd\\uae30\", \"\\ub300\\uc804\", \"\\uacbd\\uae30\", \"\\uc11c\\uc6b8\", \"\\uac15\\uc6d0\", \"\\ucda9\\ub0a8\", \"\\ucda9\\ubd81\", \"\\uac15\\uc6d0\", \"\\uacbd\\ub0a8\", \"\\uacbd\\uae30\", \"\\uc11c\\uc6b8\", \"\\uacbd\\ub0a8\", \"\\ub300\\uad6c\", \"\\uac15\\uc6d0\", \"\\ub300\\uad6c\", \"\\uacbd\\uae30\", \"\\uacbd\\uae30\", \"\\ucda9\\ubd81\", \"\\uacbd\\uae30\", \"\\ucda9\\ub0a8\", \"\\uc11c\\uc6b8\", \"\\uacbd\\uae30\", \"\\uc804\\ub0a8\", \"\\uacbd\\uae30\", \"\\uacbd\\ub0a8\", \"\\uc11c\\uc6b8\", \"\\uc804\\ubd81\", \"\\uc804\\ub0a8\", \"\\uc6b8\\uc0b0\", \"\\uacbd\\ub0a8\", \"\\ucda9\\ub0a8\", \"\\uacbd\\ubd81\", \"\\uacbd\\uae30\", \"\\uac15\\uc6d0\", \"\\ucda9\\ubd81\", \"\\ub300\\uad6c\", \"\\ucda9\\ubd81\", \"\\ub300\\uc804\", \"\\uacbd\\ub0a8\", \"\\uacbd\\uae30\", \"\\uc11c\\uc6b8\", \"\\uc804\\ubd81\", \"\\uc778\\ucc9c\", \"\\uacbd\\uae30\", \"\\uacbd\\uae30\", \"\\uac15\\uc6d0\", \"\\uc81c\\uc8fc\", \"\\ub300\\uad6c\", \"\\uac15\\uc6d0\", \"\\uacbd\\ub0a8\", \"\\uc778\\ucc9c\", \"\\uc804\\ubd81\", \"\\ucda9\\ub0a8\", \"\\uacbd\\ub0a8\", \"\\uacbd\\ub0a8\", \"\\uacbd\\ub0a8\", \"\\uacbd\\uae30\", \"\\uacbd\\uae30\", \"\\uc778\\ucc9c\", \"\\uc11c\\uc6b8\", \"\\uc804\\ubd81\", \"\\uacbd\\ubd81\", \"\\uacbd\\uae30\", \"\\uacbd\\ubd81\", \"\\uacbd\\ubd81\", \"\\uc11c\\uc6b8\", \"\\uacbd\\ub0a8\", \"\\uacbd\\ubd81\", \"\\uc804\\ub0a8\", \"\\uc778\\ucc9c\", \"\\uc804\\ub0a8\", \"\\uacbd\\ubd81\", \"\\uc778\\ucc9c\", \"\\uc804\\ubd81\", \"\\ucda9\\ub0a8\", \"\\uc804\\ub0a8\", \"\\uacbd\\uae30\", \"\\uc804\\ubd81\", \"\\uacbd\\uae30\", \"\\uac15\\uc6d0\", \"\\uc804\\ubd81\", \"\\uc804\\ub0a8\", \"\\ucda9\\ub0a8\", \"\\ucda9\\ub0a8\", \"\\uc11c\\uc6b8\", \"\\uac15\\uc6d0\", \"\\ucda9\\ubd81\", \"\\uc804\\ub0a8\", \"\\uacbd\\uae30\", \"\\uacbd\\uae30\", \"\\uacbd\\uae30\", \"\\uacbd\\uae30\", \"\\uc11c\\uc6b8\", \"\\ucda9\\ub0a8\", \"\\uc778\\ucc9c\", \"\\uac15\\uc6d0\", \"\\uacbd\\uae30\", \"\\ucda9\\ub0a8\", \"\\uc804\\ubd81\", \"\\ub300\\uc804\", \"\\uacbd\\uae30\", \"\\uc804\\ubd81\", \"\\uacbd\\uae30\", \"\\uc804\\ub0a8\", \"\\uc11c\\uc6b8\", \"\\ucda9\\ub0a8\", \"\\uc11c\\uc6b8\", \"\\ub300\\uc804\", \"\\uc11c\\uc6b8\", \"\\uc11c\\uc6b8\", \"\\uacbd\\ub0a8\", \"\\uc11c\\uc6b8\", \"\\ucda9\\ub0a8\", \"\\uacbd\\uae30\", \"\\uc11c\\uc6b8\", \"\\uc804\\ubd81\", \"\\uac15\\uc6d0\", \"\\ucda9\\ub0a8\", \"\\uc804\\ubd81\", \"\\ucda9\\ubd81\", \"\\uac15\\uc6d0\", \"\\uc11c\\uc6b8\", \"\\uc778\\ucc9c\", \"\\uc778\\ucc9c\", \"\\uad11\\uc8fc\", \"\\ucda9\\ub0a8\", \"\\uacbd\\ub0a8\", \"\\uacbd\\ub0a8\", \"\\uacbd\\ubd81\", \"\\uc804\\ubd81\", \"\\uacbd\\uae30\", \"\\uc6b8\\uc0b0\", \"\\uacbd\\ubd81\", \"\\uc804\\ub0a8\", \"\\ucda9\\ubd81\", \"\\uc804\\ubd81\", \"\\uacbd\\ub0a8\", \"\\ucda9\\ubd81\", \"\\uc6b8\\uc0b0\", \"\\uc804\\ub0a8\", \"\\uacbd\\ub0a8\", \"\\uacbd\\uae30\", \"\\uacbd\\uae30\", \"\\uac15\\uc6d0\", \"\\uc11c\\uc6b8\", \"\\uc11c\\uc6b8\", \"\\ucda9\\ub0a8\", \"\\uacbd\\uae30\", \"\\uacbd\\ub0a8\", \"\\uacbd\\ubd81\", \"\\uacbd\\uae30\", \"\\uacbd\\ub0a8\", \"\\uc804\\ub0a8\", \"\\uc11c\\uc6b8\", \"\\uacbd\\ubd81\", \"\\uacbd\\uae30\", \"\\uacbd\\uae30\", \"\\uc11c\\uc6b8\", \"\\ub300\\uad6c\", \"\\ub300\\uad6c\", \"\\uac15\\uc6d0\", \"\\ucda9\\ub0a8\", \"\\uacbd\\ub0a8\", \"\\uc804\\ub0a8\", \"\\uc11c\\uc6b8\", \"\\ucda9\\ub0a8\", \"\\uc804\\ub0a8\", \"\\uc6b8\\uc0b0\", \"\\ucda9\\ub0a8\", \"\\uacbd\\uae30\", \"\\uacbd\\ub0a8\", \"\\uacbd\\uae30\", \"\\uc11c\\uc6b8\", \"\\uac15\\uc6d0\", \"\\ucda9\\ub0a8\", \"\\ucda9\\ubd81\", \"\\ucda9\\ub0a8\", \"\\uc804\\ubd81\", \"\\uc804\\ubd81\", \"\\uc804\\ub0a8\", \"\\uc804\\ubd81\", \"\\uacbd\\ubd81\", \"\\ubd80\\uc0b0\", \"\\uacbd\\uae30\", \"\\uc804\\ub0a8\", \"\\uc778\\ucc9c\", \"\\uc804\\ub0a8\", \"\\ucda9\\ubd81\", \"\\uacbd\\uae30\", \"\\ucda9\\ub0a8\", \"\\uacbd\\ub0a8\", \"\\uacbd\\uae30\", \"\\uc778\\ucc9c\", \"\\uacbd\\uae30\", \"\\uacbd\\uae30\", \"\\uc804\\ubd81\", \"\\uc11c\\uc6b8\", \"\\ubd80\\uc0b0\", \"\\uacbd\\uae30\", \"\\uacbd\\uae30\", \"\\ucda9\\ub0a8\", \"\\uc11c\\uc6b8\", \"\\ucda9\\ub0a8\", \"\\uacbd\\ubd81\", \"\\uacbd\\uae30\", \"\\uc778\\ucc9c\", \"\\uc11c\\uc6b8\", \"\\uc804\\ub0a8\", \"\\ucda9\\ub0a8\", \"\\uacbd\\uae30\", \"\\uc804\\ub0a8\", \"\\uc804\\ub0a8\", \"\\ucda9\\ubd81\", \"\\uacbd\\ubd81\", \"\\uacbd\\ubd81\", \"\\uacbd\\uae30\", \"\\uacbd\\ub0a8\", \"\\uc804\\ub0a8\", \"\\uacbd\\ubd81\", \"\\ub300\\uad6c\", \"\\ucda9\\ubd81\", \"\\uc804\\ub0a8\", \"\\uacbd\\uae30\", \"\\uc11c\\uc6b8\", \"\\uc804\\ub0a8\", \"\\uacbd\\uae30\", \"\\ucda9\\ub0a8\", \"\\uc804\\ubd81\", \"\\uacbd\\ubd81\", \"\\uac15\\uc6d0\", \"\\ucda9\\ub0a8\", \"\\uc778\\ucc9c\", \"\\ucda9\\ub0a8\", \"\\uacbd\\uae30\", \"\\uac15\\uc6d0\", \"\\ucda9\\ub0a8\", \"\\uc804\\ub0a8\", \"\\ucda9\\ub0a8\", \"\\ucda9\\ub0a8\", \"\\uc804\\ub0a8\", \"\\uacbd\\uae30\", \"\\uad11\\uc8fc\", \"\\ucda9\\ub0a8\", \"\\uacbd\\ub0a8\", \"\\uac15\\uc6d0\", \"\\uc804\\ubd81\", \"\\uc778\\ucc9c\", \"\\uc804\\ubd81\", \"\\uacbd\\ub0a8\", \"\\uacbd\\uae30\", \"\\ucda9\\ubd81\", \"\\uacbd\\ub0a8\", \"\\uacbd\\ub0a8\", \"\\ucda9\\ubd81\", \"\\uc11c\\uc6b8\", \"\\ucda9\\ub0a8\", \"\\uacbd\\uae30\", \"\\uacbd\\uae30\", \"\\uac15\\uc6d0\", \"\\uacbd\\ubd81\", \"\\ub300\\uc804\", \"\\ub300\\uad6c\", \"\\uc11c\\uc6b8\", \"\\uad11\\uc8fc\", \"\\uc81c\\uc8fc\", \"\\ucda9\\ub0a8\", \"\\ucda9\\ub0a8\", \"\\ub300\\uad6c\", \"\\ucda9\\ub0a8\", \"\\uc804\\ubd81\", \"\\ucda9\\ub0a8\", \"\\uc804\\ub0a8\", \"\\uacbd\\uae30\", \"\\uac15\\uc6d0\", \"\\ucda9\\ubd81\", \"\\uacbd\\uae30\", \"\\uacbd\\ubd81\", \"\\uc804\\ubd81\", \"\\uacbd\\uae30\", \"\\uc804\\ubd81\", \"\\ubd80\\uc0b0\", \"\\uc804\\ubd81\", \"\\uc778\\ucc9c\", \"\\uc81c\\uc8fc\", \"\\uacbd\\uae30\", \"\\ucda9\\ub0a8\", \"\\uc804\\ubd81\", \"\\uc804\\ubd81\", \"\\ucda9\\ub0a8\", \"\\ucda9\\ub0a8\", \"\\uacbd\\ub0a8\", \"\\uc81c\\uc8fc\", \"\\uacbd\\uae30\", \"\\uacbd\\ubd81\", \"\\uc804\\ubd81\", \"\\uacbd\\ubd81\", \"\\ucda9\\ubd81\", \"\\uc11c\\uc6b8\", \"\\uc804\\ubd81\", \"\\uacbd\\uae30\", \"\\uacbd\\ubd81\", \"\\ubd80\\uc0b0\", \"\\uacbd\\uae30\", \"\\uac15\\uc6d0\", \"\\ucda9\\ubd81\", \"\\ucda9\\ub0a8\", \"\\ucda9\\ub0a8\", \"\\uc6b8\\uc0b0\", \"\\uac15\\uc6d0\", \"\\uacbd\\uae30\", \"\\uc81c\\uc8fc\", \"\\uc6b8\\uc0b0\", \"\\uc11c\\uc6b8\", \"\\uacbd\\uae30\", \"\\uc11c\\uc6b8\", \"\\uc6b8\\uc0b0\", \"\\uacbd\\ubd81\", \"\\uc804\\ub0a8\", \"\\uacbd\\uae30\", \"\\uc11c\\uc6b8\", \"\\uc11c\\uc6b8\", \"\\uc11c\\uc6b8\", \"\\uc11c\\uc6b8\", \"\\uacbd\\uae30\", \"\\uc804\\ub0a8\", \"\\uc804\\ub0a8\", \"\\ucda9\\ub0a8\", \"\\ucda9\\ub0a8\", \"\\ucda9\\ub0a8\", \"\\uc804\\ubd81\", \"\\ucda9\\ub0a8\", \"\\uacbd\\ub0a8\", \"\\uacbd\\ub0a8\", \"\\uacbd\\uae30\", \"\\uacbd\\ubd81\", \"\\uad11\\uc8fc\", \"\\ucda9\\ubd81\", \"\\uc11c\\uc6b8\", \"\\ubd80\\uc0b0\", \"\\uc804\\ubd81\", \"\\uacbd\\ub0a8\", \"\\uacbd\\ub0a8\", \"\\uc778\\ucc9c\", \"\\ucda9\\ub0a8\", \"\\uc804\\ub0a8\", \"\\uacbd\\uae30\", \"\\uacbd\\uae30\", \"\\uc804\\ub0a8\", \"\\uacbd\\uae30\", \"\\uc804\\ub0a8\", \"\\uc804\\ubd81\", \"\\uc804\\ub0a8\", \"\\ubd80\\uc0b0\", \"\\uacbd\\ub0a8\", \"\\ucda9\\ubd81\", \"\\uacbd\\ubd81\", \"\\ub300\\uc804\", \"\\ubd80\\uc0b0\", \"\\uc11c\\uc6b8\", \"\\uc804\\ub0a8\", \"\\uc804\\ubd81\", \"\\uc804\\ubd81\", \"\\uacbd\\ubd81\", \"\\uc778\\ucc9c\", \"\\uc804\\ub0a8\", \"\\uacbd\\uae30\", \"\\ucda9\\ub0a8\", \"\\uacbd\\uae30\", \"\\uc804\\ub0a8\", \"\\uacbd\\ub0a8\", \"\\uc804\\ub0a8\", \"\\uacbd\\ubd81\", \"\\uacbd\\uae30\", \"\\uc804\\ubd81\", \"\\ubd80\\uc0b0\", \"\\uacbd\\ub0a8\", \"\\uc6b8\\uc0b0\", \"\\uac15\\uc6d0\", \"\\uc11c\\uc6b8\", \"\\uc804\\ubd81\", \"\\uacbd\\ubd81\", \"\\uacbd\\ubd81\", \"\\uc778\\ucc9c\", \"\\uacbd\\uae30\", \"\\uc11c\\uc6b8\", \"\\ucda9\\ubd81\", \"\\uc804\\ub0a8\", \"\\uacbd\\ub0a8\", \"\\uacbd\\uae30\", \"\\uc138\\uc885\", \"\\uacbd\\uae30\", \"\\uac15\\uc6d0\", \"\\uc804\\ub0a8\", \"\\uc804\\ubd81\", \"\\uacbd\\ubd81\", \"\\uacbd\\uae30\", \"\\uac15\\uc6d0\", \"\\uacbd\\ubd81\", \"\\ucda9\\ub0a8\", \"\\uacbd\\ubd81\", \"\\uc81c\\uc8fc\", \"\\uc804\\ub0a8\", \"\\ucda9\\ubd81\", \"\\uacbd\\uae30\", \"\\ucda9\\ub0a8\", \"\\uacbd\\ub0a8\", \"\\uc11c\\uc6b8\", \"\\uacbd\\ubd81\", \"\\uacbd\\uae30\", \"\\uacbd\\uae30\", \"\\uc11c\\uc6b8\", \"\\ucda9\\ub0a8\", \"\\uacbd\\ub0a8\", \"\\uacbd\\uae30\", \"\\uacbd\\uae30\", \"\\uacbd\\ub0a8\", \"\\uc804\\ubd81\", \"\\ucda9\\ub0a8\", \"\\uacbd\\ub0a8\", \"\\uc804\\ubd81\", \"\\uc778\\ucc9c\", \"\\ub300\\uc804\", \"\\uacbd\\uae30\", \"\\uacbd\\uae30\", \"\\uacbd\\ub0a8\", \"\\ub300\\uad6c\", \"\\uc804\\ub0a8\", \"\\uacbd\\ub0a8\", \"\\uc11c\\uc6b8\", \"\\uacbd\\uae30\", \"\\ub300\\uad6c\", \"\\uacbd\\ub0a8\", \"\\ub300\\uc804\", \"\\ucda9\\ubd81\", \"\\uc11c\\uc6b8\", \"\\uacbd\\ub0a8\", \"\\uac15\\uc6d0\", \"\\uc778\\ucc9c\", \"\\uacbd\\uae30\", \"\\uc11c\\uc6b8\", \"\\uacbd\\uae30\", \"\\uc804\\ubd81\", \"\\uc804\\ub0a8\", \"\\uacbd\\ubd81\", \"\\uc6b8\\uc0b0\", \"\\uacbd\\ub0a8\", \"\\uacbd\\ub0a8\", \"\\uacbd\\uae30\", \"\\ucda9\\ub0a8\", \"\\uacbd\\ubd81\", \"\\uc804\\ubd81\", \"\\uc138\\uc885\", \"\\uc804\\ub0a8\", \"\\uc804\\ub0a8\", \"\\uacbd\\ub0a8\", \"\\uc804\\ubd81\", \"\\ub300\\uc804\", \"\\uacbd\\ub0a8\", \"\\uad11\\uc8fc\", \"\\ucda9\\ub0a8\", \"\\ucda9\\ub0a8\", \"\\uacbd\\ubd81\", \"\\ucda9\\ub0a8\", \"\\ucda9\\ub0a8\", \"\\ucda9\\ub0a8\", \"\\ub300\\uad6c\", \"\\uacbd\\uae30\", \"\\ub300\\uad6c\", \"\\uacbd\\uae30\", \"\\ub300\\uad6c\", \"\\uacbd\\uae30\", \"\\ucda9\\ub0a8\", \"\\uac15\\uc6d0\", \"\\ub300\\uad6c\", \"\\uc11c\\uc6b8\", \"\\uc804\\ubd81\", \"\\uacbd\\uae30\", \"\\uc804\\ubd81\", \"\\uc778\\ucc9c\", \"\\uacbd\\ubd81\", \"\\uacbd\\ub0a8\", \"\\ub300\\uad6c\", \"\\ubd80\\uc0b0\", \"\\ucda9\\ubd81\", \"\\uc804\\ubd81\", \"\\uac15\\uc6d0\", \"\\uc804\\ubd81\", \"\\uacbd\\ub0a8\", \"\\uc138\\uc885\", \"\\uc804\\ubd81\", \"\\uc804\\ub0a8\", \"\\uc804\\ub0a8\", \"\\ubd80\\uc0b0\", \"\\uac15\\uc6d0\", \"\\ucda9\\ub0a8\", \"\\uacbd\\ub0a8\", \"\\ub300\\uad6c\", \"\\uc81c\\uc8fc\", \"\\ubd80\\uc0b0\", \"\\uc6b8\\uc0b0\", \"\\uc804\\ubd81\", \"\\uc804\\ub0a8\", \"\\uacbd\\ubd81\", \"\\uc804\\ubd81\", \"\\uacbd\\ubd81\", \"\\uacbd\\uae30\", \"\\uc11c\\uc6b8\", \"\\uacbd\\ub0a8\", \"\\uc804\\ub0a8\", \"\\uacbd\\ubd81\", \"\\uc804\\ub0a8\", \"\\uacbd\\ubd81\", \"\\uc804\\ubd81\", \"\\uacbd\\ub0a8\", \"\\uacbd\\uae30\", \"\\uacbd\\uae30\", \"\\uacbd\\uae30\", \"\\ubd80\\uc0b0\", \"\\uc804\\ubd81\", \"\\uac15\\uc6d0\", \"\\uc11c\\uc6b8\", \"\\ucda9\\ub0a8\", \"\\ucda9\\ub0a8\", \"\\uacbd\\uae30\", \"\\uc804\\ub0a8\", \"\\uacbd\\ub0a8\", \"\\uacbd\\ub0a8\", \"\\uacbd\\ubd81\", \"\\uacbd\\ub0a8\", \"\\ubd80\\uc0b0\", \"\\uad11\\uc8fc\", \"\\uacbd\\uae30\", \"\\ucda9\\ub0a8\", \"\\uacbd\\uae30\", \"\\uc804\\ub0a8\", \"\\uc81c\\uc8fc\", \"\\uc81c\\uc8fc\", \"\\uc6b8\\uc0b0\", \"\\uacbd\\uae30\", \"\\ucda9\\ub0a8\", \"\\uc804\\ub0a8\", \"\\uc778\\ucc9c\", \"\\uac15\\uc6d0\", \"\\ub300\\uc804\", \"\\uacbd\\ubd81\", \"\\uc804\\ub0a8\", \"\\uc778\\ucc9c\", \"\\uc804\\ub0a8\", \"\\uacbd\\ubd81\", \"\\ucda9\\ub0a8\", \"\\uacbd\\uae30\", \"\\uacbd\\ubd81\", \"\\uacbd\\ubd81\", \"\\ucda9\\ub0a8\", \"\\uc804\\ubd81\", \"\\uac15\\uc6d0\", \"\\ub300\\uc804\", \"\\uc81c\\uc8fc\", \"\\uc804\\ub0a8\", \"\\ucda9\\ub0a8\", \"\\uacbd\\uae30\", \"\\uacbd\\ub0a8\", \"\\ubd80\\uc0b0\", \"\\uacbd\\uae30\", \"\\uacbd\\uae30\", \"\\uacbd\\uae30\", \"\\ucda9\\ubd81\", \"\\ucda9\\ub0a8\", \"\\uad11\\uc8fc\", \"\\uc804\\ub0a8\", \"\\uacbd\\ubd81\", \"\\ucda9\\ub0a8\", \"\\ub300\\uad6c\", \"\\uacbd\\uae30\", \"\\uc11c\\uc6b8\", \"\\uac15\\uc6d0\", \"\\uac15\\uc6d0\", \"\\uacbd\\ubd81\", \"\\uacbd\\uae30\", \"\\uacbd\\ubd81\", \"\\ucda9\\ub0a8\", \"\\uc81c\\uc8fc\", \"\\uc804\\ub0a8\", \"\\uacbd\\ub0a8\", \"\\uacbd\\uae30\", \"\\uc804\\ubd81\", \"\\uacbd\\uae30\", \"\\uc11c\\uc6b8\", \"\\uac15\\uc6d0\", \"\\uc11c\\uc6b8\", \"\\uc804\\ubd81\", \"\\ubd80\\uc0b0\", \"\\ucda9\\ubd81\", \"\\uc804\\ubd81\", \"\\uc11c\\uc6b8\", \"\\ucda9\\ub0a8\", \"\\uacbd\\uae30\", \"\\uacbd\\uae30\", \"\\uacbd\\uae30\", \"\\uac15\\uc6d0\", \"\\ub300\\uad6c\", \"\\uacbd\\ubd81\", \"\\ucda9\\ubd81\", \"\\uacbd\\ubd81\", \"\\ucda9\\ub0a8\", \"\\uc804\\ub0a8\", \"\\ucda9\\ub0a8\", \"\\ucda9\\ub0a8\", \"\\uacbd\\ub0a8\", \"\\ub300\\uad6c\", \"\\uacbd\\ubd81\", \"\\uacbd\\ub0a8\", \"\\ucda9\\ubd81\", \"\\uad11\\uc8fc\", \"\\uacbd\\ubd81\", \"\\uc804\\ub0a8\", \"\\uacbd\\ub0a8\", \"\\uacbd\\ub0a8\", \"\\uc804\\ubd81\", \"\\uacbd\\uae30\", \"\\ub300\\uc804\", \"\\ub300\\uad6c\", \"\\uc804\\ub0a8\", \"\\uc804\\ub0a8\", \"\\uacbd\\ub0a8\", \"\\ubd80\\uc0b0\", \"\\uacbd\\ub0a8\", \"\\uacbd\\ub0a8\", \"\\uc11c\\uc6b8\", \"\\uacbd\\uae30\", \"\\ucda9\\ubd81\", \"\\uc11c\\uc6b8\", \"\\uacbd\\uae30\", \"\\uacbd\\ub0a8\", \"\\ucda9\\ubd81\", \"\\ucda9\\ub0a8\", \"\\uad11\\uc8fc\", \"\\uc804\\ubd81\", \"\\ubd80\\uc0b0\", \"\\uacbd\\uae30\", \"\\uac15\\uc6d0\", \"\\uc804\\ubd81\", \"\\ucda9\\ub0a8\", \"\\uacbd\\uae30\", \"\\uacbd\\uae30\", \"\\uac15\\uc6d0\", \"\\uacbd\\uae30\", \"\\uacbd\\uae30\", \"\\uc804\\ubd81\", \"\\ub300\\uc804\", \"\\uc81c\\uc8fc\", \"\\uacbd\\uae30\", \"\\ub300\\uc804\", \"\\ucda9\\ubd81\", \"\\ucda9\\ubd81\", \"\\ucda9\\ub0a8\", \"\\uacbd\\ubd81\", \"\\ucda9\\ub0a8\", \"\\uc11c\\uc6b8\", \"\\ubd80\\uc0b0\", \"\\uad11\\uc8fc\", \"\\uacbd\\uae30\", \"\\uac15\\uc6d0\", \"\\ubd80\\uc0b0\", \"\\uacbd\\ubd81\", \"\\ub300\\uad6c\", \"\\uacbd\\uae30\", \"\\uc804\\ubd81\", \"\\uacbd\\ubd81\", \"\\uc804\\ubd81\", \"\\uacbd\\ubd81\", \"\\ucda9\\ub0a8\", \"\\uacbd\\uae30\", \"\\uacbd\\uae30\", \"\\uac15\\uc6d0\", \"\\uac15\\uc6d0\", \"\\ucda9\\ub0a8\", \"\\ubd80\\uc0b0\", \"\\uc81c\\uc8fc\", \"\\uc11c\\uc6b8\", \"\\ucda9\\ub0a8\", \"\\uacbd\\uae30\", \"\\uacbd\\ubd81\", \"\\ubd80\\uc0b0\", \"\\ub300\\uc804\", \"\\uacbd\\uae30\", \"\\uacbd\\uae30\", \"\\uacbd\\ub0a8\", \"\\ucda9\\ub0a8\", \"\\uacbd\\ub0a8\", \"\\uacbd\\ubd81\", \"\\uacbd\\ub0a8\", \"\\uacbd\\ub0a8\", \"\\uacbd\\ub0a8\", \"\\uacbd\\uae30\", \"\\uc804\\ub0a8\", \"\\uacbd\\uae30\", \"\\ucda9\\ub0a8\", \"\\uacbd\\uae30\", \"\\ucda9\\ub0a8\", \"\\uacbd\\ubd81\", \"\\ucda9\\ub0a8\", \"\\uc778\\ucc9c\", \"\\uacbd\\uae30\", \"\\ub300\\uad6c\", \"\\uacbd\\uae30\", \"\\uacbd\\uae30\", \"\\uacbd\\ubd81\", \"\\uacbd\\uae30\", \"\\uacbd\\ubd81\", \"\\uacbd\\uae30\", \"\\uc11c\\uc6b8\", \"\\uacbd\\uae30\", \"\\uacbd\\ub0a8\", \"\\uc11c\\uc6b8\", \"\\ubd80\\uc0b0\", \"\\uad11\\uc8fc\", \"\\ub300\\uc804\", \"\\uacbd\\uae30\", \"\\uac15\\uc6d0\", \"\\ucda9\\ub0a8\", \"\\uacbd\\ub0a8\", \"\\uac15\\uc6d0\", \"\\uacbd\\uae30\", \"\\ucda9\\ub0a8\", \"\\uad11\\uc8fc\", \"\\uacbd\\uae30\", \"\\uacbd\\uae30\", \"\\uacbd\\uae30\", \"\\uacbd\\uae30\", \"\\uacbd\\ub0a8\", \"\\ucda9\\ub0a8\", \"\\uacbd\\ub0a8\", \"\\uc11c\\uc6b8\", \"\\uc804\\ubd81\", \"\\uacbd\\uae30\", \"\\uc11c\\uc6b8\", \"\\ucda9\\ubd81\", \"\\uc11c\\uc6b8\", \"\\uc804\\ubd81\", \"\\uacbd\\uae30\", \"\\ucda9\\ubd81\", \"\\uacbd\\uae30\", \"\\uacbd\\ub0a8\", \"\\uacbd\\ub0a8\", \"\\uc11c\\uc6b8\", \"\\ucda9\\ub0a8\", \"\\uc804\\ubd81\", \"\\uacbd\\ubd81\", \"\\uacbd\\ubd81\", \"\\uacbd\\uae30\", \"\\uacbd\\uae30\", \"\\uc804\\ub0a8\", \"\\uc804\\ub0a8\", \"\\uc804\\ub0a8\", \"\\uc804\\ub0a8\", \"\\uacbd\\uae30\", \"\\uc804\\ub0a8\", \"\\uc804\\ub0a8\", \"\\uc778\\ucc9c\", \"\\uacbd\\uae30\", \"\\uacbd\\uae30\", \"\\uc804\\ubd81\", \"\\uc778\\ucc9c\", \"\\ub300\\uc804\", \"\\uacbd\\uae30\", \"\\uacbd\\uae30\", \"\\uac15\\uc6d0\", \"\\uac15\\uc6d0\", \"\\uacbd\\ub0a8\", \"\\uacbd\\ub0a8\", \"\\uc804\\ub0a8\", \"\\uacbd\\ubd81\", \"\\uc804\\ub0a8\", \"\\uacbd\\ub0a8\", \"\\uc11c\\uc6b8\", \"\\ucda9\\ubd81\", \"\\uc804\\ubd81\", \"\\uacbd\\ub0a8\", \"\\ucda9\\ub0a8\", \"\\uc11c\\uc6b8\", \"\\uacbd\\uae30\", \"\\uacbd\\ub0a8\", \"\\ucda9\\ub0a8\", \"\\ucda9\\ub0a8\", \"\\ucda9\\ub0a8\", \"\\ubd80\\uc0b0\", \"\\ucda9\\ub0a8\", \"\\uacbd\\ubd81\", \"\\uacbd\\ubd81\", \"\\uacbd\\ub0a8\", \"\\uc11c\\uc6b8\", \"\\ucda9\\ub0a8\", \"\\uacbd\\ubd81\", \"\\ub300\\uc804\", \"\\ub300\\uad6c\", \"\\uacbd\\ub0a8\", \"\\uacbd\\ubd81\", \"\\ucda9\\ub0a8\", \"\\ub300\\uad6c\", \"\\uc11c\\uc6b8\", \"\\uacbd\\ubd81\", \"\\uacbd\\ub0a8\", \"\\ucda9\\ub0a8\", \"\\ub300\\uc804\", \"\\uacbd\\uae30\", \"\\uac15\\uc6d0\", \"\\uc804\\ub0a8\", \"\\uacbd\\uae30\", \"\\uac15\\uc6d0\", \"\\uc804\\ubd81\", \"\\uacbd\\uae30\", \"\\ub300\\uad6c\", \"\\uacbd\\ubd81\", \"\\ubd80\\uc0b0\", \"\\uc804\\ub0a8\", \"\\ucda9\\ub0a8\", \"\\uacbd\\ubd81\", \"\\uacbd\\uae30\", \"\\uc804\\ubd81\", \"\\uc804\\ub0a8\", \"\\ucda9\\ub0a8\", \"\\ub300\\uad6c\", \"\\uc11c\\uc6b8\", \"\\uc11c\\uc6b8\", \"\\uacbd\\ubd81\", \"\\uacbd\\uae30\", \"\\uacbd\\ubd81\", \"\\uacbd\\ubd81\", \"\\uc804\\ub0a8\", \"\\ucda9\\ubd81\", \"\\uc804\\ub0a8\", \"\\uacbd\\uae30\", \"\\ucda9\\ubd81\", \"\\ucda9\\ub0a8\", \"\\ub300\\uad6c\", \"\\uacbd\\ub0a8\", \"\\uacbd\\ub0a8\", \"\\uc11c\\uc6b8\", \"\\uacbd\\uae30\", \"\\ucda9\\ubd81\", \"\\uc804\\ub0a8\", \"\\uacbd\\ub0a8\", \"\\uacbd\\ubd81\", \"\\uac15\\uc6d0\", \"\\uacbd\\ubd81\", \"\\uc6b8\\uc0b0\", \"\\uacbd\\ubd81\", \"\\uacbd\\ubd81\", \"\\uacbd\\ubd81\", \"\\uacbd\\ub0a8\", \"\\uacbd\\ubd81\", \"\\uc11c\\uc6b8\", \"\\uacbd\\uae30\", \"\\ub300\\uad6c\", \"\\uc11c\\uc6b8\", \"\\uc804\\ub0a8\", \"\\uacbd\\uae30\", \"\\uacbd\\uae30\", \"\\uc778\\ucc9c\", \"\\uc6b8\\uc0b0\", \"\\uacbd\\ub0a8\", \"\\uacbd\\uae30\", \"\\uc778\\ucc9c\", \"\\uacbd\\uae30\", \"\\uacbd\\uae30\", \"\\uc804\\ubd81\", \"\\uc804\\ub0a8\", \"\\ucda9\\ubd81\", \"\\uacbd\\uae30\", \"\\uc804\\ubd81\", \"\\uc804\\ubd81\", \"\\uc6b8\\uc0b0\", \"\\uc11c\\uc6b8\", \"\\uacbd\\uae30\", \"\\uc11c\\uc6b8\", \"\\uacbd\\ub0a8\", \"\\ubd80\\uc0b0\", \"\\uacbd\\uae30\", \"\\uc11c\\uc6b8\", \"\\uacbd\\uae30\", \"\\uacbd\\uae30\", \"\\uacbd\\uae30\", \"\\ucda9\\ubd81\", \"\\uacbd\\ub0a8\", \"\\ucda9\\ub0a8\", \"\\ubd80\\uc0b0\", \"\\ubd80\\uc0b0\", \"\\uac15\\uc6d0\", \"\\uacbd\\uae30\", \"\\uacbd\\uae30\", \"\\uacbd\\uae30\", \"\\uacbd\\ub0a8\", \"\\uc778\\ucc9c\", \"\\uc804\\ub0a8\", \"\\ubd80\\uc0b0\", \"\\ucda9\\ub0a8\", \"\\ucda9\\ub0a8\", \"\\uc804\\ub0a8\", \"\\uac15\\uc6d0\", \"\\ub300\\uc804\", \"\\uacbd\\uae30\", \"\\uac15\\uc6d0\", \"\\uc804\\ubd81\", \"\\uc6b8\\uc0b0\", \"\\uc804\\ub0a8\", \"\\uad11\\uc8fc\", \"\\uacbd\\ub0a8\", \"\\uc804\\ub0a8\", \"\\uacbd\\ubd81\", \"\\uacbd\\ub0a8\", \"\\ucda9\\ubd81\", \"\\uc11c\\uc6b8\", \"\\ucda9\\ub0a8\", \"\\ucda9\\ubd81\", \"\\uc804\\ub0a8\", \"\\uacbd\\ub0a8\", \"\\uacbd\\ubd81\", \"\\ucda9\\ubd81\", \"\\ucda9\\ub0a8\", \"\\uacbd\\ubd81\", \"\\uacbd\\uae30\", \"\\uc804\\ubd81\", \"\\uacbd\\ub0a8\", \"\\uacbd\\uae30\", \"\\uacbd\\ub0a8\", \"\\uacbd\\uae30\", \"\\uacbd\\uae30\", \"\\ucda9\\ub0a8\", \"\\uacbd\\uae30\", \"\\uc778\\ucc9c\", \"\\uacbd\\uae30\", \"\\uacbd\\ub0a8\", \"\\uacbd\\uae30\", \"\\uc11c\\uc6b8\", \"\\ubd80\\uc0b0\", \"\\uacbd\\ubd81\", \"\\ucda9\\ubd81\", \"\\uc804\\ubd81\", \"\\ucda9\\ub0a8\", \"\\uc804\\ub0a8\", \"\\uc6b8\\uc0b0\", \"\\uac15\\uc6d0\", \"\\uc804\\ubd81\", \"\\ub300\\uad6c\", \"\\uacbd\\uae30\", \"\\ucda9\\ubd81\", \"\\ucda9\\ub0a8\", \"\\uacbd\\ubd81\", \"\\ucda9\\ub0a8\", \"\\ucda9\\ub0a8\", \"\\uacbd\\ubd81\", \"\\uacbd\\ubd81\", \"\\uc778\\ucc9c\", \"\\uacbd\\uae30\", \"\\uc804\\ubd81\", \"\\uc804\\ub0a8\", \"\\uacbd\\ubd81\", \"\\uc804\\ubd81\", \"\\ucda9\\ub0a8\", \"\\uacbd\\ub0a8\", \"\\uacbd\\ubd81\", \"\\uc804\\ub0a8\", \"\\uc11c\\uc6b8\", \"\\uacbd\\uae30\", \"\\uacbd\\uae30\", \"\\ucda9\\ub0a8\", \"\\uc804\\ub0a8\", \"\\uacbd\\ub0a8\", \"\\uacbd\\uae30\", \"\\uacbd\\ubd81\", \"\\uacbd\\ub0a8\", \"\\uacbd\\ubd81\", \"\\uc81c\\uc8fc\", \"\\uac15\\uc6d0\", \"\\uc804\\ubd81\", \"\\uacbd\\uae30\", \"\\uc81c\\uc8fc\", \"\\uacbd\\uae30\", \"\\uacbd\\ub0a8\", \"\\uc804\\ub0a8\", \"\\uacbd\\ubd81\", \"\\uacbd\\ubd81\", \"\\uc6b8\\uc0b0\", \"\\uacbd\\uae30\", \"\\uacbd\\uae30\", \"\\ub300\\uad6c\", \"\\uc6b8\\uc0b0\", \"\\ucda9\\ub0a8\", \"\\ucda9\\ub0a8\", \"\\uacbd\\ubd81\", \"\\uc11c\\uc6b8\", \"\\uc11c\\uc6b8\", \"\\ucda9\\ub0a8\", \"\\uacbd\\ubd81\", \"\\uacbd\\uae30\", \"\\ub300\\uad6c\", \"\\ucda9\\ub0a8\", \"\\uc804\\ub0a8\", \"\\ubd80\\uc0b0\", \"\\uacbd\\uae30\", \"\\uac15\\uc6d0\", \"\\uac15\\uc6d0\", \"\\uc11c\\uc6b8\", \"\\uc11c\\uc6b8\", \"\\uac15\\uc6d0\", \"\\uacbd\\ubd81\", \"\\uc6b8\\uc0b0\", \"\\uacbd\\ub0a8\"], \"yaxis\": \"y\"}],\n",
              "                        {\"barmode\": \"relative\", \"legend\": {\"tracegroupgap\": 0}, \"template\": {\"data\": {\"bar\": [{\"error_x\": {\"color\": \"#2a3f5f\"}, \"error_y\": {\"color\": \"#2a3f5f\"}, \"marker\": {\"line\": {\"color\": \"#E5ECF6\", \"width\": 0.5}}, \"type\": \"bar\"}], \"barpolar\": [{\"marker\": {\"line\": {\"color\": \"#E5ECF6\", \"width\": 0.5}}, \"type\": \"barpolar\"}], \"carpet\": [{\"aaxis\": {\"endlinecolor\": \"#2a3f5f\", \"gridcolor\": \"white\", \"linecolor\": \"white\", \"minorgridcolor\": \"white\", \"startlinecolor\": \"#2a3f5f\"}, \"baxis\": {\"endlinecolor\": \"#2a3f5f\", \"gridcolor\": \"white\", \"linecolor\": \"white\", \"minorgridcolor\": \"white\", \"startlinecolor\": \"#2a3f5f\"}, \"type\": \"carpet\"}], \"choropleth\": [{\"colorbar\": {\"outlinewidth\": 0, \"ticks\": \"\"}, \"type\": \"choropleth\"}], \"contour\": [{\"colorbar\": {\"outlinewidth\": 0, \"ticks\": \"\"}, \"colorscale\": [[0.0, \"#0d0887\"], [0.1111111111111111, \"#46039f\"], [0.2222222222222222, \"#7201a8\"], [0.3333333333333333, \"#9c179e\"], [0.4444444444444444, \"#bd3786\"], [0.5555555555555556, \"#d8576b\"], [0.6666666666666666, \"#ed7953\"], [0.7777777777777778, \"#fb9f3a\"], [0.8888888888888888, \"#fdca26\"], [1.0, \"#f0f921\"]], \"type\": \"contour\"}], \"contourcarpet\": [{\"colorbar\": {\"outlinewidth\": 0, \"ticks\": \"\"}, \"type\": \"contourcarpet\"}], \"heatmap\": [{\"colorbar\": {\"outlinewidth\": 0, \"ticks\": \"\"}, \"colorscale\": [[0.0, \"#0d0887\"], [0.1111111111111111, \"#46039f\"], [0.2222222222222222, \"#7201a8\"], [0.3333333333333333, \"#9c179e\"], [0.4444444444444444, \"#bd3786\"], [0.5555555555555556, \"#d8576b\"], [0.6666666666666666, \"#ed7953\"], [0.7777777777777778, \"#fb9f3a\"], [0.8888888888888888, \"#fdca26\"], [1.0, \"#f0f921\"]], \"type\": \"heatmap\"}], \"heatmapgl\": [{\"colorbar\": {\"outlinewidth\": 0, \"ticks\": \"\"}, \"colorscale\": [[0.0, \"#0d0887\"], [0.1111111111111111, \"#46039f\"], [0.2222222222222222, \"#7201a8\"], [0.3333333333333333, \"#9c179e\"], [0.4444444444444444, \"#bd3786\"], [0.5555555555555556, \"#d8576b\"], [0.6666666666666666, \"#ed7953\"], [0.7777777777777778, \"#fb9f3a\"], [0.8888888888888888, \"#fdca26\"], [1.0, \"#f0f921\"]], \"type\": \"heatmapgl\"}], \"histogram\": [{\"marker\": {\"colorbar\": {\"outlinewidth\": 0, \"ticks\": \"\"}}, \"type\": \"histogram\"}], \"histogram2d\": [{\"colorbar\": {\"outlinewidth\": 0, \"ticks\": \"\"}, \"colorscale\": [[0.0, \"#0d0887\"], [0.1111111111111111, \"#46039f\"], [0.2222222222222222, \"#7201a8\"], [0.3333333333333333, \"#9c179e\"], [0.4444444444444444, \"#bd3786\"], [0.5555555555555556, \"#d8576b\"], [0.6666666666666666, \"#ed7953\"], [0.7777777777777778, \"#fb9f3a\"], [0.8888888888888888, \"#fdca26\"], [1.0, \"#f0f921\"]], \"type\": \"histogram2d\"}], \"histogram2dcontour\": [{\"colorbar\": {\"outlinewidth\": 0, \"ticks\": \"\"}, \"colorscale\": [[0.0, \"#0d0887\"], [0.1111111111111111, \"#46039f\"], [0.2222222222222222, \"#7201a8\"], [0.3333333333333333, \"#9c179e\"], [0.4444444444444444, \"#bd3786\"], [0.5555555555555556, \"#d8576b\"], [0.6666666666666666, \"#ed7953\"], [0.7777777777777778, \"#fb9f3a\"], [0.8888888888888888, \"#fdca26\"], [1.0, \"#f0f921\"]], \"type\": \"histogram2dcontour\"}], \"mesh3d\": [{\"colorbar\": {\"outlinewidth\": 0, \"ticks\": \"\"}, \"type\": \"mesh3d\"}], \"parcoords\": [{\"line\": {\"colorbar\": {\"outlinewidth\": 0, \"ticks\": \"\"}}, \"type\": \"parcoords\"}], \"pie\": [{\"automargin\": true, \"type\": \"pie\"}], \"scatter\": [{\"marker\": {\"colorbar\": {\"outlinewidth\": 0, \"ticks\": \"\"}}, \"type\": \"scatter\"}], \"scatter3d\": [{\"line\": {\"colorbar\": {\"outlinewidth\": 0, \"ticks\": \"\"}}, \"marker\": {\"colorbar\": {\"outlinewidth\": 0, \"ticks\": \"\"}}, \"type\": \"scatter3d\"}], \"scattercarpet\": [{\"marker\": {\"colorbar\": {\"outlinewidth\": 0, \"ticks\": \"\"}}, \"type\": \"scattercarpet\"}], \"scattergeo\": [{\"marker\": {\"colorbar\": {\"outlinewidth\": 0, \"ticks\": \"\"}}, \"type\": \"scattergeo\"}], \"scattergl\": [{\"marker\": {\"colorbar\": {\"outlinewidth\": 0, \"ticks\": \"\"}}, \"type\": \"scattergl\"}], \"scattermapbox\": [{\"marker\": {\"colorbar\": {\"outlinewidth\": 0, \"ticks\": \"\"}}, \"type\": \"scattermapbox\"}], \"scatterpolar\": [{\"marker\": {\"colorbar\": {\"outlinewidth\": 0, \"ticks\": \"\"}}, \"type\": \"scatterpolar\"}], \"scatterpolargl\": [{\"marker\": {\"colorbar\": {\"outlinewidth\": 0, \"ticks\": \"\"}}, \"type\": \"scatterpolargl\"}], \"scatterternary\": [{\"marker\": {\"colorbar\": {\"outlinewidth\": 0, \"ticks\": \"\"}}, \"type\": \"scatterternary\"}], \"surface\": [{\"colorbar\": {\"outlinewidth\": 0, \"ticks\": \"\"}, \"colorscale\": [[0.0, \"#0d0887\"], [0.1111111111111111, \"#46039f\"], [0.2222222222222222, \"#7201a8\"], [0.3333333333333333, \"#9c179e\"], [0.4444444444444444, \"#bd3786\"], [0.5555555555555556, \"#d8576b\"], [0.6666666666666666, \"#ed7953\"], [0.7777777777777778, \"#fb9f3a\"], [0.8888888888888888, \"#fdca26\"], [1.0, \"#f0f921\"]], \"type\": \"surface\"}], \"table\": [{\"cells\": {\"fill\": {\"color\": \"#EBF0F8\"}, \"line\": {\"color\": \"white\"}}, \"header\": {\"fill\": {\"color\": \"#C8D4E3\"}, \"line\": {\"color\": \"white\"}}, \"type\": \"table\"}]}, \"layout\": {\"annotationdefaults\": {\"arrowcolor\": \"#2a3f5f\", \"arrowhead\": 0, \"arrowwidth\": 1}, \"coloraxis\": {\"colorbar\": {\"outlinewidth\": 0, \"ticks\": \"\"}}, \"colorscale\": {\"diverging\": [[0, \"#8e0152\"], [0.1, \"#c51b7d\"], [0.2, \"#de77ae\"], [0.3, \"#f1b6da\"], [0.4, \"#fde0ef\"], [0.5, \"#f7f7f7\"], [0.6, \"#e6f5d0\"], [0.7, \"#b8e186\"], [0.8, \"#7fbc41\"], [0.9, \"#4d9221\"], [1, \"#276419\"]], \"sequential\": [[0.0, \"#0d0887\"], [0.1111111111111111, \"#46039f\"], [0.2222222222222222, \"#7201a8\"], [0.3333333333333333, \"#9c179e\"], [0.4444444444444444, \"#bd3786\"], [0.5555555555555556, \"#d8576b\"], [0.6666666666666666, \"#ed7953\"], [0.7777777777777778, \"#fb9f3a\"], [0.8888888888888888, \"#fdca26\"], [1.0, \"#f0f921\"]], \"sequentialminus\": [[0.0, \"#0d0887\"], [0.1111111111111111, \"#46039f\"], [0.2222222222222222, \"#7201a8\"], [0.3333333333333333, \"#9c179e\"], [0.4444444444444444, \"#bd3786\"], [0.5555555555555556, \"#d8576b\"], [0.6666666666666666, \"#ed7953\"], [0.7777777777777778, \"#fb9f3a\"], [0.8888888888888888, \"#fdca26\"], [1.0, \"#f0f921\"]]}, \"colorway\": [\"#636efa\", \"#EF553B\", \"#00cc96\", \"#ab63fa\", \"#FFA15A\", \"#19d3f3\", \"#FF6692\", \"#B6E880\", \"#FF97FF\", \"#FECB52\"], \"font\": {\"color\": \"#2a3f5f\"}, \"geo\": {\"bgcolor\": \"white\", \"lakecolor\": \"white\", \"landcolor\": \"#E5ECF6\", \"showlakes\": true, \"showland\": true, \"subunitcolor\": \"white\"}, \"hoverlabel\": {\"align\": \"left\"}, \"hovermode\": \"closest\", \"mapbox\": {\"style\": \"light\"}, \"paper_bgcolor\": \"white\", \"plot_bgcolor\": \"#E5ECF6\", \"polar\": {\"angularaxis\": {\"gridcolor\": \"white\", \"linecolor\": \"white\", \"ticks\": \"\"}, \"bgcolor\": \"#E5ECF6\", \"radialaxis\": {\"gridcolor\": \"white\", \"linecolor\": \"white\", \"ticks\": \"\"}}, \"scene\": {\"xaxis\": {\"backgroundcolor\": \"#E5ECF6\", \"gridcolor\": \"white\", \"gridwidth\": 2, \"linecolor\": \"white\", \"showbackground\": true, \"ticks\": \"\", \"zerolinecolor\": \"white\"}, \"yaxis\": {\"backgroundcolor\": \"#E5ECF6\", \"gridcolor\": \"white\", \"gridwidth\": 2, \"linecolor\": \"white\", \"showbackground\": true, \"ticks\": \"\", \"zerolinecolor\": \"white\"}, \"zaxis\": {\"backgroundcolor\": \"#E5ECF6\", \"gridcolor\": \"white\", \"gridwidth\": 2, \"linecolor\": \"white\", \"showbackground\": true, \"ticks\": \"\", \"zerolinecolor\": \"white\"}}, \"shapedefaults\": {\"line\": {\"color\": \"#2a3f5f\"}}, \"ternary\": {\"aaxis\": {\"gridcolor\": \"white\", \"linecolor\": \"white\", \"ticks\": \"\"}, \"baxis\": {\"gridcolor\": \"white\", \"linecolor\": \"white\", \"ticks\": \"\"}, \"bgcolor\": \"#E5ECF6\", \"caxis\": {\"gridcolor\": \"white\", \"linecolor\": \"white\", \"ticks\": \"\"}}, \"title\": {\"x\": 0.05}, \"xaxis\": {\"automargin\": true, \"gridcolor\": \"white\", \"linecolor\": \"white\", \"ticks\": \"\", \"title\": {\"standoff\": 15}, \"zerolinecolor\": \"white\", \"zerolinewidth\": 2}, \"yaxis\": {\"automargin\": true, \"gridcolor\": \"white\", \"linecolor\": \"white\", \"ticks\": \"\", \"title\": {\"standoff\": 15}, \"zerolinecolor\": \"white\", \"zerolinewidth\": 2}}}, \"title\": {\"text\": \"\\uc2dc\\ub3c4\\ubcc4 \\uad50\\ud1b5\\uc0ac\\uace0 \\uc0ac\\ub9dd\\uc790 \\ud604\\ud669\"}, \"xaxis\": {\"anchor\": \"y\", \"domain\": [0.0, 1.0], \"title\": {\"text\": \"\\uc0ac\\ub9dd\\uc790\\uc218\"}}, \"yaxis\": {\"anchor\": \"x\", \"domain\": [0.0, 1.0], \"title\": {\"text\": \"\\ubc1c\\uc0dd\\uc9c0\\uc2dc\\ub3c4\"}}},\n",
              "                        {\"responsive\": true}\n",
              "                    ).then(function(){\n",
              "                            \n",
              "var gd = document.getElementById('16245400-d7d9-49e5-9f0c-1e04e8f1a0c3');\n",
              "var x = new MutationObserver(function (mutations, observer) {{\n",
              "        var display = window.getComputedStyle(gd).display;\n",
              "        if (!display || display === 'none') {{\n",
              "            console.log([gd, 'removed!']);\n",
              "            Plotly.purge(gd);\n",
              "            observer.disconnect();\n",
              "        }}\n",
              "}});\n",
              "\n",
              "// Listen for the removal of the full notebook cells\n",
              "var notebookContainer = gd.closest('#notebook-container');\n",
              "if (notebookContainer) {{\n",
              "    x.observe(notebookContainer, {childList: true});\n",
              "}}\n",
              "\n",
              "// Listen for the clearing of the current output cell\n",
              "var outputEl = gd.closest('.output');\n",
              "if (outputEl) {{\n",
              "    x.observe(outputEl, {childList: true});\n",
              "}}\n",
              "\n",
              "                        })\n",
              "                };\n",
              "                \n",
              "            </script>\n",
              "        </div>\n",
              "</body>\n",
              "</html>"
            ]
          },
          "metadata": {
            "tags": []
          }
        }
      ]
    },
    {
      "cell_type": "markdown",
      "metadata": {
        "id": "Kfd8zhBwqjjw"
      },
      "source": [
        "대구광역시의 교통사고 발생 데이터 분석"
      ]
    },
    {
      "cell_type": "code",
      "metadata": {
        "colab": {
          "base_uri": "https://localhost:8080/"
        },
        "id": "gX-ztwcnqAvM",
        "outputId": "0f455efe-8b7b-4bbe-8058-63b511d6a63e"
      },
      "source": [
        "df1=df[df.발생지시도=='대구']\n",
        "df1.head()\n",
        "df1.info()"
      ],
      "execution_count": 15,
      "outputs": [
        {
          "output_type": "stream",
          "text": [
            "<class 'pandas.core.frame.DataFrame'>\n",
            "Int64Index: 109 entries, 21 to 3220\n",
            "Data columns (total 24 columns):\n",
            " #   Column      Non-Null Count  Dtype         \n",
            "---  ------      --------------  -----         \n",
            " 0   발생년         109 non-null    int64         \n",
            " 1   발생년월일시      109 non-null    datetime64[ns]\n",
            " 2   주야          109 non-null    object        \n",
            " 3   요일          109 non-null    object        \n",
            " 4   사망자수        109 non-null    int64         \n",
            " 5   부상자수        109 non-null    int64         \n",
            " 6   중상자수        109 non-null    int64         \n",
            " 7   경상자수        109 non-null    int64         \n",
            " 8   부상신고자수      109 non-null    int64         \n",
            " 9   발생지시도       109 non-null    object        \n",
            " 10  발생지시군구      109 non-null    object        \n",
            " 11  사고유형_대분류    109 non-null    object        \n",
            " 12  사고유형_중분류    109 non-null    object        \n",
            " 13  사고유형        109 non-null    object        \n",
            " 14  가해자법규위반     109 non-null    object        \n",
            " 15  도로형태_대분류    109 non-null    object        \n",
            " 16  도로형태        109 non-null    object        \n",
            " 17  가해자_당사자종별   109 non-null    object        \n",
            " 18  피해자_당사자종별   109 non-null    object        \n",
            " 19  발생위치X_UTMK  109 non-null    float64       \n",
            " 20  발생위치Y_UTMK  109 non-null    float64       \n",
            " 21  경도          109 non-null    float64       \n",
            " 22  위도          109 non-null    float64       \n",
            " 23  발생시간        109 non-null    int64         \n",
            "dtypes: datetime64[ns](1), float64(4), int64(7), object(12)\n",
            "memory usage: 21.3+ KB\n"
          ],
          "name": "stdout"
        }
      ]
    },
    {
      "cell_type": "markdown",
      "metadata": {
        "id": "Eg57Zumfq4ZT"
      },
      "source": [
        "대구광역시 발생 시간별 /구 별 사망자 현황"
      ]
    },
    {
      "cell_type": "code",
      "metadata": {
        "colab": {
          "base_uri": "https://localhost:8080/",
          "height": 562
        },
        "id": "5LGeT1FZqu2q",
        "outputId": "00bdcbd8-ac88-4c1a-dec5-8b7c5955c59f"
      },
      "source": [
        "fig4=px.bar(df1,x='발생시간',y='사망자수',color ='발생지시군구',title='대구광역시 발생시간별/구별 교통사고 사망자 현황')\n",
        "fig4.show()"
      ],
      "execution_count": 20,
      "outputs": [
        {
          "output_type": "display_data",
          "data": {
            "text/html": [
              "<html>\n",
              "<head><meta charset=\"utf-8\" /></head>\n",
              "<body>\n",
              "    <div>\n",
              "            <script src=\"https://cdnjs.cloudflare.com/ajax/libs/mathjax/2.7.5/MathJax.js?config=TeX-AMS-MML_SVG\"></script><script type=\"text/javascript\">if (window.MathJax) {MathJax.Hub.Config({SVG: {font: \"STIX-Web\"}});}</script>\n",
              "                <script type=\"text/javascript\">window.PlotlyConfig = {MathJaxConfig: 'local'};</script>\n",
              "        <script src=\"https://cdn.plot.ly/plotly-latest.min.js\"></script>    \n",
              "            <div id=\"c23c1623-f580-4a0e-98db-7a8d10b6d040\" class=\"plotly-graph-div\" style=\"height:525px; width:100%;\"></div>\n",
              "            <script type=\"text/javascript\">\n",
              "                \n",
              "                    window.PLOTLYENV=window.PLOTLYENV || {};\n",
              "                    \n",
              "                if (document.getElementById(\"c23c1623-f580-4a0e-98db-7a8d10b6d040\")) {\n",
              "                    Plotly.newPlot(\n",
              "                        'c23c1623-f580-4a0e-98db-7a8d10b6d040',\n",
              "                        [{\"alignmentgroup\": \"True\", \"hoverlabel\": {\"namelength\": 0}, \"hovertemplate\": \"\\ubc1c\\uc0dd\\uc9c0\\uc2dc\\uad70\\uad6c=\\ub2ec\\uc11c\\uad6c<br>\\ubc1c\\uc0dd\\uc2dc\\uac04=%{x}<br>\\uc0ac\\ub9dd\\uc790\\uc218=%{y}\", \"legendgroup\": \"\\ubc1c\\uc0dd\\uc9c0\\uc2dc\\uad70\\uad6c=\\ub2ec\\uc11c\\uad6c\", \"marker\": {\"color\": \"#636efa\"}, \"name\": \"\\ubc1c\\uc0dd\\uc9c0\\uc2dc\\uad70\\uad6c=\\ub2ec\\uc11c\\uad6c\", \"offsetgroup\": \"\\ubc1c\\uc0dd\\uc9c0\\uc2dc\\uad70\\uad6c=\\ub2ec\\uc11c\\uad6c\", \"orientation\": \"v\", \"showlegend\": true, \"textposition\": \"auto\", \"type\": \"bar\", \"x\": [7, 13, 7, 0, 21, 22, 22, 5, 23, 8, 23, 6, 2, 12, 5, 19, 11], \"xaxis\": \"x\", \"y\": [1, 1, 1, 1, 1, 1, 1, 1, 1, 1, 1, 1, 1, 1, 1, 1, 1], \"yaxis\": \"y\"}, {\"alignmentgroup\": \"True\", \"hoverlabel\": {\"namelength\": 0}, \"hovertemplate\": \"\\ubc1c\\uc0dd\\uc9c0\\uc2dc\\uad70\\uad6c=\\ub3d9\\uad6c<br>\\ubc1c\\uc0dd\\uc2dc\\uac04=%{x}<br>\\uc0ac\\ub9dd\\uc790\\uc218=%{y}\", \"legendgroup\": \"\\ubc1c\\uc0dd\\uc9c0\\uc2dc\\uad70\\uad6c=\\ub3d9\\uad6c\", \"marker\": {\"color\": \"#EF553B\"}, \"name\": \"\\ubc1c\\uc0dd\\uc9c0\\uc2dc\\uad70\\uad6c=\\ub3d9\\uad6c\", \"offsetgroup\": \"\\ubc1c\\uc0dd\\uc9c0\\uc2dc\\uad70\\uad6c=\\ub3d9\\uad6c\", \"orientation\": \"v\", \"showlegend\": true, \"textposition\": \"auto\", \"type\": \"bar\", \"x\": [8, 1, 20, 1, 14, 0, 16, 13, 21, 4, 8, 16, 23, 15, 15, 1, 14], \"xaxis\": \"x\", \"y\": [1, 1, 1, 2, 1, 1, 1, 1, 1, 1, 1, 2, 1, 1, 1, 1, 1], \"yaxis\": \"y\"}, {\"alignmentgroup\": \"True\", \"hoverlabel\": {\"namelength\": 0}, \"hovertemplate\": \"\\ubc1c\\uc0dd\\uc9c0\\uc2dc\\uad70\\uad6c=\\ub2ec\\uc131\\uad70<br>\\ubc1c\\uc0dd\\uc2dc\\uac04=%{x}<br>\\uc0ac\\ub9dd\\uc790\\uc218=%{y}\", \"legendgroup\": \"\\ubc1c\\uc0dd\\uc9c0\\uc2dc\\uad70\\uad6c=\\ub2ec\\uc131\\uad70\", \"marker\": {\"color\": \"#00cc96\"}, \"name\": \"\\ubc1c\\uc0dd\\uc9c0\\uc2dc\\uad70\\uad6c=\\ub2ec\\uc131\\uad70\", \"offsetgroup\": \"\\ubc1c\\uc0dd\\uc9c0\\uc2dc\\uad70\\uad6c=\\ub2ec\\uc131\\uad70\", \"orientation\": \"v\", \"showlegend\": true, \"textposition\": \"auto\", \"type\": \"bar\", \"x\": [12, 5, 2, 15, 9, 1, 19, 15, 20, 7, 8, 23, 0, 1, 19, 13, 15, 21, 8, 11, 18], \"xaxis\": \"x\", \"y\": [1, 2, 1, 1, 1, 1, 1, 1, 1, 1, 1, 1, 1, 1, 1, 1, 1, 1, 1, 1, 1], \"yaxis\": \"y\"}, {\"alignmentgroup\": \"True\", \"hoverlabel\": {\"namelength\": 0}, \"hovertemplate\": \"\\ubc1c\\uc0dd\\uc9c0\\uc2dc\\uad70\\uad6c=\\uc218\\uc131\\uad6c<br>\\ubc1c\\uc0dd\\uc2dc\\uac04=%{x}<br>\\uc0ac\\ub9dd\\uc790\\uc218=%{y}\", \"legendgroup\": \"\\ubc1c\\uc0dd\\uc9c0\\uc2dc\\uad70\\uad6c=\\uc218\\uc131\\uad6c\", \"marker\": {\"color\": \"#ab63fa\"}, \"name\": \"\\ubc1c\\uc0dd\\uc9c0\\uc2dc\\uad70\\uad6c=\\uc218\\uc131\\uad6c\", \"offsetgroup\": \"\\ubc1c\\uc0dd\\uc9c0\\uc2dc\\uad70\\uad6c=\\uc218\\uc131\\uad6c\", \"orientation\": \"v\", \"showlegend\": true, \"textposition\": \"auto\", \"type\": \"bar\", \"x\": [5, 0, 2, 9, 22, 12, 3, 11, 21], \"xaxis\": \"x\", \"y\": [1, 1, 1, 1, 1, 1, 1, 1, 1], \"yaxis\": \"y\"}, {\"alignmentgroup\": \"True\", \"hoverlabel\": {\"namelength\": 0}, \"hovertemplate\": \"\\ubc1c\\uc0dd\\uc9c0\\uc2dc\\uad70\\uad6c=\\uc11c\\uad6c<br>\\ubc1c\\uc0dd\\uc2dc\\uac04=%{x}<br>\\uc0ac\\ub9dd\\uc790\\uc218=%{y}\", \"legendgroup\": \"\\ubc1c\\uc0dd\\uc9c0\\uc2dc\\uad70\\uad6c=\\uc11c\\uad6c\", \"marker\": {\"color\": \"#FFA15A\"}, \"name\": \"\\ubc1c\\uc0dd\\uc9c0\\uc2dc\\uad70\\uad6c=\\uc11c\\uad6c\", \"offsetgroup\": \"\\ubc1c\\uc0dd\\uc9c0\\uc2dc\\uad70\\uad6c=\\uc11c\\uad6c\", \"orientation\": \"v\", \"showlegend\": true, \"textposition\": \"auto\", \"type\": \"bar\", \"x\": [21, 2, 12, 3, 10, 4, 3, 14], \"xaxis\": \"x\", \"y\": [1, 1, 1, 1, 1, 1, 1, 1], \"yaxis\": \"y\"}, {\"alignmentgroup\": \"True\", \"hoverlabel\": {\"namelength\": 0}, \"hovertemplate\": \"\\ubc1c\\uc0dd\\uc9c0\\uc2dc\\uad70\\uad6c=\\ubd81\\uad6c<br>\\ubc1c\\uc0dd\\uc2dc\\uac04=%{x}<br>\\uc0ac\\ub9dd\\uc790\\uc218=%{y}\", \"legendgroup\": \"\\ubc1c\\uc0dd\\uc9c0\\uc2dc\\uad70\\uad6c=\\ubd81\\uad6c\", \"marker\": {\"color\": \"#19d3f3\"}, \"name\": \"\\ubc1c\\uc0dd\\uc9c0\\uc2dc\\uad70\\uad6c=\\ubd81\\uad6c\", \"offsetgroup\": \"\\ubc1c\\uc0dd\\uc9c0\\uc2dc\\uad70\\uad6c=\\ubd81\\uad6c\", \"orientation\": \"v\", \"showlegend\": true, \"textposition\": \"auto\", \"type\": \"bar\", \"x\": [6, 11, 0, 1, 19, 11, 0, 19, 6, 5, 14, 4, 22, 17, 19, 6, 19, 6, 1, 6, 5, 20], \"xaxis\": \"x\", \"y\": [1, 1, 1, 1, 1, 1, 1, 1, 1, 1, 1, 1, 1, 1, 1, 1, 1, 1, 1, 1, 1, 1], \"yaxis\": \"y\"}, {\"alignmentgroup\": \"True\", \"hoverlabel\": {\"namelength\": 0}, \"hovertemplate\": \"\\ubc1c\\uc0dd\\uc9c0\\uc2dc\\uad70\\uad6c=\\ub0a8\\uad6c<br>\\ubc1c\\uc0dd\\uc2dc\\uac04=%{x}<br>\\uc0ac\\ub9dd\\uc790\\uc218=%{y}\", \"legendgroup\": \"\\ubc1c\\uc0dd\\uc9c0\\uc2dc\\uad70\\uad6c=\\ub0a8\\uad6c\", \"marker\": {\"color\": \"#FF6692\"}, \"name\": \"\\ubc1c\\uc0dd\\uc9c0\\uc2dc\\uad70\\uad6c=\\ub0a8\\uad6c\", \"offsetgroup\": \"\\ubc1c\\uc0dd\\uc9c0\\uc2dc\\uad70\\uad6c=\\ub0a8\\uad6c\", \"orientation\": \"v\", \"showlegend\": true, \"textposition\": \"auto\", \"type\": \"bar\", \"x\": [3, 8, 16, 0], \"xaxis\": \"x\", \"y\": [1, 1, 1, 1], \"yaxis\": \"y\"}, {\"alignmentgroup\": \"True\", \"hoverlabel\": {\"namelength\": 0}, \"hovertemplate\": \"\\ubc1c\\uc0dd\\uc9c0\\uc2dc\\uad70\\uad6c=\\uc911\\uad6c<br>\\ubc1c\\uc0dd\\uc2dc\\uac04=%{x}<br>\\uc0ac\\ub9dd\\uc790\\uc218=%{y}\", \"legendgroup\": \"\\ubc1c\\uc0dd\\uc9c0\\uc2dc\\uad70\\uad6c=\\uc911\\uad6c\", \"marker\": {\"color\": \"#B6E880\"}, \"name\": \"\\ubc1c\\uc0dd\\uc9c0\\uc2dc\\uad70\\uad6c=\\uc911\\uad6c\", \"offsetgroup\": \"\\ubc1c\\uc0dd\\uc9c0\\uc2dc\\uad70\\uad6c=\\uc911\\uad6c\", \"orientation\": \"v\", \"showlegend\": true, \"textposition\": \"auto\", \"type\": \"bar\", \"x\": [14, 10, 16, 6, 5, 7, 4, 12, 2, 17, 1], \"xaxis\": \"x\", \"y\": [1, 1, 1, 1, 1, 1, 1, 1, 1, 1, 1], \"yaxis\": \"y\"}],\n",
              "                        {\"barmode\": \"relative\", \"legend\": {\"tracegroupgap\": 0}, \"template\": {\"data\": {\"bar\": [{\"error_x\": {\"color\": \"#2a3f5f\"}, \"error_y\": {\"color\": \"#2a3f5f\"}, \"marker\": {\"line\": {\"color\": \"#E5ECF6\", \"width\": 0.5}}, \"type\": \"bar\"}], \"barpolar\": [{\"marker\": {\"line\": {\"color\": \"#E5ECF6\", \"width\": 0.5}}, \"type\": \"barpolar\"}], \"carpet\": [{\"aaxis\": {\"endlinecolor\": \"#2a3f5f\", \"gridcolor\": \"white\", \"linecolor\": \"white\", \"minorgridcolor\": \"white\", \"startlinecolor\": \"#2a3f5f\"}, \"baxis\": {\"endlinecolor\": \"#2a3f5f\", \"gridcolor\": \"white\", \"linecolor\": \"white\", \"minorgridcolor\": \"white\", \"startlinecolor\": \"#2a3f5f\"}, \"type\": \"carpet\"}], \"choropleth\": [{\"colorbar\": {\"outlinewidth\": 0, \"ticks\": \"\"}, \"type\": \"choropleth\"}], \"contour\": [{\"colorbar\": {\"outlinewidth\": 0, \"ticks\": \"\"}, \"colorscale\": [[0.0, \"#0d0887\"], [0.1111111111111111, \"#46039f\"], [0.2222222222222222, \"#7201a8\"], [0.3333333333333333, \"#9c179e\"], [0.4444444444444444, \"#bd3786\"], [0.5555555555555556, \"#d8576b\"], [0.6666666666666666, \"#ed7953\"], [0.7777777777777778, \"#fb9f3a\"], [0.8888888888888888, \"#fdca26\"], [1.0, \"#f0f921\"]], \"type\": \"contour\"}], \"contourcarpet\": [{\"colorbar\": {\"outlinewidth\": 0, \"ticks\": \"\"}, \"type\": \"contourcarpet\"}], \"heatmap\": [{\"colorbar\": {\"outlinewidth\": 0, \"ticks\": \"\"}, \"colorscale\": [[0.0, \"#0d0887\"], [0.1111111111111111, \"#46039f\"], [0.2222222222222222, \"#7201a8\"], [0.3333333333333333, \"#9c179e\"], [0.4444444444444444, \"#bd3786\"], [0.5555555555555556, \"#d8576b\"], [0.6666666666666666, \"#ed7953\"], [0.7777777777777778, \"#fb9f3a\"], [0.8888888888888888, \"#fdca26\"], [1.0, \"#f0f921\"]], \"type\": \"heatmap\"}], \"heatmapgl\": [{\"colorbar\": {\"outlinewidth\": 0, \"ticks\": \"\"}, \"colorscale\": [[0.0, \"#0d0887\"], [0.1111111111111111, \"#46039f\"], [0.2222222222222222, \"#7201a8\"], [0.3333333333333333, \"#9c179e\"], [0.4444444444444444, \"#bd3786\"], [0.5555555555555556, \"#d8576b\"], [0.6666666666666666, \"#ed7953\"], [0.7777777777777778, \"#fb9f3a\"], [0.8888888888888888, \"#fdca26\"], [1.0, \"#f0f921\"]], \"type\": \"heatmapgl\"}], \"histogram\": [{\"marker\": {\"colorbar\": {\"outlinewidth\": 0, \"ticks\": \"\"}}, \"type\": \"histogram\"}], \"histogram2d\": [{\"colorbar\": {\"outlinewidth\": 0, \"ticks\": \"\"}, \"colorscale\": [[0.0, \"#0d0887\"], [0.1111111111111111, \"#46039f\"], [0.2222222222222222, \"#7201a8\"], [0.3333333333333333, \"#9c179e\"], [0.4444444444444444, \"#bd3786\"], [0.5555555555555556, \"#d8576b\"], [0.6666666666666666, \"#ed7953\"], [0.7777777777777778, \"#fb9f3a\"], [0.8888888888888888, \"#fdca26\"], [1.0, \"#f0f921\"]], \"type\": \"histogram2d\"}], \"histogram2dcontour\": [{\"colorbar\": {\"outlinewidth\": 0, \"ticks\": \"\"}, \"colorscale\": [[0.0, \"#0d0887\"], [0.1111111111111111, \"#46039f\"], [0.2222222222222222, \"#7201a8\"], [0.3333333333333333, \"#9c179e\"], [0.4444444444444444, \"#bd3786\"], [0.5555555555555556, \"#d8576b\"], [0.6666666666666666, \"#ed7953\"], [0.7777777777777778, \"#fb9f3a\"], [0.8888888888888888, \"#fdca26\"], [1.0, \"#f0f921\"]], \"type\": \"histogram2dcontour\"}], \"mesh3d\": [{\"colorbar\": {\"outlinewidth\": 0, \"ticks\": \"\"}, \"type\": \"mesh3d\"}], \"parcoords\": [{\"line\": {\"colorbar\": {\"outlinewidth\": 0, \"ticks\": \"\"}}, \"type\": \"parcoords\"}], \"pie\": [{\"automargin\": true, \"type\": \"pie\"}], \"scatter\": [{\"marker\": {\"colorbar\": {\"outlinewidth\": 0, \"ticks\": \"\"}}, \"type\": \"scatter\"}], \"scatter3d\": [{\"line\": {\"colorbar\": {\"outlinewidth\": 0, \"ticks\": \"\"}}, \"marker\": {\"colorbar\": {\"outlinewidth\": 0, \"ticks\": \"\"}}, \"type\": \"scatter3d\"}], \"scattercarpet\": [{\"marker\": {\"colorbar\": {\"outlinewidth\": 0, \"ticks\": \"\"}}, \"type\": \"scattercarpet\"}], \"scattergeo\": [{\"marker\": {\"colorbar\": {\"outlinewidth\": 0, \"ticks\": \"\"}}, \"type\": \"scattergeo\"}], \"scattergl\": [{\"marker\": {\"colorbar\": {\"outlinewidth\": 0, \"ticks\": \"\"}}, \"type\": \"scattergl\"}], \"scattermapbox\": [{\"marker\": {\"colorbar\": {\"outlinewidth\": 0, \"ticks\": \"\"}}, \"type\": \"scattermapbox\"}], \"scatterpolar\": [{\"marker\": {\"colorbar\": {\"outlinewidth\": 0, \"ticks\": \"\"}}, \"type\": \"scatterpolar\"}], \"scatterpolargl\": [{\"marker\": {\"colorbar\": {\"outlinewidth\": 0, \"ticks\": \"\"}}, \"type\": \"scatterpolargl\"}], \"scatterternary\": [{\"marker\": {\"colorbar\": {\"outlinewidth\": 0, \"ticks\": \"\"}}, \"type\": \"scatterternary\"}], \"surface\": [{\"colorbar\": {\"outlinewidth\": 0, \"ticks\": \"\"}, \"colorscale\": [[0.0, \"#0d0887\"], [0.1111111111111111, \"#46039f\"], [0.2222222222222222, \"#7201a8\"], [0.3333333333333333, \"#9c179e\"], [0.4444444444444444, \"#bd3786\"], [0.5555555555555556, \"#d8576b\"], [0.6666666666666666, \"#ed7953\"], [0.7777777777777778, \"#fb9f3a\"], [0.8888888888888888, \"#fdca26\"], [1.0, \"#f0f921\"]], \"type\": \"surface\"}], \"table\": [{\"cells\": {\"fill\": {\"color\": \"#EBF0F8\"}, \"line\": {\"color\": \"white\"}}, \"header\": {\"fill\": {\"color\": \"#C8D4E3\"}, \"line\": {\"color\": \"white\"}}, \"type\": \"table\"}]}, \"layout\": {\"annotationdefaults\": {\"arrowcolor\": \"#2a3f5f\", \"arrowhead\": 0, \"arrowwidth\": 1}, \"coloraxis\": {\"colorbar\": {\"outlinewidth\": 0, \"ticks\": \"\"}}, \"colorscale\": {\"diverging\": [[0, \"#8e0152\"], [0.1, \"#c51b7d\"], [0.2, \"#de77ae\"], [0.3, \"#f1b6da\"], [0.4, \"#fde0ef\"], [0.5, \"#f7f7f7\"], [0.6, \"#e6f5d0\"], [0.7, \"#b8e186\"], [0.8, \"#7fbc41\"], [0.9, \"#4d9221\"], [1, \"#276419\"]], \"sequential\": [[0.0, \"#0d0887\"], [0.1111111111111111, \"#46039f\"], [0.2222222222222222, \"#7201a8\"], [0.3333333333333333, \"#9c179e\"], [0.4444444444444444, \"#bd3786\"], [0.5555555555555556, \"#d8576b\"], [0.6666666666666666, \"#ed7953\"], [0.7777777777777778, \"#fb9f3a\"], [0.8888888888888888, \"#fdca26\"], [1.0, \"#f0f921\"]], \"sequentialminus\": [[0.0, \"#0d0887\"], [0.1111111111111111, \"#46039f\"], [0.2222222222222222, \"#7201a8\"], [0.3333333333333333, \"#9c179e\"], [0.4444444444444444, \"#bd3786\"], [0.5555555555555556, \"#d8576b\"], [0.6666666666666666, \"#ed7953\"], [0.7777777777777778, \"#fb9f3a\"], [0.8888888888888888, \"#fdca26\"], [1.0, \"#f0f921\"]]}, \"colorway\": [\"#636efa\", \"#EF553B\", \"#00cc96\", \"#ab63fa\", \"#FFA15A\", \"#19d3f3\", \"#FF6692\", \"#B6E880\", \"#FF97FF\", \"#FECB52\"], \"font\": {\"color\": \"#2a3f5f\"}, \"geo\": {\"bgcolor\": \"white\", \"lakecolor\": \"white\", \"landcolor\": \"#E5ECF6\", \"showlakes\": true, \"showland\": true, \"subunitcolor\": \"white\"}, \"hoverlabel\": {\"align\": \"left\"}, \"hovermode\": \"closest\", \"mapbox\": {\"style\": \"light\"}, \"paper_bgcolor\": \"white\", \"plot_bgcolor\": \"#E5ECF6\", \"polar\": {\"angularaxis\": {\"gridcolor\": \"white\", \"linecolor\": \"white\", \"ticks\": \"\"}, \"bgcolor\": \"#E5ECF6\", \"radialaxis\": {\"gridcolor\": \"white\", \"linecolor\": \"white\", \"ticks\": \"\"}}, \"scene\": {\"xaxis\": {\"backgroundcolor\": \"#E5ECF6\", \"gridcolor\": \"white\", \"gridwidth\": 2, \"linecolor\": \"white\", \"showbackground\": true, \"ticks\": \"\", \"zerolinecolor\": \"white\"}, \"yaxis\": {\"backgroundcolor\": \"#E5ECF6\", \"gridcolor\": \"white\", \"gridwidth\": 2, \"linecolor\": \"white\", \"showbackground\": true, \"ticks\": \"\", \"zerolinecolor\": \"white\"}, \"zaxis\": {\"backgroundcolor\": \"#E5ECF6\", \"gridcolor\": \"white\", \"gridwidth\": 2, \"linecolor\": \"white\", \"showbackground\": true, \"ticks\": \"\", \"zerolinecolor\": \"white\"}}, \"shapedefaults\": {\"line\": {\"color\": \"#2a3f5f\"}}, \"ternary\": {\"aaxis\": {\"gridcolor\": \"white\", \"linecolor\": \"white\", \"ticks\": \"\"}, \"baxis\": {\"gridcolor\": \"white\", \"linecolor\": \"white\", \"ticks\": \"\"}, \"bgcolor\": \"#E5ECF6\", \"caxis\": {\"gridcolor\": \"white\", \"linecolor\": \"white\", \"ticks\": \"\"}}, \"title\": {\"x\": 0.05}, \"xaxis\": {\"automargin\": true, \"gridcolor\": \"white\", \"linecolor\": \"white\", \"ticks\": \"\", \"title\": {\"standoff\": 15}, \"zerolinecolor\": \"white\", \"zerolinewidth\": 2}, \"yaxis\": {\"automargin\": true, \"gridcolor\": \"white\", \"linecolor\": \"white\", \"ticks\": \"\", \"title\": {\"standoff\": 15}, \"zerolinecolor\": \"white\", \"zerolinewidth\": 2}}}, \"title\": {\"text\": \"\\ub300\\uad6c\\uad11\\uc5ed\\uc2dc \\ubc1c\\uc0dd\\uc2dc\\uac04\\ubcc4/\\uad6c\\ubcc4 \\uad50\\ud1b5\\uc0ac\\uace0 \\uc0ac\\ub9dd\\uc790 \\ud604\\ud669\"}, \"xaxis\": {\"anchor\": \"y\", \"domain\": [0.0, 1.0], \"title\": {\"text\": \"\\ubc1c\\uc0dd\\uc2dc\\uac04\"}}, \"yaxis\": {\"anchor\": \"x\", \"domain\": [0.0, 1.0], \"title\": {\"text\": \"\\uc0ac\\ub9dd\\uc790\\uc218\"}}},\n",
              "                        {\"responsive\": true}\n",
              "                    ).then(function(){\n",
              "                            \n",
              "var gd = document.getElementById('c23c1623-f580-4a0e-98db-7a8d10b6d040');\n",
              "var x = new MutationObserver(function (mutations, observer) {{\n",
              "        var display = window.getComputedStyle(gd).display;\n",
              "        if (!display || display === 'none') {{\n",
              "            console.log([gd, 'removed!']);\n",
              "            Plotly.purge(gd);\n",
              "            observer.disconnect();\n",
              "        }}\n",
              "}});\n",
              "\n",
              "// Listen for the removal of the full notebook cells\n",
              "var notebookContainer = gd.closest('#notebook-container');\n",
              "if (notebookContainer) {{\n",
              "    x.observe(notebookContainer, {childList: true});\n",
              "}}\n",
              "\n",
              "// Listen for the clearing of the current output cell\n",
              "var outputEl = gd.closest('.output');\n",
              "if (outputEl) {{\n",
              "    x.observe(outputEl, {childList: true});\n",
              "}}\n",
              "\n",
              "                        })\n",
              "                };\n",
              "                \n",
              "            </script>\n",
              "        </div>\n",
              "</body>\n",
              "</html>"
            ]
          },
          "metadata": {
            "tags": []
          }
        }
      ]
    },
    {
      "cell_type": "code",
      "metadata": {
        "colab": {
          "base_uri": "https://localhost:8080/"
        },
        "id": "uCs5TRFirNmM",
        "outputId": "1bb33a8e-fb4a-4a2f-bd03-b3e07b98aaf6"
      },
      "source": [
        "pd.unique(df['발생지시군구'])"
      ],
      "execution_count": 29,
      "outputs": [
        {
          "output_type": "execute_result",
          "data": {
            "text/plain": [
              "array(['해운대구', '안산시', '청도군', '서구', '영천시', '충주시', '계양구', '중구', '광주시',\n",
              "       '서천군', '전주시', '정읍시', '김해시', '평택시', '거제시', '영암군', '울주군', '노원구',\n",
              "       '공주시', '달서구', '칠곡군', '여주시', '안성시', '평창군', '사하구', '동구', '순천시',\n",
              "       '완주군', '남동구', '달성군', '횡성군', '보은군', '나주시', '김제시', '연수구', '원주시',\n",
              "       '수성구', '홍성군', '고양시', '이천시', '진주시', '강서구', '부평구', '수영구', '당진시',\n",
              "       '김포시', '양평군', '양산시', '화성시', '용인시', '경산시', '아산시', '영덕군', '예천군',\n",
              "       '장흥군', '사천시', '상주시', '양주시', '진천군', '논산시', '서귀포시', '천안시', '의정부시',\n",
              "       '부천시', '안동시', '하남시', '금산군', '서산시', '남양주시', '진도군', '시흥시', '문경시',\n",
              "       '영동군', '김천시', '대덕구', '삼척시', '구로구', '광명시', '홍천군', '청주시', '성동구',\n",
              "       '기장군', '창원시(통합)', '고성군', '화순군', '강남구', '제주시', '강동구', '강화군', '동작구',\n",
              "       '동두천시', '성남시', '금정구', '도봉구', '수원시', '경주시', '무안군', '여수시', '제천시',\n",
              "       '속초시', '의성군', '연천군', '함양군', '금천구', '음성군', '춘천시', '북구', '영주시',\n",
              "       '영월군', '양구군', '종로구', '함안군', '해남군', '사상구', '강진군', '보성군', '미추홀구',\n",
              "       '인제군', '익산시', '군포시', '영광군', '영양군', '부여군', '광양시', '순창군', '신안군',\n",
              "       '합천군', '용산구', '광산구', '보령시', '증평군', '은평구', '양천구', '완도군', '옥천군',\n",
              "       '오산시', '구미시', '남구', '장성군', '곡성군', '유성구', '봉화군', '영등포구', '안양시',\n",
              "       '임실군', '목포시', '거창군', '장수군', '송파구', '함평군', '마포구', '포항시', '구례군',\n",
              "       '부산진구', '양양군', '구리시', '군산시', '성북구', '성주군', '태안군', '군위군', '포천시',\n",
              "       '하동군', '영도구', '청양군', '파주시', '가평군', '밀양시', '괴산군', '담양군', '무주군',\n",
              "       '광진구', '철원군', '부안군', '옹진군', '예산군', '관악구', '의령군', '고흥군', '진안군',\n",
              "       '남원시', '강릉시', '서대문구', '중랑구', '남해군', '정선군', '의왕시', '강북구', '동대문구',\n",
              "       '세종시', '청송군', '단양군', '울진군', '동해시', '창녕군', '통영시', '서초구', '태백시',\n",
              "       '동래구', '화천군', '고창군', '고령군', '연제구', '계룡시', '산청군', '과천시'],\n",
              "      dtype=object)"
            ]
          },
          "metadata": {
            "tags": []
          },
          "execution_count": 29
        }
      ]
    },
    {
      "cell_type": "markdown",
      "metadata": {
        "id": "weaQlJALuCTk"
      },
      "source": [
        "지도 활용하여 교통사고 현황 분석"
      ]
    },
    {
      "cell_type": "code",
      "metadata": {
        "id": "VOGecAc6r6pc"
      },
      "source": [
        "import folium\n",
        "map =folium.Map(location=[36.351,127.386]) # 좌표 기준은 내가 표현하고 싶은 도시의 시청이다\n"
      ],
      "execution_count": 30,
      "outputs": []
    },
    {
      "cell_type": "code",
      "metadata": {
        "id": "JIWk4Bcfus5B"
      },
      "source": [
        "map"
      ],
      "execution_count": null,
      "outputs": []
    },
    {
      "cell_type": "markdown",
      "metadata": {
        "id": "eVyoMHrmvKFM"
      },
      "source": [
        "지도에 필요한 정보만 담기 -> 대전의 교통사고 현황을 지도에 표출"
      ]
    },
    {
      "cell_type": "code",
      "metadata": {
        "colab": {
          "base_uri": "https://localhost:8080/"
        },
        "id": "2iLW1kA2utpO",
        "outputId": "a5938c0a-38eb-4cb3-9a0f-8aabb0f2d4dd"
      },
      "source": [
        "df_map=df[df.발생지시도=='대전']\n",
        "df_map.info()"
      ],
      "execution_count": 32,
      "outputs": [
        {
          "output_type": "stream",
          "text": [
            "<class 'pandas.core.frame.DataFrame'>\n",
            "Int64Index: 74 entries, 3 to 3124\n",
            "Data columns (total 24 columns):\n",
            " #   Column      Non-Null Count  Dtype         \n",
            "---  ------      --------------  -----         \n",
            " 0   발생년         74 non-null     int64         \n",
            " 1   발생년월일시      74 non-null     datetime64[ns]\n",
            " 2   주야          74 non-null     object        \n",
            " 3   요일          74 non-null     object        \n",
            " 4   사망자수        74 non-null     int64         \n",
            " 5   부상자수        74 non-null     int64         \n",
            " 6   중상자수        74 non-null     int64         \n",
            " 7   경상자수        74 non-null     int64         \n",
            " 8   부상신고자수      74 non-null     int64         \n",
            " 9   발생지시도       74 non-null     object        \n",
            " 10  발생지시군구      74 non-null     object        \n",
            " 11  사고유형_대분류    74 non-null     object        \n",
            " 12  사고유형_중분류    74 non-null     object        \n",
            " 13  사고유형        74 non-null     object        \n",
            " 14  가해자법규위반     74 non-null     object        \n",
            " 15  도로형태_대분류    74 non-null     object        \n",
            " 16  도로형태        74 non-null     object        \n",
            " 17  가해자_당사자종별   74 non-null     object        \n",
            " 18  피해자_당사자종별   74 non-null     object        \n",
            " 19  발생위치X_UTMK  74 non-null     float64       \n",
            " 20  발생위치Y_UTMK  74 non-null     float64       \n",
            " 21  경도          74 non-null     float64       \n",
            " 22  위도          74 non-null     float64       \n",
            " 23  발생시간        74 non-null     int64         \n",
            "dtypes: datetime64[ns](1), float64(4), int64(7), object(12)\n",
            "memory usage: 14.5+ KB\n"
          ],
          "name": "stdout"
        }
      ]
    },
    {
      "cell_type": "markdown",
      "metadata": {
        "id": "rjTMJKHkv0tB"
      },
      "source": [
        "사망자수,부상자수,중상자수,경상자수 전처리 -> 지도에 원을 그리기 위해서"
      ]
    },
    {
      "cell_type": "code",
      "metadata": {
        "id": "euf_CpmovUTH"
      },
      "source": [
        "df_map=df_map.astype({'사망자수':'float64'})\n",
        "df_map=df_map.astype({'부상자수':'float64'})\n",
        "df_map=df_map.astype({'중상자수':'float64'})\n",
        "df_map=df_map.astype({'경상자수':'float64'})"
      ],
      "execution_count": 36,
      "outputs": []
    },
    {
      "cell_type": "markdown",
      "metadata": {
        "id": "QGV02Ay7wgA0"
      },
      "source": [
        "사망자수,경상자수에 따른 CirvleMarker 지도에 표출하기"
      ]
    },
    {
      "cell_type": "code",
      "metadata": {
        "id": "LA186o5SwK3m"
      },
      "source": [
        "for n in df_map.index:\n",
        "  cnt=df_map['사망자수'][n] + df_map['경상자수'][n] #사망자수 +경상자수  -> CircleMarker의 사이즈\n",
        "  folium.CircleMarker([df_map['위도'][n],df_map['경도'][n]],\n",
        "                       radius=(cnt*10),popup=df_map['사고유형'][n],color='#3186cc', fill_color='#3186cc').add_to(map)\n",
        "map.save('대전교통사고현황.html')"
      ],
      "execution_count": 51,
      "outputs": []
    },
    {
      "cell_type": "code",
      "metadata": {
        "id": "29OcNnwexFu8"
      },
      "source": [
        ""
      ],
      "execution_count": null,
      "outputs": []
    }
  ]
}