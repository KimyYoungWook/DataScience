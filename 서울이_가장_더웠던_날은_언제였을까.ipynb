{
  "nbformat": 4,
  "nbformat_minor": 0,
  "metadata": {
    "colab": {
      "name": "서울이_가장_더웠던_날은_언제였을까.ipynb",
      "provenance": [],
      "authorship_tag": "ABX9TyMbctbRM2C8p4K58uBmaz6F",
      "include_colab_link": true
    },
    "kernelspec": {
      "name": "python3",
      "display_name": "Python 3"
    },
    "language_info": {
      "name": "python"
    }
  },
  "cells": [
    {
      "cell_type": "markdown",
      "metadata": {
        "id": "view-in-github",
        "colab_type": "text"
      },
      "source": [
        "<a href=\"https://colab.research.google.com/github/KimyYoungWook/DataScience/blob/main/%EC%84%9C%EC%9A%B8%EC%9D%B4_%EA%B0%80%EC%9E%A5_%EB%8D%94%EC%9B%A0%EB%8D%98_%EB%82%A0%EC%9D%80_%EC%96%B8%EC%A0%9C%EC%98%80%EC%9D%84%EA%B9%8C.ipynb\" target=\"_parent\"><img src=\"https://colab.research.google.com/assets/colab-badge.svg\" alt=\"Open In Colab\"/></a>"
      ]
    },
    {
      "cell_type": "markdown",
      "metadata": {
        "id": "mcziLQfgh4x_"
      },
      "source": [
        "step 1) 데이터 불러서 한행씩 출력하기\n",
        "\n"
      ]
    },
    {
      "cell_type": "code",
      "metadata": {
        "id": "Vi2P5CoRht_T"
      },
      "source": [
        "import csv\n",
        "f = open('/content/Seoul.csv.csv','r',encoding='cp949')\n",
        "data =csv.reader(f) \n",
        "header = next(data) #헤더 추출\n",
        "\n",
        "for row in data:\n",
        "  #최고 기온 데이터만 추출\n",
        "  print(row[-1])\n",
        "f.close()"
      ],
      "execution_count": null,
      "outputs": []
    },
    {
      "cell_type": "markdown",
      "metadata": {
        "id": "iKjpied_kqr5"
      },
      "source": [
        "step 2) 데이터 중 최고 기온을 실수로 변환하여 한 행씩 출력"
      ]
    },
    {
      "cell_type": "code",
      "metadata": {
        "id": "PV4XzRxyh5P-"
      },
      "source": [
        "import csv\n",
        "max_temp = -999 # 최고 기온 값을 저장할 변수 -> 명확한 결과를 위해 극적인 값으로 셋팅\n",
        "max_data = '' # 최고 기온이 가장 높았던 날짜를 저장하는 변수\n",
        "f = open('/content/Seoul.csv','r',encoding='cp949')\n",
        "data =csv.reader(f) \n",
        "header = next(data) #헤더 추출\n",
        "\n",
        "for row in data :\n",
        "  #최고 기온 데이터가 ''(결측치) 확인\n",
        "  if row[-1] =='':\n",
        "    row[-1] = -999 # -999을 넣어서 빈 문자열('')이 있던 자리라고 표시\n",
        "  row[-1] = float(row[-1])\n",
        "  print(row)\n",
        "\n",
        "f.close()"
      ],
      "execution_count": null,
      "outputs": []
    },
    {
      "cell_type": "markdown",
      "metadata": {
        "id": "FSI-X13ErgY2"
      },
      "source": [
        "step 3) 최고 기온과 최고 기온이었던 날짜 찾기"
      ]
    },
    {
      "cell_type": "code",
      "metadata": {
        "colab": {
          "base_uri": "https://localhost:8080/"
        },
        "id": "fQzr12-Mmi1j",
        "outputId": "a459acfd-5a8d-4fea-af4c-7d26133f180c"
      },
      "source": [
        "import csv\n",
        "max_temp = -999 # 최고 기온 값을 저장할 변수 -> 명확한 결과를 위해 극적인 값으로 셋팅\n",
        "max_data = '' # 최고 기온이 가장 높았던 날짜를 저장하는 변수\n",
        "f = open('/content/Seoul.csv','r',encoding='cp949')\n",
        "data =csv.reader(f) \n",
        "header = next(data) #헤더 추출\n",
        "\n",
        "for row in data :\n",
        "  #최고 기온 데이터가 ''(결측치) 확인\n",
        "  if row[-1] =='':\n",
        "    row[-1] = -999 # -999을 넣어서 빈 문자열('')이 있던 자리라고 표시\n",
        "  row[-1] = float(row[-1])\n",
        "  # 최고 기온 정보를 저장\n",
        "  if max_temp < row[-1]: \n",
        "    max_temp = row[-1]\n",
        "    max_date = row[0]\n",
        "f.close()    \n",
        "print(\"기상 관측이래 서울의 최고 기온이 가장 높았던 날은 {}로 {}도 였습니다.\".format(max_date,max_temp))    "
      ],
      "execution_count": null,
      "outputs": [
        {
          "output_type": "stream",
          "text": [
            "기상 관측이래 서울의 최고 기온이 가장 높았던 날은 2018-08-01로 39.6도 였습니다.\n"
          ],
          "name": "stdout"
        }
      ]
    },
    {
      "cell_type": "markdown",
      "metadata": {
        "id": "-uCa15e_sniK"
      },
      "source": [
        "step 4) 최저 기온과 최저 기온이었던 날짜 찾기(스스로 해보기)"
      ]
    },
    {
      "cell_type": "code",
      "metadata": {
        "colab": {
          "base_uri": "https://localhost:8080/"
        },
        "id": "wXDS77BvsFqQ",
        "outputId": "c878d070-8623-442d-bda2-48a77164ad62"
      },
      "source": [
        "import csv\n",
        "min_temp = 999 # 최고 기온 값을 저장할 변수 -> 명확한 결과를 위해 극적인 값으로 셋팅\n",
        "min_data = '' # 최고 기온이 가장 높았던 날짜를 저장하는 변수\n",
        "f = open('/content/Seoul.csv','r',encoding='cp949')\n",
        "data =csv.reader(f) \n",
        "header = next(data) #헤더 추출\n",
        "\n",
        "for row in data :\n",
        "  #최고 기온 데이터가 ''(결측치) 확인\n",
        "  if row[-2] =='':\n",
        "    row[-2] = 999 # -999을 넣어서 빈 문자열('')이 있던 자리라고 표시\n",
        "  row[-2] = float(row[-2])\n",
        "  # 최고 기온 정보를 저장\n",
        "  if min_temp > row[-2]: \n",
        "    min_temp = row[-2]\n",
        "    min_date = row[0]\n",
        "f.close()    \n",
        "print(\"기상 관측이래 서울의 최저 기온이 가장 낮았던 날은 {}로 {}도 였습니다.\".format(min_date,min_temp))    "
      ],
      "execution_count": null,
      "outputs": [
        {
          "output_type": "stream",
          "text": [
            "기상 관측이래 서울의 최저 기온이 가장 낮았던 날은 1927-12-31로 -23.1도 였습니다.\n"
          ],
          "name": "stdout"
        }
      ]
    },
    {
      "cell_type": "code",
      "metadata": {
        "colab": {
          "base_uri": "https://localhost:8080/"
        },
        "id": "o_5aAHwPw_qQ",
        "outputId": "ac8933e2-b01d-4765-c138-d4a326a403e9"
      },
      "source": [
        "import csv\n",
        "f = open('/content/Seoul.csv','r',encoding='cp949')\n",
        "data =csv.reader(f)\n",
        "header = next(data)\n",
        "data_list = list(data)\n",
        "\n",
        "row_max = [float(i[-1]) for i in data_list if i[-1] != '' ]\n",
        "row_min = [float(i[-2]) for i in data_list if i[-2] != '' ]\n",
        "print(max(row_max))\n",
        "print(min(row_min))\n",
        "\n"
      ],
      "execution_count": null,
      "outputs": [
        {
          "output_type": "stream",
          "text": [
            "39.6\n",
            "-23.1\n"
          ],
          "name": "stdout"
        }
      ]
    },
    {
      "cell_type": "code",
      "metadata": {
        "id": "ONdhFibxs7Og"
      },
      "source": [
        ""
      ],
      "execution_count": null,
      "outputs": []
    }
  ]
}