{
  "nbformat": 4,
  "nbformat_minor": 0,
  "metadata": {
    "colab": {
      "name": "1970년대보스턴_주택가격_예측.ipynb",
      "provenance": [],
      "authorship_tag": "ABX9TyOfijjwlaWndW0W5+KyXMnD",
      "include_colab_link": true
    },
    "kernelspec": {
      "name": "python3",
      "display_name": "Python 3"
    },
    "language_info": {
      "name": "python"
    }
  },
  "cells": [
    {
      "cell_type": "markdown",
      "metadata": {
        "id": "view-in-github",
        "colab_type": "text"
      },
      "source": [
        "<a href=\"https://colab.research.google.com/github/KimyYoungWook/DataScience/blob/main/practice/1970%EB%85%84%EB%8C%80%EB%B3%B4%EC%8A%A4%ED%84%B4_%EC%A3%BC%ED%83%9D%EA%B0%80%EA%B2%A9_%EC%98%88%EC%B8%A1.ipynb\" target=\"_parent\"><img src=\"https://colab.research.google.com/assets/colab-badge.svg\" alt=\"Open In Colab\"/></a>"
      ]
    },
    {
      "cell_type": "markdown",
      "metadata": {
        "id": "b5-FlU-7i5o8"
      },
      "source": [
        "1970년대 보스턴 지역의 주택 가격 예측 => 회귀"
      ]
    },
    {
      "cell_type": "markdown",
      "metadata": {
        "id": "E6fMU5Vvi_DE"
      },
      "source": [
        "데이터 준비하기"
      ]
    },
    {
      "cell_type": "code",
      "metadata": {
        "colab": {
          "base_uri": "https://localhost:8080/"
        },
        "id": "BuVqo_AXitxW",
        "outputId": "ebe7fce9-391a-476f-e96a-c2b4612179e2"
      },
      "source": [
        "from tensorflow.keras.datasets.boston_housing import load_data\n",
        "\n",
        "# 텐서플로우 저장소에서 데이터를 다운받습니다.\n",
        "(X_train, y_train), (X_test, y_test) = load_data(path='boston_housing.npz',\n",
        "                                                 test_split=0.2,\n",
        "                                                 seed=777)"
      ],
      "execution_count": 1,
      "outputs": [
        {
          "output_type": "stream",
          "text": [
            "Downloading data from https://storage.googleapis.com/tensorflow/tf-keras-datasets/boston_housing.npz\n",
            "57344/57026 [==============================] - 0s 0us/step\n"
          ],
          "name": "stdout"
        }
      ]
    },
    {
      "cell_type": "markdown",
      "metadata": {
        "id": "iVdwHK-8jRmi"
      },
      "source": [
        "데이터 형태 확인하기"
      ]
    },
    {
      "cell_type": "code",
      "metadata": {
        "colab": {
          "base_uri": "https://localhost:8080/"
        },
        "id": "wyB1awHrjQ8v",
        "outputId": "cef44e90-a5b0-4a02-d3e0-335582fa8a9a"
      },
      "source": [
        "# 훈련데이터 \n",
        "print(X_train.shape,y_train.shape)\n",
        "\n",
        "# 테스트 데이터\n",
        "print(X_test.shape,y_test.shape)"
      ],
      "execution_count": 3,
      "outputs": [
        {
          "output_type": "stream",
          "text": [
            "(404, 13) (404,)\n",
            "(102, 13) (102,)\n"
          ],
          "name": "stdout"
        }
      ]
    },
    {
      "cell_type": "markdown",
      "metadata": {
        "id": "mwm2f2MAkd0-"
      },
      "source": [
        "데이터 전처리 및 검증 데이터셋 만들기"
      ]
    },
    {
      "cell_type": "code",
      "metadata": {
        "colab": {
          "base_uri": "https://localhost:8080/"
        },
        "id": "Hnb6B7uPjVaE",
        "outputId": "f9daa141-eb0e-49ad-b523-262b70a3ccdc"
      },
      "source": [
        "import numpy as np\n",
        "np.set_printoptions(suppress=True)\n",
        "print(X_train[0])"
      ],
      "execution_count": 6,
      "outputs": [
        {
          "output_type": "stream",
          "text": [
            "[  0.25199   0.       10.59      0.        0.489     5.783    72.7\n",
            "   4.3549    4.      277.       18.6     389.43     18.06   ]\n"
          ],
          "name": "stdout"
        }
      ]
    },
    {
      "cell_type": "code",
      "metadata": {
        "colab": {
          "base_uri": "https://localhost:8080/"
        },
        "id": "cmmbUdvPkrla",
        "outputId": "4266c6e6-0c1c-4147-adee-183e29574509"
      },
      "source": [
        "# 데이터 전처리 -> 표준화(Standardization)\n",
        "\n",
        "mean =np.mean(X_train,axis=0)\n",
        "std=np.std(X_train,axis=0)\n",
        "\n",
        "#데이터 (훈련,테스트 데이터 모두) -평균 /표준편자\n",
        "X_train =(X_train-mean) /std\n",
        "X_test =(X_test-mean) /std\n",
        "\n",
        "print(X_train[0])"
      ],
      "execution_count": 8,
      "outputs": [
        {
          "output_type": "stream",
          "text": [
            "[-0.40102395 -0.48033655 -0.12089418 -0.28828791 -0.58254176 -0.68137272\n",
            "  0.11117586  0.26484408 -0.65187119 -0.80249043  0.0756568   0.37366783\n",
            "  0.69211835]\n"
          ],
          "name": "stdout"
        }
      ]
    },
    {
      "cell_type": "code",
      "metadata": {
        "id": "RPu6C6gClNat"
      },
      "source": [
        "# 검증 데이터 세트 만들기\n",
        "from sklearn.model_selection import train_test_split\n",
        "\n",
        "# 훈련/검증 데이터를 7:3 비율로 분리\n",
        "X_train,X_val,y_train,y_val = train_test_split(X_train,y_train,\n",
        "                                               test_size=0.33,\n",
        "                                               random_state=777)"
      ],
      "execution_count": 9,
      "outputs": []
    },
    {
      "cell_type": "code",
      "metadata": {
        "colab": {
          "base_uri": "https://localhost:8080/"
        },
        "id": "6acx8FiXk6zr",
        "outputId": "6c7a070a-66ec-454a-a396-05c5844a75c3"
      },
      "source": [
        "print(X_train.shape,X_val.shape)"
      ],
      "execution_count": 10,
      "outputs": [
        {
          "output_type": "stream",
          "text": [
            "(270, 13) (134, 13)\n"
          ],
          "name": "stdout"
        }
      ]
    },
    {
      "cell_type": "markdown",
      "metadata": {
        "id": "84BLie1hmKJw"
      },
      "source": [
        "모델 구성하기"
      ]
    },
    {
      "cell_type": "code",
      "metadata": {
        "id": "MoqN8HsJlUoa"
      },
      "source": [
        "from keras.models import Sequential\n",
        "from keras.layers import Dense,Flatten\n",
        "\n",
        "model = Sequential()\n",
        "model.add(Dense(64, activation='relu',input_shape=(13,)))\n",
        "model.add(Dense(32, activation='relu'))\n",
        "model.add(Dense(1)) # 하나의 값을 출력 -> 주택 가격"
      ],
      "execution_count": 11,
      "outputs": []
    },
    {
      "cell_type": "markdown",
      "metadata": {
        "id": "1DFqrcoXm4zv"
      },
      "source": [
        "모델 설정하기"
      ]
    },
    {
      "cell_type": "code",
      "metadata": {
        "id": "vGjpm45Cm3oF"
      },
      "source": [
        "model.compile(loss='mse', # 연속적인 값이라 정확한 예측이 불가\n",
        "              optimizer='adam', # 그렇기 때문에 오차를 본다\n",
        "              metrics=['mae','mse'])"
      ],
      "execution_count": 12,
      "outputs": []
    },
    {
      "cell_type": "markdown",
      "metadata": {
        "id": "WDJxw6NJnYvw"
      },
      "source": [
        "모델 학습하기"
      ]
    },
    {
      "cell_type": "code",
      "metadata": {
        "colab": {
          "base_uri": "https://localhost:8080/"
        },
        "id": "nSoLu8JInXpL",
        "outputId": "67ff669d-e6ae-4304-ac60-afd12b48828b"
      },
      "source": [
        "history =model.fit(X_train,y_train,\n",
        "                    epochs=300,\n",
        "                    validation_data=(X_val,y_val))"
      ],
      "execution_count": 13,
      "outputs": [
        {
          "output_type": "stream",
          "text": [
            "Epoch 1/300\n",
            "9/9 [==============================] - 16s 64ms/step - loss: 572.9867 - mae: 22.3305 - mse: 572.9867 - val_loss: 609.8019 - val_mae: 22.5427 - val_mse: 609.8019\n",
            "Epoch 2/300\n",
            "9/9 [==============================] - 0s 4ms/step - loss: 533.4114 - mae: 21.5156 - mse: 533.4114 - val_loss: 585.2750 - val_mae: 21.9819 - val_mse: 585.2750\n",
            "Epoch 3/300\n",
            "9/9 [==============================] - 0s 4ms/step - loss: 529.8707 - mae: 21.2888 - mse: 529.8707 - val_loss: 559.9597 - val_mae: 21.4015 - val_mse: 559.9597\n",
            "Epoch 4/300\n",
            "9/9 [==============================] - 0s 6ms/step - loss: 497.2070 - mae: 20.6052 - mse: 497.2070 - val_loss: 529.9921 - val_mae: 20.6995 - val_mse: 529.9921\n",
            "Epoch 5/300\n",
            "9/9 [==============================] - 0s 5ms/step - loss: 463.5455 - mae: 19.6576 - mse: 463.5455 - val_loss: 492.9766 - val_mae: 19.7960 - val_mse: 492.9766\n",
            "Epoch 6/300\n",
            "9/9 [==============================] - 0s 7ms/step - loss: 407.2572 - mae: 18.2750 - mse: 407.2572 - val_loss: 447.2687 - val_mae: 18.6379 - val_mse: 447.2687\n",
            "Epoch 7/300\n",
            "9/9 [==============================] - 0s 4ms/step - loss: 375.1308 - mae: 17.5281 - mse: 375.1308 - val_loss: 393.9859 - val_mae: 17.1976 - val_mse: 393.9859\n",
            "Epoch 8/300\n",
            "9/9 [==============================] - 0s 4ms/step - loss: 322.6146 - mae: 16.1205 - mse: 322.6146 - val_loss: 333.1608 - val_mae: 15.4949 - val_mse: 333.1608\n",
            "Epoch 9/300\n",
            "9/9 [==============================] - 0s 4ms/step - loss: 297.0388 - mae: 14.9101 - mse: 297.0388 - val_loss: 270.1012 - val_mae: 13.5724 - val_mse: 270.1012\n",
            "Epoch 10/300\n",
            "9/9 [==============================] - 0s 6ms/step - loss: 189.7029 - mae: 11.9020 - mse: 189.7029 - val_loss: 211.6293 - val_mae: 11.7009 - val_mse: 211.6293\n",
            "Epoch 11/300\n",
            "9/9 [==============================] - 0s 5ms/step - loss: 157.9409 - mae: 10.3755 - mse: 157.9409 - val_loss: 162.3867 - val_mae: 10.0365 - val_mse: 162.3867\n",
            "Epoch 12/300\n",
            "9/9 [==============================] - 0s 7ms/step - loss: 123.1964 - mae: 9.1233 - mse: 123.1964 - val_loss: 125.5794 - val_mae: 8.7198 - val_mse: 125.5794\n",
            "Epoch 13/300\n",
            "9/9 [==============================] - 0s 5ms/step - loss: 78.8802 - mae: 7.1927 - mse: 78.8802 - val_loss: 102.6202 - val_mae: 7.8562 - val_mse: 102.6202\n",
            "Epoch 14/300\n",
            "9/9 [==============================] - 0s 7ms/step - loss: 72.6728 - mae: 6.8931 - mse: 72.6728 - val_loss: 86.2997 - val_mae: 7.1707 - val_mse: 86.2997\n",
            "Epoch 15/300\n",
            "9/9 [==============================] - 0s 7ms/step - loss: 57.6315 - mae: 6.1187 - mse: 57.6315 - val_loss: 74.3311 - val_mae: 6.5974 - val_mse: 74.3311\n",
            "Epoch 16/300\n",
            "9/9 [==============================] - 0s 5ms/step - loss: 52.3827 - mae: 5.6267 - mse: 52.3827 - val_loss: 64.3138 - val_mae: 6.0925 - val_mse: 64.3138\n",
            "Epoch 17/300\n",
            "9/9 [==============================] - 0s 5ms/step - loss: 43.5220 - mae: 4.9457 - mse: 43.5220 - val_loss: 56.0137 - val_mae: 5.6077 - val_mse: 56.0137\n",
            "Epoch 18/300\n",
            "9/9 [==============================] - 0s 7ms/step - loss: 33.0180 - mae: 4.4272 - mse: 33.0180 - val_loss: 49.9481 - val_mae: 5.2430 - val_mse: 49.9481\n",
            "Epoch 19/300\n",
            "9/9 [==============================] - 0s 5ms/step - loss: 35.6512 - mae: 4.4957 - mse: 35.6512 - val_loss: 45.1775 - val_mae: 4.9519 - val_mse: 45.1775\n",
            "Epoch 20/300\n",
            "9/9 [==============================] - 0s 6ms/step - loss: 24.4559 - mae: 3.9007 - mse: 24.4559 - val_loss: 41.6167 - val_mae: 4.6832 - val_mse: 41.6167\n",
            "Epoch 21/300\n",
            "9/9 [==============================] - 0s 5ms/step - loss: 29.8027 - mae: 4.0304 - mse: 29.8027 - val_loss: 38.6220 - val_mae: 4.4972 - val_mse: 38.6220\n",
            "Epoch 22/300\n",
            "9/9 [==============================] - 0s 7ms/step - loss: 24.7141 - mae: 3.5814 - mse: 24.7141 - val_loss: 36.2908 - val_mae: 4.3171 - val_mse: 36.2908\n",
            "Epoch 23/300\n",
            "9/9 [==============================] - 0s 6ms/step - loss: 21.5540 - mae: 3.4718 - mse: 21.5540 - val_loss: 34.5655 - val_mae: 4.1831 - val_mse: 34.5655\n",
            "Epoch 24/300\n",
            "9/9 [==============================] - 0s 5ms/step - loss: 21.1007 - mae: 3.3643 - mse: 21.1007 - val_loss: 33.1499 - val_mae: 4.0393 - val_mse: 33.1499\n",
            "Epoch 25/300\n",
            "9/9 [==============================] - 0s 5ms/step - loss: 25.6686 - mae: 3.5254 - mse: 25.6686 - val_loss: 31.9925 - val_mae: 3.9718 - val_mse: 31.9925\n",
            "Epoch 26/300\n",
            "9/9 [==============================] - 0s 6ms/step - loss: 19.8741 - mae: 3.2318 - mse: 19.8741 - val_loss: 31.2140 - val_mae: 3.8987 - val_mse: 31.2140\n",
            "Epoch 27/300\n",
            "9/9 [==============================] - 0s 5ms/step - loss: 20.7386 - mae: 3.2467 - mse: 20.7386 - val_loss: 30.3728 - val_mae: 3.8196 - val_mse: 30.3728\n",
            "Epoch 28/300\n",
            "9/9 [==============================] - 0s 7ms/step - loss: 21.3686 - mae: 3.2695 - mse: 21.3686 - val_loss: 29.3738 - val_mae: 3.7853 - val_mse: 29.3738\n",
            "Epoch 29/300\n",
            "9/9 [==============================] - 0s 7ms/step - loss: 15.7353 - mae: 2.8984 - mse: 15.7353 - val_loss: 28.8316 - val_mae: 3.7377 - val_mse: 28.8316\n",
            "Epoch 30/300\n",
            "9/9 [==============================] - 0s 5ms/step - loss: 17.6310 - mae: 3.0391 - mse: 17.6310 - val_loss: 28.1876 - val_mae: 3.6940 - val_mse: 28.1876\n",
            "Epoch 31/300\n",
            "9/9 [==============================] - 0s 5ms/step - loss: 16.3833 - mae: 2.9423 - mse: 16.3833 - val_loss: 27.6386 - val_mae: 3.6808 - val_mse: 27.6386\n",
            "Epoch 32/300\n",
            "9/9 [==============================] - 0s 6ms/step - loss: 20.7299 - mae: 3.1409 - mse: 20.7299 - val_loss: 27.2028 - val_mae: 3.6358 - val_mse: 27.2028\n",
            "Epoch 33/300\n",
            "9/9 [==============================] - 0s 7ms/step - loss: 17.7848 - mae: 2.9437 - mse: 17.7848 - val_loss: 27.0301 - val_mae: 3.5820 - val_mse: 27.0301\n",
            "Epoch 34/300\n",
            "9/9 [==============================] - 0s 6ms/step - loss: 16.5120 - mae: 2.8709 - mse: 16.5120 - val_loss: 26.3326 - val_mae: 3.5370 - val_mse: 26.3326\n",
            "Epoch 35/300\n",
            "9/9 [==============================] - 0s 5ms/step - loss: 16.1155 - mae: 2.9491 - mse: 16.1155 - val_loss: 26.0301 - val_mae: 3.5371 - val_mse: 26.0301\n",
            "Epoch 36/300\n",
            "9/9 [==============================] - 0s 5ms/step - loss: 14.6012 - mae: 2.7136 - mse: 14.6012 - val_loss: 25.5549 - val_mae: 3.4932 - val_mse: 25.5549\n",
            "Epoch 37/300\n",
            "9/9 [==============================] - 0s 5ms/step - loss: 19.0145 - mae: 3.0447 - mse: 19.0145 - val_loss: 25.3224 - val_mae: 3.4861 - val_mse: 25.3224\n",
            "Epoch 38/300\n",
            "9/9 [==============================] - 0s 7ms/step - loss: 18.6609 - mae: 2.7932 - mse: 18.6609 - val_loss: 24.8373 - val_mae: 3.4361 - val_mse: 24.8373\n",
            "Epoch 39/300\n",
            "9/9 [==============================] - 0s 5ms/step - loss: 22.1740 - mae: 3.1042 - mse: 22.1740 - val_loss: 24.3401 - val_mae: 3.4038 - val_mse: 24.3401\n",
            "Epoch 40/300\n",
            "9/9 [==============================] - 0s 7ms/step - loss: 18.9643 - mae: 2.8977 - mse: 18.9643 - val_loss: 24.1251 - val_mae: 3.3846 - val_mse: 24.1251\n",
            "Epoch 41/300\n",
            "9/9 [==============================] - 0s 7ms/step - loss: 13.7995 - mae: 2.6487 - mse: 13.7995 - val_loss: 23.9668 - val_mae: 3.3302 - val_mse: 23.9668\n",
            "Epoch 42/300\n",
            "9/9 [==============================] - 0s 5ms/step - loss: 14.9920 - mae: 2.6160 - mse: 14.9920 - val_loss: 23.7396 - val_mae: 3.3202 - val_mse: 23.7396\n",
            "Epoch 43/300\n",
            "9/9 [==============================] - 0s 7ms/step - loss: 13.7299 - mae: 2.5835 - mse: 13.7299 - val_loss: 23.3301 - val_mae: 3.3250 - val_mse: 23.3301\n",
            "Epoch 44/300\n",
            "9/9 [==============================] - 0s 7ms/step - loss: 13.5305 - mae: 2.6016 - mse: 13.5305 - val_loss: 22.9840 - val_mae: 3.2655 - val_mse: 22.9840\n",
            "Epoch 45/300\n",
            "9/9 [==============================] - 0s 5ms/step - loss: 13.4393 - mae: 2.5757 - mse: 13.4393 - val_loss: 22.6920 - val_mae: 3.2726 - val_mse: 22.6920\n",
            "Epoch 46/300\n",
            "9/9 [==============================] - 0s 5ms/step - loss: 13.2373 - mae: 2.6025 - mse: 13.2373 - val_loss: 22.3655 - val_mae: 3.2514 - val_mse: 22.3655\n",
            "Epoch 47/300\n",
            "9/9 [==============================] - 0s 6ms/step - loss: 13.8838 - mae: 2.5227 - mse: 13.8838 - val_loss: 22.1102 - val_mae: 3.2474 - val_mse: 22.1102\n",
            "Epoch 48/300\n",
            "9/9 [==============================] - 0s 5ms/step - loss: 17.0198 - mae: 2.6674 - mse: 17.0198 - val_loss: 21.7599 - val_mae: 3.1932 - val_mse: 21.7599\n",
            "Epoch 49/300\n",
            "9/9 [==============================] - 0s 6ms/step - loss: 16.8831 - mae: 2.7324 - mse: 16.8831 - val_loss: 21.5844 - val_mae: 3.1469 - val_mse: 21.5844\n",
            "Epoch 50/300\n",
            "9/9 [==============================] - 0s 7ms/step - loss: 14.8744 - mae: 2.6696 - mse: 14.8744 - val_loss: 21.1827 - val_mae: 3.1485 - val_mse: 21.1827\n",
            "Epoch 51/300\n",
            "9/9 [==============================] - 0s 5ms/step - loss: 11.0027 - mae: 2.3540 - mse: 11.0027 - val_loss: 21.0587 - val_mae: 3.1325 - val_mse: 21.0587\n",
            "Epoch 52/300\n",
            "9/9 [==============================] - 0s 8ms/step - loss: 12.9447 - mae: 2.5077 - mse: 12.9447 - val_loss: 20.8661 - val_mae: 3.0963 - val_mse: 20.8661\n",
            "Epoch 53/300\n",
            "9/9 [==============================] - 0s 8ms/step - loss: 17.4290 - mae: 2.7204 - mse: 17.4290 - val_loss: 20.6600 - val_mae: 3.0961 - val_mse: 20.6600\n",
            "Epoch 54/300\n",
            "9/9 [==============================] - 0s 5ms/step - loss: 12.1667 - mae: 2.3960 - mse: 12.1667 - val_loss: 20.5251 - val_mae: 3.1159 - val_mse: 20.5251\n",
            "Epoch 55/300\n",
            "9/9 [==============================] - 0s 5ms/step - loss: 11.6941 - mae: 2.4778 - mse: 11.6941 - val_loss: 20.2230 - val_mae: 3.0239 - val_mse: 20.2230\n",
            "Epoch 56/300\n",
            "9/9 [==============================] - 0s 8ms/step - loss: 10.9953 - mae: 2.3667 - mse: 10.9953 - val_loss: 19.7298 - val_mae: 3.0393 - val_mse: 19.7298\n",
            "Epoch 57/300\n",
            "9/9 [==============================] - 0s 6ms/step - loss: 11.2402 - mae: 2.4821 - mse: 11.2402 - val_loss: 19.8389 - val_mae: 3.0444 - val_mse: 19.8389\n",
            "Epoch 58/300\n",
            "9/9 [==============================] - 0s 6ms/step - loss: 12.7602 - mae: 2.4417 - mse: 12.7602 - val_loss: 19.8233 - val_mae: 3.0221 - val_mse: 19.8233\n",
            "Epoch 59/300\n",
            "9/9 [==============================] - 0s 7ms/step - loss: 9.9860 - mae: 2.2344 - mse: 9.9860 - val_loss: 19.5475 - val_mae: 3.0101 - val_mse: 19.5475\n",
            "Epoch 60/300\n",
            "9/9 [==============================] - 0s 7ms/step - loss: 13.6187 - mae: 2.4969 - mse: 13.6187 - val_loss: 19.1256 - val_mae: 3.0033 - val_mse: 19.1256\n",
            "Epoch 61/300\n",
            "9/9 [==============================] - 0s 7ms/step - loss: 17.0826 - mae: 2.6722 - mse: 17.0826 - val_loss: 19.0377 - val_mae: 2.9978 - val_mse: 19.0377\n",
            "Epoch 62/300\n",
            "9/9 [==============================] - 0s 5ms/step - loss: 12.0252 - mae: 2.5127 - mse: 12.0252 - val_loss: 18.7798 - val_mae: 2.9644 - val_mse: 18.7798\n",
            "Epoch 63/300\n",
            "9/9 [==============================] - 0s 7ms/step - loss: 11.9949 - mae: 2.4572 - mse: 11.9949 - val_loss: 18.8228 - val_mae: 2.9571 - val_mse: 18.8228\n",
            "Epoch 64/300\n",
            "9/9 [==============================] - 0s 5ms/step - loss: 11.0628 - mae: 2.3453 - mse: 11.0628 - val_loss: 18.7348 - val_mae: 2.9586 - val_mse: 18.7348\n",
            "Epoch 65/300\n",
            "9/9 [==============================] - 0s 5ms/step - loss: 15.2247 - mae: 2.5321 - mse: 15.2247 - val_loss: 18.8138 - val_mae: 2.9377 - val_mse: 18.8138\n",
            "Epoch 66/300\n",
            "9/9 [==============================] - 0s 7ms/step - loss: 11.9117 - mae: 2.2514 - mse: 11.9117 - val_loss: 18.7730 - val_mae: 2.9378 - val_mse: 18.7730\n",
            "Epoch 67/300\n",
            "9/9 [==============================] - 0s 5ms/step - loss: 12.9042 - mae: 2.5212 - mse: 12.9042 - val_loss: 18.4868 - val_mae: 2.9329 - val_mse: 18.4868\n",
            "Epoch 68/300\n",
            "9/9 [==============================] - 0s 5ms/step - loss: 12.9300 - mae: 2.4224 - mse: 12.9300 - val_loss: 18.4663 - val_mae: 2.9358 - val_mse: 18.4663\n",
            "Epoch 69/300\n",
            "9/9 [==============================] - 0s 5ms/step - loss: 9.8792 - mae: 2.1311 - mse: 9.8792 - val_loss: 18.2526 - val_mae: 2.9101 - val_mse: 18.2526\n",
            "Epoch 70/300\n",
            "9/9 [==============================] - 0s 7ms/step - loss: 11.0868 - mae: 2.2942 - mse: 11.0868 - val_loss: 18.0024 - val_mae: 2.9144 - val_mse: 18.0024\n",
            "Epoch 71/300\n",
            "9/9 [==============================] - 0s 7ms/step - loss: 9.4404 - mae: 2.2023 - mse: 9.4404 - val_loss: 17.7965 - val_mae: 2.8979 - val_mse: 17.7965\n",
            "Epoch 72/300\n",
            "9/9 [==============================] - 0s 7ms/step - loss: 11.3952 - mae: 2.3000 - mse: 11.3952 - val_loss: 17.7147 - val_mae: 2.8896 - val_mse: 17.7147\n",
            "Epoch 73/300\n",
            "9/9 [==============================] - 0s 5ms/step - loss: 11.8166 - mae: 2.3484 - mse: 11.8166 - val_loss: 17.7256 - val_mae: 2.8623 - val_mse: 17.7256\n",
            "Epoch 74/300\n",
            "9/9 [==============================] - 0s 6ms/step - loss: 9.1159 - mae: 2.1677 - mse: 9.1159 - val_loss: 17.4709 - val_mae: 2.8764 - val_mse: 17.4709\n",
            "Epoch 75/300\n",
            "9/9 [==============================] - 0s 7ms/step - loss: 12.5365 - mae: 2.2951 - mse: 12.5365 - val_loss: 17.6535 - val_mae: 2.8624 - val_mse: 17.6535\n",
            "Epoch 76/300\n",
            "9/9 [==============================] - 0s 5ms/step - loss: 13.6078 - mae: 2.3946 - mse: 13.6078 - val_loss: 17.3965 - val_mae: 2.8521 - val_mse: 17.3965\n",
            "Epoch 77/300\n",
            "9/9 [==============================] - 0s 6ms/step - loss: 9.4269 - mae: 2.1548 - mse: 9.4269 - val_loss: 17.2939 - val_mae: 2.8424 - val_mse: 17.2939\n",
            "Epoch 78/300\n",
            "9/9 [==============================] - 0s 7ms/step - loss: 10.4502 - mae: 2.3330 - mse: 10.4502 - val_loss: 17.3772 - val_mae: 2.8504 - val_mse: 17.3772\n",
            "Epoch 79/300\n",
            "9/9 [==============================] - 0s 5ms/step - loss: 9.2372 - mae: 2.1570 - mse: 9.2372 - val_loss: 17.1817 - val_mae: 2.8529 - val_mse: 17.1817\n",
            "Epoch 80/300\n",
            "9/9 [==============================] - 0s 6ms/step - loss: 11.9875 - mae: 2.3650 - mse: 11.9875 - val_loss: 17.2115 - val_mae: 2.8244 - val_mse: 17.2115\n",
            "Epoch 81/300\n",
            "9/9 [==============================] - 0s 6ms/step - loss: 11.7282 - mae: 2.2810 - mse: 11.7282 - val_loss: 17.3411 - val_mae: 2.8489 - val_mse: 17.3411\n",
            "Epoch 82/300\n",
            "9/9 [==============================] - 0s 7ms/step - loss: 10.3970 - mae: 2.2646 - mse: 10.3970 - val_loss: 17.0311 - val_mae: 2.8439 - val_mse: 17.0311\n",
            "Epoch 83/300\n",
            "9/9 [==============================] - 0s 23ms/step - loss: 8.7951 - mae: 2.0748 - mse: 8.7951 - val_loss: 17.1284 - val_mae: 2.8232 - val_mse: 17.1284\n",
            "Epoch 84/300\n",
            "9/9 [==============================] - 0s 5ms/step - loss: 10.0123 - mae: 2.1875 - mse: 10.0123 - val_loss: 16.7650 - val_mae: 2.8158 - val_mse: 16.7650\n",
            "Epoch 85/300\n",
            "9/9 [==============================] - 0s 5ms/step - loss: 9.2025 - mae: 2.1364 - mse: 9.2025 - val_loss: 16.5517 - val_mae: 2.8140 - val_mse: 16.5517\n",
            "Epoch 86/300\n",
            "9/9 [==============================] - 0s 5ms/step - loss: 10.7669 - mae: 2.1733 - mse: 10.7669 - val_loss: 16.8139 - val_mae: 2.8192 - val_mse: 16.8139\n",
            "Epoch 87/300\n",
            "9/9 [==============================] - 0s 5ms/step - loss: 9.8978 - mae: 2.1196 - mse: 9.8978 - val_loss: 16.8008 - val_mae: 2.8168 - val_mse: 16.8008\n",
            "Epoch 88/300\n",
            "9/9 [==============================] - 0s 6ms/step - loss: 8.0629 - mae: 2.0252 - mse: 8.0629 - val_loss: 16.8213 - val_mae: 2.8091 - val_mse: 16.8213\n",
            "Epoch 89/300\n",
            "9/9 [==============================] - 0s 6ms/step - loss: 9.6140 - mae: 2.2125 - mse: 9.6140 - val_loss: 16.4817 - val_mae: 2.7812 - val_mse: 16.4817\n",
            "Epoch 90/300\n",
            "9/9 [==============================] - 0s 7ms/step - loss: 9.8267 - mae: 2.2337 - mse: 9.8267 - val_loss: 16.3801 - val_mae: 2.7974 - val_mse: 16.3801\n",
            "Epoch 91/300\n",
            "9/9 [==============================] - 0s 7ms/step - loss: 10.4192 - mae: 2.1439 - mse: 10.4192 - val_loss: 16.4894 - val_mae: 2.7805 - val_mse: 16.4894\n",
            "Epoch 92/300\n",
            "9/9 [==============================] - 0s 6ms/step - loss: 8.9321 - mae: 2.1581 - mse: 8.9321 - val_loss: 16.6505 - val_mae: 2.8075 - val_mse: 16.6505\n",
            "Epoch 93/300\n",
            "9/9 [==============================] - 0s 5ms/step - loss: 9.0042 - mae: 2.1786 - mse: 9.0042 - val_loss: 16.3188 - val_mae: 2.8060 - val_mse: 16.3188\n",
            "Epoch 94/300\n",
            "9/9 [==============================] - 0s 5ms/step - loss: 10.2812 - mae: 2.1435 - mse: 10.2812 - val_loss: 16.1967 - val_mae: 2.7724 - val_mse: 16.1967\n",
            "Epoch 95/300\n",
            "9/9 [==============================] - 0s 4ms/step - loss: 7.5385 - mae: 1.9929 - mse: 7.5385 - val_loss: 16.2460 - val_mae: 2.7535 - val_mse: 16.2460\n",
            "Epoch 96/300\n",
            "9/9 [==============================] - 0s 5ms/step - loss: 8.0376 - mae: 2.0091 - mse: 8.0376 - val_loss: 15.8761 - val_mae: 2.7914 - val_mse: 15.8761\n",
            "Epoch 97/300\n",
            "9/9 [==============================] - 0s 6ms/step - loss: 11.4015 - mae: 2.2417 - mse: 11.4015 - val_loss: 15.8789 - val_mae: 2.7900 - val_mse: 15.8789\n",
            "Epoch 98/300\n",
            "9/9 [==============================] - 0s 6ms/step - loss: 7.6394 - mae: 2.0478 - mse: 7.6394 - val_loss: 16.2750 - val_mae: 2.7703 - val_mse: 16.2750\n",
            "Epoch 99/300\n",
            "9/9 [==============================] - 0s 6ms/step - loss: 8.1968 - mae: 2.0829 - mse: 8.1968 - val_loss: 15.9140 - val_mae: 2.7586 - val_mse: 15.9140\n",
            "Epoch 100/300\n",
            "9/9 [==============================] - 0s 5ms/step - loss: 9.0190 - mae: 2.1667 - mse: 9.0190 - val_loss: 15.8900 - val_mae: 2.7806 - val_mse: 15.8900\n",
            "Epoch 101/300\n",
            "9/9 [==============================] - 0s 7ms/step - loss: 9.1179 - mae: 2.1239 - mse: 9.1179 - val_loss: 15.5402 - val_mae: 2.7481 - val_mse: 15.5402\n",
            "Epoch 102/300\n",
            "9/9 [==============================] - 0s 5ms/step - loss: 8.4473 - mae: 2.0804 - mse: 8.4473 - val_loss: 15.4193 - val_mae: 2.7067 - val_mse: 15.4193\n",
            "Epoch 103/300\n",
            "9/9 [==============================] - 0s 7ms/step - loss: 7.8290 - mae: 1.9799 - mse: 7.8290 - val_loss: 15.6639 - val_mae: 2.7510 - val_mse: 15.6639\n",
            "Epoch 104/300\n",
            "9/9 [==============================] - 0s 6ms/step - loss: 7.9286 - mae: 2.0874 - mse: 7.9286 - val_loss: 15.7284 - val_mae: 2.7415 - val_mse: 15.7284\n",
            "Epoch 105/300\n",
            "9/9 [==============================] - 0s 6ms/step - loss: 9.3804 - mae: 2.1504 - mse: 9.3804 - val_loss: 15.3430 - val_mae: 2.7309 - val_mse: 15.3430\n",
            "Epoch 106/300\n",
            "9/9 [==============================] - 0s 6ms/step - loss: 9.9753 - mae: 2.1511 - mse: 9.9753 - val_loss: 15.2380 - val_mae: 2.7024 - val_mse: 15.2380\n",
            "Epoch 107/300\n",
            "9/9 [==============================] - 0s 5ms/step - loss: 10.3672 - mae: 2.1593 - mse: 10.3672 - val_loss: 15.4510 - val_mae: 2.7237 - val_mse: 15.4510\n",
            "Epoch 108/300\n",
            "9/9 [==============================] - 0s 6ms/step - loss: 10.8497 - mae: 2.2966 - mse: 10.8497 - val_loss: 15.3352 - val_mae: 2.7147 - val_mse: 15.3352\n",
            "Epoch 109/300\n",
            "9/9 [==============================] - 0s 6ms/step - loss: 8.4504 - mae: 2.1069 - mse: 8.4504 - val_loss: 15.5386 - val_mae: 2.7217 - val_mse: 15.5386\n",
            "Epoch 110/300\n",
            "9/9 [==============================] - 0s 5ms/step - loss: 9.2155 - mae: 2.0646 - mse: 9.2155 - val_loss: 15.4641 - val_mae: 2.7128 - val_mse: 15.4641\n",
            "Epoch 111/300\n",
            "9/9 [==============================] - 0s 5ms/step - loss: 10.4735 - mae: 2.1897 - mse: 10.4735 - val_loss: 15.3661 - val_mae: 2.7172 - val_mse: 15.3661\n",
            "Epoch 112/300\n",
            "9/9 [==============================] - 0s 6ms/step - loss: 7.6927 - mae: 2.0215 - mse: 7.6927 - val_loss: 15.4010 - val_mae: 2.7127 - val_mse: 15.4010\n",
            "Epoch 113/300\n",
            "9/9 [==============================] - 0s 6ms/step - loss: 7.2521 - mae: 1.9520 - mse: 7.2521 - val_loss: 15.1256 - val_mae: 2.7076 - val_mse: 15.1256\n",
            "Epoch 114/300\n",
            "9/9 [==============================] - 0s 5ms/step - loss: 8.5508 - mae: 2.0324 - mse: 8.5508 - val_loss: 15.1615 - val_mae: 2.7100 - val_mse: 15.1615\n",
            "Epoch 115/300\n",
            "9/9 [==============================] - 0s 5ms/step - loss: 10.1717 - mae: 2.1488 - mse: 10.1717 - val_loss: 15.4664 - val_mae: 2.7038 - val_mse: 15.4664\n",
            "Epoch 116/300\n",
            "9/9 [==============================] - 0s 5ms/step - loss: 9.4168 - mae: 2.0975 - mse: 9.4168 - val_loss: 15.2767 - val_mae: 2.7015 - val_mse: 15.2767\n",
            "Epoch 117/300\n",
            "9/9 [==============================] - 0s 5ms/step - loss: 11.4739 - mae: 2.2518 - mse: 11.4739 - val_loss: 14.9722 - val_mae: 2.6873 - val_mse: 14.9722\n",
            "Epoch 118/300\n",
            "9/9 [==============================] - 0s 5ms/step - loss: 7.7982 - mae: 1.9592 - mse: 7.7982 - val_loss: 15.0836 - val_mae: 2.6886 - val_mse: 15.0836\n",
            "Epoch 119/300\n",
            "9/9 [==============================] - 0s 5ms/step - loss: 8.7354 - mae: 2.0915 - mse: 8.7354 - val_loss: 15.1509 - val_mae: 2.6808 - val_mse: 15.1509\n",
            "Epoch 120/300\n",
            "9/9 [==============================] - 0s 5ms/step - loss: 10.5787 - mae: 2.0154 - mse: 10.5787 - val_loss: 14.8328 - val_mae: 2.6773 - val_mse: 14.8328\n",
            "Epoch 121/300\n",
            "9/9 [==============================] - 0s 6ms/step - loss: 8.7528 - mae: 2.0952 - mse: 8.7528 - val_loss: 14.8493 - val_mae: 2.6665 - val_mse: 14.8493\n",
            "Epoch 122/300\n",
            "9/9 [==============================] - 0s 4ms/step - loss: 8.2258 - mae: 1.9906 - mse: 8.2258 - val_loss: 15.0679 - val_mae: 2.7007 - val_mse: 15.0679\n",
            "Epoch 123/300\n",
            "9/9 [==============================] - 0s 6ms/step - loss: 6.8322 - mae: 1.8525 - mse: 6.8322 - val_loss: 15.1886 - val_mae: 2.7062 - val_mse: 15.1886\n",
            "Epoch 124/300\n",
            "9/9 [==============================] - 0s 5ms/step - loss: 9.4065 - mae: 2.1151 - mse: 9.4065 - val_loss: 14.6486 - val_mae: 2.6734 - val_mse: 14.6486\n",
            "Epoch 125/300\n",
            "9/9 [==============================] - 0s 7ms/step - loss: 8.2746 - mae: 2.0020 - mse: 8.2746 - val_loss: 14.6638 - val_mae: 2.6465 - val_mse: 14.6638\n",
            "Epoch 126/300\n",
            "9/9 [==============================] - 0s 5ms/step - loss: 11.0479 - mae: 2.1493 - mse: 11.0479 - val_loss: 14.7317 - val_mae: 2.6735 - val_mse: 14.7317\n",
            "Epoch 127/300\n",
            "9/9 [==============================] - 0s 6ms/step - loss: 7.2639 - mae: 1.9516 - mse: 7.2639 - val_loss: 14.7309 - val_mae: 2.6596 - val_mse: 14.7309\n",
            "Epoch 128/300\n",
            "9/9 [==============================] - 0s 7ms/step - loss: 6.9285 - mae: 1.8891 - mse: 6.9285 - val_loss: 14.9905 - val_mae: 2.6862 - val_mse: 14.9905\n",
            "Epoch 129/300\n",
            "9/9 [==============================] - 0s 6ms/step - loss: 7.1027 - mae: 1.9223 - mse: 7.1027 - val_loss: 14.6570 - val_mae: 2.6620 - val_mse: 14.6570\n",
            "Epoch 130/300\n",
            "9/9 [==============================] - 0s 5ms/step - loss: 9.7697 - mae: 1.9835 - mse: 9.7697 - val_loss: 14.3884 - val_mae: 2.6351 - val_mse: 14.3884\n",
            "Epoch 131/300\n",
            "9/9 [==============================] - 0s 7ms/step - loss: 6.4462 - mae: 1.9080 - mse: 6.4462 - val_loss: 14.4007 - val_mae: 2.6511 - val_mse: 14.4007\n",
            "Epoch 132/300\n",
            "9/9 [==============================] - 0s 4ms/step - loss: 7.3919 - mae: 1.9738 - mse: 7.3919 - val_loss: 14.7548 - val_mae: 2.6953 - val_mse: 14.7548\n",
            "Epoch 133/300\n",
            "9/9 [==============================] - 0s 4ms/step - loss: 10.4187 - mae: 2.1573 - mse: 10.4187 - val_loss: 14.3307 - val_mae: 2.6192 - val_mse: 14.3307\n",
            "Epoch 134/300\n",
            "9/9 [==============================] - 0s 5ms/step - loss: 7.6925 - mae: 1.9705 - mse: 7.6925 - val_loss: 14.2427 - val_mae: 2.5833 - val_mse: 14.2427\n",
            "Epoch 135/300\n",
            "9/9 [==============================] - 0s 5ms/step - loss: 8.1535 - mae: 1.9468 - mse: 8.1535 - val_loss: 14.0211 - val_mae: 2.6087 - val_mse: 14.0211\n",
            "Epoch 136/300\n",
            "9/9 [==============================] - 0s 7ms/step - loss: 7.5925 - mae: 1.9764 - mse: 7.5925 - val_loss: 14.2879 - val_mae: 2.6169 - val_mse: 14.2879\n",
            "Epoch 137/300\n",
            "9/9 [==============================] - 0s 5ms/step - loss: 8.8771 - mae: 2.0181 - mse: 8.8771 - val_loss: 14.3408 - val_mae: 2.5983 - val_mse: 14.3408\n",
            "Epoch 138/300\n",
            "9/9 [==============================] - 0s 5ms/step - loss: 8.6352 - mae: 2.0793 - mse: 8.6352 - val_loss: 14.1276 - val_mae: 2.6218 - val_mse: 14.1276\n",
            "Epoch 139/300\n",
            "9/9 [==============================] - 0s 6ms/step - loss: 6.9693 - mae: 1.9595 - mse: 6.9693 - val_loss: 14.2811 - val_mae: 2.6070 - val_mse: 14.2811\n",
            "Epoch 140/300\n",
            "9/9 [==============================] - 0s 5ms/step - loss: 9.7830 - mae: 2.0318 - mse: 9.7830 - val_loss: 14.0668 - val_mae: 2.5795 - val_mse: 14.0668\n",
            "Epoch 141/300\n",
            "9/9 [==============================] - 0s 7ms/step - loss: 9.4354 - mae: 2.0759 - mse: 9.4354 - val_loss: 14.1232 - val_mae: 2.5672 - val_mse: 14.1232\n",
            "Epoch 142/300\n",
            "9/9 [==============================] - 0s 7ms/step - loss: 6.9063 - mae: 1.8461 - mse: 6.9063 - val_loss: 14.3384 - val_mae: 2.5898 - val_mse: 14.3384\n",
            "Epoch 143/300\n",
            "9/9 [==============================] - 0s 5ms/step - loss: 6.6446 - mae: 1.9163 - mse: 6.6446 - val_loss: 14.1783 - val_mae: 2.5829 - val_mse: 14.1783\n",
            "Epoch 144/300\n",
            "9/9 [==============================] - 0s 7ms/step - loss: 6.0095 - mae: 1.8172 - mse: 6.0095 - val_loss: 13.8484 - val_mae: 2.5739 - val_mse: 13.8484\n",
            "Epoch 145/300\n",
            "9/9 [==============================] - 0s 7ms/step - loss: 7.7787 - mae: 1.9218 - mse: 7.7787 - val_loss: 14.0891 - val_mae: 2.5652 - val_mse: 14.0891\n",
            "Epoch 146/300\n",
            "9/9 [==============================] - 0s 5ms/step - loss: 8.8739 - mae: 2.0496 - mse: 8.8739 - val_loss: 14.0450 - val_mae: 2.5641 - val_mse: 14.0450\n",
            "Epoch 147/300\n",
            "9/9 [==============================] - 0s 5ms/step - loss: 9.5881 - mae: 2.0760 - mse: 9.5881 - val_loss: 13.9332 - val_mae: 2.5537 - val_mse: 13.9332\n",
            "Epoch 148/300\n",
            "9/9 [==============================] - 0s 5ms/step - loss: 8.7657 - mae: 1.9512 - mse: 8.7657 - val_loss: 13.9787 - val_mae: 2.5799 - val_mse: 13.9787\n",
            "Epoch 149/300\n",
            "9/9 [==============================] - 0s 5ms/step - loss: 7.0039 - mae: 1.8724 - mse: 7.0039 - val_loss: 13.9545 - val_mae: 2.5615 - val_mse: 13.9545\n",
            "Epoch 150/300\n",
            "9/9 [==============================] - 0s 5ms/step - loss: 7.1752 - mae: 1.8608 - mse: 7.1752 - val_loss: 14.1224 - val_mae: 2.5711 - val_mse: 14.1224\n",
            "Epoch 151/300\n",
            "9/9 [==============================] - 0s 6ms/step - loss: 7.8155 - mae: 1.9309 - mse: 7.8155 - val_loss: 13.8980 - val_mae: 2.5531 - val_mse: 13.8980\n",
            "Epoch 152/300\n",
            "9/9 [==============================] - 0s 7ms/step - loss: 6.3928 - mae: 1.8216 - mse: 6.3928 - val_loss: 13.9133 - val_mae: 2.5606 - val_mse: 13.9133\n",
            "Epoch 153/300\n",
            "9/9 [==============================] - 0s 7ms/step - loss: 7.7162 - mae: 1.8667 - mse: 7.7162 - val_loss: 13.9324 - val_mae: 2.5526 - val_mse: 13.9324\n",
            "Epoch 154/300\n",
            "9/9 [==============================] - 0s 5ms/step - loss: 7.0933 - mae: 1.9342 - mse: 7.0933 - val_loss: 14.0627 - val_mae: 2.5733 - val_mse: 14.0627\n",
            "Epoch 155/300\n",
            "9/9 [==============================] - 0s 7ms/step - loss: 7.0787 - mae: 1.9256 - mse: 7.0787 - val_loss: 14.0052 - val_mae: 2.5577 - val_mse: 14.0052\n",
            "Epoch 156/300\n",
            "9/9 [==============================] - 0s 5ms/step - loss: 6.3849 - mae: 1.8623 - mse: 6.3849 - val_loss: 13.9723 - val_mae: 2.5607 - val_mse: 13.9723\n",
            "Epoch 157/300\n",
            "9/9 [==============================] - 0s 5ms/step - loss: 7.3597 - mae: 1.9368 - mse: 7.3597 - val_loss: 14.0322 - val_mae: 2.5775 - val_mse: 14.0322\n",
            "Epoch 158/300\n",
            "9/9 [==============================] - 0s 5ms/step - loss: 6.9570 - mae: 1.9414 - mse: 6.9570 - val_loss: 13.6359 - val_mae: 2.5415 - val_mse: 13.6359\n",
            "Epoch 159/300\n",
            "9/9 [==============================] - 0s 6ms/step - loss: 5.2857 - mae: 1.7013 - mse: 5.2857 - val_loss: 13.4977 - val_mae: 2.5183 - val_mse: 13.4977\n",
            "Epoch 160/300\n",
            "9/9 [==============================] - 0s 7ms/step - loss: 7.2602 - mae: 1.9560 - mse: 7.2602 - val_loss: 13.4239 - val_mae: 2.5685 - val_mse: 13.4239\n",
            "Epoch 161/300\n",
            "9/9 [==============================] - 0s 5ms/step - loss: 6.3627 - mae: 1.7655 - mse: 6.3627 - val_loss: 13.6990 - val_mae: 2.5356 - val_mse: 13.6990\n",
            "Epoch 162/300\n",
            "9/9 [==============================] - 0s 7ms/step - loss: 7.5213 - mae: 1.9402 - mse: 7.5213 - val_loss: 13.6194 - val_mae: 2.5365 - val_mse: 13.6194\n",
            "Epoch 163/300\n",
            "9/9 [==============================] - 0s 6ms/step - loss: 6.2549 - mae: 1.7661 - mse: 6.2549 - val_loss: 13.9568 - val_mae: 2.5565 - val_mse: 13.9568\n",
            "Epoch 164/300\n",
            "9/9 [==============================] - 0s 5ms/step - loss: 7.6319 - mae: 1.9428 - mse: 7.6319 - val_loss: 13.7299 - val_mae: 2.5745 - val_mse: 13.7299\n",
            "Epoch 165/300\n",
            "9/9 [==============================] - 0s 5ms/step - loss: 6.4932 - mae: 1.8947 - mse: 6.4932 - val_loss: 13.5198 - val_mae: 2.5370 - val_mse: 13.5198\n",
            "Epoch 166/300\n",
            "9/9 [==============================] - 0s 5ms/step - loss: 8.5650 - mae: 1.8925 - mse: 8.5650 - val_loss: 13.5196 - val_mae: 2.5463 - val_mse: 13.5196\n",
            "Epoch 167/300\n",
            "9/9 [==============================] - 0s 5ms/step - loss: 6.2607 - mae: 1.8196 - mse: 6.2607 - val_loss: 13.7261 - val_mae: 2.5321 - val_mse: 13.7261\n",
            "Epoch 168/300\n",
            "9/9 [==============================] - 0s 7ms/step - loss: 8.8687 - mae: 2.0449 - mse: 8.8687 - val_loss: 13.5295 - val_mae: 2.5651 - val_mse: 13.5295\n",
            "Epoch 169/300\n",
            "9/9 [==============================] - 0s 5ms/step - loss: 6.0368 - mae: 1.8192 - mse: 6.0368 - val_loss: 13.6698 - val_mae: 2.5229 - val_mse: 13.6698\n",
            "Epoch 170/300\n",
            "9/9 [==============================] - 0s 5ms/step - loss: 6.9247 - mae: 1.8806 - mse: 6.9247 - val_loss: 13.2953 - val_mae: 2.5422 - val_mse: 13.2953\n",
            "Epoch 171/300\n",
            "9/9 [==============================] - 0s 7ms/step - loss: 7.2084 - mae: 1.9607 - mse: 7.2084 - val_loss: 13.5872 - val_mae: 2.5266 - val_mse: 13.5872\n",
            "Epoch 172/300\n",
            "9/9 [==============================] - 0s 5ms/step - loss: 7.4342 - mae: 1.8908 - mse: 7.4342 - val_loss: 13.4697 - val_mae: 2.5695 - val_mse: 13.4697\n",
            "Epoch 173/300\n",
            "9/9 [==============================] - 0s 8ms/step - loss: 5.9217 - mae: 1.7572 - mse: 5.9217 - val_loss: 13.8288 - val_mae: 2.5332 - val_mse: 13.8288\n",
            "Epoch 174/300\n",
            "9/9 [==============================] - 0s 6ms/step - loss: 6.0812 - mae: 1.7789 - mse: 6.0812 - val_loss: 13.3733 - val_mae: 2.5270 - val_mse: 13.3733\n",
            "Epoch 175/300\n",
            "9/9 [==============================] - 0s 6ms/step - loss: 6.9056 - mae: 1.8220 - mse: 6.9056 - val_loss: 13.3450 - val_mae: 2.5517 - val_mse: 13.3450\n",
            "Epoch 176/300\n",
            "9/9 [==============================] - 0s 6ms/step - loss: 5.8455 - mae: 1.7889 - mse: 5.8455 - val_loss: 13.4110 - val_mae: 2.5172 - val_mse: 13.4110\n",
            "Epoch 177/300\n",
            "9/9 [==============================] - 0s 6ms/step - loss: 5.5689 - mae: 1.6927 - mse: 5.5689 - val_loss: 13.6286 - val_mae: 2.5498 - val_mse: 13.6286\n",
            "Epoch 178/300\n",
            "9/9 [==============================] - 0s 6ms/step - loss: 5.5948 - mae: 1.7279 - mse: 5.5948 - val_loss: 13.5142 - val_mae: 2.5320 - val_mse: 13.5142\n",
            "Epoch 179/300\n",
            "9/9 [==============================] - 0s 5ms/step - loss: 6.7695 - mae: 1.8404 - mse: 6.7695 - val_loss: 13.3807 - val_mae: 2.5503 - val_mse: 13.3807\n",
            "Epoch 180/300\n",
            "9/9 [==============================] - 0s 7ms/step - loss: 6.4040 - mae: 1.7966 - mse: 6.4040 - val_loss: 13.5522 - val_mae: 2.5448 - val_mse: 13.5522\n",
            "Epoch 181/300\n",
            "9/9 [==============================] - 0s 8ms/step - loss: 5.1389 - mae: 1.6694 - mse: 5.1389 - val_loss: 13.3709 - val_mae: 2.5232 - val_mse: 13.3709\n",
            "Epoch 182/300\n",
            "9/9 [==============================] - 0s 6ms/step - loss: 5.4729 - mae: 1.7066 - mse: 5.4729 - val_loss: 13.2967 - val_mae: 2.5796 - val_mse: 13.2967\n",
            "Epoch 183/300\n",
            "9/9 [==============================] - 0s 6ms/step - loss: 5.7169 - mae: 1.7772 - mse: 5.7169 - val_loss: 13.0752 - val_mae: 2.5242 - val_mse: 13.0752\n",
            "Epoch 184/300\n",
            "9/9 [==============================] - 0s 6ms/step - loss: 5.7900 - mae: 1.7915 - mse: 5.7900 - val_loss: 13.4016 - val_mae: 2.5266 - val_mse: 13.4016\n",
            "Epoch 185/300\n",
            "9/9 [==============================] - 0s 8ms/step - loss: 5.5025 - mae: 1.7799 - mse: 5.5025 - val_loss: 13.2213 - val_mae: 2.5518 - val_mse: 13.2213\n",
            "Epoch 186/300\n",
            "9/9 [==============================] - 0s 6ms/step - loss: 6.1181 - mae: 1.7952 - mse: 6.1181 - val_loss: 13.2182 - val_mae: 2.5227 - val_mse: 13.2182\n",
            "Epoch 187/300\n",
            "9/9 [==============================] - 0s 6ms/step - loss: 5.8746 - mae: 1.7322 - mse: 5.8746 - val_loss: 13.2343 - val_mae: 2.5260 - val_mse: 13.2343\n",
            "Epoch 188/300\n",
            "9/9 [==============================] - 0s 7ms/step - loss: 7.2953 - mae: 1.8082 - mse: 7.2953 - val_loss: 13.1885 - val_mae: 2.5232 - val_mse: 13.1885\n",
            "Epoch 189/300\n",
            "9/9 [==============================] - 0s 7ms/step - loss: 7.1879 - mae: 1.8229 - mse: 7.1879 - val_loss: 13.1273 - val_mae: 2.5500 - val_mse: 13.1273\n",
            "Epoch 190/300\n",
            "9/9 [==============================] - 0s 5ms/step - loss: 5.8582 - mae: 1.8234 - mse: 5.8582 - val_loss: 13.5692 - val_mae: 2.5422 - val_mse: 13.5692\n",
            "Epoch 191/300\n",
            "9/9 [==============================] - 0s 7ms/step - loss: 5.1488 - mae: 1.7389 - mse: 5.1488 - val_loss: 13.2695 - val_mae: 2.5454 - val_mse: 13.2695\n",
            "Epoch 192/300\n",
            "9/9 [==============================] - 0s 5ms/step - loss: 7.2418 - mae: 1.8413 - mse: 7.2418 - val_loss: 13.0372 - val_mae: 2.5669 - val_mse: 13.0372\n",
            "Epoch 193/300\n",
            "9/9 [==============================] - 0s 6ms/step - loss: 6.0812 - mae: 1.7538 - mse: 6.0812 - val_loss: 13.1401 - val_mae: 2.5212 - val_mse: 13.1401\n",
            "Epoch 194/300\n",
            "9/9 [==============================] - 0s 5ms/step - loss: 6.7256 - mae: 1.8961 - mse: 6.7256 - val_loss: 13.1795 - val_mae: 2.5001 - val_mse: 13.1795\n",
            "Epoch 195/300\n",
            "9/9 [==============================] - 0s 7ms/step - loss: 7.4660 - mae: 1.7809 - mse: 7.4660 - val_loss: 13.2165 - val_mae: 2.5590 - val_mse: 13.2165\n",
            "Epoch 196/300\n",
            "9/9 [==============================] - 0s 7ms/step - loss: 5.9220 - mae: 1.7675 - mse: 5.9220 - val_loss: 13.3443 - val_mae: 2.5252 - val_mse: 13.3443\n",
            "Epoch 197/300\n",
            "9/9 [==============================] - 0s 6ms/step - loss: 7.7006 - mae: 1.8741 - mse: 7.7006 - val_loss: 13.1237 - val_mae: 2.5356 - val_mse: 13.1237\n",
            "Epoch 198/300\n",
            "9/9 [==============================] - 0s 7ms/step - loss: 4.8339 - mae: 1.6271 - mse: 4.8339 - val_loss: 13.4376 - val_mae: 2.5577 - val_mse: 13.4376\n",
            "Epoch 199/300\n",
            "9/9 [==============================] - 0s 6ms/step - loss: 5.7983 - mae: 1.7654 - mse: 5.7983 - val_loss: 13.0018 - val_mae: 2.5487 - val_mse: 13.0018\n",
            "Epoch 200/300\n",
            "9/9 [==============================] - 0s 6ms/step - loss: 5.9637 - mae: 1.7268 - mse: 5.9637 - val_loss: 13.0354 - val_mae: 2.5230 - val_mse: 13.0354\n",
            "Epoch 201/300\n",
            "9/9 [==============================] - 0s 6ms/step - loss: 6.3375 - mae: 1.7797 - mse: 6.3375 - val_loss: 13.3191 - val_mae: 2.5530 - val_mse: 13.3191\n",
            "Epoch 202/300\n",
            "9/9 [==============================] - 0s 5ms/step - loss: 6.0059 - mae: 1.7364 - mse: 6.0059 - val_loss: 13.2242 - val_mae: 2.5554 - val_mse: 13.2242\n",
            "Epoch 203/300\n",
            "9/9 [==============================] - 0s 6ms/step - loss: 5.3775 - mae: 1.7097 - mse: 5.3775 - val_loss: 13.0646 - val_mae: 2.5437 - val_mse: 13.0646\n",
            "Epoch 204/300\n",
            "9/9 [==============================] - 0s 5ms/step - loss: 4.6836 - mae: 1.6478 - mse: 4.6836 - val_loss: 13.3370 - val_mae: 2.5745 - val_mse: 13.3370\n",
            "Epoch 205/300\n",
            "9/9 [==============================] - 0s 8ms/step - loss: 6.1482 - mae: 1.7548 - mse: 6.1482 - val_loss: 12.9858 - val_mae: 2.5433 - val_mse: 12.9858\n",
            "Epoch 206/300\n",
            "9/9 [==============================] - 0s 6ms/step - loss: 5.7194 - mae: 1.6922 - mse: 5.7194 - val_loss: 13.2648 - val_mae: 2.5390 - val_mse: 13.2648\n",
            "Epoch 207/300\n",
            "9/9 [==============================] - 0s 6ms/step - loss: 5.5238 - mae: 1.6136 - mse: 5.5238 - val_loss: 13.0950 - val_mae: 2.5479 - val_mse: 13.0950\n",
            "Epoch 208/300\n",
            "9/9 [==============================] - 0s 8ms/step - loss: 6.6224 - mae: 1.8250 - mse: 6.6224 - val_loss: 12.9415 - val_mae: 2.5324 - val_mse: 12.9415\n",
            "Epoch 209/300\n",
            "9/9 [==============================] - 0s 7ms/step - loss: 5.4092 - mae: 1.7128 - mse: 5.4092 - val_loss: 13.0130 - val_mae: 2.5241 - val_mse: 13.0130\n",
            "Epoch 210/300\n",
            "9/9 [==============================] - 0s 5ms/step - loss: 5.6264 - mae: 1.7597 - mse: 5.6264 - val_loss: 12.9004 - val_mae: 2.5292 - val_mse: 12.9004\n",
            "Epoch 211/300\n",
            "9/9 [==============================] - 0s 7ms/step - loss: 5.8874 - mae: 1.7761 - mse: 5.8874 - val_loss: 12.9227 - val_mae: 2.5226 - val_mse: 12.9227\n",
            "Epoch 212/300\n",
            "9/9 [==============================] - 0s 5ms/step - loss: 6.1871 - mae: 1.7858 - mse: 6.1871 - val_loss: 12.9199 - val_mae: 2.5366 - val_mse: 12.9199\n",
            "Epoch 213/300\n",
            "9/9 [==============================] - 0s 6ms/step - loss: 4.4678 - mae: 1.5869 - mse: 4.4678 - val_loss: 13.1420 - val_mae: 2.5362 - val_mse: 13.1420\n",
            "Epoch 214/300\n",
            "9/9 [==============================] - 0s 7ms/step - loss: 5.7050 - mae: 1.7352 - mse: 5.7050 - val_loss: 12.9212 - val_mae: 2.5494 - val_mse: 12.9212\n",
            "Epoch 215/300\n",
            "9/9 [==============================] - 0s 6ms/step - loss: 5.0204 - mae: 1.6230 - mse: 5.0204 - val_loss: 12.7529 - val_mae: 2.4954 - val_mse: 12.7529\n",
            "Epoch 216/300\n",
            "9/9 [==============================] - 0s 6ms/step - loss: 4.9063 - mae: 1.6302 - mse: 4.9063 - val_loss: 12.8389 - val_mae: 2.5374 - val_mse: 12.8389\n",
            "Epoch 217/300\n",
            "9/9 [==============================] - 0s 8ms/step - loss: 4.9114 - mae: 1.6875 - mse: 4.9114 - val_loss: 12.9327 - val_mae: 2.5347 - val_mse: 12.9327\n",
            "Epoch 218/300\n",
            "9/9 [==============================] - 0s 5ms/step - loss: 4.8323 - mae: 1.6111 - mse: 4.8323 - val_loss: 12.7660 - val_mae: 2.5162 - val_mse: 12.7660\n",
            "Epoch 219/300\n",
            "9/9 [==============================] - 0s 6ms/step - loss: 5.8482 - mae: 1.7807 - mse: 5.8482 - val_loss: 12.9609 - val_mae: 2.5444 - val_mse: 12.9609\n",
            "Epoch 220/300\n",
            "9/9 [==============================] - 0s 6ms/step - loss: 5.7786 - mae: 1.7127 - mse: 5.7786 - val_loss: 12.9648 - val_mae: 2.5411 - val_mse: 12.9648\n",
            "Epoch 221/300\n",
            "9/9 [==============================] - 0s 5ms/step - loss: 4.7447 - mae: 1.5914 - mse: 4.7447 - val_loss: 12.9457 - val_mae: 2.5291 - val_mse: 12.9457\n",
            "Epoch 222/300\n",
            "9/9 [==============================] - 0s 6ms/step - loss: 5.3489 - mae: 1.6535 - mse: 5.3489 - val_loss: 12.7896 - val_mae: 2.5517 - val_mse: 12.7896\n",
            "Epoch 223/300\n",
            "9/9 [==============================] - 0s 5ms/step - loss: 4.6537 - mae: 1.6065 - mse: 4.6537 - val_loss: 12.8515 - val_mae: 2.4961 - val_mse: 12.8515\n",
            "Epoch 224/300\n",
            "9/9 [==============================] - 0s 8ms/step - loss: 4.9951 - mae: 1.6347 - mse: 4.9951 - val_loss: 12.5422 - val_mae: 2.5450 - val_mse: 12.5422\n",
            "Epoch 225/300\n",
            "9/9 [==============================] - 0s 5ms/step - loss: 5.3266 - mae: 1.7089 - mse: 5.3266 - val_loss: 12.6063 - val_mae: 2.4919 - val_mse: 12.6063\n",
            "Epoch 226/300\n",
            "9/9 [==============================] - 0s 5ms/step - loss: 5.3983 - mae: 1.6875 - mse: 5.3983 - val_loss: 12.7329 - val_mae: 2.5305 - val_mse: 12.7329\n",
            "Epoch 227/300\n",
            "9/9 [==============================] - 0s 7ms/step - loss: 5.3779 - mae: 1.6737 - mse: 5.3779 - val_loss: 12.5909 - val_mae: 2.4926 - val_mse: 12.5909\n",
            "Epoch 228/300\n",
            "9/9 [==============================] - 0s 8ms/step - loss: 6.6381 - mae: 1.7103 - mse: 6.6381 - val_loss: 12.8180 - val_mae: 2.5365 - val_mse: 12.8180\n",
            "Epoch 229/300\n",
            "9/9 [==============================] - 0s 6ms/step - loss: 4.8635 - mae: 1.6371 - mse: 4.8635 - val_loss: 12.9816 - val_mae: 2.5297 - val_mse: 12.9816\n",
            "Epoch 230/300\n",
            "9/9 [==============================] - 0s 6ms/step - loss: 5.2733 - mae: 1.6217 - mse: 5.2733 - val_loss: 12.9636 - val_mae: 2.5540 - val_mse: 12.9636\n",
            "Epoch 231/300\n",
            "9/9 [==============================] - 0s 7ms/step - loss: 5.0611 - mae: 1.6819 - mse: 5.0611 - val_loss: 12.7766 - val_mae: 2.5057 - val_mse: 12.7766\n",
            "Epoch 232/300\n",
            "9/9 [==============================] - 0s 7ms/step - loss: 4.2647 - mae: 1.5781 - mse: 4.2647 - val_loss: 12.7775 - val_mae: 2.5373 - val_mse: 12.7775\n",
            "Epoch 233/300\n",
            "9/9 [==============================] - 0s 6ms/step - loss: 4.5720 - mae: 1.5668 - mse: 4.5720 - val_loss: 12.7016 - val_mae: 2.5488 - val_mse: 12.7016\n",
            "Epoch 234/300\n",
            "9/9 [==============================] - 0s 8ms/step - loss: 4.5733 - mae: 1.5863 - mse: 4.5733 - val_loss: 12.6862 - val_mae: 2.5221 - val_mse: 12.6862\n",
            "Epoch 235/300\n",
            "9/9 [==============================] - 0s 7ms/step - loss: 5.0801 - mae: 1.7059 - mse: 5.0801 - val_loss: 12.7542 - val_mae: 2.5416 - val_mse: 12.7542\n",
            "Epoch 236/300\n",
            "9/9 [==============================] - 0s 6ms/step - loss: 5.1760 - mae: 1.6758 - mse: 5.1760 - val_loss: 12.7157 - val_mae: 2.5152 - val_mse: 12.7157\n",
            "Epoch 237/300\n",
            "9/9 [==============================] - 0s 7ms/step - loss: 5.2557 - mae: 1.6520 - mse: 5.2557 - val_loss: 12.7853 - val_mae: 2.5268 - val_mse: 12.7853\n",
            "Epoch 238/300\n",
            "9/9 [==============================] - 0s 7ms/step - loss: 4.8250 - mae: 1.6582 - mse: 4.8250 - val_loss: 12.7509 - val_mae: 2.5036 - val_mse: 12.7509\n",
            "Epoch 239/300\n",
            "9/9 [==============================] - 0s 6ms/step - loss: 4.3154 - mae: 1.5310 - mse: 4.3154 - val_loss: 12.5304 - val_mae: 2.5118 - val_mse: 12.5304\n",
            "Epoch 240/300\n",
            "9/9 [==============================] - 0s 8ms/step - loss: 4.5328 - mae: 1.5795 - mse: 4.5328 - val_loss: 12.4446 - val_mae: 2.5063 - val_mse: 12.4446\n",
            "Epoch 241/300\n",
            "9/9 [==============================] - 0s 5ms/step - loss: 5.5415 - mae: 1.7170 - mse: 5.5415 - val_loss: 12.4750 - val_mae: 2.5018 - val_mse: 12.4750\n",
            "Epoch 242/300\n",
            "9/9 [==============================] - 0s 6ms/step - loss: 5.2817 - mae: 1.5925 - mse: 5.2817 - val_loss: 12.5965 - val_mae: 2.5330 - val_mse: 12.5965\n",
            "Epoch 243/300\n",
            "9/9 [==============================] - 0s 5ms/step - loss: 4.3948 - mae: 1.6367 - mse: 4.3948 - val_loss: 12.4701 - val_mae: 2.4851 - val_mse: 12.4701\n",
            "Epoch 244/300\n",
            "9/9 [==============================] - 0s 6ms/step - loss: 5.1122 - mae: 1.6321 - mse: 5.1122 - val_loss: 12.4044 - val_mae: 2.5043 - val_mse: 12.4044\n",
            "Epoch 245/300\n",
            "9/9 [==============================] - 0s 7ms/step - loss: 4.6701 - mae: 1.5836 - mse: 4.6701 - val_loss: 12.3831 - val_mae: 2.4904 - val_mse: 12.3831\n",
            "Epoch 246/300\n",
            "9/9 [==============================] - 0s 6ms/step - loss: 4.2595 - mae: 1.5491 - mse: 4.2595 - val_loss: 12.8209 - val_mae: 2.5540 - val_mse: 12.8209\n",
            "Epoch 247/300\n",
            "9/9 [==============================] - 0s 6ms/step - loss: 4.7499 - mae: 1.5431 - mse: 4.7499 - val_loss: 12.6206 - val_mae: 2.5183 - val_mse: 12.6206\n",
            "Epoch 248/300\n",
            "9/9 [==============================] - 0s 6ms/step - loss: 4.6164 - mae: 1.6156 - mse: 4.6164 - val_loss: 12.4437 - val_mae: 2.4905 - val_mse: 12.4437\n",
            "Epoch 249/300\n",
            "9/9 [==============================] - 0s 8ms/step - loss: 5.7208 - mae: 1.6151 - mse: 5.7208 - val_loss: 12.5004 - val_mae: 2.5208 - val_mse: 12.5004\n",
            "Epoch 250/300\n",
            "9/9 [==============================] - 0s 6ms/step - loss: 4.5594 - mae: 1.5995 - mse: 4.5594 - val_loss: 12.6004 - val_mae: 2.5128 - val_mse: 12.6004\n",
            "Epoch 251/300\n",
            "9/9 [==============================] - 0s 6ms/step - loss: 4.4268 - mae: 1.5018 - mse: 4.4268 - val_loss: 12.5864 - val_mae: 2.5350 - val_mse: 12.5864\n",
            "Epoch 252/300\n",
            "9/9 [==============================] - 0s 6ms/step - loss: 4.2140 - mae: 1.5293 - mse: 4.2140 - val_loss: 12.6097 - val_mae: 2.4804 - val_mse: 12.6097\n",
            "Epoch 253/300\n",
            "9/9 [==============================] - 0s 6ms/step - loss: 3.9039 - mae: 1.5018 - mse: 3.9039 - val_loss: 12.5472 - val_mae: 2.5249 - val_mse: 12.5472\n",
            "Epoch 254/300\n",
            "9/9 [==============================] - 0s 6ms/step - loss: 5.1596 - mae: 1.5598 - mse: 5.1596 - val_loss: 12.6094 - val_mae: 2.5124 - val_mse: 12.6094\n",
            "Epoch 255/300\n",
            "9/9 [==============================] - 0s 8ms/step - loss: 4.0273 - mae: 1.4995 - mse: 4.0273 - val_loss: 12.4316 - val_mae: 2.5021 - val_mse: 12.4316\n",
            "Epoch 256/300\n",
            "9/9 [==============================] - 0s 6ms/step - loss: 4.5146 - mae: 1.5890 - mse: 4.5146 - val_loss: 12.2949 - val_mae: 2.4980 - val_mse: 12.2949\n",
            "Epoch 257/300\n",
            "9/9 [==============================] - 0s 5ms/step - loss: 4.1584 - mae: 1.5205 - mse: 4.1584 - val_loss: 12.6105 - val_mae: 2.5063 - val_mse: 12.6105\n",
            "Epoch 258/300\n",
            "9/9 [==============================] - 0s 6ms/step - loss: 4.4984 - mae: 1.5752 - mse: 4.4984 - val_loss: 12.4557 - val_mae: 2.4869 - val_mse: 12.4557\n",
            "Epoch 259/300\n",
            "9/9 [==============================] - 0s 5ms/step - loss: 4.9791 - mae: 1.6273 - mse: 4.9791 - val_loss: 12.4860 - val_mae: 2.5193 - val_mse: 12.4860\n",
            "Epoch 260/300\n",
            "9/9 [==============================] - 0s 6ms/step - loss: 4.8812 - mae: 1.6192 - mse: 4.8812 - val_loss: 12.6966 - val_mae: 2.5096 - val_mse: 12.6966\n",
            "Epoch 261/300\n",
            "9/9 [==============================] - 0s 7ms/step - loss: 4.4783 - mae: 1.5330 - mse: 4.4783 - val_loss: 12.6662 - val_mae: 2.5208 - val_mse: 12.6662\n",
            "Epoch 262/300\n",
            "9/9 [==============================] - 0s 5ms/step - loss: 3.7390 - mae: 1.4574 - mse: 3.7390 - val_loss: 12.3238 - val_mae: 2.4994 - val_mse: 12.3238\n",
            "Epoch 263/300\n",
            "9/9 [==============================] - 0s 7ms/step - loss: 4.2659 - mae: 1.5184 - mse: 4.2659 - val_loss: 12.6516 - val_mae: 2.5298 - val_mse: 12.6516\n",
            "Epoch 264/300\n",
            "9/9 [==============================] - 0s 5ms/step - loss: 4.2185 - mae: 1.5259 - mse: 4.2185 - val_loss: 12.6366 - val_mae: 2.5117 - val_mse: 12.6366\n",
            "Epoch 265/300\n",
            "9/9 [==============================] - 0s 6ms/step - loss: 4.0394 - mae: 1.5317 - mse: 4.0394 - val_loss: 12.5813 - val_mae: 2.5332 - val_mse: 12.5813\n",
            "Epoch 266/300\n",
            "9/9 [==============================] - 0s 9ms/step - loss: 4.4906 - mae: 1.5352 - mse: 4.4906 - val_loss: 12.5191 - val_mae: 2.4939 - val_mse: 12.5191\n",
            "Epoch 267/300\n",
            "9/9 [==============================] - 0s 6ms/step - loss: 4.4804 - mae: 1.6025 - mse: 4.4804 - val_loss: 12.5321 - val_mae: 2.5373 - val_mse: 12.5321\n",
            "Epoch 268/300\n",
            "9/9 [==============================] - 0s 6ms/step - loss: 4.3488 - mae: 1.5600 - mse: 4.3488 - val_loss: 12.7136 - val_mae: 2.5018 - val_mse: 12.7136\n",
            "Epoch 269/300\n",
            "9/9 [==============================] - 0s 6ms/step - loss: 5.4594 - mae: 1.5462 - mse: 5.4594 - val_loss: 12.3239 - val_mae: 2.5270 - val_mse: 12.3239\n",
            "Epoch 270/300\n",
            "9/9 [==============================] - 0s 6ms/step - loss: 4.4752 - mae: 1.5355 - mse: 4.4752 - val_loss: 12.5400 - val_mae: 2.4805 - val_mse: 12.5400\n",
            "Epoch 271/300\n",
            "9/9 [==============================] - 0s 8ms/step - loss: 4.2426 - mae: 1.5338 - mse: 4.2426 - val_loss: 12.4498 - val_mae: 2.5118 - val_mse: 12.4498\n",
            "Epoch 272/300\n",
            "9/9 [==============================] - 0s 6ms/step - loss: 3.6867 - mae: 1.4065 - mse: 3.6867 - val_loss: 12.6664 - val_mae: 2.5411 - val_mse: 12.6664\n",
            "Epoch 273/300\n",
            "9/9 [==============================] - 0s 6ms/step - loss: 4.7028 - mae: 1.5700 - mse: 4.7028 - val_loss: 12.5813 - val_mae: 2.5046 - val_mse: 12.5813\n",
            "Epoch 274/300\n",
            "9/9 [==============================] - 0s 6ms/step - loss: 4.4085 - mae: 1.5005 - mse: 4.4085 - val_loss: 12.3563 - val_mae: 2.5180 - val_mse: 12.3563\n",
            "Epoch 275/300\n",
            "9/9 [==============================] - 0s 8ms/step - loss: 4.0648 - mae: 1.5063 - mse: 4.0648 - val_loss: 12.3936 - val_mae: 2.4788 - val_mse: 12.3936\n",
            "Epoch 276/300\n",
            "9/9 [==============================] - 0s 6ms/step - loss: 3.4420 - mae: 1.3835 - mse: 3.4420 - val_loss: 12.5625 - val_mae: 2.5231 - val_mse: 12.5625\n",
            "Epoch 277/300\n",
            "9/9 [==============================] - 0s 7ms/step - loss: 3.8215 - mae: 1.4382 - mse: 3.8215 - val_loss: 12.4276 - val_mae: 2.4837 - val_mse: 12.4276\n",
            "Epoch 278/300\n",
            "9/9 [==============================] - 0s 9ms/step - loss: 3.7203 - mae: 1.4181 - mse: 3.7203 - val_loss: 12.6224 - val_mae: 2.5268 - val_mse: 12.6224\n",
            "Epoch 279/300\n",
            "9/9 [==============================] - 0s 6ms/step - loss: 4.3253 - mae: 1.4663 - mse: 4.3253 - val_loss: 12.5684 - val_mae: 2.5274 - val_mse: 12.5684\n",
            "Epoch 280/300\n",
            "9/9 [==============================] - 0s 7ms/step - loss: 4.8406 - mae: 1.5783 - mse: 4.8406 - val_loss: 12.4742 - val_mae: 2.4861 - val_mse: 12.4742\n",
            "Epoch 281/300\n",
            "9/9 [==============================] - 0s 6ms/step - loss: 3.3453 - mae: 1.3188 - mse: 3.3453 - val_loss: 12.4586 - val_mae: 2.5052 - val_mse: 12.4586\n",
            "Epoch 282/300\n",
            "9/9 [==============================] - 0s 6ms/step - loss: 5.2140 - mae: 1.5923 - mse: 5.2140 - val_loss: 12.2028 - val_mae: 2.4889 - val_mse: 12.2028\n",
            "Epoch 283/300\n",
            "9/9 [==============================] - 0s 6ms/step - loss: 3.6435 - mae: 1.3890 - mse: 3.6435 - val_loss: 12.4580 - val_mae: 2.4805 - val_mse: 12.4580\n",
            "Epoch 284/300\n",
            "9/9 [==============================] - 0s 6ms/step - loss: 3.7952 - mae: 1.4405 - mse: 3.7952 - val_loss: 12.5128 - val_mae: 2.5187 - val_mse: 12.5128\n",
            "Epoch 285/300\n",
            "9/9 [==============================] - 0s 5ms/step - loss: 3.9005 - mae: 1.4459 - mse: 3.9005 - val_loss: 12.3587 - val_mae: 2.4752 - val_mse: 12.3587\n",
            "Epoch 286/300\n",
            "9/9 [==============================] - 0s 5ms/step - loss: 4.5499 - mae: 1.4985 - mse: 4.5499 - val_loss: 12.4589 - val_mae: 2.4908 - val_mse: 12.4589\n",
            "Epoch 287/300\n",
            "9/9 [==============================] - 0s 5ms/step - loss: 4.6288 - mae: 1.4929 - mse: 4.6288 - val_loss: 12.4957 - val_mae: 2.4987 - val_mse: 12.4957\n",
            "Epoch 288/300\n",
            "9/9 [==============================] - 0s 7ms/step - loss: 3.5787 - mae: 1.4291 - mse: 3.5787 - val_loss: 12.4658 - val_mae: 2.4954 - val_mse: 12.4658\n",
            "Epoch 289/300\n",
            "9/9 [==============================] - 0s 5ms/step - loss: 4.5310 - mae: 1.5154 - mse: 4.5310 - val_loss: 12.3713 - val_mae: 2.4988 - val_mse: 12.3713\n",
            "Epoch 290/300\n",
            "9/9 [==============================] - 0s 8ms/step - loss: 4.8688 - mae: 1.5142 - mse: 4.8688 - val_loss: 12.3374 - val_mae: 2.4521 - val_mse: 12.3374\n",
            "Epoch 291/300\n",
            "9/9 [==============================] - 0s 6ms/step - loss: 4.8922 - mae: 1.5570 - mse: 4.8922 - val_loss: 12.2974 - val_mae: 2.4851 - val_mse: 12.2974\n",
            "Epoch 292/300\n",
            "9/9 [==============================] - 0s 8ms/step - loss: 3.8514 - mae: 1.4510 - mse: 3.8514 - val_loss: 12.6359 - val_mae: 2.5028 - val_mse: 12.6359\n",
            "Epoch 293/300\n",
            "9/9 [==============================] - 0s 6ms/step - loss: 4.3031 - mae: 1.5156 - mse: 4.3031 - val_loss: 12.5205 - val_mae: 2.4891 - val_mse: 12.5205\n",
            "Epoch 294/300\n",
            "9/9 [==============================] - 0s 8ms/step - loss: 3.8227 - mae: 1.4361 - mse: 3.8227 - val_loss: 12.3885 - val_mae: 2.5256 - val_mse: 12.3885\n",
            "Epoch 295/300\n",
            "9/9 [==============================] - 0s 6ms/step - loss: 4.4280 - mae: 1.4775 - mse: 4.4280 - val_loss: 12.5388 - val_mae: 2.4757 - val_mse: 12.5388\n",
            "Epoch 296/300\n",
            "9/9 [==============================] - 0s 5ms/step - loss: 4.4625 - mae: 1.4801 - mse: 4.4625 - val_loss: 12.4664 - val_mae: 2.5107 - val_mse: 12.4664\n",
            "Epoch 297/300\n",
            "9/9 [==============================] - 0s 5ms/step - loss: 3.5957 - mae: 1.4495 - mse: 3.5957 - val_loss: 12.5340 - val_mae: 2.4925 - val_mse: 12.5340\n",
            "Epoch 298/300\n",
            "9/9 [==============================] - 0s 5ms/step - loss: 4.1072 - mae: 1.4938 - mse: 4.1072 - val_loss: 12.3615 - val_mae: 2.5113 - val_mse: 12.3615\n",
            "Epoch 299/300\n",
            "9/9 [==============================] - 0s 5ms/step - loss: 3.4626 - mae: 1.3722 - mse: 3.4626 - val_loss: 12.4672 - val_mae: 2.4901 - val_mse: 12.4672\n",
            "Epoch 300/300\n",
            "9/9 [==============================] - 0s 5ms/step - loss: 3.4501 - mae: 1.3775 - mse: 3.4501 - val_loss: 12.2725 - val_mae: 2.5057 - val_mse: 12.2725\n"
          ],
          "name": "stdout"
        }
      ]
    },
    {
      "cell_type": "markdown",
      "metadata": {
        "id": "ztup-ie5nu7w"
      },
      "source": [
        "모델 결과 그리기"
      ]
    },
    {
      "cell_type": "code",
      "metadata": {
        "colab": {
          "base_uri": "https://localhost:8080/",
          "height": 350
        },
        "id": "zXDYCGY9niwn",
        "outputId": "63c0c073-b196-42f5-af3a-7b6976d3a26b"
      },
      "source": [
        "import matplotlib.pyplot as plt\n",
        "\n",
        "his_dict = history.history\n",
        "mse = his_dict['mse']\n",
        "val_mse = his_dict['val_mse'] # 검증 데이터가 있는 경우 ‘val_’ 수식어가 붙습니다.\n",
        "\n",
        "epochs = range(1, len(mse) + 1)\n",
        "fig = plt.figure(figsize = (10, 5))\n",
        "\n",
        "# 훈련 및 검증 손실 그리기\n",
        "ax1 = fig.add_subplot(1, 2, 1)\n",
        "ax1.plot(epochs, mse, color = 'blue', label = 'train_mse')\n",
        "ax1.plot(epochs, val_mse, color = 'orange', label = 'val_mse')\n",
        "ax1.set_title('train and val mse')\n",
        "ax1.set_xlabel('epochs')\n",
        "ax1.set_ylabel('mse')\n",
        "ax1.legend()\n",
        "\n",
        "mae = his_dict['mae']\n",
        "val_mae = his_dict['val_mae']\n",
        "\n",
        "# 훈련 및 검증 정확도 그리기\n",
        "ax2 = fig.add_subplot(1, 2, 2)\n",
        "ax2.plot(epochs, mae, color = 'blue', label = 'train_mae')\n",
        "ax2.plot(epochs, val_mae, color = 'orange', label = 'val_mae')\n",
        "ax2.set_title('train and val mae')\n",
        "ax2.set_xlabel('epochs')\n",
        "ax2.set_ylabel('mae')\n",
        "ax2.legend()\n",
        "\n",
        "plt.show()\n"
      ],
      "execution_count": 14,
      "outputs": [
        {
          "output_type": "display_data",
          "data": {
            "image/png": "[encoded data removed]",
            "text/plain": [
              "<Figure size 720x360 with 2 Axes>"
            ]
          },
          "metadata": {
            "tags": [],
            "needs_background": "light"
          }
        }
      ]
    },
    {
      "cell_type": "markdown",
      "metadata": {
        "id": "C2K4Evbun-9h"
      },
      "source": [
        "모델 평가하기"
      ]
    },
    {
      "cell_type": "code",
      "metadata": {
        "colab": {
          "base_uri": "https://localhost:8080/"
        },
        "id": "NXtntjWwny6d",
        "outputId": "2360665b-407a-4a40-ef3e-86d4514fbeae"
      },
      "source": [
        "model.evaluate(X_test,y_test) #mae 2.25 -> 2250 달러정도"
      ],
      "execution_count": 15,
      "outputs": [
        {
          "output_type": "stream",
          "text": [
            "4/4 [==============================] - 0s 4ms/step - loss: 9.7367 - mae: 2.2530 - mse: 9.7367\n"
          ],
          "name": "stdout"
        },
        {
          "output_type": "execute_result",
          "data": {
            "text/plain": [
              "[9.736662864685059, 2.252999782562256, 9.736662864685059]"
            ]
          },
          "metadata": {
            "tags": []
          },
          "execution_count": 15
        }
      ]
    },
    {
      "cell_type": "code",
      "metadata": {
        "colab": {
          "base_uri": "https://localhost:8080/",
          "height": 279
        },
        "id": "8rizJdIRoDW7",
        "outputId": "94fe3668-4d95-4f71-bd00-ccacacefb512"
      },
      "source": [
        "test_predictions = model.predict(X_test).flatten()\n",
        "\n",
        "plt.scatter(y_test, test_predictions)\n",
        "plt.xlabel('True Values [Price]')\n",
        "plt.ylabel('Predictions [Price]')\n",
        "plt.axis('equal')\n",
        "plt.axis('square')\n",
        "plt.xlim([0,plt.xlim()[1]])\n",
        "plt.ylim([0,plt.ylim()[1]])\n",
        "_ = plt.plot([-100, 100], [-100, 100])"
      ],
      "execution_count": 17,
      "outputs": [
        {
          "output_type": "display_data",
          "data": {
            "image/png": "[encoded data removed]",
            "text/plain": [
              "<Figure size 432x288 with 1 Axes>"
            ]
          },
          "metadata": {
            "tags": [],
            "needs_background": "light"
          }
        }
      ]
    },
    {
      "cell_type": "code",
      "metadata": {
        "id": "HPkQjwA9oSnL"
      },
      "source": [
        ""
      ],
      "execution_count": null,
      "outputs": []
    }
  ]
}